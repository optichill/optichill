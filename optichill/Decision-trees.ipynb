{
 "cells": [
  {
   "cell_type": "markdown",
   "metadata": {},
   "source": [
    "# Chiller plant decision tree analysis\n",
    "\n",
    "The purpose of this notebook is to analyze the features and data with decision trees."
   ]
  },
  {
   "cell_type": "code",
   "execution_count": 50,
   "metadata": {
    "scrolled": true
   },
   "outputs": [],
   "source": [
    "import pandas as pd\n",
    "import numpy as np\n",
    "from sklearn.cross_validation import train_test_split\n",
    "from sklearn.tree import DecisionTreeRegressor\n",
    "from sklearn import tree\n",
    "from sklearn import metrics\n",
    "from sklearn.ensemble import ExtraTreesRegressor\n",
    "from sklearn.ensemble import GradientBoostingRegressor\n",
    "import matplotlib.pyplot as plt\n",
    "from sklearn.metrics import mean_squared_error\n",
    "from sklearn.utils import shuffle\n",
    "import glob\n",
    "import os\n",
    "from dataCleaning import bas_filter\n",
    "%matplotlib inline"
   ]
  },
  {
   "cell_type": "code",
   "execution_count": 51,
   "metadata": {},
   "outputs": [],
   "source": [
    "def data_import(dat_folder, string, keys):\n",
    "    \n",
    "    dat_list = [f for f in glob.glob(os.path.join(dat_folder, string + '*'))]\n",
    "    print(dat_list)\n",
    "    \n",
    "    df = pd.DataFrame()\n",
    "    for lst in dat_list:\n",
    "        df_add = pd.read_csv(lst)\n",
    "        df = pd.concat([df, df_add], ignore_index=True)\n",
    "    key = pd.read_excel(keys)\n",
    "    \n",
    "    return df, key"
   ]
  },
  {
   "cell_type": "code",
   "execution_count": 53,
   "metadata": {},
   "outputs": [
    {
     "name": "stdout",
     "output_type": "stream",
     "text": [
      "['../../Plt1\\\\Plt1 h 2016-11.csv', '../../Plt1\\\\Plt1 h 2017-01.csv', '../../Plt1\\\\Plt1 h 2017-03.csv', '../../Plt1\\\\Plt1 h 2017-05.csv', '../../Plt1\\\\Plt1 h 2017-07.csv', '../../Plt1\\\\Plt1 h 2017-09.csv']\n"
     ]
    }
   ],
   "source": [
    "df_plt1, key = data_import(\n",
    "    '../../Plt1', 'Plt1 h', \n",
    "    '../../Plt1/Plt1 Points List.xlsx')"
   ]
  },
  {
   "cell_type": "code",
   "execution_count": 54,
   "metadata": {},
   "outputs": [],
   "source": [
    "def data_BAS(df_plt1, key):\n",
    "    # collects DataPointNames from the points list spreadsheet that are BAS point types\n",
    "    key_bas = key.loc[key['PointType'].str.contains(\"BAS\")==True,'DataPointName']\n",
    "\n",
    "    #converts pandas series to a list for future use\n",
    "    val = key_bas.values.T.tolist()\n",
    "\n",
    "    #removes DataPointNames that containt the prefix CHWV\n",
    "    vals = [x for x in val if not x.startswith('CHWV')]\n",
    "\n",
    "    #tests whether all values from the point list spreadsheet are column headings of the dataset\n",
    "    for x in vals:\n",
    "        if x not in df.columns:\n",
    "            #prints and removes any string not found in the data\n",
    "            print(x)\n",
    "            vals.remove(x)\n",
    "        \n",
    "    #expresses data using columns specified by the vals list\n",
    "    bas = df[vals+['OptimumControl', 'kW/Ton']]\n",
    "    \n",
    "    print('Original data contains '+str(df.shape[0])+' points and '+str(df.shape[1])+ ' dimensions.')\n",
    "    print('Filtered data contains '+str(bas.dropna().shape[0])+' points and '+str(bas.dropna().shape[1])+ ' dimensions.')\n",
    "    return bas.dropna()"
   ]
  },
  {
   "cell_type": "code",
   "execution_count": 55,
   "metadata": {
    "scrolled": false
   },
   "outputs": [
    {
     "name": "stdout",
     "output_type": "stream",
     "text": [
      "CommunicationFailure_COV\n",
      "Original data contains 8516 points and 414 dimensions.\n",
      "Filtered data contains 8115 points and 66 dimensions.\n"
     ]
    },
    {
     "data": {
      "text/plain": [
       "(8115, 66)"
      ]
     },
     "execution_count": 55,
     "metadata": {},
     "output_type": "execute_result"
    }
   ],
   "source": [
    "bas = data_BAS(df_plt1, key)\n",
    "bas.shape"
   ]
  },
  {
   "cell_type": "code",
   "execution_count": 57,
   "metadata": {},
   "outputs": [
    {
     "name": "stdout",
     "output_type": "stream",
     "text": [
      "274    CommunicationFailure\n",
      "299              CTTR_ALARM\n",
      "365            PCHWP3Failed\n",
      "372            PCHWP4Failed\n",
      "379            PCHWP5Failed\n",
      "420            SCHWP3Failed\n",
      "427            SCHWP4Failed\n",
      "434            SCHWP5Failed\n",
      "Name: DataPointName, dtype: object\n"
     ]
    }
   ],
   "source": [
    "key_alarm = key[key['Units'].str.contains(\"Normal/Alarm\")==True]\n",
    "key_alarm_BAS = key_alarm.loc[key['PointType'].str.contains(\"BAS\")==True, 'DataPointName']\n",
    "print(key_alarm_BAS)"
   ]
  },
  {
   "cell_type": "code",
   "execution_count": 58,
   "metadata": {},
   "outputs": [],
   "source": [
    "for alm in key_alarm_BAS:\n",
    "    bas = bas[bas[alm] == 0]\n",
    "bas = bas[bas['OptimumControl'] == 1]"
   ]
  },
  {
   "cell_type": "code",
   "execution_count": 59,
   "metadata": {},
   "outputs": [
    {
     "data": {
      "text/plain": [
       "(7952, 66)"
      ]
     },
     "execution_count": 59,
     "metadata": {},
     "output_type": "execute_result"
    }
   ],
   "source": [
    "bas.shape"
   ]
  },
  {
   "cell_type": "code",
   "execution_count": 60,
   "metadata": {},
   "outputs": [],
   "source": [
    "def alarm_filter(bas, key):\n",
    "    key_alarm = key[key['Units'].str.contains(\"Normal/Alarm\")==True]\n",
    "    key_alarm_BAS = key_alarm.loc[key['PointType'].str.contains(\"BAS\")==True, 'DataPointName']\n",
    "    \n",
    "    for alm in key_alarm_BAS:\n",
    "        bas = bas[bas[alm] == 0]\n",
    "    bas = bas[bas['OptimumControl'] == 1]\n",
    "    return bas"
   ]
  },
  {
   "cell_type": "code",
   "execution_count": 61,
   "metadata": {},
   "outputs": [
    {
     "data": {
      "text/plain": [
       "(7952, 66)"
      ]
     },
     "execution_count": 61,
     "metadata": {},
     "output_type": "execute_result"
    }
   ],
   "source": [
    "bas1 = alarm_filter(bas, key)\n",
    "bas1.shape"
   ]
  },
  {
   "cell_type": "code",
   "execution_count": null,
   "metadata": {},
   "outputs": [],
   "source": []
  },
  {
   "cell_type": "code",
   "execution_count": null,
   "metadata": {},
   "outputs": [],
   "source": []
  },
  {
   "cell_type": "code",
   "execution_count": null,
   "metadata": {},
   "outputs": [],
   "source": []
  },
  {
   "cell_type": "code",
   "execution_count": null,
   "metadata": {},
   "outputs": [],
   "source": []
  },
  {
   "cell_type": "code",
   "execution_count": 47,
   "metadata": {},
   "outputs": [],
   "source": [
    "#df_plt1 = pd.read_csv('../../Plt1/Plt1 h 2017-09.csv')\n",
    "#df = pd.read_csv('../../Plt1/Plt1 h 2017-09.csv')\n",
    "#df_plt2 = pd.read_csv('../../Plt2/Plt2 h 2017-07.csv')"
   ]
  },
  {
   "cell_type": "code",
   "execution_count": 8,
   "metadata": {},
   "outputs": [
    {
     "data": {
      "text/html": [
       "<div>\n",
       "<style scoped>\n",
       "    .dataframe tbody tr th:only-of-type {\n",
       "        vertical-align: middle;\n",
       "    }\n",
       "\n",
       "    .dataframe tbody tr th {\n",
       "        vertical-align: top;\n",
       "    }\n",
       "\n",
       "    .dataframe thead th {\n",
       "        text-align: right;\n",
       "    }\n",
       "</style>\n",
       "<table border=\"1\" class=\"dataframe\">\n",
       "  <thead>\n",
       "    <tr style=\"text-align: right;\">\n",
       "      <th></th>\n",
       "      <th>timestamp</th>\n",
       "      <th>CH3LoadDisp</th>\n",
       "      <th>CH3PctLoad</th>\n",
       "      <th>CH4LoadDisp</th>\n",
       "      <th>CH4PctLoad</th>\n",
       "      <th>CH5LoadDisp</th>\n",
       "      <th>CH5PctLoad</th>\n",
       "      <th>CHkW%</th>\n",
       "      <th>CHTON%</th>\n",
       "      <th>PercentAnnualSavings</th>\n",
       "      <th>...</th>\n",
       "      <th>CH5SURGE</th>\n",
       "      <th>LOOPREQ</th>\n",
       "      <th>RUNCHLR3</th>\n",
       "      <th>RUNCHLR4</th>\n",
       "      <th>RUNCHLR5</th>\n",
       "      <th>CH3SURGECNT</th>\n",
       "      <th>CH4SURGECNT</th>\n",
       "      <th>CH5SURGECNT</th>\n",
       "      <th>CLGMODE</th>\n",
       "      <th>StationSTG</th>\n",
       "    </tr>\n",
       "  </thead>\n",
       "  <tbody>\n",
       "    <tr>\n",
       "      <th>60</th>\n",
       "      <td>2017-09-03T12:00:00.000Z</td>\n",
       "      <td>0.000000</td>\n",
       "      <td>0.00000</td>\n",
       "      <td>87.101169</td>\n",
       "      <td>87.101168</td>\n",
       "      <td>0.982292</td>\n",
       "      <td>0.982292</td>\n",
       "      <td>71.551070</td>\n",
       "      <td>86.750559</td>\n",
       "      <td>0.000124</td>\n",
       "      <td>...</td>\n",
       "      <td>0.0</td>\n",
       "      <td>1.0</td>\n",
       "      <td>0.000000</td>\n",
       "      <td>1.000000</td>\n",
       "      <td>0.166667</td>\n",
       "      <td>13.0</td>\n",
       "      <td>0.0</td>\n",
       "      <td>0.0</td>\n",
       "      <td>0.0</td>\n",
       "      <td>1.166667</td>\n",
       "    </tr>\n",
       "    <tr>\n",
       "      <th>61</th>\n",
       "      <td>2017-09-03T13:00:00.000Z</td>\n",
       "      <td>0.000000</td>\n",
       "      <td>0.00000</td>\n",
       "      <td>61.628025</td>\n",
       "      <td>61.649601</td>\n",
       "      <td>32.699242</td>\n",
       "      <td>32.699242</td>\n",
       "      <td>28.800355</td>\n",
       "      <td>46.600451</td>\n",
       "      <td>0.000184</td>\n",
       "      <td>...</td>\n",
       "      <td>0.0</td>\n",
       "      <td>1.0</td>\n",
       "      <td>0.000000</td>\n",
       "      <td>1.000000</td>\n",
       "      <td>1.000000</td>\n",
       "      <td>13.0</td>\n",
       "      <td>0.0</td>\n",
       "      <td>0.0</td>\n",
       "      <td>0.0</td>\n",
       "      <td>2.000000</td>\n",
       "    </tr>\n",
       "    <tr>\n",
       "      <th>62</th>\n",
       "      <td>2017-09-03T14:00:00.000Z</td>\n",
       "      <td>0.000000</td>\n",
       "      <td>0.00000</td>\n",
       "      <td>65.271903</td>\n",
       "      <td>65.271902</td>\n",
       "      <td>34.757415</td>\n",
       "      <td>34.667396</td>\n",
       "      <td>31.222250</td>\n",
       "      <td>49.421877</td>\n",
       "      <td>0.000195</td>\n",
       "      <td>...</td>\n",
       "      <td>0.0</td>\n",
       "      <td>1.0</td>\n",
       "      <td>0.000000</td>\n",
       "      <td>1.000000</td>\n",
       "      <td>1.000000</td>\n",
       "      <td>13.0</td>\n",
       "      <td>0.0</td>\n",
       "      <td>0.0</td>\n",
       "      <td>0.0</td>\n",
       "      <td>2.000000</td>\n",
       "    </tr>\n",
       "    <tr>\n",
       "      <th>63</th>\n",
       "      <td>2017-09-03T15:00:00.000Z</td>\n",
       "      <td>0.000000</td>\n",
       "      <td>0.00000</td>\n",
       "      <td>62.073736</td>\n",
       "      <td>60.817505</td>\n",
       "      <td>35.873339</td>\n",
       "      <td>35.490721</td>\n",
       "      <td>31.827724</td>\n",
       "      <td>50.010946</td>\n",
       "      <td>0.000182</td>\n",
       "      <td>...</td>\n",
       "      <td>0.0</td>\n",
       "      <td>1.0</td>\n",
       "      <td>0.166667</td>\n",
       "      <td>1.000000</td>\n",
       "      <td>1.000000</td>\n",
       "      <td>13.0</td>\n",
       "      <td>0.0</td>\n",
       "      <td>0.0</td>\n",
       "      <td>0.0</td>\n",
       "      <td>2.000000</td>\n",
       "    </tr>\n",
       "    <tr>\n",
       "      <th>66</th>\n",
       "      <td>2017-09-03T18:00:00.000Z</td>\n",
       "      <td>0.000000</td>\n",
       "      <td>0.00000</td>\n",
       "      <td>66.073464</td>\n",
       "      <td>66.073463</td>\n",
       "      <td>37.944247</td>\n",
       "      <td>37.944247</td>\n",
       "      <td>34.189070</td>\n",
       "      <td>52.350163</td>\n",
       "      <td>0.000190</td>\n",
       "      <td>...</td>\n",
       "      <td>0.0</td>\n",
       "      <td>1.0</td>\n",
       "      <td>0.000000</td>\n",
       "      <td>1.000000</td>\n",
       "      <td>1.000000</td>\n",
       "      <td>13.0</td>\n",
       "      <td>0.0</td>\n",
       "      <td>0.0</td>\n",
       "      <td>0.0</td>\n",
       "      <td>2.000000</td>\n",
       "    </tr>\n",
       "    <tr>\n",
       "      <th>67</th>\n",
       "      <td>2017-09-03T19:00:00.000Z</td>\n",
       "      <td>0.000000</td>\n",
       "      <td>0.00000</td>\n",
       "      <td>64.536953</td>\n",
       "      <td>64.555182</td>\n",
       "      <td>36.308257</td>\n",
       "      <td>36.305479</td>\n",
       "      <td>32.816663</td>\n",
       "      <td>50.486619</td>\n",
       "      <td>0.000187</td>\n",
       "      <td>...</td>\n",
       "      <td>0.0</td>\n",
       "      <td>1.0</td>\n",
       "      <td>0.000000</td>\n",
       "      <td>1.000000</td>\n",
       "      <td>1.000000</td>\n",
       "      <td>13.0</td>\n",
       "      <td>0.0</td>\n",
       "      <td>0.0</td>\n",
       "      <td>0.0</td>\n",
       "      <td>2.000000</td>\n",
       "    </tr>\n",
       "    <tr>\n",
       "      <th>68</th>\n",
       "      <td>2017-09-03T20:00:00.000Z</td>\n",
       "      <td>0.000000</td>\n",
       "      <td>0.00000</td>\n",
       "      <td>60.918676</td>\n",
       "      <td>60.918676</td>\n",
       "      <td>33.823301</td>\n",
       "      <td>33.823301</td>\n",
       "      <td>30.818600</td>\n",
       "      <td>47.683522</td>\n",
       "      <td>0.000179</td>\n",
       "      <td>...</td>\n",
       "      <td>0.0</td>\n",
       "      <td>1.0</td>\n",
       "      <td>0.000000</td>\n",
       "      <td>1.000000</td>\n",
       "      <td>1.000000</td>\n",
       "      <td>13.0</td>\n",
       "      <td>0.0</td>\n",
       "      <td>0.0</td>\n",
       "      <td>0.0</td>\n",
       "      <td>2.000000</td>\n",
       "    </tr>\n",
       "    <tr>\n",
       "      <th>69</th>\n",
       "      <td>2017-09-03T21:00:00.000Z</td>\n",
       "      <td>0.000000</td>\n",
       "      <td>0.00000</td>\n",
       "      <td>57.567634</td>\n",
       "      <td>57.580631</td>\n",
       "      <td>32.202592</td>\n",
       "      <td>32.206610</td>\n",
       "      <td>29.244369</td>\n",
       "      <td>44.708515</td>\n",
       "      <td>0.000156</td>\n",
       "      <td>...</td>\n",
       "      <td>0.0</td>\n",
       "      <td>1.0</td>\n",
       "      <td>0.000000</td>\n",
       "      <td>1.000000</td>\n",
       "      <td>1.000000</td>\n",
       "      <td>13.0</td>\n",
       "      <td>0.0</td>\n",
       "      <td>0.0</td>\n",
       "      <td>0.0</td>\n",
       "      <td>2.000000</td>\n",
       "    </tr>\n",
       "    <tr>\n",
       "      <th>70</th>\n",
       "      <td>2017-09-03T22:00:00.000Z</td>\n",
       "      <td>0.000000</td>\n",
       "      <td>0.00000</td>\n",
       "      <td>40.959836</td>\n",
       "      <td>41.008944</td>\n",
       "      <td>42.549615</td>\n",
       "      <td>42.540327</td>\n",
       "      <td>31.184866</td>\n",
       "      <td>50.812883</td>\n",
       "      <td>0.000141</td>\n",
       "      <td>...</td>\n",
       "      <td>0.0</td>\n",
       "      <td>1.0</td>\n",
       "      <td>0.000000</td>\n",
       "      <td>0.666667</td>\n",
       "      <td>1.000000</td>\n",
       "      <td>13.0</td>\n",
       "      <td>0.0</td>\n",
       "      <td>0.0</td>\n",
       "      <td>0.0</td>\n",
       "      <td>1.583333</td>\n",
       "    </tr>\n",
       "    <tr>\n",
       "      <th>71</th>\n",
       "      <td>2017-09-03T23:00:00.000Z</td>\n",
       "      <td>0.000000</td>\n",
       "      <td>0.00000</td>\n",
       "      <td>0.000000</td>\n",
       "      <td>0.000000</td>\n",
       "      <td>78.306298</td>\n",
       "      <td>77.869101</td>\n",
       "      <td>50.595238</td>\n",
       "      <td>78.069033</td>\n",
       "      <td>0.000098</td>\n",
       "      <td>...</td>\n",
       "      <td>0.0</td>\n",
       "      <td>1.0</td>\n",
       "      <td>0.000000</td>\n",
       "      <td>0.000000</td>\n",
       "      <td>1.000000</td>\n",
       "      <td>13.0</td>\n",
       "      <td>0.0</td>\n",
       "      <td>0.0</td>\n",
       "      <td>0.0</td>\n",
       "      <td>1.000000</td>\n",
       "    </tr>\n",
       "    <tr>\n",
       "      <th>493</th>\n",
       "      <td>2017-09-21T13:00:00.000Z</td>\n",
       "      <td>53.827729</td>\n",
       "      <td>53.83398</td>\n",
       "      <td>23.577009</td>\n",
       "      <td>23.577009</td>\n",
       "      <td>35.312489</td>\n",
       "      <td>35.312489</td>\n",
       "      <td>30.467763</td>\n",
       "      <td>47.574750</td>\n",
       "      <td>0.000200</td>\n",
       "      <td>...</td>\n",
       "      <td>0.0</td>\n",
       "      <td>1.0</td>\n",
       "      <td>0.916667</td>\n",
       "      <td>1.000000</td>\n",
       "      <td>1.000000</td>\n",
       "      <td>13.0</td>\n",
       "      <td>0.0</td>\n",
       "      <td>0.0</td>\n",
       "      <td>0.0</td>\n",
       "      <td>2.500000</td>\n",
       "    </tr>\n",
       "  </tbody>\n",
       "</table>\n",
       "<p>11 rows × 414 columns</p>\n",
       "</div>"
      ],
      "text/plain": [
       "                    timestamp  CH3LoadDisp  CH3PctLoad  CH4LoadDisp  \\\n",
       "60   2017-09-03T12:00:00.000Z     0.000000     0.00000    87.101169   \n",
       "61   2017-09-03T13:00:00.000Z     0.000000     0.00000    61.628025   \n",
       "62   2017-09-03T14:00:00.000Z     0.000000     0.00000    65.271903   \n",
       "63   2017-09-03T15:00:00.000Z     0.000000     0.00000    62.073736   \n",
       "66   2017-09-03T18:00:00.000Z     0.000000     0.00000    66.073464   \n",
       "67   2017-09-03T19:00:00.000Z     0.000000     0.00000    64.536953   \n",
       "68   2017-09-03T20:00:00.000Z     0.000000     0.00000    60.918676   \n",
       "69   2017-09-03T21:00:00.000Z     0.000000     0.00000    57.567634   \n",
       "70   2017-09-03T22:00:00.000Z     0.000000     0.00000    40.959836   \n",
       "71   2017-09-03T23:00:00.000Z     0.000000     0.00000     0.000000   \n",
       "493  2017-09-21T13:00:00.000Z    53.827729    53.83398    23.577009   \n",
       "\n",
       "     CH4PctLoad  CH5LoadDisp  CH5PctLoad      CHkW%     CHTON%  \\\n",
       "60    87.101168     0.982292    0.982292  71.551070  86.750559   \n",
       "61    61.649601    32.699242   32.699242  28.800355  46.600451   \n",
       "62    65.271902    34.757415   34.667396  31.222250  49.421877   \n",
       "63    60.817505    35.873339   35.490721  31.827724  50.010946   \n",
       "66    66.073463    37.944247   37.944247  34.189070  52.350163   \n",
       "67    64.555182    36.308257   36.305479  32.816663  50.486619   \n",
       "68    60.918676    33.823301   33.823301  30.818600  47.683522   \n",
       "69    57.580631    32.202592   32.206610  29.244369  44.708515   \n",
       "70    41.008944    42.549615   42.540327  31.184866  50.812883   \n",
       "71     0.000000    78.306298   77.869101  50.595238  78.069033   \n",
       "493   23.577009    35.312489   35.312489  30.467763  47.574750   \n",
       "\n",
       "     PercentAnnualSavings     ...      CH5SURGE  LOOPREQ  RUNCHLR3  RUNCHLR4  \\\n",
       "60               0.000124     ...           0.0      1.0  0.000000  1.000000   \n",
       "61               0.000184     ...           0.0      1.0  0.000000  1.000000   \n",
       "62               0.000195     ...           0.0      1.0  0.000000  1.000000   \n",
       "63               0.000182     ...           0.0      1.0  0.166667  1.000000   \n",
       "66               0.000190     ...           0.0      1.0  0.000000  1.000000   \n",
       "67               0.000187     ...           0.0      1.0  0.000000  1.000000   \n",
       "68               0.000179     ...           0.0      1.0  0.000000  1.000000   \n",
       "69               0.000156     ...           0.0      1.0  0.000000  1.000000   \n",
       "70               0.000141     ...           0.0      1.0  0.000000  0.666667   \n",
       "71               0.000098     ...           0.0      1.0  0.000000  0.000000   \n",
       "493              0.000200     ...           0.0      1.0  0.916667  1.000000   \n",
       "\n",
       "     RUNCHLR5  CH3SURGECNT  CH4SURGECNT  CH5SURGECNT  CLGMODE  StationSTG  \n",
       "60   0.166667         13.0          0.0          0.0      0.0    1.166667  \n",
       "61   1.000000         13.0          0.0          0.0      0.0    2.000000  \n",
       "62   1.000000         13.0          0.0          0.0      0.0    2.000000  \n",
       "63   1.000000         13.0          0.0          0.0      0.0    2.000000  \n",
       "66   1.000000         13.0          0.0          0.0      0.0    2.000000  \n",
       "67   1.000000         13.0          0.0          0.0      0.0    2.000000  \n",
       "68   1.000000         13.0          0.0          0.0      0.0    2.000000  \n",
       "69   1.000000         13.0          0.0          0.0      0.0    2.000000  \n",
       "70   1.000000         13.0          0.0          0.0      0.0    1.583333  \n",
       "71   1.000000         13.0          0.0          0.0      0.0    1.000000  \n",
       "493  1.000000         13.0          0.0          0.0      0.0    2.500000  \n",
       "\n",
       "[11 rows x 414 columns]"
      ]
     },
     "execution_count": 8,
     "metadata": {},
     "output_type": "execute_result"
    }
   ],
   "source": [
    "df_plt1.dropna()"
   ]
  },
  {
   "cell_type": "code",
   "execution_count": 10,
   "metadata": {},
   "outputs": [],
   "source": [
    "key = pd.read_excel('../../Plt1/Plt1 Points List.xlsx')"
   ]
  },
  {
   "cell_type": "code",
   "execution_count": 11,
   "metadata": {},
   "outputs": [
    {
     "name": "stdout",
     "output_type": "stream",
     "text": [
      "['CDWVLV', 'CDWVLV2', 'CHkW', 'CHWDP2', 'CHWFLO', 'CHWRT', 'CHWRT2', 'CHWRT3', 'CHWST', 'CHWST2', 'CHWST3', 'CHWV10', 'CHWV11', 'CHWV12', 'CHWV13', 'CHWV14', 'CHWV15', 'CHWV16', 'CHWV17', 'CHWV18', 'CHWV19', 'CHWV20', 'CHWV21', 'CHWV22', 'CHWV23', 'CHWV24', 'CHWV25', 'CHWV26', 'CHWV27', 'CHWV3', 'CHWV4', 'CHWV5', 'CHWV6', 'CHWV7', 'CHWV9', 'CLGMODE', 'CommunicationFailure', 'CommunicationFailure_COV', 'CTTR_ALARM', 'HX1CDWRT', 'HX1CDWST', 'HX1CDWVLV', 'HX1CHWRT', 'HX1CHWST', 'HX1CHWVLV', 'LOOPREQ', 'MaxCHDPLift', 'MaxCHDTLift', 'MinCHDPLift', 'MinCHDTLift', 'OAH', 'OAT', 'OAWB', 'PCHWP3Failed', 'PCHWP3HZ', 'PCHWP3kW', 'PCHWP3S', 'PCHWP3SPD', 'PCHWP3SS', 'PCHWP4Failed', 'PCHWP4HZ', 'PCHWP4kW', 'PCHWP4S', 'PCHWP4SPD', 'PCHWP4SS', 'PCHWP5Failed', 'PCHWP5HZ', 'PCHWP5kW', 'PCHWP5S', 'PCHWP5SPD', 'PCHWP5SS', 'SCHWP3Failed', 'SCHWP3HZ', 'SCHWP3kW', 'SCHWP3S', 'SCHWP3SPD', 'SCHWP3SS', 'SCHWP4Failed', 'SCHWP4HZ', 'SCHWP4kW', 'SCHWP4S', 'SCHWP4SPD', 'SCHWP4SS', 'SCHWP5Failed', 'SCHWP5HZ', 'SCHWP5kW', 'SCHWP5S', 'SCHWP5SPD', 'SCHWP5SS', 'kW/Ton']\n"
     ]
    }
   ],
   "source": [
    "key_bas = key.loc[key['PointType'].str.contains(\"BAS\")==True,'DataPointName']\n",
    "vals = key_bas.values.T.tolist()\n",
    "vals.append('kW/Ton')\n",
    "print(vals)"
   ]
  },
  {
   "cell_type": "code",
   "execution_count": 12,
   "metadata": {},
   "outputs": [
    {
     "name": "stdout",
     "output_type": "stream",
     "text": [
      "CommunicationFailure_COV\n"
     ]
    }
   ],
   "source": [
    "for x in vals:\n",
    "    if x not in df_plt1.columns:\n",
    "        print(x)\n",
    "        vals.remove(x)"
   ]
  },
  {
   "cell_type": "code",
   "execution_count": 62,
   "metadata": {},
   "outputs": [],
   "source": [
    "#bas = df_plt1[vals].dropna()\n",
    "#bas.shape"
   ]
  },
  {
   "cell_type": "code",
   "execution_count": 63,
   "metadata": {},
   "outputs": [
    {
     "data": {
      "text/html": [
       "<div>\n",
       "<style scoped>\n",
       "    .dataframe tbody tr th:only-of-type {\n",
       "        vertical-align: middle;\n",
       "    }\n",
       "\n",
       "    .dataframe tbody tr th {\n",
       "        vertical-align: top;\n",
       "    }\n",
       "\n",
       "    .dataframe thead th {\n",
       "        text-align: right;\n",
       "    }\n",
       "</style>\n",
       "<table border=\"1\" class=\"dataframe\">\n",
       "  <thead>\n",
       "    <tr style=\"text-align: right;\">\n",
       "      <th></th>\n",
       "      <th>CDWVLV</th>\n",
       "      <th>CDWVLV2</th>\n",
       "      <th>CHkW</th>\n",
       "      <th>CHWDP2</th>\n",
       "      <th>CHWFLO</th>\n",
       "      <th>CHWRT</th>\n",
       "      <th>CHWRT2</th>\n",
       "      <th>CHWRT3</th>\n",
       "      <th>CHWST</th>\n",
       "      <th>CHWST2</th>\n",
       "      <th>...</th>\n",
       "      <th>SCHWP4SPD</th>\n",
       "      <th>SCHWP4SS</th>\n",
       "      <th>SCHWP5Failed</th>\n",
       "      <th>SCHWP5HZ</th>\n",
       "      <th>SCHWP5kW</th>\n",
       "      <th>SCHWP5S</th>\n",
       "      <th>SCHWP5SPD</th>\n",
       "      <th>SCHWP5SS</th>\n",
       "      <th>OptimumControl</th>\n",
       "      <th>kW/Ton</th>\n",
       "    </tr>\n",
       "  </thead>\n",
       "  <tbody>\n",
       "    <tr>\n",
       "      <th>count</th>\n",
       "      <td>7952.0</td>\n",
       "      <td>7952.0</td>\n",
       "      <td>7952.000000</td>\n",
       "      <td>7952.000000</td>\n",
       "      <td>7952.000000</td>\n",
       "      <td>7952.000000</td>\n",
       "      <td>7952.000000</td>\n",
       "      <td>7952.000000</td>\n",
       "      <td>7952.000000</td>\n",
       "      <td>7952.000000</td>\n",
       "      <td>...</td>\n",
       "      <td>7952.000000</td>\n",
       "      <td>7952.0</td>\n",
       "      <td>7952.0</td>\n",
       "      <td>7952.000000</td>\n",
       "      <td>7952.000000</td>\n",
       "      <td>7952.000000</td>\n",
       "      <td>7952.000000</td>\n",
       "      <td>7952.000000</td>\n",
       "      <td>7952.0</td>\n",
       "      <td>7952.000000</td>\n",
       "    </tr>\n",
       "    <tr>\n",
       "      <th>mean</th>\n",
       "      <td>1.0</td>\n",
       "      <td>1.0</td>\n",
       "      <td>90.631427</td>\n",
       "      <td>11.123248</td>\n",
       "      <td>718.494773</td>\n",
       "      <td>56.556162</td>\n",
       "      <td>54.273448</td>\n",
       "      <td>59.176313</td>\n",
       "      <td>43.068965</td>\n",
       "      <td>43.831945</td>\n",
       "      <td>...</td>\n",
       "      <td>79.415630</td>\n",
       "      <td>1.0</td>\n",
       "      <td>0.0</td>\n",
       "      <td>32.658025</td>\n",
       "      <td>1.984332</td>\n",
       "      <td>0.653431</td>\n",
       "      <td>54.429089</td>\n",
       "      <td>0.668825</td>\n",
       "      <td>1.0</td>\n",
       "      <td>0.433298</td>\n",
       "    </tr>\n",
       "    <tr>\n",
       "      <th>std</th>\n",
       "      <td>0.0</td>\n",
       "      <td>0.0</td>\n",
       "      <td>53.120275</td>\n",
       "      <td>2.258998</td>\n",
       "      <td>212.677987</td>\n",
       "      <td>1.144944</td>\n",
       "      <td>1.247508</td>\n",
       "      <td>1.819638</td>\n",
       "      <td>1.532754</td>\n",
       "      <td>1.617357</td>\n",
       "      <td>...</td>\n",
       "      <td>11.826422</td>\n",
       "      <td>0.0</td>\n",
       "      <td>0.0</td>\n",
       "      <td>24.295588</td>\n",
       "      <td>1.703628</td>\n",
       "      <td>0.468472</td>\n",
       "      <td>40.492131</td>\n",
       "      <td>0.463187</td>\n",
       "      <td>0.0</td>\n",
       "      <td>0.138688</td>\n",
       "    </tr>\n",
       "    <tr>\n",
       "      <th>min</th>\n",
       "      <td>1.0</td>\n",
       "      <td>1.0</td>\n",
       "      <td>11.666667</td>\n",
       "      <td>0.246445</td>\n",
       "      <td>115.500000</td>\n",
       "      <td>53.270833</td>\n",
       "      <td>50.500000</td>\n",
       "      <td>54.888021</td>\n",
       "      <td>39.406250</td>\n",
       "      <td>40.156250</td>\n",
       "      <td>...</td>\n",
       "      <td>44.999821</td>\n",
       "      <td>1.0</td>\n",
       "      <td>0.0</td>\n",
       "      <td>0.000000</td>\n",
       "      <td>0.000000</td>\n",
       "      <td>0.000000</td>\n",
       "      <td>0.000000</td>\n",
       "      <td>0.000000</td>\n",
       "      <td>1.0</td>\n",
       "      <td>0.000000</td>\n",
       "    </tr>\n",
       "    <tr>\n",
       "      <th>25%</th>\n",
       "      <td>1.0</td>\n",
       "      <td>1.0</td>\n",
       "      <td>44.666667</td>\n",
       "      <td>10.280613</td>\n",
       "      <td>546.515625</td>\n",
       "      <td>55.786458</td>\n",
       "      <td>53.447917</td>\n",
       "      <td>57.718750</td>\n",
       "      <td>41.848958</td>\n",
       "      <td>42.500000</td>\n",
       "      <td>...</td>\n",
       "      <td>69.624721</td>\n",
       "      <td>1.0</td>\n",
       "      <td>0.0</td>\n",
       "      <td>0.000000</td>\n",
       "      <td>0.000000</td>\n",
       "      <td>0.000000</td>\n",
       "      <td>0.000000</td>\n",
       "      <td>0.000000</td>\n",
       "      <td>1.0</td>\n",
       "      <td>0.319561</td>\n",
       "    </tr>\n",
       "    <tr>\n",
       "      <th>50%</th>\n",
       "      <td>1.0</td>\n",
       "      <td>1.0</td>\n",
       "      <td>84.041667</td>\n",
       "      <td>11.531199</td>\n",
       "      <td>665.166667</td>\n",
       "      <td>56.565104</td>\n",
       "      <td>54.218750</td>\n",
       "      <td>58.723958</td>\n",
       "      <td>42.375000</td>\n",
       "      <td>43.151042</td>\n",
       "      <td>...</td>\n",
       "      <td>76.902470</td>\n",
       "      <td>1.0</td>\n",
       "      <td>0.0</td>\n",
       "      <td>43.683333</td>\n",
       "      <td>2.000000</td>\n",
       "      <td>1.000000</td>\n",
       "      <td>72.805264</td>\n",
       "      <td>1.000000</td>\n",
       "      <td>1.0</td>\n",
       "      <td>0.427224</td>\n",
       "    </tr>\n",
       "    <tr>\n",
       "      <th>75%</th>\n",
       "      <td>1.0</td>\n",
       "      <td>1.0</td>\n",
       "      <td>125.833333</td>\n",
       "      <td>12.422903</td>\n",
       "      <td>991.000000</td>\n",
       "      <td>57.315104</td>\n",
       "      <td>54.947917</td>\n",
       "      <td>60.674479</td>\n",
       "      <td>44.787109</td>\n",
       "      <td>45.468750</td>\n",
       "      <td>...</td>\n",
       "      <td>88.527422</td>\n",
       "      <td>1.0</td>\n",
       "      <td>0.0</td>\n",
       "      <td>52.762499</td>\n",
       "      <td>3.375000</td>\n",
       "      <td>1.000000</td>\n",
       "      <td>87.937145</td>\n",
       "      <td>1.000000</td>\n",
       "      <td>1.0</td>\n",
       "      <td>0.525494</td>\n",
       "    </tr>\n",
       "    <tr>\n",
       "      <th>max</th>\n",
       "      <td>1.0</td>\n",
       "      <td>1.0</td>\n",
       "      <td>312.166667</td>\n",
       "      <td>17.265179</td>\n",
       "      <td>992.500000</td>\n",
       "      <td>66.533854</td>\n",
       "      <td>66.565104</td>\n",
       "      <td>86.744792</td>\n",
       "      <td>55.317708</td>\n",
       "      <td>56.723958</td>\n",
       "      <td>...</td>\n",
       "      <td>99.999603</td>\n",
       "      <td>1.0</td>\n",
       "      <td>0.0</td>\n",
       "      <td>60.000000</td>\n",
       "      <td>5.541667</td>\n",
       "      <td>1.000000</td>\n",
       "      <td>99.999603</td>\n",
       "      <td>1.000000</td>\n",
       "      <td>1.0</td>\n",
       "      <td>1.182704</td>\n",
       "    </tr>\n",
       "  </tbody>\n",
       "</table>\n",
       "<p>8 rows × 66 columns</p>\n",
       "</div>"
      ],
      "text/plain": [
       "       CDWVLV  CDWVLV2         CHkW       CHWDP2       CHWFLO        CHWRT  \\\n",
       "count  7952.0   7952.0  7952.000000  7952.000000  7952.000000  7952.000000   \n",
       "mean      1.0      1.0    90.631427    11.123248   718.494773    56.556162   \n",
       "std       0.0      0.0    53.120275     2.258998   212.677987     1.144944   \n",
       "min       1.0      1.0    11.666667     0.246445   115.500000    53.270833   \n",
       "25%       1.0      1.0    44.666667    10.280613   546.515625    55.786458   \n",
       "50%       1.0      1.0    84.041667    11.531199   665.166667    56.565104   \n",
       "75%       1.0      1.0   125.833333    12.422903   991.000000    57.315104   \n",
       "max       1.0      1.0   312.166667    17.265179   992.500000    66.533854   \n",
       "\n",
       "            CHWRT2       CHWRT3        CHWST       CHWST2     ...       \\\n",
       "count  7952.000000  7952.000000  7952.000000  7952.000000     ...        \n",
       "mean     54.273448    59.176313    43.068965    43.831945     ...        \n",
       "std       1.247508     1.819638     1.532754     1.617357     ...        \n",
       "min      50.500000    54.888021    39.406250    40.156250     ...        \n",
       "25%      53.447917    57.718750    41.848958    42.500000     ...        \n",
       "50%      54.218750    58.723958    42.375000    43.151042     ...        \n",
       "75%      54.947917    60.674479    44.787109    45.468750     ...        \n",
       "max      66.565104    86.744792    55.317708    56.723958     ...        \n",
       "\n",
       "         SCHWP4SPD  SCHWP4SS  SCHWP5Failed     SCHWP5HZ     SCHWP5kW  \\\n",
       "count  7952.000000    7952.0        7952.0  7952.000000  7952.000000   \n",
       "mean     79.415630       1.0           0.0    32.658025     1.984332   \n",
       "std      11.826422       0.0           0.0    24.295588     1.703628   \n",
       "min      44.999821       1.0           0.0     0.000000     0.000000   \n",
       "25%      69.624721       1.0           0.0     0.000000     0.000000   \n",
       "50%      76.902470       1.0           0.0    43.683333     2.000000   \n",
       "75%      88.527422       1.0           0.0    52.762499     3.375000   \n",
       "max      99.999603       1.0           0.0    60.000000     5.541667   \n",
       "\n",
       "           SCHWP5S    SCHWP5SPD     SCHWP5SS  OptimumControl       kW/Ton  \n",
       "count  7952.000000  7952.000000  7952.000000          7952.0  7952.000000  \n",
       "mean      0.653431    54.429089     0.668825             1.0     0.433298  \n",
       "std       0.468472    40.492131     0.463187             0.0     0.138688  \n",
       "min       0.000000     0.000000     0.000000             1.0     0.000000  \n",
       "25%       0.000000     0.000000     0.000000             1.0     0.319561  \n",
       "50%       1.000000    72.805264     1.000000             1.0     0.427224  \n",
       "75%       1.000000    87.937145     1.000000             1.0     0.525494  \n",
       "max       1.000000    99.999603     1.000000             1.0     1.182704  \n",
       "\n",
       "[8 rows x 66 columns]"
      ]
     },
     "execution_count": 63,
     "metadata": {},
     "output_type": "execute_result"
    }
   ],
   "source": [
    "bas.describe()"
   ]
  },
  {
   "cell_type": "code",
   "execution_count": 64,
   "metadata": {},
   "outputs": [],
   "source": [
    "n = len(bas.columns)"
   ]
  },
  {
   "cell_type": "code",
   "execution_count": 65,
   "metadata": {},
   "outputs": [],
   "source": [
    "X = bas.values[:, 0:(n-2)]\n",
    "Y = bas.values[:, (n-1)]"
   ]
  },
  {
   "cell_type": "code",
   "execution_count": 66,
   "metadata": {},
   "outputs": [],
   "source": [
    "xtrain, xtest, ytrain, ytest = train_test_split(X, Y, test_size=0.25,\n",
    "                                               random_state=3393)"
   ]
  },
  {
   "cell_type": "code",
   "execution_count": 67,
   "metadata": {},
   "outputs": [],
   "source": [
    "model = DecisionTreeRegressor(\n",
    "    random_state=3393, max_depth=5, \n",
    "    min_samples_leaf=7)"
   ]
  },
  {
   "cell_type": "code",
   "execution_count": 68,
   "metadata": {},
   "outputs": [
    {
     "data": {
      "text/plain": [
       "DecisionTreeRegressor(criterion='mse', max_depth=5, max_features=None,\n",
       "           max_leaf_nodes=None, min_impurity_decrease=0.0,\n",
       "           min_impurity_split=None, min_samples_leaf=7,\n",
       "           min_samples_split=2, min_weight_fraction_leaf=0.0,\n",
       "           presort=False, random_state=3393, splitter='best')"
      ]
     },
     "execution_count": 68,
     "metadata": {},
     "output_type": "execute_result"
    }
   ],
   "source": [
    "model.fit(xtrain, ytrain)"
   ]
  },
  {
   "cell_type": "code",
   "execution_count": 69,
   "metadata": {},
   "outputs": [],
   "source": [
    "y1 = model.predict(xtest)"
   ]
  },
  {
   "cell_type": "code",
   "execution_count": 70,
   "metadata": {},
   "outputs": [
    {
     "data": {
      "text/plain": [
       "<matplotlib.collections.PathCollection at 0x29153a50940>"
      ]
     },
     "execution_count": 70,
     "metadata": {},
     "output_type": "execute_result"
    },
    {
     "data": {
      "image/png": "[encoded data removed]",
      "text/plain": [
       "<matplotlib.figure.Figure at 0x29153a37e80>"
      ]
     },
     "metadata": {},
     "output_type": "display_data"
    }
   ],
   "source": [
    "plt.figure()\n",
    "plt.scatter(ytest, y1)"
   ]
  },
  {
   "cell_type": "code",
   "execution_count": 71,
   "metadata": {},
   "outputs": [
    {
     "name": "stdout",
     "output_type": "stream",
     "text": [
      "Mean Absolute Error: 0.015469162820862543\n",
      "Mean Squared Error: 0.0006232646290252106\n",
      "Root Mean Squared Error: 0.02496526845489971\n"
     ]
    }
   ],
   "source": [
    "print('Mean Absolute Error:', metrics.mean_absolute_error(ytest, y1))\n",
    "print('Mean Squared Error:', metrics.mean_squared_error(ytest, y1))\n",
    "print('Root Mean Squared Error:', np.sqrt(\n",
    "    metrics.mean_squared_error(ytest, y1)))"
   ]
  },
  {
   "cell_type": "code",
   "execution_count": 72,
   "metadata": {},
   "outputs": [],
   "source": [
    "fanalysis = ExtraTreesRegressor(max_depth=3, \n",
    "                                random_state=3393)"
   ]
  },
  {
   "cell_type": "code",
   "execution_count": 73,
   "metadata": {},
   "outputs": [
    {
     "data": {
      "text/plain": [
       "ExtraTreesRegressor(bootstrap=False, criterion='mse', max_depth=3,\n",
       "          max_features='auto', max_leaf_nodes=None,\n",
       "          min_impurity_decrease=0.0, min_impurity_split=None,\n",
       "          min_samples_leaf=1, min_samples_split=2,\n",
       "          min_weight_fraction_leaf=0.0, n_estimators=10, n_jobs=1,\n",
       "          oob_score=False, random_state=3393, verbose=0, warm_start=False)"
      ]
     },
     "execution_count": 73,
     "metadata": {},
     "output_type": "execute_result"
    }
   ],
   "source": [
    "fanalysis.fit(X, Y)"
   ]
  },
  {
   "cell_type": "code",
   "execution_count": 74,
   "metadata": {},
   "outputs": [
    {
     "name": "stdout",
     "output_type": "stream",
     "text": [
      "[0.         0.         0.26804156 0.         0.         0.\n",
      " 0.         0.         0.00383137 0.00458747 0.00497725 0.\n",
      " 0.         0.         0.         0.01998883 0.         0.\n",
      " 0.         0.         0.         0.17356501 0.23491304 0.02078561\n",
      " 0.0131109  0.         0.11692662 0.         0.         0.00913871\n",
      " 0.00054161 0.00819446 0.0120033  0.         0.         0.\n",
      " 0.         0.         0.         0.         0.         0.\n",
      " 0.         0.         0.         0.         0.         0.\n",
      " 0.         0.         0.         0.         0.         0.\n",
      " 0.         0.         0.         0.         0.         0.00610175\n",
      " 0.         0.         0.         0.10329252]\n"
     ]
    }
   ],
   "source": [
    "print(fanalysis.feature_importances_)"
   ]
  },
  {
   "cell_type": "code",
   "execution_count": 75,
   "metadata": {},
   "outputs": [
    {
     "data": {
      "text/plain": [
       "range(0, 64)"
      ]
     },
     "execution_count": 75,
     "metadata": {},
     "output_type": "execute_result"
    }
   ],
   "source": [
    "feats = fanalysis.feature_importances_\n",
    "range(len(feats))"
   ]
  },
  {
   "cell_type": "code",
   "execution_count": 76,
   "metadata": {},
   "outputs": [
    {
     "data": {
      "text/plain": [
       "(<7952x150 sparse matrix of type '<class 'numpy.int64'>'\n",
       " \twith 318080 stored elements in Compressed Sparse Row format>,\n",
       " array([  0,  15,  30,  45,  60,  75,  90, 105, 120, 135, 150], dtype=int32))"
      ]
     },
     "execution_count": 76,
     "metadata": {},
     "output_type": "execute_result"
    }
   ],
   "source": [
    "fanalysis.decision_path(X)"
   ]
  },
  {
   "cell_type": "code",
   "execution_count": 77,
   "metadata": {},
   "outputs": [
    {
     "data": {
      "text/plain": [
       "0.9202165462960563"
      ]
     },
     "execution_count": 77,
     "metadata": {},
     "output_type": "execute_result"
    }
   ],
   "source": [
    "fanalysis.score(X, Y)"
   ]
  },
  {
   "cell_type": "code",
   "execution_count": 78,
   "metadata": {},
   "outputs": [],
   "source": [
    "def feature_importance(X, Y, mx_depth):\n",
    "    model = ExtraTreesRegressor(max_depth=mx_depth,\n",
    "                                random_state=3393)\n",
    "    model.fit(X, Y)\n",
    "    features = model.feature_importances_\n",
    "    important_features = []\n",
    "    important_features_values = []\n",
    "    for i in range(len(features)):\n",
    "        if features[i] != 0.0:\n",
    "            important_features.append(vals[i])\n",
    "            important_features_values.append(features[i])\n",
    "    return important_features, important_features_values"
   ]
  },
  {
   "cell_type": "code",
   "execution_count": 79,
   "metadata": {},
   "outputs": [
    {
     "data": {
      "text/plain": [
       "(['CHkW',\n",
       "  'CHWST',\n",
       "  'CHWST2',\n",
       "  'CHWST3',\n",
       "  'CHWV14',\n",
       "  'CHWV20',\n",
       "  'CHWV21',\n",
       "  'CHWV22',\n",
       "  'CHWV23',\n",
       "  'CHWV25',\n",
       "  'CHWV3',\n",
       "  'CHWV4',\n",
       "  'CHWV5',\n",
       "  'CHWV6',\n",
       "  'PCHWP4HZ',\n",
       "  'PCHWP4SS'],\n",
       " [0.2680415604328713,\n",
       "  0.0038313693091662263,\n",
       "  0.00458746898871287,\n",
       "  0.004977246063560889,\n",
       "  0.019988831226775985,\n",
       "  0.17356501365180596,\n",
       "  0.23491303576734648,\n",
       "  0.02078561292150778,\n",
       "  0.013110897293073989,\n",
       "  0.11692661661891117,\n",
       "  0.009138710098827253,\n",
       "  0.0005416056065955691,\n",
       "  0.008194455934108036,\n",
       "  0.012003303510689112,\n",
       "  0.006101752585238327,\n",
       "  0.10329251999080906])"
      ]
     },
     "execution_count": 79,
     "metadata": {},
     "output_type": "execute_result"
    }
   ],
   "source": [
    "feature_importance(X, Y, 3)"
   ]
  },
  {
   "cell_type": "code",
   "execution_count": 80,
   "metadata": {},
   "outputs": [],
   "source": [
    "params = {'n_estimators': 500, 'max_depth': 4, 'min_samples_split': 2,\n",
    "          'learning_rate': 0.01, 'loss': 'ls'}"
   ]
  },
  {
   "cell_type": "code",
   "execution_count": 81,
   "metadata": {},
   "outputs": [],
   "source": [
    "clf = GradientBoostingRegressor(**params)"
   ]
  },
  {
   "cell_type": "code",
   "execution_count": 82,
   "metadata": {},
   "outputs": [
    {
     "data": {
      "text/plain": [
       "GradientBoostingRegressor(alpha=0.9, criterion='friedman_mse', init=None,\n",
       "             learning_rate=0.01, loss='ls', max_depth=4, max_features=None,\n",
       "             max_leaf_nodes=None, min_impurity_decrease=0.0,\n",
       "             min_impurity_split=None, min_samples_leaf=1,\n",
       "             min_samples_split=2, min_weight_fraction_leaf=0.0,\n",
       "             n_estimators=500, presort='auto', random_state=None,\n",
       "             subsample=1.0, verbose=0, warm_start=False)"
      ]
     },
     "execution_count": 82,
     "metadata": {},
     "output_type": "execute_result"
    }
   ],
   "source": [
    "clf.fit(xtrain, ytrain)"
   ]
  },
  {
   "cell_type": "code",
   "execution_count": 83,
   "metadata": {},
   "outputs": [],
   "source": [
    "mse = mean_squared_error(ytest, clf.predict(xtest))"
   ]
  },
  {
   "cell_type": "code",
   "execution_count": 84,
   "metadata": {},
   "outputs": [
    {
     "name": "stdout",
     "output_type": "stream",
     "text": [
      "MSE: 0.0002\n"
     ]
    }
   ],
   "source": [
    "print('MSE: %.4f' % mse)"
   ]
  },
  {
   "cell_type": "code",
   "execution_count": 85,
   "metadata": {},
   "outputs": [],
   "source": [
    "test_score = np.zeros((params['n_estimators'],), dtype=np.float64)"
   ]
  },
  {
   "cell_type": "code",
   "execution_count": 86,
   "metadata": {},
   "outputs": [],
   "source": [
    "for i, ypred in enumerate(clf.staged_predict(xtest)):\n",
    "    test_score[i] = clf.loss_(ytest, ypred)"
   ]
  },
  {
   "cell_type": "code",
   "execution_count": 87,
   "metadata": {},
   "outputs": [
    {
     "data": {
      "text/plain": [
       "Text(0,0.5,'Deviance')"
      ]
     },
     "execution_count": 87,
     "metadata": {},
     "output_type": "execute_result"
    },
    {
     "data": {
      "image/png": "[encoded data removed]",
      "text/plain": [
       "<matplotlib.figure.Figure at 0x291538d6438>"
      ]
     },
     "metadata": {},
     "output_type": "display_data"
    }
   ],
   "source": [
    "plt.figure(figsize=(12, 6))\n",
    "plt.subplot(1, 2, 1)\n",
    "plt.title('Deviance')\n",
    "plt.plot(np.arange(params['n_estimators']) + 1, clf.train_score_, 'b-',\n",
    "         label='Training Set Deviance')\n",
    "plt.plot(np.arange(params['n_estimators']) + 1, test_score, 'r-',\n",
    "         label='Test Set Deviance')\n",
    "plt.legend(loc='upper right')\n",
    "plt.xlabel('Boosting Iterations')\n",
    "plt.ylabel('Deviance')"
   ]
  },
  {
   "cell_type": "code",
   "execution_count": 88,
   "metadata": {},
   "outputs": [
    {
     "data": {
      "image/png": "[encoded data removed]",
      "text/plain": [
       "<matplotlib.figure.Figure at 0x291538e1438>"
      ]
     },
     "metadata": {},
     "output_type": "display_data"
    }
   ],
   "source": [
    "# Plot feature importance\n",
    "feature_importance = clf.feature_importances_\n",
    "# make importances relative to max importance\n",
    "feature_importance = 100.0 * (feature_importance / feature_importance.max())\n",
    "sorted_idx = np.argsort(feature_importance)\n",
    "pos = np.arange(sorted_idx.shape[0]) + .5\n",
    "plt.subplot(1,2,1)\n",
    "plt.barh(pos, feature_importance[sorted_idx], align='center')\n",
    "plt.yticks(pos, bas.columns[sorted_idx])\n",
    "plt.xlabel('Relative Importance')\n",
    "plt.title('Variable Importance')\n",
    "plt.show()"
   ]
  },
  {
   "cell_type": "code",
   "execution_count": 89,
   "metadata": {},
   "outputs": [],
   "source": [
    "x = bas.columns[sorted_idx]"
   ]
  },
  {
   "cell_type": "code",
   "execution_count": 90,
   "metadata": {},
   "outputs": [
    {
     "name": "stdout",
     "output_type": "stream",
     "text": [
      "Index(['CDWVLV', 'SCHWP5S', 'SCHWP5Failed', 'SCHWP4SS', 'SCHWP4S',\n",
      "       'SCHWP4Failed', 'SCHWP3SS', 'SCHWP3S', 'SCHWP3Failed', 'PCHWP5Failed',\n",
      "       'PCHWP4Failed', 'PCHWP3Failed', 'LOOPREQ', 'HX1CHWVLV', 'HX1CDWVLV',\n",
      "       'SCHWP5SS', 'CDWVLV2', 'CTTR_ALARM', 'CommunicationFailure', 'CLGMODE',\n",
      "       'PCHWP5SS', 'PCHWP5S', 'HX1CHWST', 'PCHWP4S', 'PCHWP4SPD', 'PCHWP3SS',\n",
      "       'SCHWP3HZ', 'PCHWP4HZ', 'SCHWP5HZ', 'PCHWP5HZ', 'SCHWP5SPD', 'HX1CDWRT',\n",
      "       'PCHWP3S', 'SCHWP3kW', 'SCHWP5kW', 'PCHWP5SPD', 'HX1CHWRT', 'CHWRT2',\n",
      "       'PCHWP4SS', 'HX1CDWST', 'PCHWP3HZ', 'PCHWP3SPD', 'OAH', 'CHWRT3',\n",
      "       'PCHWP5kW', 'CHWST', 'SCHWP4kW', 'CHWDP2', 'PCHWP3kW', 'CHWST3',\n",
      "       'SCHWP3SPD', 'CHWST2', 'PCHWP4kW', 'SCHWP4HZ', 'CHWRT', 'OAT', 'OAWB',\n",
      "       'MinCHDPLift', 'CHWFLO', 'MinCHDTLift', 'MaxCHDTLift', 'SCHWP4SPD',\n",
      "       'MaxCHDPLift', 'CHkW'],\n",
      "      dtype='object')\n"
     ]
    }
   ],
   "source": [
    "print(x)"
   ]
  },
  {
   "cell_type": "code",
   "execution_count": 91,
   "metadata": {},
   "outputs": [
    {
     "name": "stdout",
     "output_type": "stream",
     "text": [
      "[ 0 61 58 57 55 52 51 49 46 40 34 28 20 19 16 63  1 13 12 11 45 43 18 37\n",
      " 38 33 47 35 59 41 62 14 31 48 60 44 17  6 39 15 29 32 25  7 42  8 54  3\n",
      " 30 10 50  9 36 53  5 26 27 23  4 24 22 56 21  2]\n"
     ]
    }
   ],
   "source": [
    "print(sorted_idx)"
   ]
  },
  {
   "cell_type": "code",
   "execution_count": 92,
   "metadata": {},
   "outputs": [
    {
     "name": "stdout",
     "output_type": "stream",
     "text": [
      "[  0.           0.           0.           0.           0.\n",
      "   0.           0.           0.           0.           0.\n",
      "   0.           0.           0.           0.           0.\n",
      "   0.           0.           0.           0.           0.\n",
      "   0.34317062   0.40538296   0.41648425   0.54563346   0.60701757\n",
      "   0.74109947   0.84430713   0.93290807   0.94819071   1.43502902\n",
      "   1.54001127   1.55751417   1.78836895   1.80636952   1.82775555\n",
      "   2.01551256   2.29926852   2.58175615   2.71158963   3.12033101\n",
      "   3.21773242   3.26111542   3.62672096   3.80795338   4.09108868\n",
      "   4.12040578   4.2554733    4.48993225   4.95216402   5.27630898\n",
      "   6.07993346   7.80533317   8.54404182   9.21268579  10.00199171\n",
      "  10.24496952  12.08983139  13.26066637  13.424235    14.10991753\n",
      "  18.25114818  18.63161025  85.2340523  100.        ]\n"
     ]
    }
   ],
   "source": [
    "print(feature_importance[sorted_idx])\n",
    "imp = feature_importance[sorted_idx]"
   ]
  },
  {
   "cell_type": "code",
   "execution_count": 93,
   "metadata": {},
   "outputs": [],
   "source": [
    "df_plt1_feats = pd.DataFrame({'feature_name': x, 'feat_import': imp})"
   ]
  },
  {
   "cell_type": "code",
   "execution_count": 94,
   "metadata": {},
   "outputs": [
    {
     "data": {
      "text/html": [
       "<div>\n",
       "<style scoped>\n",
       "    .dataframe tbody tr th:only-of-type {\n",
       "        vertical-align: middle;\n",
       "    }\n",
       "\n",
       "    .dataframe tbody tr th {\n",
       "        vertical-align: top;\n",
       "    }\n",
       "\n",
       "    .dataframe thead th {\n",
       "        text-align: right;\n",
       "    }\n",
       "</style>\n",
       "<table border=\"1\" class=\"dataframe\">\n",
       "  <thead>\n",
       "    <tr style=\"text-align: right;\">\n",
       "      <th></th>\n",
       "      <th>feat_import</th>\n",
       "      <th>feature_name</th>\n",
       "    </tr>\n",
       "  </thead>\n",
       "  <tbody>\n",
       "    <tr>\n",
       "      <th>0</th>\n",
       "      <td>0.000000</td>\n",
       "      <td>CDWVLV</td>\n",
       "    </tr>\n",
       "    <tr>\n",
       "      <th>1</th>\n",
       "      <td>0.000000</td>\n",
       "      <td>SCHWP5S</td>\n",
       "    </tr>\n",
       "    <tr>\n",
       "      <th>2</th>\n",
       "      <td>0.000000</td>\n",
       "      <td>SCHWP5Failed</td>\n",
       "    </tr>\n",
       "    <tr>\n",
       "      <th>3</th>\n",
       "      <td>0.000000</td>\n",
       "      <td>SCHWP4SS</td>\n",
       "    </tr>\n",
       "    <tr>\n",
       "      <th>4</th>\n",
       "      <td>0.000000</td>\n",
       "      <td>SCHWP4S</td>\n",
       "    </tr>\n",
       "    <tr>\n",
       "      <th>5</th>\n",
       "      <td>0.000000</td>\n",
       "      <td>SCHWP4Failed</td>\n",
       "    </tr>\n",
       "    <tr>\n",
       "      <th>6</th>\n",
       "      <td>0.000000</td>\n",
       "      <td>SCHWP3SS</td>\n",
       "    </tr>\n",
       "    <tr>\n",
       "      <th>7</th>\n",
       "      <td>0.000000</td>\n",
       "      <td>SCHWP3S</td>\n",
       "    </tr>\n",
       "    <tr>\n",
       "      <th>8</th>\n",
       "      <td>0.000000</td>\n",
       "      <td>SCHWP3Failed</td>\n",
       "    </tr>\n",
       "    <tr>\n",
       "      <th>9</th>\n",
       "      <td>0.000000</td>\n",
       "      <td>PCHWP5Failed</td>\n",
       "    </tr>\n",
       "    <tr>\n",
       "      <th>10</th>\n",
       "      <td>0.000000</td>\n",
       "      <td>PCHWP4Failed</td>\n",
       "    </tr>\n",
       "    <tr>\n",
       "      <th>11</th>\n",
       "      <td>0.000000</td>\n",
       "      <td>PCHWP3Failed</td>\n",
       "    </tr>\n",
       "    <tr>\n",
       "      <th>12</th>\n",
       "      <td>0.000000</td>\n",
       "      <td>LOOPREQ</td>\n",
       "    </tr>\n",
       "    <tr>\n",
       "      <th>13</th>\n",
       "      <td>0.000000</td>\n",
       "      <td>HX1CHWVLV</td>\n",
       "    </tr>\n",
       "    <tr>\n",
       "      <th>14</th>\n",
       "      <td>0.000000</td>\n",
       "      <td>HX1CDWVLV</td>\n",
       "    </tr>\n",
       "    <tr>\n",
       "      <th>15</th>\n",
       "      <td>0.000000</td>\n",
       "      <td>SCHWP5SS</td>\n",
       "    </tr>\n",
       "    <tr>\n",
       "      <th>16</th>\n",
       "      <td>0.000000</td>\n",
       "      <td>CDWVLV2</td>\n",
       "    </tr>\n",
       "    <tr>\n",
       "      <th>17</th>\n",
       "      <td>0.000000</td>\n",
       "      <td>CTTR_ALARM</td>\n",
       "    </tr>\n",
       "    <tr>\n",
       "      <th>18</th>\n",
       "      <td>0.000000</td>\n",
       "      <td>CommunicationFailure</td>\n",
       "    </tr>\n",
       "    <tr>\n",
       "      <th>19</th>\n",
       "      <td>0.000000</td>\n",
       "      <td>CLGMODE</td>\n",
       "    </tr>\n",
       "    <tr>\n",
       "      <th>20</th>\n",
       "      <td>0.343171</td>\n",
       "      <td>PCHWP5SS</td>\n",
       "    </tr>\n",
       "    <tr>\n",
       "      <th>21</th>\n",
       "      <td>0.405383</td>\n",
       "      <td>PCHWP5S</td>\n",
       "    </tr>\n",
       "    <tr>\n",
       "      <th>22</th>\n",
       "      <td>0.416484</td>\n",
       "      <td>HX1CHWST</td>\n",
       "    </tr>\n",
       "    <tr>\n",
       "      <th>23</th>\n",
       "      <td>0.545633</td>\n",
       "      <td>PCHWP4S</td>\n",
       "    </tr>\n",
       "    <tr>\n",
       "      <th>24</th>\n",
       "      <td>0.607018</td>\n",
       "      <td>PCHWP4SPD</td>\n",
       "    </tr>\n",
       "    <tr>\n",
       "      <th>25</th>\n",
       "      <td>0.741099</td>\n",
       "      <td>PCHWP3SS</td>\n",
       "    </tr>\n",
       "    <tr>\n",
       "      <th>26</th>\n",
       "      <td>0.844307</td>\n",
       "      <td>SCHWP3HZ</td>\n",
       "    </tr>\n",
       "    <tr>\n",
       "      <th>27</th>\n",
       "      <td>0.932908</td>\n",
       "      <td>PCHWP4HZ</td>\n",
       "    </tr>\n",
       "    <tr>\n",
       "      <th>28</th>\n",
       "      <td>0.948191</td>\n",
       "      <td>SCHWP5HZ</td>\n",
       "    </tr>\n",
       "    <tr>\n",
       "      <th>29</th>\n",
       "      <td>1.435029</td>\n",
       "      <td>PCHWP5HZ</td>\n",
       "    </tr>\n",
       "    <tr>\n",
       "      <th>...</th>\n",
       "      <td>...</td>\n",
       "      <td>...</td>\n",
       "    </tr>\n",
       "    <tr>\n",
       "      <th>34</th>\n",
       "      <td>1.827756</td>\n",
       "      <td>SCHWP5kW</td>\n",
       "    </tr>\n",
       "    <tr>\n",
       "      <th>35</th>\n",
       "      <td>2.015513</td>\n",
       "      <td>PCHWP5SPD</td>\n",
       "    </tr>\n",
       "    <tr>\n",
       "      <th>36</th>\n",
       "      <td>2.299269</td>\n",
       "      <td>HX1CHWRT</td>\n",
       "    </tr>\n",
       "    <tr>\n",
       "      <th>37</th>\n",
       "      <td>2.581756</td>\n",
       "      <td>CHWRT2</td>\n",
       "    </tr>\n",
       "    <tr>\n",
       "      <th>38</th>\n",
       "      <td>2.711590</td>\n",
       "      <td>PCHWP4SS</td>\n",
       "    </tr>\n",
       "    <tr>\n",
       "      <th>39</th>\n",
       "      <td>3.120331</td>\n",
       "      <td>HX1CDWST</td>\n",
       "    </tr>\n",
       "    <tr>\n",
       "      <th>40</th>\n",
       "      <td>3.217732</td>\n",
       "      <td>PCHWP3HZ</td>\n",
       "    </tr>\n",
       "    <tr>\n",
       "      <th>41</th>\n",
       "      <td>3.261115</td>\n",
       "      <td>PCHWP3SPD</td>\n",
       "    </tr>\n",
       "    <tr>\n",
       "      <th>42</th>\n",
       "      <td>3.626721</td>\n",
       "      <td>OAH</td>\n",
       "    </tr>\n",
       "    <tr>\n",
       "      <th>43</th>\n",
       "      <td>3.807953</td>\n",
       "      <td>CHWRT3</td>\n",
       "    </tr>\n",
       "    <tr>\n",
       "      <th>44</th>\n",
       "      <td>4.091089</td>\n",
       "      <td>PCHWP5kW</td>\n",
       "    </tr>\n",
       "    <tr>\n",
       "      <th>45</th>\n",
       "      <td>4.120406</td>\n",
       "      <td>CHWST</td>\n",
       "    </tr>\n",
       "    <tr>\n",
       "      <th>46</th>\n",
       "      <td>4.255473</td>\n",
       "      <td>SCHWP4kW</td>\n",
       "    </tr>\n",
       "    <tr>\n",
       "      <th>47</th>\n",
       "      <td>4.489932</td>\n",
       "      <td>CHWDP2</td>\n",
       "    </tr>\n",
       "    <tr>\n",
       "      <th>48</th>\n",
       "      <td>4.952164</td>\n",
       "      <td>PCHWP3kW</td>\n",
       "    </tr>\n",
       "    <tr>\n",
       "      <th>49</th>\n",
       "      <td>5.276309</td>\n",
       "      <td>CHWST3</td>\n",
       "    </tr>\n",
       "    <tr>\n",
       "      <th>50</th>\n",
       "      <td>6.079933</td>\n",
       "      <td>SCHWP3SPD</td>\n",
       "    </tr>\n",
       "    <tr>\n",
       "      <th>51</th>\n",
       "      <td>7.805333</td>\n",
       "      <td>CHWST2</td>\n",
       "    </tr>\n",
       "    <tr>\n",
       "      <th>52</th>\n",
       "      <td>8.544042</td>\n",
       "      <td>PCHWP4kW</td>\n",
       "    </tr>\n",
       "    <tr>\n",
       "      <th>53</th>\n",
       "      <td>9.212686</td>\n",
       "      <td>SCHWP4HZ</td>\n",
       "    </tr>\n",
       "    <tr>\n",
       "      <th>54</th>\n",
       "      <td>10.001992</td>\n",
       "      <td>CHWRT</td>\n",
       "    </tr>\n",
       "    <tr>\n",
       "      <th>55</th>\n",
       "      <td>10.244970</td>\n",
       "      <td>OAT</td>\n",
       "    </tr>\n",
       "    <tr>\n",
       "      <th>56</th>\n",
       "      <td>12.089831</td>\n",
       "      <td>OAWB</td>\n",
       "    </tr>\n",
       "    <tr>\n",
       "      <th>57</th>\n",
       "      <td>13.260666</td>\n",
       "      <td>MinCHDPLift</td>\n",
       "    </tr>\n",
       "    <tr>\n",
       "      <th>58</th>\n",
       "      <td>13.424235</td>\n",
       "      <td>CHWFLO</td>\n",
       "    </tr>\n",
       "    <tr>\n",
       "      <th>59</th>\n",
       "      <td>14.109918</td>\n",
       "      <td>MinCHDTLift</td>\n",
       "    </tr>\n",
       "    <tr>\n",
       "      <th>60</th>\n",
       "      <td>18.251148</td>\n",
       "      <td>MaxCHDTLift</td>\n",
       "    </tr>\n",
       "    <tr>\n",
       "      <th>61</th>\n",
       "      <td>18.631610</td>\n",
       "      <td>SCHWP4SPD</td>\n",
       "    </tr>\n",
       "    <tr>\n",
       "      <th>62</th>\n",
       "      <td>85.234052</td>\n",
       "      <td>MaxCHDPLift</td>\n",
       "    </tr>\n",
       "    <tr>\n",
       "      <th>63</th>\n",
       "      <td>100.000000</td>\n",
       "      <td>CHkW</td>\n",
       "    </tr>\n",
       "  </tbody>\n",
       "</table>\n",
       "<p>64 rows × 2 columns</p>\n",
       "</div>"
      ],
      "text/plain": [
       "    feat_import          feature_name\n",
       "0      0.000000                CDWVLV\n",
       "1      0.000000               SCHWP5S\n",
       "2      0.000000          SCHWP5Failed\n",
       "3      0.000000              SCHWP4SS\n",
       "4      0.000000               SCHWP4S\n",
       "5      0.000000          SCHWP4Failed\n",
       "6      0.000000              SCHWP3SS\n",
       "7      0.000000               SCHWP3S\n",
       "8      0.000000          SCHWP3Failed\n",
       "9      0.000000          PCHWP5Failed\n",
       "10     0.000000          PCHWP4Failed\n",
       "11     0.000000          PCHWP3Failed\n",
       "12     0.000000               LOOPREQ\n",
       "13     0.000000             HX1CHWVLV\n",
       "14     0.000000             HX1CDWVLV\n",
       "15     0.000000              SCHWP5SS\n",
       "16     0.000000               CDWVLV2\n",
       "17     0.000000            CTTR_ALARM\n",
       "18     0.000000  CommunicationFailure\n",
       "19     0.000000               CLGMODE\n",
       "20     0.343171              PCHWP5SS\n",
       "21     0.405383               PCHWP5S\n",
       "22     0.416484              HX1CHWST\n",
       "23     0.545633               PCHWP4S\n",
       "24     0.607018             PCHWP4SPD\n",
       "25     0.741099              PCHWP3SS\n",
       "26     0.844307              SCHWP3HZ\n",
       "27     0.932908              PCHWP4HZ\n",
       "28     0.948191              SCHWP5HZ\n",
       "29     1.435029              PCHWP5HZ\n",
       "..          ...                   ...\n",
       "34     1.827756              SCHWP5kW\n",
       "35     2.015513             PCHWP5SPD\n",
       "36     2.299269              HX1CHWRT\n",
       "37     2.581756                CHWRT2\n",
       "38     2.711590              PCHWP4SS\n",
       "39     3.120331              HX1CDWST\n",
       "40     3.217732              PCHWP3HZ\n",
       "41     3.261115             PCHWP3SPD\n",
       "42     3.626721                   OAH\n",
       "43     3.807953                CHWRT3\n",
       "44     4.091089              PCHWP5kW\n",
       "45     4.120406                 CHWST\n",
       "46     4.255473              SCHWP4kW\n",
       "47     4.489932                CHWDP2\n",
       "48     4.952164              PCHWP3kW\n",
       "49     5.276309                CHWST3\n",
       "50     6.079933             SCHWP3SPD\n",
       "51     7.805333                CHWST2\n",
       "52     8.544042              PCHWP4kW\n",
       "53     9.212686              SCHWP4HZ\n",
       "54    10.001992                 CHWRT\n",
       "55    10.244970                   OAT\n",
       "56    12.089831                  OAWB\n",
       "57    13.260666           MinCHDPLift\n",
       "58    13.424235                CHWFLO\n",
       "59    14.109918           MinCHDTLift\n",
       "60    18.251148           MaxCHDTLift\n",
       "61    18.631610             SCHWP4SPD\n",
       "62    85.234052           MaxCHDPLift\n",
       "63   100.000000                  CHkW\n",
       "\n",
       "[64 rows x 2 columns]"
      ]
     },
     "execution_count": 94,
     "metadata": {},
     "output_type": "execute_result"
    }
   ],
   "source": [
    "df_plt1_feats"
   ]
  },
  {
   "cell_type": "code",
   "execution_count": null,
   "metadata": {},
   "outputs": [],
   "source": []
  }
 ],
 "metadata": {
  "kernelspec": {
   "display_name": "Python 3",
   "language": "python",
   "name": "python3"
  },
  "language_info": {
   "codemirror_mode": {
    "name": "ipython",
    "version": 3
   },
   "file_extension": ".py",
   "mimetype": "text/x-python",
   "name": "python",
   "nbconvert_exporter": "python",
   "pygments_lexer": "ipython3",
   "version": "3.5.4"
  }
 },
 "nbformat": 4,
 "nbformat_minor": 2
}
