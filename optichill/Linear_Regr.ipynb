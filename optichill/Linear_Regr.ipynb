{
 "cells": [
  {
   "cell_type": "code",
   "execution_count": 92,
   "metadata": {},
   "outputs": [],
   "source": [
    "import numpy as np\n",
    "import pandas as pd\n",
    "import matplotlib\n",
    "import matplotlib.pyplot as plt\n",
    "from sklearn import linear_model\n",
    "from sklearn.model_selection import train_test_split\n",
    "from sklearn.model_selection import cross_val_predict\n",
    "from sklearn import metrics\n",
    "import matplotlib.pyplot as plt\n",
    "from dataCleaning import bas_filter\n",
    "%matplotlib inline"
   ]
  },
  {
   "cell_type": "code",
   "execution_count": 37,
   "metadata": {},
   "outputs": [
    {
     "name": "stdout",
     "output_type": "stream",
     "text": [
      "['../..\\\\Plt1 m 2016-11.csv', '../..\\\\Plt1 m 2016-12.csv', '../..\\\\Plt1 m 2017-01.csv', '../..\\\\Plt1 m 2017-02.csv', '../..\\\\Plt1 m 2017-03.csv', '../..\\\\Plt1 m 2017-04.csv', '../..\\\\Plt1 m 2017-05.csv', '../..\\\\Plt1 m 2017-06.csv', '../..\\\\Plt1 m 2017-07.csv', '../..\\\\Plt1 m 2017-08.csv', '../..\\\\Plt1 m 2017-09.csv', '../..\\\\Plt1 m 2017-10.csv', '../..\\\\Plt1 m 2017-12.csv', '../..\\\\Plt1 m 2018-01.csv', '../..\\\\Plt1 m 2018-02.csv', '../..\\\\Plt1 m 2018-03.csv', '../..\\\\Plt1 m 2018-04.csv']\n",
      "CommunicationFailure_COV\n",
      "Original data contains 143240 points and 414 dimensions.\n",
      "Filtered data contains 136242 points and 66 dimensions.\n"
     ]
    }
   ],
   "source": [
    "bas1, key = bas_filter.import_and_filter('../..', 'Plt1 m', '../../Plt1 Points List.xlsx')"
   ]
  },
  {
   "cell_type": "code",
   "execution_count": 38,
   "metadata": {},
   "outputs": [
    {
     "data": {
      "text/plain": [
       "Index(['CDWVLV', 'CDWVLV2', 'CHkW', 'CHWDP2', 'CHWFLO', 'CHWRT', 'CHWRT2',\n",
       "       'CHWRT3', 'CHWST', 'CHWST2', 'CHWST3', 'CLGMODE',\n",
       "       'CommunicationFailure', 'CTTR_ALARM', 'HX1CDWRT', 'HX1CDWST',\n",
       "       'HX1CDWVLV', 'HX1CHWRT', 'HX1CHWST', 'HX1CHWVLV', 'LOOPREQ',\n",
       "       'MaxCHDPLift', 'MaxCHDTLift', 'MinCHDPLift', 'MinCHDTLift', 'OAH',\n",
       "       'OAT', 'OAWB', 'PCHWP3Failed', 'PCHWP3HZ', 'PCHWP3kW', 'PCHWP3S',\n",
       "       'PCHWP3SPD', 'PCHWP3SS', 'PCHWP4Failed', 'PCHWP4HZ', 'PCHWP4kW',\n",
       "       'PCHWP4S', 'PCHWP4SPD', 'PCHWP4SS', 'PCHWP5Failed', 'PCHWP5HZ',\n",
       "       'PCHWP5kW', 'PCHWP5S', 'PCHWP5SPD', 'PCHWP5SS', 'SCHWP3Failed',\n",
       "       'SCHWP3HZ', 'SCHWP3kW', 'SCHWP3S', 'SCHWP3SPD', 'SCHWP3SS',\n",
       "       'SCHWP4Failed', 'SCHWP4HZ', 'SCHWP4kW', 'SCHWP4S', 'SCHWP4SPD',\n",
       "       'SCHWP4SS', 'SCHWP5Failed', 'SCHWP5HZ', 'SCHWP5kW', 'SCHWP5S',\n",
       "       'SCHWP5SPD', 'SCHWP5SS', 'OptimumControl', 'kW/Ton'],\n",
       "      dtype='object')"
      ]
     },
     "execution_count": 38,
     "metadata": {},
     "output_type": "execute_result"
    }
   ],
   "source": [
    "bas1.columns"
   ]
  },
  {
   "cell_type": "code",
   "execution_count": 46,
   "metadata": {},
   "outputs": [],
   "source": [
    "xtrain, xtest, ytrain, ytest = train_test_split(bas1.values[:, 0:(n-1)], bas1.values[:,(n)], test_size = 0.25, random_state = 42)"
   ]
  },
  {
   "cell_type": "markdown",
   "metadata": {},
   "source": [
    "#### LASSO"
   ]
  },
  {
   "cell_type": "code",
   "execution_count": 64,
   "metadata": {},
   "outputs": [
    {
     "name": "stdout",
     "output_type": "stream",
     "text": [
      "      lasso_coef\n",
      "CHkW    0.002053\n"
     ]
    }
   ],
   "source": [
    "reg_lasso = linear_model.Lasso()\n",
    "reg_lasso.fit(xtrain, ytrain)\n",
    "coef = reg_lasso.coef_\n",
    "lasso_coef = pd.DataFrame(coef, bas1.columns[:-2])\n",
    "lasso_coef = lasso_coef[coef!=0]\n",
    "lasso_coef.columns = ['lasso_coef']\n",
    "print (lasso_coef)\n",
    "lc = lasso_coef.values.tolist()"
   ]
  },
  {
   "cell_type": "code",
   "execution_count": 113,
   "metadata": {},
   "outputs": [
    {
     "name": "stdout",
     "output_type": "stream",
     "text": [
      "0.8516390088699353\n",
      "0.0025371429969497377\n"
     ]
    },
    {
     "data": {
      "image/png": "[encoded data removed]",
      "text/plain": [
       "<matplotlib.figure.Figure at 0x20a96291be0>"
      ]
     },
     "metadata": {},
     "output_type": "display_data"
    }
   ],
   "source": [
    "ylas = cross_val_predict(reg_lasso, xtest, ytest)\n",
    "plt.scatter(ytest, ylas, color = 'cyan')\n",
    "plt.plot([ytest.min(), ytest.max()], [ytest.min(), ytest.max()], 'k--', lw=3, color = 'red')\n",
    "print (metrics.r2_score(ytest, ylas))\n",
    "print (metrics.mean_squared_error(ytest, ylas))"
   ]
  },
  {
   "cell_type": "markdown",
   "metadata": {},
   "source": [
    "#### LINEAR REGRESSION"
   ]
  },
  {
   "cell_type": "code",
   "execution_count": 120,
   "metadata": {},
   "outputs": [
    {
     "data": {
      "text/html": [
       "<div>\n",
       "<style scoped>\n",
       "    .dataframe tbody tr th:only-of-type {\n",
       "        vertical-align: middle;\n",
       "    }\n",
       "\n",
       "    .dataframe tbody tr th {\n",
       "        vertical-align: top;\n",
       "    }\n",
       "\n",
       "    .dataframe thead th {\n",
       "        text-align: right;\n",
       "    }\n",
       "</style>\n",
       "<table border=\"1\" class=\"dataframe\">\n",
       "  <thead>\n",
       "    <tr style=\"text-align: right;\">\n",
       "      <th></th>\n",
       "      <th>linear_coef</th>\n",
       "    </tr>\n",
       "  </thead>\n",
       "  <tbody>\n",
       "    <tr>\n",
       "      <th>CDWVLV2</th>\n",
       "      <td>1.596151e+09</td>\n",
       "    </tr>\n",
       "    <tr>\n",
       "      <th>CHWRT</th>\n",
       "      <td>-1.348031e-02</td>\n",
       "    </tr>\n",
       "    <tr>\n",
       "      <th>CHWST</th>\n",
       "      <td>1.663003e-02</td>\n",
       "    </tr>\n",
       "    <tr>\n",
       "      <th>CLGMODE</th>\n",
       "      <td>6.687193e+07</td>\n",
       "    </tr>\n",
       "    <tr>\n",
       "      <th>CommunicationFailure</th>\n",
       "      <td>5.712598e+07</td>\n",
       "    </tr>\n",
       "    <tr>\n",
       "      <th>CTTR_ALARM</th>\n",
       "      <td>4.054382e+07</td>\n",
       "    </tr>\n",
       "    <tr>\n",
       "      <th>HX1CDWVLV</th>\n",
       "      <td>4.757083e+07</td>\n",
       "    </tr>\n",
       "    <tr>\n",
       "      <th>HX1CHWVLV</th>\n",
       "      <td>-5.681738e+05</td>\n",
       "    </tr>\n",
       "    <tr>\n",
       "      <th>LOOPREQ</th>\n",
       "      <td>-2.861640e+05</td>\n",
       "    </tr>\n",
       "    <tr>\n",
       "      <th>MaxCHDTLift</th>\n",
       "      <td>1.343562e-02</td>\n",
       "    </tr>\n",
       "    <tr>\n",
       "      <th>MinCHDTLift</th>\n",
       "      <td>-1.237101e-02</td>\n",
       "    </tr>\n",
       "    <tr>\n",
       "      <th>PCHWP3Failed</th>\n",
       "      <td>-1.680489e+06</td>\n",
       "    </tr>\n",
       "    <tr>\n",
       "      <th>PCHWP3kW</th>\n",
       "      <td>-3.040718e-02</td>\n",
       "    </tr>\n",
       "    <tr>\n",
       "      <th>PCHWP3S</th>\n",
       "      <td>-5.201776e-02</td>\n",
       "    </tr>\n",
       "    <tr>\n",
       "      <th>PCHWP4Failed</th>\n",
       "      <td>1.306085e+05</td>\n",
       "    </tr>\n",
       "    <tr>\n",
       "      <th>PCHWP4kW</th>\n",
       "      <td>-3.584480e-02</td>\n",
       "    </tr>\n",
       "    <tr>\n",
       "      <th>PCHWP4S</th>\n",
       "      <td>-1.178420e-01</td>\n",
       "    </tr>\n",
       "    <tr>\n",
       "      <th>PCHWP4SS</th>\n",
       "      <td>-1.170547e-01</td>\n",
       "    </tr>\n",
       "    <tr>\n",
       "      <th>PCHWP5Failed</th>\n",
       "      <td>6.643139e+02</td>\n",
       "    </tr>\n",
       "    <tr>\n",
       "      <th>PCHWP5HZ</th>\n",
       "      <td>1.216996e-02</td>\n",
       "    </tr>\n",
       "    <tr>\n",
       "      <th>PCHWP5kW</th>\n",
       "      <td>2.123401e-02</td>\n",
       "    </tr>\n",
       "    <tr>\n",
       "      <th>PCHWP5S</th>\n",
       "      <td>1.246925e-01</td>\n",
       "    </tr>\n",
       "    <tr>\n",
       "      <th>PCHWP5SS</th>\n",
       "      <td>-7.701499e-02</td>\n",
       "    </tr>\n",
       "    <tr>\n",
       "      <th>SCHWP3Failed</th>\n",
       "      <td>-5.798433e+03</td>\n",
       "    </tr>\n",
       "    <tr>\n",
       "      <th>SCHWP3kW</th>\n",
       "      <td>3.380521e-02</td>\n",
       "    </tr>\n",
       "    <tr>\n",
       "      <th>SCHWP3S</th>\n",
       "      <td>-1.574838e-02</td>\n",
       "    </tr>\n",
       "    <tr>\n",
       "      <th>SCHWP4kW</th>\n",
       "      <td>-7.954583e-02</td>\n",
       "    </tr>\n",
       "    <tr>\n",
       "      <th>SCHWP5kW</th>\n",
       "      <td>-3.035083e-02</td>\n",
       "    </tr>\n",
       "    <tr>\n",
       "      <th>SCHWP5S</th>\n",
       "      <td>2.152805e-01</td>\n",
       "    </tr>\n",
       "    <tr>\n",
       "      <th>SCHWP5SS</th>\n",
       "      <td>-1.634452e-01</td>\n",
       "    </tr>\n",
       "  </tbody>\n",
       "</table>\n",
       "</div>"
      ],
      "text/plain": [
       "                       linear_coef\n",
       "CDWVLV2               1.596151e+09\n",
       "CHWRT                -1.348031e-02\n",
       "CHWST                 1.663003e-02\n",
       "CLGMODE               6.687193e+07\n",
       "CommunicationFailure  5.712598e+07\n",
       "CTTR_ALARM            4.054382e+07\n",
       "HX1CDWVLV             4.757083e+07\n",
       "HX1CHWVLV            -5.681738e+05\n",
       "LOOPREQ              -2.861640e+05\n",
       "MaxCHDTLift           1.343562e-02\n",
       "MinCHDTLift          -1.237101e-02\n",
       "PCHWP3Failed         -1.680489e+06\n",
       "PCHWP3kW             -3.040718e-02\n",
       "PCHWP3S              -5.201776e-02\n",
       "PCHWP4Failed          1.306085e+05\n",
       "PCHWP4kW             -3.584480e-02\n",
       "PCHWP4S              -1.178420e-01\n",
       "PCHWP4SS             -1.170547e-01\n",
       "PCHWP5Failed          6.643139e+02\n",
       "PCHWP5HZ              1.216996e-02\n",
       "PCHWP5kW              2.123401e-02\n",
       "PCHWP5S               1.246925e-01\n",
       "PCHWP5SS             -7.701499e-02\n",
       "SCHWP3Failed         -5.798433e+03\n",
       "SCHWP3kW              3.380521e-02\n",
       "SCHWP3S              -1.574838e-02\n",
       "SCHWP4kW             -7.954583e-02\n",
       "SCHWP5kW             -3.035083e-02\n",
       "SCHWP5S               2.152805e-01\n",
       "SCHWP5SS             -1.634452e-01"
      ]
     },
     "execution_count": 120,
     "metadata": {},
     "output_type": "execute_result"
    }
   ],
   "source": [
    "reg_linear = linear_model.LinearRegression()\n",
    "reg_linear.fit(xtrain, ytrain)\n",
    "coef = reg_linear.coef_\n",
    "linear_coef = pd.DataFrame(coef, bas1.columns[:-2])\n",
    "linear_coef = linear_coef[abs(coef) > 1e-02]\n",
    "linear_coef.columns = ['linear_coef']\n",
    "linear_coef"
   ]
  },
  {
   "cell_type": "code",
   "execution_count": 118,
   "metadata": {},
   "outputs": [
    {
     "data": {
      "text/html": [
       "<div>\n",
       "<style scoped>\n",
       "    .dataframe tbody tr th:only-of-type {\n",
       "        vertical-align: middle;\n",
       "    }\n",
       "\n",
       "    .dataframe tbody tr th {\n",
       "        vertical-align: top;\n",
       "    }\n",
       "\n",
       "    .dataframe thead th {\n",
       "        text-align: right;\n",
       "    }\n",
       "</style>\n",
       "<table border=\"1\" class=\"dataframe\">\n",
       "  <thead>\n",
       "    <tr style=\"text-align: right;\">\n",
       "      <th></th>\n",
       "      <th>linear_coef</th>\n",
       "    </tr>\n",
       "  </thead>\n",
       "  <tbody>\n",
       "    <tr>\n",
       "      <th>count</th>\n",
       "      <td>1.600000e+01</td>\n",
       "    </tr>\n",
       "    <tr>\n",
       "      <th>mean</th>\n",
       "      <td>1.128659e+08</td>\n",
       "    </tr>\n",
       "    <tr>\n",
       "      <th>std</th>\n",
       "      <td>3.962763e+08</td>\n",
       "    </tr>\n",
       "    <tr>\n",
       "      <th>min</th>\n",
       "      <td>-1.680489e+06</td>\n",
       "    </tr>\n",
       "    <tr>\n",
       "      <th>25%</th>\n",
       "      <td>-1.449731e+03</td>\n",
       "    </tr>\n",
       "    <tr>\n",
       "      <th>50%</th>\n",
       "      <td>1.699865e-01</td>\n",
       "    </tr>\n",
       "    <tr>\n",
       "      <th>75%</th>\n",
       "      <td>4.230057e+07</td>\n",
       "    </tr>\n",
       "    <tr>\n",
       "      <th>max</th>\n",
       "      <td>1.596151e+09</td>\n",
       "    </tr>\n",
       "  </tbody>\n",
       "</table>\n",
       "</div>"
      ],
      "text/plain": [
       "        linear_coef\n",
       "count  1.600000e+01\n",
       "mean   1.128659e+08\n",
       "std    3.962763e+08\n",
       "min   -1.680489e+06\n",
       "25%   -1.449731e+03\n",
       "50%    1.699865e-01\n",
       "75%    4.230057e+07\n",
       "max    1.596151e+09"
      ]
     },
     "execution_count": 118,
     "metadata": {},
     "output_type": "execute_result"
    }
   ],
   "source": [
    "linear_coef.describe()"
   ]
  },
  {
   "cell_type": "code",
   "execution_count": 119,
   "metadata": {},
   "outputs": [
    {
     "name": "stdout",
     "output_type": "stream",
     "text": [
      "0.9564920101104729\n",
      "0.0007440364951646943\n"
     ]
    },
    {
     "data": {
      "image/png": "[encoded data removed]",
      "text/plain": [
       "<matplotlib.figure.Figure at 0x20a95e0a550>"
      ]
     },
     "metadata": {},
     "output_type": "display_data"
    }
   ],
   "source": [
    "ylin = cross_val_predict(reg_linear, xtest, ytest, cv = 10)\n",
    "plt.scatter(ytest, ylin)\n",
    "plt.plot([ytest.min(), ytest.max()], [ytest.min(), ytest.max()], 'k--', lw=3, color = 'red')\n",
    "print (metrics.r2_score(ytest, ylin))\n",
    "print (metrics.mean_squared_error(ytest, ylin))"
   ]
  },
  {
   "cell_type": "raw",
   "metadata": {},
   "source": []
  },
  {
   "cell_type": "code",
   "execution_count": null,
   "metadata": {},
   "outputs": [],
   "source": []
  }
 ],
 "metadata": {
  "kernelspec": {
   "display_name": "Python 3",
   "language": "python",
   "name": "python3"
  },
  "language_info": {
   "codemirror_mode": {
    "name": "ipython",
    "version": 3
   },
   "file_extension": ".py",
   "mimetype": "text/x-python",
   "name": "python",
   "nbconvert_exporter": "python",
   "pygments_lexer": "ipython3",
   "version": "3.5.4"
  }
 },
 "nbformat": 4,
 "nbformat_minor": 2
}
