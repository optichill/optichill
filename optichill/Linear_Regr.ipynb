{
 "cells": [
  {
   "cell_type": "code",
   "execution_count": 25,
   "metadata": {},
   "outputs": [],
   "source": [
    "import numpy as np\n",
    "import pandas as pd\n",
    "import matplotlib\n",
    "import matplotlib.pyplot as plt\n",
    "from sklearn import linear_model\n",
    "from sklearn.model_selection import train_test_split\n",
    "from sklearn.model_selection import cross_val_predict\n",
    "from sklearn import metrics\n",
    "import matplotlib.pyplot as plt\n",
    "from dataCleaning import bas_filter\n",
    "import scale_avg\n",
    "from sklearn.preprocessing import MinMaxScaler\n",
    "%matplotlib inline"
   ]
  },
  {
   "cell_type": "code",
   "execution_count": 26,
   "metadata": {},
   "outputs": [
    {
     "name": "stdout",
     "output_type": "stream",
     "text": [
      "['../..\\\\Plt1 m 2016-11.csv', '../..\\\\Plt1 m 2016-12.csv', '../..\\\\Plt1 m 2017-01.csv', '../..\\\\Plt1 m 2017-02.csv', '../..\\\\Plt1 m 2017-03.csv', '../..\\\\Plt1 m 2017-04.csv', '../..\\\\Plt1 m 2017-05.csv', '../..\\\\Plt1 m 2017-06.csv', '../..\\\\Plt1 m 2017-07.csv', '../..\\\\Plt1 m 2017-08.csv', '../..\\\\Plt1 m 2017-09.csv', '../..\\\\Plt1 m 2017-10.csv', '../..\\\\Plt1 m 2017-12.csv', '../..\\\\Plt1 m 2018-01.csv', '../..\\\\Plt1 m 2018-02.csv', '../..\\\\Plt1 m 2018-03.csv', '../..\\\\Plt1 m 2018-04.csv']\n",
      "CommunicationFailure_COV\n",
      "Original data contains 143240 points and 414 dimensions.\n",
      "Filtered data contains 136242 points and 66 dimensions.\n",
      "['../..\\\\Plt2 m 2017-07.csv', '../..\\\\Plt2 m 2017-08.csv', '../..\\\\Plt2 m 2017-09.csv', '../..\\\\Plt2 m 2017-10.csv', '../..\\\\Plt2 m 2017-11.csv', '../..\\\\Plt2 m 2017-12.csv', '../..\\\\Plt2 m 2018-01.csv', '../..\\\\Plt2 m 2018-02.csv', '../..\\\\Plt2 m 2018-03.csv', '../..\\\\Plt2 m 2018-04.csv']\n",
      "CHWPSPD2\n",
      "Original data contains 86497 points and 412 dimensions.\n",
      "Filtered data contains 83412 points and 39 dimensions.\n"
     ]
    }
   ],
   "source": [
    "bas1, key1 = bas_filter.import_and_filter('../..', 'Plt1 m', '../../Plt1 Points List.xlsx')\n",
    "bas2, key2 = bas_filter.import_and_filter('../..', 'Plt2 m', '../../Plt2 Points List.xlsx')\n",
    "#bas3, key3 = bas_filter.import_and_filter('../..', 'Plt3 m',  '../../Plt3 Points List.xlsx')"
   ]
  },
  {
   "cell_type": "code",
   "execution_count": 27,
   "metadata": {},
   "outputs": [],
   "source": [
    "dfs = [bas1, bas2]"
   ]
  },
  {
   "cell_type": "code",
   "execution_count": 28,
   "metadata": {},
   "outputs": [
    {
     "data": {
      "text/plain": [
       "Index(['CHWST2', 'CTTR_ALARM', 'CHWRT2', 'LOOPREQ', 'CHWST', 'OptimumControl',\n",
       "       'CHWDP2', 'CHWRT', 'OAWB', 'CHWFLO', 'OAT', 'CHWRT3', 'OAH', 'kW/Ton'],\n",
       "      dtype='object')"
      ]
     },
     "execution_count": 28,
     "metadata": {},
     "output_type": "execute_result"
    }
   ],
   "source": [
    "df_avg_scale = scale_avg.scale_avg(dfs)\n",
    "df_avg_scale.columns"
   ]
  },
  {
   "cell_type": "code",
   "execution_count": 29,
   "metadata": {},
   "outputs": [],
   "source": [
    "n = len(df_avg_scale.columns)"
   ]
  },
  {
   "cell_type": "code",
   "execution_count": 30,
   "metadata": {},
   "outputs": [],
   "source": [
    "xtrain, xtest, ytrain, ytest = train_test_split(df_avg_scale.values[:, 0:(n-1)], df_avg_scale.values[:,(n-1)], test_size = 0.25, random_state = 42)"
   ]
  },
  {
   "cell_type": "code",
   "execution_count": 31,
   "metadata": {},
   "outputs": [],
   "source": [
    "#x2train, x2test, y2train, y2test = train_test_split(bas2.values[:, 0:(m-2)], bas2.values[:,(m-1)], test_size = 0.25, random_state = 42)"
   ]
  },
  {
   "cell_type": "markdown",
   "metadata": {},
   "source": [
    "#### LASSO"
   ]
  },
  {
   "cell_type": "code",
   "execution_count": 32,
   "metadata": {},
   "outputs": [
    {
     "name": "stdout",
     "output_type": "stream",
     "text": [
      "                lasso_coef\n",
      "CHWST2                -0.0\n",
      "CTTR_ALARM             0.0\n",
      "CHWRT2                -0.0\n",
      "LOOPREQ                0.0\n",
      "CHWST                 -0.0\n",
      "OptimumControl         0.0\n",
      "CHWDP2                -0.0\n",
      "CHWRT                 -0.0\n",
      "OAWB                   0.0\n",
      "CHWFLO                 0.0\n",
      "OAT                    0.0\n",
      "CHWRT3                -0.0\n",
      "OAH                    0.0\n"
     ]
    }
   ],
   "source": [
    "reg_lasso = linear_model.Lasso()\n",
    "reg_lasso.fit(xtrain, ytrain)\n",
    "coef = reg_lasso.coef_\n",
    "lasso_coef = pd.DataFrame(coef, df_avg_scale.columns[:-1])\n",
    "#lasso_coef = lasso_coef[coef!=0]\n",
    "lasso_coef.columns = ['lasso_coef']\n",
    "print (lasso_coef)\n",
    "lc = lasso_coef.values.tolist()"
   ]
  },
  {
   "cell_type": "code",
   "execution_count": 33,
   "metadata": {},
   "outputs": [],
   "source": [
    "#reg_lasso = linear_model.Lasso()\n",
    "#reg_lasso.fit(x2train, y2train)\n",
    "#coef = reg_lasso.coef_\n",
    "#lasso_coef = pd.DataFrame(coef, bas2.columns[:-2])\n",
    "#lasso_coef = lasso_coef[coef!=0]\n",
    "#lasso_coef.columns = ['lasso_coef']\n",
    "#print (lasso_coef)\n",
    "#lc = lasso_coef.values.tolist()"
   ]
  },
  {
   "cell_type": "code",
   "execution_count": 34,
   "metadata": {},
   "outputs": [
    {
     "name": "stdout",
     "output_type": "stream",
     "text": [
      "-9.049967279994853e-05\n",
      "0.00045707592115280706\n"
     ]
    },
    {
     "data": {
      "image/png": "[encoded data removed]",
      "text/plain": [
       "<matplotlib.figure.Figure at 0x2008550b6a0>"
      ]
     },
     "metadata": {},
     "output_type": "display_data"
    }
   ],
   "source": [
    "y1las = cross_val_predict(reg_lasso, xtest, ytest)\n",
    "plt.scatter(ytest, y1las, color = 'cyan')\n",
    "plt.plot([ytest.min(), ytest.max()], [ytest.min(), ytest.max()], 'k--', lw=3, color = 'red')\n",
    "print (metrics.r2_score(ytest, y1las))\n",
    "print (metrics.mean_squared_error(ytest, y1las))"
   ]
  },
  {
   "cell_type": "code",
   "execution_count": 35,
   "metadata": {},
   "outputs": [],
   "source": [
    "#y2las = cross_val_predict(reg_lasso, x2test, y2test)\n",
    "#plt.scatter(y2test, y2las, color = 'cyan')\n",
    "#plt.plot([y2test.min(), y2test.max()], [y2test.min(), y2test.max()], 'k--', lw=3, color = 'red')\n",
    "#print (metrics.r2_score(y2test, y2las))\n",
    "#print (metrics.mean_squared_error(y2test, y2las))"
   ]
  },
  {
   "cell_type": "markdown",
   "metadata": {},
   "source": [
    "#### LINEAR REGRESSION"
   ]
  },
  {
   "cell_type": "code",
   "execution_count": 36,
   "metadata": {},
   "outputs": [
    {
     "data": {
      "text/html": [
       "<div>\n",
       "<style scoped>\n",
       "    .dataframe tbody tr th:only-of-type {\n",
       "        vertical-align: middle;\n",
       "    }\n",
       "\n",
       "    .dataframe tbody tr th {\n",
       "        vertical-align: top;\n",
       "    }\n",
       "\n",
       "    .dataframe thead th {\n",
       "        text-align: right;\n",
       "    }\n",
       "</style>\n",
       "<table border=\"1\" class=\"dataframe\">\n",
       "  <thead>\n",
       "    <tr style=\"text-align: right;\">\n",
       "      <th></th>\n",
       "      <th>linear_coef</th>\n",
       "    </tr>\n",
       "  </thead>\n",
       "  <tbody>\n",
       "    <tr>\n",
       "      <th>CHWST2</th>\n",
       "      <td>5.073634e-02</td>\n",
       "    </tr>\n",
       "    <tr>\n",
       "      <th>CTTR_ALARM</th>\n",
       "      <td>3.469447e-17</td>\n",
       "    </tr>\n",
       "    <tr>\n",
       "      <th>CHWRT2</th>\n",
       "      <td>4.466197e-02</td>\n",
       "    </tr>\n",
       "    <tr>\n",
       "      <th>LOOPREQ</th>\n",
       "      <td>-1.734723e-18</td>\n",
       "    </tr>\n",
       "    <tr>\n",
       "      <th>CHWST</th>\n",
       "      <td>-5.759470e-02</td>\n",
       "    </tr>\n",
       "    <tr>\n",
       "      <th>OptimumControl</th>\n",
       "      <td>1.387779e-17</td>\n",
       "    </tr>\n",
       "    <tr>\n",
       "      <th>CHWDP2</th>\n",
       "      <td>-1.036617e-02</td>\n",
       "    </tr>\n",
       "    <tr>\n",
       "      <th>CHWRT</th>\n",
       "      <td>4.665684e-02</td>\n",
       "    </tr>\n",
       "    <tr>\n",
       "      <th>OAWB</th>\n",
       "      <td>3.242858e-02</td>\n",
       "    </tr>\n",
       "    <tr>\n",
       "      <th>CHWFLO</th>\n",
       "      <td>-3.058946e-02</td>\n",
       "    </tr>\n",
       "    <tr>\n",
       "      <th>OAT</th>\n",
       "      <td>4.191624e-02</td>\n",
       "    </tr>\n",
       "    <tr>\n",
       "      <th>CHWRT3</th>\n",
       "      <td>-1.427872e-01</td>\n",
       "    </tr>\n",
       "    <tr>\n",
       "      <th>OAH</th>\n",
       "      <td>1.718526e-03</td>\n",
       "    </tr>\n",
       "  </tbody>\n",
       "</table>\n",
       "</div>"
      ],
      "text/plain": [
       "                 linear_coef\n",
       "CHWST2          5.073634e-02\n",
       "CTTR_ALARM      3.469447e-17\n",
       "CHWRT2          4.466197e-02\n",
       "LOOPREQ        -1.734723e-18\n",
       "CHWST          -5.759470e-02\n",
       "OptimumControl  1.387779e-17\n",
       "CHWDP2         -1.036617e-02\n",
       "CHWRT           4.665684e-02\n",
       "OAWB            3.242858e-02\n",
       "CHWFLO         -3.058946e-02\n",
       "OAT             4.191624e-02\n",
       "CHWRT3         -1.427872e-01\n",
       "OAH             1.718526e-03"
      ]
     },
     "execution_count": 36,
     "metadata": {},
     "output_type": "execute_result"
    }
   ],
   "source": [
    "reg1_linear = linear_model.LinearRegression()\n",
    "reg1_linear.fit(xtrain, ytrain)\n",
    "coef = reg1_linear.coef_\n",
    "linear_coef1 = pd.DataFrame(coef, df_avg_scale.columns[:-1])\n",
    "#linear_coef1 = linear_coef1[abs(coef) > 1e-02]\n",
    "linear_coef1.columns = ['linear_coef']\n",
    "linear_coef1"
   ]
  },
  {
   "cell_type": "code",
   "execution_count": 37,
   "metadata": {},
   "outputs": [],
   "source": [
    "#reg2_linear = linear_model.LinearRegression()\n",
    "#reg2_linear.fit(x2train, y2train)\n",
    "#coef = reg2_linear.coef_\n",
    "#linear_coef2 = pd.DataFrame(coef, bas2.columns[:-2])\n",
    "#linear_coef2 = linear_coef2[abs(coef) > 1e-02]\n",
    "#linear_coef2.columns = ['linear_coef']\n",
    "#linear_coef2"
   ]
  },
  {
   "cell_type": "code",
   "execution_count": 38,
   "metadata": {},
   "outputs": [
    {
     "data": {
      "text/html": [
       "<div>\n",
       "<style scoped>\n",
       "    .dataframe tbody tr th:only-of-type {\n",
       "        vertical-align: middle;\n",
       "    }\n",
       "\n",
       "    .dataframe tbody tr th {\n",
       "        vertical-align: top;\n",
       "    }\n",
       "\n",
       "    .dataframe thead th {\n",
       "        text-align: right;\n",
       "    }\n",
       "</style>\n",
       "<table border=\"1\" class=\"dataframe\">\n",
       "  <thead>\n",
       "    <tr style=\"text-align: right;\">\n",
       "      <th></th>\n",
       "      <th>linear_coef</th>\n",
       "    </tr>\n",
       "  </thead>\n",
       "  <tbody>\n",
       "    <tr>\n",
       "      <th>count</th>\n",
       "      <td>1.300000e+01</td>\n",
       "    </tr>\n",
       "    <tr>\n",
       "      <th>mean</th>\n",
       "      <td>-1.786077e-03</td>\n",
       "    </tr>\n",
       "    <tr>\n",
       "      <th>std</th>\n",
       "      <td>5.343555e-02</td>\n",
       "    </tr>\n",
       "    <tr>\n",
       "      <th>min</th>\n",
       "      <td>-1.427872e-01</td>\n",
       "    </tr>\n",
       "    <tr>\n",
       "      <th>25%</th>\n",
       "      <td>-1.036617e-02</td>\n",
       "    </tr>\n",
       "    <tr>\n",
       "      <th>50%</th>\n",
       "      <td>3.469447e-17</td>\n",
       "    </tr>\n",
       "    <tr>\n",
       "      <th>75%</th>\n",
       "      <td>4.191624e-02</td>\n",
       "    </tr>\n",
       "    <tr>\n",
       "      <th>max</th>\n",
       "      <td>5.073634e-02</td>\n",
       "    </tr>\n",
       "  </tbody>\n",
       "</table>\n",
       "</div>"
      ],
      "text/plain": [
       "        linear_coef\n",
       "count  1.300000e+01\n",
       "mean  -1.786077e-03\n",
       "std    5.343555e-02\n",
       "min   -1.427872e-01\n",
       "25%   -1.036617e-02\n",
       "50%    3.469447e-17\n",
       "75%    4.191624e-02\n",
       "max    5.073634e-02"
      ]
     },
     "execution_count": 38,
     "metadata": {},
     "output_type": "execute_result"
    }
   ],
   "source": [
    "linear_coef1.describe()"
   ]
  },
  {
   "cell_type": "code",
   "execution_count": 39,
   "metadata": {},
   "outputs": [],
   "source": [
    "#linear_coef2.describe()"
   ]
  },
  {
   "cell_type": "code",
   "execution_count": 40,
   "metadata": {},
   "outputs": [
    {
     "name": "stdout",
     "output_type": "stream",
     "text": [
      "0.32352969736067183\n",
      "0.0003091703068997752\n"
     ]
    },
    {
     "data": {
      "image/png": "[encoded data removed]",
      "text/plain": [
       "<matplotlib.figure.Figure at 0x2008a6b07b8>"
      ]
     },
     "metadata": {},
     "output_type": "display_data"
    }
   ],
   "source": [
    "ylin1 = cross_val_predict(reg1_linear, xtest, ytest, cv = 10)\n",
    "plt.scatter(ytest, ylin1)\n",
    "plt.plot([ytest.min(), ytest.max()], [ytest.min(), ytest.max()], 'k--', lw=3, color = 'red')\n",
    "print (metrics.r2_score(ytest, ylin1))\n",
    "print (metrics.mean_squared_error(ytest, ylin1))"
   ]
  },
  {
   "cell_type": "code",
   "execution_count": 41,
   "metadata": {},
   "outputs": [],
   "source": [
    "#ylin2 = cross_val_predict(reg2_linear, x2test, y2test, cv = 10)\n",
    "#plt.scatter(y1test, ylin1)\n",
    "#plt.plot([y2test.min(), y2test.max()], [y2test.min(), y2test.max()], 'k--', lw=3, color = 'red')\n",
    "#print (metrics.r2_score(y2test, ylin2))\n",
    "#print (metrics.mean_squared_error(y2test, ylin2))"
   ]
  }
 ],
 "metadata": {
  "kernelspec": {
   "display_name": "Python 3",
   "language": "python",
   "name": "python3"
  },
  "language_info": {
   "codemirror_mode": {
    "name": "ipython",
    "version": 3
   },
   "file_extension": ".py",
   "mimetype": "text/x-python",
   "name": "python",
   "nbconvert_exporter": "python",
   "pygments_lexer": "ipython3",
   "version": "3.5.4"
  }
 },
 "nbformat": 4,
 "nbformat_minor": 2
}
