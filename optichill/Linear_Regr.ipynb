{
 "cells": [
  {
   "cell_type": "code",
   "execution_count": 1,
   "metadata": {},
   "outputs": [],
   "source": [
    "import numpy as np\n",
    "import pandas as pd\n",
    "import matplotlib\n",
    "import matplotlib.pyplot as plt\n",
    "from sklearn import linear_model\n",
    "from sklearn.model_selection import train_test_split\n",
    "from sklearn.model_selection import cross_val_predict\n",
    "from sklearn import metrics\n",
    "import matplotlib.pyplot as plt\n",
    "from dataCleaning import bas_filter\n",
    "%matplotlib inline"
   ]
  },
  {
   "cell_type": "code",
   "execution_count": 5,
   "metadata": {},
   "outputs": [
    {
     "name": "stdout",
     "output_type": "stream",
     "text": [
      "['../..\\\\Plt1 m 2016-11.csv', '../..\\\\Plt1 m 2016-12.csv', '../..\\\\Plt1 m 2017-01.csv', '../..\\\\Plt1 m 2017-02.csv', '../..\\\\Plt1 m 2017-03.csv', '../..\\\\Plt1 m 2017-04.csv', '../..\\\\Plt1 m 2017-05.csv', '../..\\\\Plt1 m 2017-06.csv', '../..\\\\Plt1 m 2017-07.csv', '../..\\\\Plt1 m 2017-08.csv', '../..\\\\Plt1 m 2017-09.csv', '../..\\\\Plt1 m 2017-10.csv', '../..\\\\Plt1 m 2017-12.csv', '../..\\\\Plt1 m 2018-01.csv', '../..\\\\Plt1 m 2018-02.csv', '../..\\\\Plt1 m 2018-03.csv', '../..\\\\Plt1 m 2018-04.csv']\n",
      "CommunicationFailure_COV\n",
      "Original data contains 143240 points and 414 dimensions.\n",
      "Filtered data contains 136242 points and 66 dimensions.\n",
      "['../..\\\\Plt2 m 2017-07.csv', '../..\\\\Plt2 m 2017-08.csv', '../..\\\\Plt2 m 2017-09.csv', '../..\\\\Plt2 m 2017-10.csv', '../..\\\\Plt2 m 2017-11.csv', '../..\\\\Plt2 m 2017-12.csv', '../..\\\\Plt2 m 2018-01.csv', '../..\\\\Plt2 m 2018-02.csv', '../..\\\\Plt2 m 2018-03.csv', '../..\\\\Plt2 m 2018-04.csv']\n",
      "CHWPSPD2\n",
      "Original data contains 86497 points and 412 dimensions.\n",
      "Filtered data contains 83412 points and 39 dimensions.\n"
     ]
    }
   ],
   "source": [
    "bas1, key1 = bas_filter.import_and_filter('../..', 'Plt1 m', '../../Plt1 Points List.xlsx')\n",
    "bas2, key2 = bas_filter.import_and_filter('../..', 'Plt2 m', '../../Plt2 Points List.xlsx')\n",
    "#bas3, key3 = bas_filter.import_and_filter('../..', 'Plt3 m',  '../../Plt3 Points List.xlsx')"
   ]
  },
  {
   "cell_type": "code",
   "execution_count": 26,
   "metadata": {},
   "outputs": [
    {
     "data": {
      "text/plain": [
       "Index(['CDWVLV', 'CDWVLV2', 'CHkW', 'CHWDP2', 'CHWFLO', 'CHWRT', 'CHWRT2',\n",
       "       'CHWRT3', 'CHWST', 'CHWST2', 'CHWST3', 'CLGMODE',\n",
       "       'CommunicationFailure', 'CTTR_ALARM', 'HX1CDWRT', 'HX1CDWST',\n",
       "       'HX1CDWVLV', 'HX1CHWRT', 'HX1CHWST', 'HX1CHWVLV', 'LOOPREQ',\n",
       "       'MaxCHDPLift', 'MaxCHDTLift', 'MinCHDPLift', 'MinCHDTLift', 'OAH',\n",
       "       'OAT', 'OAWB', 'PCHWP3Failed', 'PCHWP3HZ', 'PCHWP3kW', 'PCHWP3S',\n",
       "       'PCHWP3SPD', 'PCHWP3SS', 'PCHWP4Failed', 'PCHWP4HZ', 'PCHWP4kW',\n",
       "       'PCHWP4S', 'PCHWP4SPD', 'PCHWP4SS', 'PCHWP5Failed', 'PCHWP5HZ',\n",
       "       'PCHWP5kW', 'PCHWP5S', 'PCHWP5SPD', 'PCHWP5SS', 'SCHWP3Failed',\n",
       "       'SCHWP3HZ', 'SCHWP3kW', 'SCHWP3S', 'SCHWP3SPD', 'SCHWP3SS',\n",
       "       'SCHWP4Failed', 'SCHWP4HZ', 'SCHWP4kW', 'SCHWP4S', 'SCHWP4SPD',\n",
       "       'SCHWP4SS', 'SCHWP5Failed', 'SCHWP5HZ', 'SCHWP5kW', 'SCHWP5S',\n",
       "       'SCHWP5SPD', 'SCHWP5SS', 'OptimumControl', 'kW/Ton'],\n",
       "      dtype='object')"
      ]
     },
     "execution_count": 26,
     "metadata": {},
     "output_type": "execute_result"
    }
   ],
   "source": [
    "bas1.columns"
   ]
  },
  {
   "cell_type": "code",
   "execution_count": 27,
   "metadata": {},
   "outputs": [
    {
     "data": {
      "text/plain": [
       "Index(['BASMODE', 'BASWATCHDOG', 'BTUMETERTONS', 'CDWBPV', 'CDWBVLV_Alarm',\n",
       "       'CDWDP', 'CDWFLO', 'CDWPTR_ALARM', 'CDWRP', 'CDWRT', 'CDWSP', 'CDWST',\n",
       "       'CHWBPV', 'CHWDP2', 'CHWDP3', 'CHWDP4', 'CHWDP5', 'CHWDP6', 'CHWFLO',\n",
       "       'CHWFLO2', 'CHWFLO3', 'CHWRP', 'CHWRT', 'CHWRT2', 'CHWRT3', 'CHWSP',\n",
       "       'CHWST', 'CHWST2', 'CLGREQD', 'COMLOSSBAS', 'CTTR_ALARM', 'LOOPREQ',\n",
       "       'OAH', 'OAT', 'OAWB', 'PCHWPTR_Alarm', 'RUNCTFAN_Alarm',\n",
       "       'OptimumControl', 'kW/Ton'],\n",
       "      dtype='object')"
      ]
     },
     "execution_count": 27,
     "metadata": {},
     "output_type": "execute_result"
    }
   ],
   "source": [
    "bas2.columns"
   ]
  },
  {
   "cell_type": "code",
   "execution_count": 28,
   "metadata": {},
   "outputs": [],
   "source": [
    "n = len(bas1.columns)"
   ]
  },
  {
   "cell_type": "code",
   "execution_count": 29,
   "metadata": {},
   "outputs": [],
   "source": [
    "m = len(bas2.columns)"
   ]
  },
  {
   "cell_type": "code",
   "execution_count": 37,
   "metadata": {},
   "outputs": [],
   "source": [
    "x1train, x1test, y1train, y1test = train_test_split(bas1.values[:, 0:(n-2)], bas1.values[:,(n-1)], test_size = 0.25, random_state = 42)"
   ]
  },
  {
   "cell_type": "code",
   "execution_count": 38,
   "metadata": {},
   "outputs": [],
   "source": [
    "x2train, x2test, y2train, y2test = train_test_split(bas2.values[:, 0:(m-2)], bas2.values[:,(m-1)], test_size = 0.25, random_state = 42)"
   ]
  },
  {
   "cell_type": "markdown",
   "metadata": {},
   "source": [
    "#### LASSO"
   ]
  },
  {
   "cell_type": "code",
   "execution_count": 40,
   "metadata": {},
   "outputs": [
    {
     "name": "stdout",
     "output_type": "stream",
     "text": [
      "      lasso_coef\n",
      "CHkW    0.002053\n"
     ]
    }
   ],
   "source": [
    "reg_lasso = linear_model.Lasso()\n",
    "reg_lasso.fit(x1train, y1train)\n",
    "coef = reg_lasso.coef_\n",
    "lasso_coef = pd.DataFrame(coef, bas1.columns[:-2])\n",
    "lasso_coef = lasso_coef[coef!=0]\n",
    "lasso_coef.columns = ['lasso_coef']\n",
    "print (lasso_coef)\n",
    "lc = lasso_coef.values.tolist()"
   ]
  },
  {
   "cell_type": "code",
   "execution_count": 42,
   "metadata": {},
   "outputs": [
    {
     "name": "stdout",
     "output_type": "stream",
     "text": [
      "              lasso_coef\n",
      "BTUMETERTONS   -0.000160\n",
      "CDWFLO          0.000008\n",
      "CHWFLO          0.000064\n",
      "CHWFLO2         0.000120\n"
     ]
    }
   ],
   "source": [
    "reg_lasso = linear_model.Lasso()\n",
    "reg_lasso.fit(x2train, y2train)\n",
    "coef = reg_lasso.coef_\n",
    "lasso_coef = pd.DataFrame(coef, bas2.columns[:-2])\n",
    "lasso_coef = lasso_coef[coef!=0]\n",
    "lasso_coef.columns = ['lasso_coef']\n",
    "print (lasso_coef)\n",
    "lc = lasso_coef.values.tolist()"
   ]
  },
  {
   "cell_type": "code",
   "execution_count": 46,
   "metadata": {},
   "outputs": [
    {
     "name": "stdout",
     "output_type": "stream",
     "text": [
      "0.8516390088699353\n",
      "0.0025371429969497377\n"
     ]
    },
    {
     "data": {
      "image/png": "[encoded data removed]",
      "text/plain": [
       "<matplotlib.figure.Figure at 0x24b819cb828>"
      ]
     },
     "metadata": {},
     "output_type": "display_data"
    }
   ],
   "source": [
    "y1las = cross_val_predict(reg_lasso, x1test, y1test)\n",
    "plt.scatter(y1test, y1las, color = 'cyan')\n",
    "plt.plot([y1test.min(), y1test.max()], [y1test.min(), y1test.max()], 'k--', lw=3, color = 'red')\n",
    "print (metrics.r2_score(y1test, y1las))\n",
    "print (metrics.mean_squared_error(y1test, y1las))"
   ]
  },
  {
   "cell_type": "code",
   "execution_count": 47,
   "metadata": {},
   "outputs": [
    {
     "name": "stdout",
     "output_type": "stream",
     "text": [
      "0.1203725966935465\n",
      "0.06783450204183418\n"
     ]
    },
    {
     "data": {
      "image/png": "[encoded data removed]",
      "text/plain": [
       "<matplotlib.figure.Figure at 0x24ba38530f0>"
      ]
     },
     "metadata": {},
     "output_type": "display_data"
    }
   ],
   "source": [
    "y2las = cross_val_predict(reg_lasso, x2test, y2test)\n",
    "plt.scatter(y2test, y2las, color = 'cyan')\n",
    "plt.plot([y2test.min(), y2test.max()], [y2test.min(), y2test.max()], 'k--', lw=3, color = 'red')\n",
    "print (metrics.r2_score(y2test, y2las))\n",
    "print (metrics.mean_squared_error(y2test, y2las))"
   ]
  },
  {
   "cell_type": "markdown",
   "metadata": {},
   "source": [
    "#### LINEAR REGRESSION"
   ]
  },
  {
   "cell_type": "code",
   "execution_count": 51,
   "metadata": {},
   "outputs": [
    {
     "data": {
      "text/html": [
       "<div>\n",
       "<style scoped>\n",
       "    .dataframe tbody tr th:only-of-type {\n",
       "        vertical-align: middle;\n",
       "    }\n",
       "\n",
       "    .dataframe tbody tr th {\n",
       "        vertical-align: top;\n",
       "    }\n",
       "\n",
       "    .dataframe thead th {\n",
       "        text-align: right;\n",
       "    }\n",
       "</style>\n",
       "<table border=\"1\" class=\"dataframe\">\n",
       "  <thead>\n",
       "    <tr style=\"text-align: right;\">\n",
       "      <th></th>\n",
       "      <th>linear_coef</th>\n",
       "    </tr>\n",
       "  </thead>\n",
       "  <tbody>\n",
       "    <tr>\n",
       "      <th>CDWVLV2</th>\n",
       "      <td>1.596151e+09</td>\n",
       "    </tr>\n",
       "    <tr>\n",
       "      <th>CHWRT</th>\n",
       "      <td>-1.348031e-02</td>\n",
       "    </tr>\n",
       "    <tr>\n",
       "      <th>CHWST</th>\n",
       "      <td>1.663003e-02</td>\n",
       "    </tr>\n",
       "    <tr>\n",
       "      <th>CLGMODE</th>\n",
       "      <td>6.687193e+07</td>\n",
       "    </tr>\n",
       "    <tr>\n",
       "      <th>CommunicationFailure</th>\n",
       "      <td>5.712598e+07</td>\n",
       "    </tr>\n",
       "    <tr>\n",
       "      <th>CTTR_ALARM</th>\n",
       "      <td>4.054382e+07</td>\n",
       "    </tr>\n",
       "    <tr>\n",
       "      <th>HX1CDWVLV</th>\n",
       "      <td>4.757083e+07</td>\n",
       "    </tr>\n",
       "    <tr>\n",
       "      <th>HX1CHWVLV</th>\n",
       "      <td>-5.681738e+05</td>\n",
       "    </tr>\n",
       "    <tr>\n",
       "      <th>LOOPREQ</th>\n",
       "      <td>-2.861640e+05</td>\n",
       "    </tr>\n",
       "    <tr>\n",
       "      <th>MaxCHDTLift</th>\n",
       "      <td>1.343562e-02</td>\n",
       "    </tr>\n",
       "    <tr>\n",
       "      <th>MinCHDTLift</th>\n",
       "      <td>-1.237101e-02</td>\n",
       "    </tr>\n",
       "    <tr>\n",
       "      <th>PCHWP3Failed</th>\n",
       "      <td>-1.680489e+06</td>\n",
       "    </tr>\n",
       "    <tr>\n",
       "      <th>PCHWP3kW</th>\n",
       "      <td>-3.040718e-02</td>\n",
       "    </tr>\n",
       "    <tr>\n",
       "      <th>PCHWP3S</th>\n",
       "      <td>-5.201776e-02</td>\n",
       "    </tr>\n",
       "    <tr>\n",
       "      <th>PCHWP4Failed</th>\n",
       "      <td>1.306085e+05</td>\n",
       "    </tr>\n",
       "    <tr>\n",
       "      <th>PCHWP4kW</th>\n",
       "      <td>-3.584480e-02</td>\n",
       "    </tr>\n",
       "    <tr>\n",
       "      <th>PCHWP4S</th>\n",
       "      <td>-1.178420e-01</td>\n",
       "    </tr>\n",
       "    <tr>\n",
       "      <th>PCHWP4SS</th>\n",
       "      <td>-1.170547e-01</td>\n",
       "    </tr>\n",
       "    <tr>\n",
       "      <th>PCHWP5Failed</th>\n",
       "      <td>6.643139e+02</td>\n",
       "    </tr>\n",
       "    <tr>\n",
       "      <th>PCHWP5HZ</th>\n",
       "      <td>1.216996e-02</td>\n",
       "    </tr>\n",
       "    <tr>\n",
       "      <th>PCHWP5kW</th>\n",
       "      <td>2.123401e-02</td>\n",
       "    </tr>\n",
       "    <tr>\n",
       "      <th>PCHWP5S</th>\n",
       "      <td>1.246925e-01</td>\n",
       "    </tr>\n",
       "    <tr>\n",
       "      <th>PCHWP5SS</th>\n",
       "      <td>-7.701499e-02</td>\n",
       "    </tr>\n",
       "    <tr>\n",
       "      <th>SCHWP3Failed</th>\n",
       "      <td>-5.798433e+03</td>\n",
       "    </tr>\n",
       "    <tr>\n",
       "      <th>SCHWP3kW</th>\n",
       "      <td>3.380521e-02</td>\n",
       "    </tr>\n",
       "    <tr>\n",
       "      <th>SCHWP3S</th>\n",
       "      <td>-1.574838e-02</td>\n",
       "    </tr>\n",
       "    <tr>\n",
       "      <th>SCHWP4kW</th>\n",
       "      <td>-7.954583e-02</td>\n",
       "    </tr>\n",
       "    <tr>\n",
       "      <th>SCHWP5kW</th>\n",
       "      <td>-3.035083e-02</td>\n",
       "    </tr>\n",
       "    <tr>\n",
       "      <th>SCHWP5S</th>\n",
       "      <td>2.152805e-01</td>\n",
       "    </tr>\n",
       "    <tr>\n",
       "      <th>SCHWP5SS</th>\n",
       "      <td>-1.634452e-01</td>\n",
       "    </tr>\n",
       "  </tbody>\n",
       "</table>\n",
       "</div>"
      ],
      "text/plain": [
       "                       linear_coef\n",
       "CDWVLV2               1.596151e+09\n",
       "CHWRT                -1.348031e-02\n",
       "CHWST                 1.663003e-02\n",
       "CLGMODE               6.687193e+07\n",
       "CommunicationFailure  5.712598e+07\n",
       "CTTR_ALARM            4.054382e+07\n",
       "HX1CDWVLV             4.757083e+07\n",
       "HX1CHWVLV            -5.681738e+05\n",
       "LOOPREQ              -2.861640e+05\n",
       "MaxCHDTLift           1.343562e-02\n",
       "MinCHDTLift          -1.237101e-02\n",
       "PCHWP3Failed         -1.680489e+06\n",
       "PCHWP3kW             -3.040718e-02\n",
       "PCHWP3S              -5.201776e-02\n",
       "PCHWP4Failed          1.306085e+05\n",
       "PCHWP4kW             -3.584480e-02\n",
       "PCHWP4S              -1.178420e-01\n",
       "PCHWP4SS             -1.170547e-01\n",
       "PCHWP5Failed          6.643139e+02\n",
       "PCHWP5HZ              1.216996e-02\n",
       "PCHWP5kW              2.123401e-02\n",
       "PCHWP5S               1.246925e-01\n",
       "PCHWP5SS             -7.701499e-02\n",
       "SCHWP3Failed         -5.798433e+03\n",
       "SCHWP3kW              3.380521e-02\n",
       "SCHWP3S              -1.574838e-02\n",
       "SCHWP4kW             -7.954583e-02\n",
       "SCHWP5kW             -3.035083e-02\n",
       "SCHWP5S               2.152805e-01\n",
       "SCHWP5SS             -1.634452e-01"
      ]
     },
     "execution_count": 51,
     "metadata": {},
     "output_type": "execute_result"
    }
   ],
   "source": [
    "reg1_linear = linear_model.LinearRegression()\n",
    "reg1_linear.fit(x1train, y1train)\n",
    "coef = reg1_linear.coef_\n",
    "linear_coef1 = pd.DataFrame(coef, bas1.columns[:-2])\n",
    "linear_coef1 = linear_coef1[abs(coef) > 1e-02]\n",
    "linear_coef1.columns = ['linear_coef']\n",
    "linear_coef1"
   ]
  },
  {
   "cell_type": "code",
   "execution_count": 52,
   "metadata": {},
   "outputs": [
    {
     "data": {
      "text/html": [
       "<div>\n",
       "<style scoped>\n",
       "    .dataframe tbody tr th:only-of-type {\n",
       "        vertical-align: middle;\n",
       "    }\n",
       "\n",
       "    .dataframe tbody tr th {\n",
       "        vertical-align: top;\n",
       "    }\n",
       "\n",
       "    .dataframe thead th {\n",
       "        text-align: right;\n",
       "    }\n",
       "</style>\n",
       "<table border=\"1\" class=\"dataframe\">\n",
       "  <thead>\n",
       "    <tr style=\"text-align: right;\">\n",
       "      <th></th>\n",
       "      <th>linear_coef</th>\n",
       "    </tr>\n",
       "  </thead>\n",
       "  <tbody>\n",
       "    <tr>\n",
       "      <th>BASMODE</th>\n",
       "      <td>-0.231612</td>\n",
       "    </tr>\n",
       "    <tr>\n",
       "      <th>CDWRP</th>\n",
       "      <td>-0.039241</td>\n",
       "    </tr>\n",
       "    <tr>\n",
       "      <th>CDWRT</th>\n",
       "      <td>0.015032</td>\n",
       "    </tr>\n",
       "    <tr>\n",
       "      <th>CDWSP</th>\n",
       "      <td>0.011161</td>\n",
       "    </tr>\n",
       "    <tr>\n",
       "      <th>CHWRT</th>\n",
       "      <td>-0.067699</td>\n",
       "    </tr>\n",
       "    <tr>\n",
       "      <th>CHWRT2</th>\n",
       "      <td>0.071684</td>\n",
       "    </tr>\n",
       "    <tr>\n",
       "      <th>CHWRT3</th>\n",
       "      <td>-0.015393</td>\n",
       "    </tr>\n",
       "    <tr>\n",
       "      <th>CHWST</th>\n",
       "      <td>-0.015118</td>\n",
       "    </tr>\n",
       "  </tbody>\n",
       "</table>\n",
       "</div>"
      ],
      "text/plain": [
       "         linear_coef\n",
       "BASMODE    -0.231612\n",
       "CDWRP      -0.039241\n",
       "CDWRT       0.015032\n",
       "CDWSP       0.011161\n",
       "CHWRT      -0.067699\n",
       "CHWRT2      0.071684\n",
       "CHWRT3     -0.015393\n",
       "CHWST      -0.015118"
      ]
     },
     "execution_count": 52,
     "metadata": {},
     "output_type": "execute_result"
    }
   ],
   "source": [
    "reg2_linear = linear_model.LinearRegression()\n",
    "reg2_linear.fit(x2train, y2train)\n",
    "coef = reg2_linear.coef_\n",
    "linear_coef2 = pd.DataFrame(coef, bas2.columns[:-2])\n",
    "linear_coef2 = linear_coef2[abs(coef) > 1e-02]\n",
    "linear_coef2.columns = ['linear_coef']\n",
    "linear_coef2"
   ]
  },
  {
   "cell_type": "code",
   "execution_count": 53,
   "metadata": {},
   "outputs": [
    {
     "data": {
      "text/html": [
       "<div>\n",
       "<style scoped>\n",
       "    .dataframe tbody tr th:only-of-type {\n",
       "        vertical-align: middle;\n",
       "    }\n",
       "\n",
       "    .dataframe tbody tr th {\n",
       "        vertical-align: top;\n",
       "    }\n",
       "\n",
       "    .dataframe thead th {\n",
       "        text-align: right;\n",
       "    }\n",
       "</style>\n",
       "<table border=\"1\" class=\"dataframe\">\n",
       "  <thead>\n",
       "    <tr style=\"text-align: right;\">\n",
       "      <th></th>\n",
       "      <th>linear_coef</th>\n",
       "    </tr>\n",
       "  </thead>\n",
       "  <tbody>\n",
       "    <tr>\n",
       "      <th>count</th>\n",
       "      <td>3.000000e+01</td>\n",
       "    </tr>\n",
       "    <tr>\n",
       "      <th>mean</th>\n",
       "      <td>6.019513e+07</td>\n",
       "    </tr>\n",
       "    <tr>\n",
       "      <th>std</th>\n",
       "      <td>2.906971e+08</td>\n",
       "    </tr>\n",
       "    <tr>\n",
       "      <th>min</th>\n",
       "      <td>-1.680489e+06</td>\n",
       "    </tr>\n",
       "    <tr>\n",
       "      <th>25%</th>\n",
       "      <td>-7.891312e-02</td>\n",
       "    </tr>\n",
       "    <tr>\n",
       "      <th>50%</th>\n",
       "      <td>-1.292566e-02</td>\n",
       "    </tr>\n",
       "    <tr>\n",
       "      <th>75%</th>\n",
       "      <td>1.926335e-01</td>\n",
       "    </tr>\n",
       "    <tr>\n",
       "      <th>max</th>\n",
       "      <td>1.596151e+09</td>\n",
       "    </tr>\n",
       "  </tbody>\n",
       "</table>\n",
       "</div>"
      ],
      "text/plain": [
       "        linear_coef\n",
       "count  3.000000e+01\n",
       "mean   6.019513e+07\n",
       "std    2.906971e+08\n",
       "min   -1.680489e+06\n",
       "25%   -7.891312e-02\n",
       "50%   -1.292566e-02\n",
       "75%    1.926335e-01\n",
       "max    1.596151e+09"
      ]
     },
     "execution_count": 53,
     "metadata": {},
     "output_type": "execute_result"
    }
   ],
   "source": [
    "linear_coef1.describe()"
   ]
  },
  {
   "cell_type": "code",
   "execution_count": 54,
   "metadata": {},
   "outputs": [
    {
     "data": {
      "text/html": [
       "<div>\n",
       "<style scoped>\n",
       "    .dataframe tbody tr th:only-of-type {\n",
       "        vertical-align: middle;\n",
       "    }\n",
       "\n",
       "    .dataframe tbody tr th {\n",
       "        vertical-align: top;\n",
       "    }\n",
       "\n",
       "    .dataframe thead th {\n",
       "        text-align: right;\n",
       "    }\n",
       "</style>\n",
       "<table border=\"1\" class=\"dataframe\">\n",
       "  <thead>\n",
       "    <tr style=\"text-align: right;\">\n",
       "      <th></th>\n",
       "      <th>linear_coef</th>\n",
       "    </tr>\n",
       "  </thead>\n",
       "  <tbody>\n",
       "    <tr>\n",
       "      <th>count</th>\n",
       "      <td>8.000000</td>\n",
       "    </tr>\n",
       "    <tr>\n",
       "      <th>mean</th>\n",
       "      <td>-0.033898</td>\n",
       "    </tr>\n",
       "    <tr>\n",
       "      <th>std</th>\n",
       "      <td>0.089864</td>\n",
       "    </tr>\n",
       "    <tr>\n",
       "      <th>min</th>\n",
       "      <td>-0.231612</td>\n",
       "    </tr>\n",
       "    <tr>\n",
       "      <th>25%</th>\n",
       "      <td>-0.046355</td>\n",
       "    </tr>\n",
       "    <tr>\n",
       "      <th>50%</th>\n",
       "      <td>-0.015255</td>\n",
       "    </tr>\n",
       "    <tr>\n",
       "      <th>75%</th>\n",
       "      <td>0.012129</td>\n",
       "    </tr>\n",
       "    <tr>\n",
       "      <th>max</th>\n",
       "      <td>0.071684</td>\n",
       "    </tr>\n",
       "  </tbody>\n",
       "</table>\n",
       "</div>"
      ],
      "text/plain": [
       "       linear_coef\n",
       "count     8.000000\n",
       "mean     -0.033898\n",
       "std       0.089864\n",
       "min      -0.231612\n",
       "25%      -0.046355\n",
       "50%      -0.015255\n",
       "75%       0.012129\n",
       "max       0.071684"
      ]
     },
     "execution_count": 54,
     "metadata": {},
     "output_type": "execute_result"
    }
   ],
   "source": [
    "linear_coef2.describe()"
   ]
  },
  {
   "cell_type": "code",
   "execution_count": 58,
   "metadata": {},
   "outputs": [
    {
     "name": "stdout",
     "output_type": "stream",
     "text": [
      "0.9564920101104729\n",
      "0.0007440364951646943\n"
     ]
    },
    {
     "data": {
      "image/png": "[encoded data removed]",
      "text/plain": [
       "<matplotlib.figure.Figure at 0x24b8070a9e8>"
      ]
     },
     "metadata": {},
     "output_type": "display_data"
    }
   ],
   "source": [
    "ylin1 = cross_val_predict(reg1_linear, x1test, y1test, cv = 10)\n",
    "plt.scatter(y1test, ylin1)\n",
    "plt.plot([y1test.min(), y1test.max()], [y1test.min(), y1test.max()], 'k--', lw=3, color = 'red')\n",
    "print (metrics.r2_score(y1test, ylin1))\n",
    "print (metrics.mean_squared_error(y1test, ylin1))"
   ]
  },
  {
   "cell_type": "code",
   "execution_count": 59,
   "metadata": {},
   "outputs": [
    {
     "name": "stdout",
     "output_type": "stream",
     "text": [
      "0.21851886525977682\n",
      "0.06026572550027971\n"
     ]
    },
    {
     "data": {
      "image/png": "[encoded data removed]",
      "text/plain": [
       "<matplotlib.figure.Figure at 0x24b808aa860>"
      ]
     },
     "metadata": {},
     "output_type": "display_data"
    }
   ],
   "source": [
    "ylin2 = cross_val_predict(reg2_linear, x2test, y2test, cv = 10)\n",
    "plt.scatter(y1test, ylin1)\n",
    "plt.plot([y2test.min(), y2test.max()], [y2test.min(), y2test.max()], 'k--', lw=3, color = 'red')\n",
    "print (metrics.r2_score(y2test, ylin2))\n",
    "print (metrics.mean_squared_error(y2test, ylin2))"
   ]
  },
  {
   "cell_type": "code",
   "execution_count": null,
   "metadata": {},
   "outputs": [],
   "source": []
  }
 ],
 "metadata": {
  "kernelspec": {
   "display_name": "Python 3",
   "language": "python",
   "name": "python3"
  },
  "language_info": {
   "codemirror_mode": {
    "name": "ipython",
    "version": 3
   },
   "file_extension": ".py",
   "mimetype": "text/x-python",
   "name": "python",
   "nbconvert_exporter": "python",
   "pygments_lexer": "ipython3",
   "version": "3.5.4"
  }
 },
 "nbformat": 4,
 "nbformat_minor": 2
}
