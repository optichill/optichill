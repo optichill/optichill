{
 "cells": [
  {
   "cell_type": "markdown",
   "metadata": {},
   "source": [
    "Gradient Boosted Machines trained on data subsets"
   ]
  },
  {
   "cell_type": "code",
   "execution_count": null,
   "metadata": {},
   "outputs": [],
   "source": [
    "import pandas as pd\n",
    "import numpy as np\n",
    "from sklearn.cross_validation import train_test_split\n",
    "#from sklearn.tree import DecisionTreeRegressor\n",
    "#from sklearn import tree\n",
    "from sklearn import metrics\n",
    "#from sklearn.ensemble import ExtraTreesRegressor\n",
    "from sklearn.ensemble import GradientBoostingRegressor\n",
    "import matplotlib.pyplot as plt\n",
    "from sklearn.metrics import mean_squared_error\n",
    "from sklearn.metrics import r2_score\n",
    "#from sklearn.utils import shuffle\n",
    "import seaborn as sns\n",
    "import glob\n",
    "import os\n",
    "from dataCleaning import bas_filter\n",
    "%matplotlib inline"
   ]
  },
  {
   "cell_type": "markdown",
   "metadata": {},
   "source": [
    "# Winter 2016-2017 Training Data"
   ]
  },
  {
   "cell_type": "markdown",
   "metadata": {},
   "source": [
    "Trained plant with 2016-2017 November, December, January minute data\n",
    "Tested data from the rest of the year"
   ]
  },
  {
   "cell_type": "code",
   "execution_count": 2,
   "metadata": {},
   "outputs": [],
   "source": [
    "lst_train = ['Plt1 m 2016-11.csv', 'Plt1 m 2016-11.csv', 'Plt1 m 2017-01.csv']\n",
    "lst_test = [\n",
    "    'Plt1 m 2017-02.csv', 'Plt1 m 2017-03.csv', 'Plt1 m 2017-04.csv',\n",
    "    'Plt1 m 2017-05.csv', 'Plt1 m 2017-06.csv', 'Plt1 m 2017-07.csv',\n",
    "    'Plt1 m 2017-08.csv', 'Plt1 m 2017-09.csv', 'Plt1 m 2017-10.csv'\n",
    "]"
   ]
  },
  {
   "cell_type": "code",
   "execution_count": 4,
   "metadata": {
    "scrolled": true
   },
   "outputs": [
    {
     "name": "stdout",
     "output_type": "stream",
     "text": [
      "Filtering Training Set\n",
      "['../../Plt1\\\\Plt1 m 2016-11.csv']\n",
      "['../../Plt1\\\\Plt1 m 2016-11.csv']\n",
      "['../../Plt1\\\\Plt1 m 2017-01.csv']\n",
      "Descriptors in the points list that are not in the datasets.\n",
      "CommunicationFailure_COV\n",
      "CH3COM1F\n",
      "CH3Ready\n",
      "CH4COM1F\n",
      "CH4Ready\n",
      "CH4SURGE\n",
      "CH5COM1F\n",
      "CH5Ready\n",
      "Original data contains 23839 points and 412 dimensions.\n",
      "A CDWP3SPD_Alarm was noted and 30 datapoints were removed from the dataset.\n",
      "A CDWP4SPD_Alarm was noted and 11326 datapoints were removed from the dataset.\n",
      "A CDWP5SPD_Alarm was noted and 3598 datapoints were removed from the dataset.\n",
      "Filtered data contains 5020 points and 164 dimensions.\n",
      "Filtering Test Set\n",
      "['../../Plt1\\\\Plt1 m 2017-02.csv']\n",
      "['../../Plt1\\\\Plt1 m 2017-03.csv']\n",
      "['../../Plt1\\\\Plt1 m 2017-04.csv']\n",
      "['../../Plt1\\\\Plt1 m 2017-05.csv']\n",
      "['../../Plt1\\\\Plt1 m 2017-06.csv']\n",
      "['../../Plt1\\\\Plt1 m 2017-07.csv']\n",
      "['../../Plt1\\\\Plt1 m 2017-08.csv']\n",
      "['../../Plt1\\\\Plt1 m 2017-09.csv']\n",
      "['../../Plt1\\\\Plt1 m 2017-10.csv']\n",
      "Descriptors in the points list that are not in the datasets.\n",
      "CommunicationFailure_COV\n",
      "CH3COM1F\n",
      "CH3Ready\n",
      "CH4COM1F\n",
      "CH4Ready\n",
      "CH4SURGE\n",
      "CH5COM1F\n",
      "CH5Ready\n",
      "Original data contains 78618 points and 413 dimensions.\n",
      "A CDWP3SPD_Alarm was noted and 15217 datapoints were removed from the dataset.\n",
      "A CDWP4SPD_Alarm was noted and 1392 datapoints were removed from the dataset.\n",
      "A CDWP5SPD_Alarm was noted and 20778 datapoints were removed from the dataset.\n",
      "A CH3_CHWSTSP_Alarm was noted and 6 datapoints were removed from the dataset.\n",
      "A CH3ALARM was noted and 3634 datapoints were removed from the dataset.\n",
      "A CH4ALARM was noted and 38 datapoints were removed from the dataset.\n",
      "A CH4F was noted and 3804 datapoints were removed from the dataset.\n",
      "A CT5SPD_Alarm was noted and 3 datapoints were removed from the dataset.\n",
      "A CTTR_ALARM was noted and 393 datapoints were removed from the dataset.\n",
      "A PCHWP3Failed was noted and 793 datapoints were removed from the dataset.\n",
      "Filtered data contains 30762 points and 164 dimensions.\n"
     ]
    },
    {
     "data": {
      "text/plain": [
       "(30762, 164)"
      ]
     },
     "execution_count": 4,
     "metadata": {},
     "output_type": "execute_result"
    }
   ],
   "source": [
    "df_train, df_test = bas_filter.train_single_plt(\n",
    "    '../../Plt1', lst_train, lst_test,\n",
    "    '../../Plt1/Plt1 Points List.xlsx',\n",
    "    include_alarms=False, dim_remove=['CHWST', 'CDWVLV']\n",
    ")\n",
    "df_test.shape"
   ]
  },
  {
   "cell_type": "code",
   "execution_count": 8,
   "metadata": {
    "scrolled": true
   },
   "outputs": [
    {
     "data": {
      "text/plain": [
       "<matplotlib.collections.PathCollection at 0x1d302fa02b0>"
      ]
     },
     "execution_count": 8,
     "metadata": {},
     "output_type": "execute_result"
    },
    {
     "data": {
      "image/png": "[encoded data removed]",
      "text/plain": [
       "<matplotlib.figure.Figure at 0x1d303e0ea58>"
      ]
     },
     "metadata": {},
     "output_type": "display_data"
    }
   ],
   "source": [
    "plt.scatter(df_train['kW/Ton'], df_train['kW/Ton'])"
   ]
  },
  {
   "cell_type": "code",
   "execution_count": 9,
   "metadata": {},
   "outputs": [
    {
     "data": {
      "text/plain": [
       "<matplotlib.collections.PathCollection at 0x1d304687be0>"
      ]
     },
     "execution_count": 9,
     "metadata": {},
     "output_type": "execute_result"
    },
    {
     "data": {
      "image/png": "[encoded data removed]",
      "text/plain": [
       "<matplotlib.figure.Figure at 0x1d301f29208>"
      ]
     },
     "metadata": {},
     "output_type": "display_data"
    }
   ],
   "source": [
    "plt.scatter(df_test['kW/Ton'], df_test['kW/Ton'])"
   ]
  },
  {
   "cell_type": "code",
   "execution_count": 5,
   "metadata": {},
   "outputs": [],
   "source": [
    "params = {'n_estimators': 500, 'max_depth': 6, 'min_samples_split': 2,\n",
    "          'learning_rate': 0.01, 'loss': 'ls'}"
   ]
  },
  {
   "cell_type": "code",
   "execution_count": 6,
   "metadata": {},
   "outputs": [],
   "source": [
    "model_winter = GradientBoostingRegressor(**params)"
   ]
  },
  {
   "cell_type": "code",
   "execution_count": 44,
   "metadata": {},
   "outputs": [],
   "source": [
    "ytrain = df_train['kW/Ton'].values\n",
    "ytest = df_test['kW/Ton'].values\n",
    "xtrain = df_train.drop(['kW/Ton'], axis=1).values\n",
    "xtest = df_test.drop(['kW/Ton'], axis=1).values"
   ]
  },
  {
   "cell_type": "code",
   "execution_count": 45,
   "metadata": {},
   "outputs": [
    {
     "data": {
      "text/plain": [
       "(5020, 163)"
      ]
     },
     "execution_count": 45,
     "metadata": {},
     "output_type": "execute_result"
    }
   ],
   "source": [
    "xtrain.shape"
   ]
  },
  {
   "cell_type": "code",
   "execution_count": 46,
   "metadata": {},
   "outputs": [
    {
     "data": {
      "text/plain": [
       "(5020,)"
      ]
     },
     "execution_count": 46,
     "metadata": {},
     "output_type": "execute_result"
    }
   ],
   "source": [
    "ytrain.shape"
   ]
  },
  {
   "cell_type": "code",
   "execution_count": 47,
   "metadata": {},
   "outputs": [
    {
     "data": {
      "text/plain": [
       "GradientBoostingRegressor(alpha=0.9, criterion='friedman_mse', init=None,\n",
       "             learning_rate=0.01, loss='ls', max_depth=6, max_features=None,\n",
       "             max_leaf_nodes=None, min_impurity_decrease=0.0,\n",
       "             min_impurity_split=None, min_samples_leaf=1,\n",
       "             min_samples_split=2, min_weight_fraction_leaf=0.0,\n",
       "             n_estimators=500, presort='auto', random_state=None,\n",
       "             subsample=1.0, verbose=0, warm_start=False)"
      ]
     },
     "execution_count": 47,
     "metadata": {},
     "output_type": "execute_result"
    }
   ],
   "source": [
    "model_winter.fit(xtrain, ytrain)"
   ]
  },
  {
   "cell_type": "code",
   "execution_count": 48,
   "metadata": {},
   "outputs": [],
   "source": [
    "ypred = model_winter.predict(xtest)"
   ]
  },
  {
   "cell_type": "code",
   "execution_count": 53,
   "metadata": {
    "scrolled": true
   },
   "outputs": [
    {
     "data": {
      "image/png": "[encoded data removed]",
      "text/plain": [
       "<matplotlib.figure.Figure at 0x1d304c3a978>"
      ]
     },
     "metadata": {},
     "output_type": "display_data"
    }
   ],
   "source": [
    "sns.set()\n",
    "plt.figure()\n",
    "plt.scatter(ytest, ypred)\n",
    "fs = 20\n",
    "plt.title(\"Winter 2016-2017 Training Data\", fontsize=fs)\n",
    "plt.xlabel(\"Experimental Data\", fontsize=fs-4)\n",
    "plt.ylabel(\"Model Predictions\", fontsize=fs-4)\n",
    "plt.savefig('r2_values_winter.png', bbox_inches='tight')"
   ]
  },
  {
   "cell_type": "markdown",
   "metadata": {},
   "source": [
    "R2 value"
   ]
  },
  {
   "cell_type": "code",
   "execution_count": 54,
   "metadata": {},
   "outputs": [
    {
     "data": {
      "text/plain": [
       "0.7272486602371028"
      ]
     },
     "execution_count": 54,
     "metadata": {},
     "output_type": "execute_result"
    }
   ],
   "source": [
    "test_score = r2_score(ytest, ypred)\n",
    "test_score"
   ]
  },
  {
   "cell_type": "markdown",
   "metadata": {},
   "source": [
    "Feature Importance"
   ]
  },
  {
   "cell_type": "code",
   "execution_count": 59,
   "metadata": {},
   "outputs": [],
   "source": [
    "feature_importance = model_winter.feature_importances_\n",
    "feature_importance = 100.0 * (feature_importance / feature_importance.max())\n",
    "sorted_idx = np.argsort(feature_importance)\n",
    "pos = np.arange(sorted_idx.shape[0]) + .5\n",
    "x = df_test.drop(['kW/Ton'], axis=1).columns[sorted_idx]\n",
    "imp = feature_importance[sorted_idx]"
   ]
  },
  {
   "cell_type": "code",
   "execution_count": 60,
   "metadata": {},
   "outputs": [],
   "source": [
    "df_feats = pd.DataFrame({'feature_name': x, 'feat_import': imp})"
   ]
  },
  {
   "cell_type": "code",
   "execution_count": 61,
   "metadata": {},
   "outputs": [
    {
     "data": {
      "text/html": [
       "<div>\n",
       "<style scoped>\n",
       "    .dataframe tbody tr th:only-of-type {\n",
       "        vertical-align: middle;\n",
       "    }\n",
       "\n",
       "    .dataframe tbody tr th {\n",
       "        vertical-align: top;\n",
       "    }\n",
       "\n",
       "    .dataframe thead th {\n",
       "        text-align: right;\n",
       "    }\n",
       "</style>\n",
       "<table border=\"1\" class=\"dataframe\">\n",
       "  <thead>\n",
       "    <tr style=\"text-align: right;\">\n",
       "      <th></th>\n",
       "      <th>feat_import</th>\n",
       "      <th>feature_name</th>\n",
       "    </tr>\n",
       "  </thead>\n",
       "  <tbody>\n",
       "    <tr>\n",
       "      <th>0</th>\n",
       "      <td>0.000000</td>\n",
       "      <td>CDWVLV2</td>\n",
       "    </tr>\n",
       "    <tr>\n",
       "      <th>1</th>\n",
       "      <td>0.000000</td>\n",
       "      <td>SCHWP3SS</td>\n",
       "    </tr>\n",
       "    <tr>\n",
       "      <th>2</th>\n",
       "      <td>0.000000</td>\n",
       "      <td>SCHWP4S</td>\n",
       "    </tr>\n",
       "    <tr>\n",
       "      <th>3</th>\n",
       "      <td>0.000000</td>\n",
       "      <td>SCHWP4SS</td>\n",
       "    </tr>\n",
       "    <tr>\n",
       "      <th>4</th>\n",
       "      <td>0.000000</td>\n",
       "      <td>CDWP3SS</td>\n",
       "    </tr>\n",
       "    <tr>\n",
       "      <th>5</th>\n",
       "      <td>0.000000</td>\n",
       "      <td>CDWP5S</td>\n",
       "    </tr>\n",
       "    <tr>\n",
       "      <th>6</th>\n",
       "      <td>0.000000</td>\n",
       "      <td>CT4EVLV</td>\n",
       "    </tr>\n",
       "    <tr>\n",
       "      <th>7</th>\n",
       "      <td>0.000000</td>\n",
       "      <td>CT4S</td>\n",
       "    </tr>\n",
       "    <tr>\n",
       "      <th>8</th>\n",
       "      <td>0.000000</td>\n",
       "      <td>CT4SS</td>\n",
       "    </tr>\n",
       "    <tr>\n",
       "      <th>9</th>\n",
       "      <td>0.000000</td>\n",
       "      <td>CH3AVAIL</td>\n",
       "    </tr>\n",
       "    <tr>\n",
       "      <th>10</th>\n",
       "      <td>0.000000</td>\n",
       "      <td>CH3CHWVLV</td>\n",
       "    </tr>\n",
       "    <tr>\n",
       "      <th>11</th>\n",
       "      <td>0.000000</td>\n",
       "      <td>CH3COM1SPD</td>\n",
       "    </tr>\n",
       "    <tr>\n",
       "      <th>12</th>\n",
       "      <td>0.000000</td>\n",
       "      <td>SCHWP3S</td>\n",
       "    </tr>\n",
       "    <tr>\n",
       "      <th>13</th>\n",
       "      <td>0.000000</td>\n",
       "      <td>CH3FLA</td>\n",
       "    </tr>\n",
       "    <tr>\n",
       "      <th>14</th>\n",
       "      <td>0.000000</td>\n",
       "      <td>CH3S</td>\n",
       "    </tr>\n",
       "    <tr>\n",
       "      <th>15</th>\n",
       "      <td>0.000000</td>\n",
       "      <td>CH3SBoolean</td>\n",
       "    </tr>\n",
       "    <tr>\n",
       "      <th>16</th>\n",
       "      <td>0.000000</td>\n",
       "      <td>CH3SURGE</td>\n",
       "    </tr>\n",
       "    <tr>\n",
       "      <th>17</th>\n",
       "      <td>0.000000</td>\n",
       "      <td>CH3Tons</td>\n",
       "    </tr>\n",
       "    <tr>\n",
       "      <th>18</th>\n",
       "      <td>0.000000</td>\n",
       "      <td>CH4COM1S</td>\n",
       "    </tr>\n",
       "    <tr>\n",
       "      <th>19</th>\n",
       "      <td>0.000000</td>\n",
       "      <td>CH4SURGECNT</td>\n",
       "    </tr>\n",
       "    <tr>\n",
       "      <th>20</th>\n",
       "      <td>0.000000</td>\n",
       "      <td>CH5AVAIL</td>\n",
       "    </tr>\n",
       "    <tr>\n",
       "      <th>21</th>\n",
       "      <td>0.000000</td>\n",
       "      <td>CH5COM1IGV</td>\n",
       "    </tr>\n",
       "    <tr>\n",
       "      <th>22</th>\n",
       "      <td>0.000000</td>\n",
       "      <td>CH5COM1S</td>\n",
       "    </tr>\n",
       "    <tr>\n",
       "      <th>23</th>\n",
       "      <td>0.000000</td>\n",
       "      <td>CH5SBoolean</td>\n",
       "    </tr>\n",
       "    <tr>\n",
       "      <th>24</th>\n",
       "      <td>0.000000</td>\n",
       "      <td>CH5SURGE</td>\n",
       "    </tr>\n",
       "    <tr>\n",
       "      <th>25</th>\n",
       "      <td>0.000000</td>\n",
       "      <td>CH3PctLoad</td>\n",
       "    </tr>\n",
       "    <tr>\n",
       "      <th>26</th>\n",
       "      <td>0.000000</td>\n",
       "      <td>PCHWP5SS</td>\n",
       "    </tr>\n",
       "    <tr>\n",
       "      <th>27</th>\n",
       "      <td>0.000000</td>\n",
       "      <td>CH3COM1IGV</td>\n",
       "    </tr>\n",
       "    <tr>\n",
       "      <th>28</th>\n",
       "      <td>0.000000</td>\n",
       "      <td>OptimumControl</td>\n",
       "    </tr>\n",
       "    <tr>\n",
       "      <th>29</th>\n",
       "      <td>0.000000</td>\n",
       "      <td>CLGMODE</td>\n",
       "    </tr>\n",
       "    <tr>\n",
       "      <th>...</th>\n",
       "      <td>...</td>\n",
       "      <td>...</td>\n",
       "    </tr>\n",
       "    <tr>\n",
       "      <th>133</th>\n",
       "      <td>1.249026</td>\n",
       "      <td>CHWFLO</td>\n",
       "    </tr>\n",
       "    <tr>\n",
       "      <th>134</th>\n",
       "      <td>1.250591</td>\n",
       "      <td>MaxCHDTLift</td>\n",
       "    </tr>\n",
       "    <tr>\n",
       "      <th>135</th>\n",
       "      <td>1.302046</td>\n",
       "      <td>CH5PctLoad</td>\n",
       "    </tr>\n",
       "    <tr>\n",
       "      <th>136</th>\n",
       "      <td>1.399802</td>\n",
       "      <td>CH5Tons</td>\n",
       "    </tr>\n",
       "    <tr>\n",
       "      <th>137</th>\n",
       "      <td>1.410225</td>\n",
       "      <td>OAH</td>\n",
       "    </tr>\n",
       "    <tr>\n",
       "      <th>138</th>\n",
       "      <td>1.419799</td>\n",
       "      <td>CH4Tons</td>\n",
       "    </tr>\n",
       "    <tr>\n",
       "      <th>139</th>\n",
       "      <td>1.450760</td>\n",
       "      <td>CH4EvapApproach</td>\n",
       "    </tr>\n",
       "    <tr>\n",
       "      <th>140</th>\n",
       "      <td>1.576180</td>\n",
       "      <td>CH4CHWRT</td>\n",
       "    </tr>\n",
       "    <tr>\n",
       "      <th>141</th>\n",
       "      <td>1.590120</td>\n",
       "      <td>CH5CompDiscSuperheat</td>\n",
       "    </tr>\n",
       "    <tr>\n",
       "      <th>142</th>\n",
       "      <td>1.598484</td>\n",
       "      <td>OAWB</td>\n",
       "    </tr>\n",
       "    <tr>\n",
       "      <th>143</th>\n",
       "      <td>1.746478</td>\n",
       "      <td>CHWRT</td>\n",
       "    </tr>\n",
       "    <tr>\n",
       "      <th>144</th>\n",
       "      <td>2.143404</td>\n",
       "      <td>CH5CHW_DeltaT</td>\n",
       "    </tr>\n",
       "    <tr>\n",
       "      <th>145</th>\n",
       "      <td>2.146296</td>\n",
       "      <td>SCHWP4HZ</td>\n",
       "    </tr>\n",
       "    <tr>\n",
       "      <th>146</th>\n",
       "      <td>2.408904</td>\n",
       "      <td>CT5SPD</td>\n",
       "    </tr>\n",
       "    <tr>\n",
       "      <th>147</th>\n",
       "      <td>2.546377</td>\n",
       "      <td>CT5HZ</td>\n",
       "    </tr>\n",
       "    <tr>\n",
       "      <th>148</th>\n",
       "      <td>2.775110</td>\n",
       "      <td>SCHWP4SPD</td>\n",
       "    </tr>\n",
       "    <tr>\n",
       "      <th>149</th>\n",
       "      <td>2.857725</td>\n",
       "      <td>SCHWP3SPD</td>\n",
       "    </tr>\n",
       "    <tr>\n",
       "      <th>150</th>\n",
       "      <td>2.883908</td>\n",
       "      <td>CH4CHW_DeltaT</td>\n",
       "    </tr>\n",
       "    <tr>\n",
       "      <th>151</th>\n",
       "      <td>3.006346</td>\n",
       "      <td>SCHWP3HZ</td>\n",
       "    </tr>\n",
       "    <tr>\n",
       "      <th>152</th>\n",
       "      <td>3.073299</td>\n",
       "      <td>CH5DPLift</td>\n",
       "    </tr>\n",
       "    <tr>\n",
       "      <th>153</th>\n",
       "      <td>3.131301</td>\n",
       "      <td>CH5EVP</td>\n",
       "    </tr>\n",
       "    <tr>\n",
       "      <th>154</th>\n",
       "      <td>3.322152</td>\n",
       "      <td>CH5EvapApproach</td>\n",
       "    </tr>\n",
       "    <tr>\n",
       "      <th>155</th>\n",
       "      <td>4.208349</td>\n",
       "      <td>CH5CHWRT</td>\n",
       "    </tr>\n",
       "    <tr>\n",
       "      <th>156</th>\n",
       "      <td>5.563973</td>\n",
       "      <td>CHWDP2</td>\n",
       "    </tr>\n",
       "    <tr>\n",
       "      <th>157</th>\n",
       "      <td>6.584803</td>\n",
       "      <td>CH5CondApproach</td>\n",
       "    </tr>\n",
       "    <tr>\n",
       "      <th>158</th>\n",
       "      <td>8.552245</td>\n",
       "      <td>CH5COM1SPD</td>\n",
       "    </tr>\n",
       "    <tr>\n",
       "      <th>159</th>\n",
       "      <td>9.997434</td>\n",
       "      <td>MinCHDPLift</td>\n",
       "    </tr>\n",
       "    <tr>\n",
       "      <th>160</th>\n",
       "      <td>14.431591</td>\n",
       "      <td>CH4W$2fTon</td>\n",
       "    </tr>\n",
       "    <tr>\n",
       "      <th>161</th>\n",
       "      <td>17.457119</td>\n",
       "      <td>CH5FLA</td>\n",
       "    </tr>\n",
       "    <tr>\n",
       "      <th>162</th>\n",
       "      <td>100.000000</td>\n",
       "      <td>MaxCHDPLift</td>\n",
       "    </tr>\n",
       "  </tbody>\n",
       "</table>\n",
       "<p>163 rows × 2 columns</p>\n",
       "</div>"
      ],
      "text/plain": [
       "     feat_import          feature_name\n",
       "0       0.000000               CDWVLV2\n",
       "1       0.000000              SCHWP3SS\n",
       "2       0.000000               SCHWP4S\n",
       "3       0.000000              SCHWP4SS\n",
       "4       0.000000               CDWP3SS\n",
       "5       0.000000                CDWP5S\n",
       "6       0.000000               CT4EVLV\n",
       "7       0.000000                  CT4S\n",
       "8       0.000000                 CT4SS\n",
       "9       0.000000              CH3AVAIL\n",
       "10      0.000000             CH3CHWVLV\n",
       "11      0.000000            CH3COM1SPD\n",
       "12      0.000000               SCHWP3S\n",
       "13      0.000000                CH3FLA\n",
       "14      0.000000                  CH3S\n",
       "15      0.000000           CH3SBoolean\n",
       "16      0.000000              CH3SURGE\n",
       "17      0.000000               CH3Tons\n",
       "18      0.000000              CH4COM1S\n",
       "19      0.000000           CH4SURGECNT\n",
       "20      0.000000              CH5AVAIL\n",
       "21      0.000000            CH5COM1IGV\n",
       "22      0.000000              CH5COM1S\n",
       "23      0.000000           CH5SBoolean\n",
       "24      0.000000              CH5SURGE\n",
       "25      0.000000            CH3PctLoad\n",
       "26      0.000000              PCHWP5SS\n",
       "27      0.000000            CH3COM1IGV\n",
       "28      0.000000        OptimumControl\n",
       "29      0.000000               CLGMODE\n",
       "..           ...                   ...\n",
       "133     1.249026                CHWFLO\n",
       "134     1.250591           MaxCHDTLift\n",
       "135     1.302046            CH5PctLoad\n",
       "136     1.399802               CH5Tons\n",
       "137     1.410225                   OAH\n",
       "138     1.419799               CH4Tons\n",
       "139     1.450760       CH4EvapApproach\n",
       "140     1.576180              CH4CHWRT\n",
       "141     1.590120  CH5CompDiscSuperheat\n",
       "142     1.598484                  OAWB\n",
       "143     1.746478                 CHWRT\n",
       "144     2.143404         CH5CHW_DeltaT\n",
       "145     2.146296              SCHWP4HZ\n",
       "146     2.408904                CT5SPD\n",
       "147     2.546377                 CT5HZ\n",
       "148     2.775110             SCHWP4SPD\n",
       "149     2.857725             SCHWP3SPD\n",
       "150     2.883908         CH4CHW_DeltaT\n",
       "151     3.006346              SCHWP3HZ\n",
       "152     3.073299             CH5DPLift\n",
       "153     3.131301                CH5EVP\n",
       "154     3.322152       CH5EvapApproach\n",
       "155     4.208349              CH5CHWRT\n",
       "156     5.563973                CHWDP2\n",
       "157     6.584803       CH5CondApproach\n",
       "158     8.552245            CH5COM1SPD\n",
       "159     9.997434           MinCHDPLift\n",
       "160    14.431591            CH4W$2fTon\n",
       "161    17.457119                CH5FLA\n",
       "162   100.000000           MaxCHDPLift\n",
       "\n",
       "[163 rows x 2 columns]"
      ]
     },
     "execution_count": 61,
     "metadata": {},
     "output_type": "execute_result"
    }
   ],
   "source": [
    "df_feats"
   ]
  },
  {
   "cell_type": "code",
   "execution_count": 64,
   "metadata": {},
   "outputs": [],
   "source": [
    "df_feats.to_csv('Feat_imp_winter_test.csv')"
   ]
  },
  {
   "cell_type": "code",
   "execution_count": null,
   "metadata": {},
   "outputs": [],
   "source": []
  }
 ],
 "metadata": {
  "kernelspec": {
   "display_name": "Python 3",
   "language": "python",
   "name": "python3"
  },
  "language_info": {
   "codemirror_mode": {
    "name": "ipython",
    "version": 3
   },
   "file_extension": ".py",
   "mimetype": "text/x-python",
   "name": "python",
   "nbconvert_exporter": "python",
   "pygments_lexer": "ipython3",
   "version": "3.6.3"
  }
 },
 "nbformat": 4,
 "nbformat_minor": 2
}
