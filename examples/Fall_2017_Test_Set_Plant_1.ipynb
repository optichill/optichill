{
 "cells": [
  {
   "cell_type": "markdown",
   "metadata": {},
   "source": [
    "Gradient Boosted Machines trained on data subsets"
   ]
  },
  {
   "cell_type": "code",
   "execution_count": 1,
   "metadata": {},
   "outputs": [
    {
     "name": "stderr",
     "output_type": "stream",
     "text": [
      "c:\\python\\lib\\site-packages\\sklearn\\cross_validation.py:41: DeprecationWarning: This module was deprecated in version 0.18 in favor of the model_selection module into which all the refactored classes and functions are moved. Also note that the interface of the new CV iterators are different from that of this module. This module will be removed in 0.20.\n",
      "  \"This module will be removed in 0.20.\", DeprecationWarning)\n"
     ]
    }
   ],
   "source": [
    "import pandas as pd\n",
    "import numpy as np\n",
    "from sklearn.cross_validation import train_test_split\n",
    "from sklearn import metrics\n",
    "from sklearn.ensemble import GradientBoostingRegressor\n",
    "import matplotlib.pyplot as plt\n",
    "from sklearn.metrics import mean_squared_error\n",
    "from sklearn.metrics import r2_score\n",
    "import seaborn as sns\n",
    "import glob\n",
    "import os\n",
    "from optichill import bas_filter\n",
    "\n",
    "%matplotlib inline"
   ]
  },
  {
   "cell_type": "markdown",
   "metadata": {},
   "source": [
    "# Fall 2017 Training Data"
   ]
  },
  {
   "cell_type": "markdown",
   "metadata": {},
   "source": [
    "Trained plant with 2017 August, September, and October minute data\n",
    "Tested data from the rest of the year"
   ]
  },
  {
   "cell_type": "code",
   "execution_count": 44,
   "metadata": {},
   "outputs": [],
   "source": [
    "lst_train = ['Plt1 m 2017-08.csv', 'Plt1 m 2017-09.csv', 'Plt1 m 2017-10.csv']\n",
    "lst_test = [\n",
    "    'Plt1 m 2016-11.csv', 'Plt1 m 2016-12.csv', 'Plt1 m 2017-01.csv',\n",
    "    'Plt1 m 2017-05.csv', 'Plt1 m 2017-06.csv', 'Plt1 m 2017-07.csv',\n",
    "    'Plt1 m 2017-02.csv', 'Plt1 m 2017-03.csv', 'Plt1 m 2017-04.csv',\n",
    "    'Plt1 m 2017-11.csv', 'Plt1 m 2017-12.csv', 'Plt1 m 2018-01.csv',\n",
    "    'Plt1 m 2018-02.csv', 'Plt1 m 2018-03.csv', 'Plt1 m 2018-04.csv'\n",
    "]\n",
    "# lst_train = ['Plt1 m 2017-10.csv']"
   ]
  },
  {
   "cell_type": "code",
   "execution_count": 45,
   "metadata": {
    "scrolled": true
   },
   "outputs": [
    {
     "name": "stdout",
     "output_type": "stream",
     "text": [
      "Filtering Training Set\n",
      "['../../Capstone/Plt1\\\\Plt1 m 2017-08.csv']\n",
      "['../../Capstone/Plt1\\\\Plt1 m 2017-09.csv']\n",
      "['../../Capstone/Plt1\\\\Plt1 m 2017-10.csv']\n",
      "Descriptors in the points list that are not in the datasets.\n",
      "CommunicationFailure_COV\n",
      "CH3COM1F\n",
      "CH3Ready\n",
      "CH4COM1F\n",
      "CH4Ready\n",
      "CH4SURGE\n",
      "CH5COM1F\n",
      "CH5Ready\n",
      "Original data contains 26499 points and 412 dimensions.\n",
      "A CTTR_ALARM was noted and 320 datapoints were removed from the dataset.\n",
      "A PCHWP3Failed was noted and 320 datapoints were removed from the dataset.\n",
      "A PCHWP4Failed was noted and 320 datapoints were removed from the dataset.\n",
      "A PCHWP5Failed was noted and 320 datapoints were removed from the dataset.\n",
      "A SCHWP3Failed was noted and 320 datapoints were removed from the dataset.\n",
      "A SCHWP4Failed was noted and 320 datapoints were removed from the dataset.\n",
      "A SCHWP5Failed was noted and 320 datapoints were removed from the dataset.\n",
      "A CH3_CHWSTSP_Alarm was noted and 320 datapoints were removed from the dataset.\n",
      "A CH3ALARM was noted and 320 datapoints were removed from the dataset.\n",
      "A CH3F was noted and 320 datapoints were removed from the dataset.\n",
      "A CH4_CHWSTSP_Alarm was noted and 320 datapoints were removed from the dataset.\n",
      "A CH4ALARM was noted and 332 datapoints were removed from the dataset.\n",
      "A CH4F was noted and 7879 datapoints were removed from the dataset.\n",
      "A CH5_CHWSTSP_Alarm was noted and 7879 datapoints were removed from the dataset.\n",
      "A CH5ALARM was noted and 7879 datapoints were removed from the dataset.\n",
      "A CH5F was noted and 7879 datapoints were removed from the dataset.\n",
      "A CDWP3Failed was noted and 7879 datapoints were removed from the dataset.\n",
      "A CDWP3SPD_Alarm was noted and 9409 datapoints were removed from the dataset.\n",
      "A CDWP4Failed was noted and 9409 datapoints were removed from the dataset.\n",
      "A CDWP4SPD_Alarm was noted and 10450 datapoints were removed from the dataset.\n",
      "A CDWP5Failed was noted and 10450 datapoints were removed from the dataset.\n",
      "A CDWP5SPD_Alarm was noted and 13350 datapoints were removed from the dataset.\n",
      "A CT4Failed was noted and 13350 datapoints were removed from the dataset.\n",
      "A CT4SPD_Alarm was noted and 13350 datapoints were removed from the dataset.\n",
      "A CT5Failed was noted and 13350 datapoints were removed from the dataset.\n",
      "A CT5SPD_Alarm was noted and 13353 datapoints were removed from the dataset.\n",
      "Filtered data contains 12059 points and 191 dimensions.\n",
      "Filtering Test Set\n",
      "['../../Capstone/Plt1\\\\Plt1 m 2016-11.csv']\n",
      "['../../Capstone/Plt1\\\\Plt1 m 2016-12.csv']\n",
      "['../../Capstone/Plt1\\\\Plt1 m 2017-01.csv']\n",
      "['../../Capstone/Plt1\\\\Plt1 m 2017-05.csv']\n",
      "['../../Capstone/Plt1\\\\Plt1 m 2017-06.csv']\n",
      "['../../Capstone/Plt1\\\\Plt1 m 2017-07.csv']\n",
      "['../../Capstone/Plt1\\\\Plt1 m 2017-02.csv']\n",
      "['../../Capstone/Plt1\\\\Plt1 m 2017-03.csv']\n",
      "['../../Capstone/Plt1\\\\Plt1 m 2017-04.csv']\n",
      "['../../Capstone/Plt1\\\\Plt1 m 2017-11.csv']\n",
      "['../../Capstone/Plt1\\\\Plt1 m 2017-12.csv']\n",
      "['../../Capstone/Plt1\\\\Plt1 m 2018-01.csv']\n",
      "['../../Capstone/Plt1\\\\Plt1 m 2018-02.csv']\n",
      "['../../Capstone/Plt1\\\\Plt1 m 2018-03.csv']\n",
      "['../../Capstone/Plt1\\\\Plt1 m 2018-04.csv']\n",
      "Descriptors in the points list that are not in the datasets.\n",
      "CommunicationFailure_COV\n",
      "CH3COM1F\n",
      "CH3Ready\n",
      "CH4COM1F\n",
      "CH4Ready\n",
      "CH4SURGE\n",
      "CH5COM1F\n",
      "CH5Ready\n",
      "Original data contains 125382 points and 414 dimensions.\n",
      "A CTTR_ALARM was noted and 452 datapoints were removed from the dataset.\n",
      "A PCHWP3Failed was noted and 1251 datapoints were removed from the dataset.\n",
      "A PCHWP4Failed was noted and 1438 datapoints were removed from the dataset.\n",
      "A PCHWP5Failed was noted and 1438 datapoints were removed from the dataset.\n",
      "A SCHWP3Failed was noted and 1438 datapoints were removed from the dataset.\n",
      "A SCHWP4Failed was noted and 1439 datapoints were removed from the dataset.\n",
      "A SCHWP5Failed was noted and 1439 datapoints were removed from the dataset.\n",
      "A CH3_CHWSTSP_Alarm was noted and 1445 datapoints were removed from the dataset.\n",
      "A CH3ALARM was noted and 5686 datapoints were removed from the dataset.\n",
      "A CH3F was noted and 5686 datapoints were removed from the dataset.\n",
      "A CH4_CHWSTSP_Alarm was noted and 5686 datapoints were removed from the dataset.\n",
      "A CH4ALARM was noted and 5781 datapoints were removed from the dataset.\n",
      "A CH4F was noted and 7514 datapoints were removed from the dataset.\n",
      "A CH5_CHWSTSP_Alarm was noted and 7514 datapoints were removed from the dataset.\n",
      "A CH5ALARM was noted and 8608 datapoints were removed from the dataset.\n",
      "A CH5F was noted and 8608 datapoints were removed from the dataset.\n",
      "A CDWP3Failed was noted and 8608 datapoints were removed from the dataset.\n",
      "A CDWP3SPD_Alarm was noted and 24555 datapoints were removed from the dataset.\n",
      "A CDWP4Failed was noted and 24555 datapoints were removed from the dataset.\n",
      "A CDWP4SPD_Alarm was noted and 38211 datapoints were removed from the dataset.\n",
      "A CDWP5Failed was noted and 38211 datapoints were removed from the dataset.\n",
      "A CDWP5SPD_Alarm was noted and 78528 datapoints were removed from the dataset.\n",
      "A CT4Failed was noted and 78528 datapoints were removed from the dataset.\n",
      "A CT4SPD_Alarm was noted and 78543 datapoints were removed from the dataset.\n",
      "A CT5Failed was noted and 78543 datapoints were removed from the dataset.\n",
      "A CT5SPD_Alarm was noted and 78543 datapoints were removed from the dataset.\n",
      "Filtered data contains 40503 points and 191 dimensions.\n"
     ]
    },
    {
     "data": {
      "text/plain": [
       "(40503, 191)"
      ]
     },
     "execution_count": 45,
     "metadata": {},
     "output_type": "execute_result"
    }
   ],
   "source": [
    "df_train, df_test = bas_filter.train_single_plt(\n",
    "    '../../Capstone/Plt1', lst_train, lst_test,\n",
    "    '../../Capstone/Plt1/Plt1 Points List.xlsx',\n",
    "    include_alarms=False, dim_remove=['CHWST', 'CDWVLV']\n",
    ")\n",
    "df_test.shape"
   ]
  },
  {
   "cell_type": "code",
   "execution_count": 46,
   "metadata": {
    "scrolled": false
   },
   "outputs": [
    {
     "data": {
      "text/plain": [
       "<matplotlib.collections.PathCollection at 0x21d07d6b5f8>"
      ]
     },
     "execution_count": 46,
     "metadata": {},
     "output_type": "execute_result"
    },
    {
     "data": {
      "image/png": "[encoded data removed]",
      "text/plain": [
       "<matplotlib.figure.Figure at 0x21d074ad198>"
      ]
     },
     "metadata": {},
     "output_type": "display_data"
    }
   ],
   "source": [
    "plt.scatter(df_train['kW/Ton'], df_train['kW/Ton'])"
   ]
  },
  {
   "cell_type": "code",
   "execution_count": 47,
   "metadata": {},
   "outputs": [
    {
     "data": {
      "text/plain": [
       "<matplotlib.collections.PathCollection at 0x21d0824ccc0>"
      ]
     },
     "execution_count": 47,
     "metadata": {},
     "output_type": "execute_result"
    },
    {
     "data": {
      "image/png": "[encoded data removed]",
      "text/plain": [
       "<matplotlib.figure.Figure at 0x21d081297b8>"
      ]
     },
     "metadata": {},
     "output_type": "display_data"
    }
   ],
   "source": [
    "plt.scatter(df_test['kW/Ton'], df_test['kW/Ton'])"
   ]
  },
  {
   "cell_type": "code",
   "execution_count": 48,
   "metadata": {},
   "outputs": [],
   "source": [
    "params = {'n_estimators': 500, 'max_depth': 6, 'min_samples_split': 2,\n",
    "          'learning_rate': 0.01, 'loss': 'ls'}"
   ]
  },
  {
   "cell_type": "code",
   "execution_count": 49,
   "metadata": {},
   "outputs": [],
   "source": [
    "model = GradientBoostingRegressor(**params)"
   ]
  },
  {
   "cell_type": "code",
   "execution_count": 50,
   "metadata": {},
   "outputs": [],
   "source": [
    "ytrain = df_train['kW/Ton'].values\n",
    "ytest = df_test['kW/Ton'].values\n",
    "xtrain = df_train.drop(['kW/Ton'], axis=1).values\n",
    "xtest = df_test.drop(['kW/Ton'], axis=1).values"
   ]
  },
  {
   "cell_type": "code",
   "execution_count": 51,
   "metadata": {},
   "outputs": [
    {
     "data": {
      "text/plain": [
       "(12059, 190)"
      ]
     },
     "execution_count": 51,
     "metadata": {},
     "output_type": "execute_result"
    }
   ],
   "source": [
    "xtrain.shape"
   ]
  },
  {
   "cell_type": "code",
   "execution_count": 52,
   "metadata": {},
   "outputs": [
    {
     "data": {
      "text/plain": [
       "(12059,)"
      ]
     },
     "execution_count": 52,
     "metadata": {},
     "output_type": "execute_result"
    }
   ],
   "source": [
    "ytrain.shape"
   ]
  },
  {
   "cell_type": "code",
   "execution_count": 53,
   "metadata": {},
   "outputs": [
    {
     "data": {
      "text/plain": [
       "GradientBoostingRegressor(alpha=0.9, criterion='friedman_mse', init=None,\n",
       "             learning_rate=0.01, loss='ls', max_depth=6, max_features=None,\n",
       "             max_leaf_nodes=None, min_impurity_decrease=0.0,\n",
       "             min_impurity_split=None, min_samples_leaf=1,\n",
       "             min_samples_split=2, min_weight_fraction_leaf=0.0,\n",
       "             n_estimators=500, presort='auto', random_state=None,\n",
       "             subsample=1.0, verbose=0, warm_start=False)"
      ]
     },
     "execution_count": 53,
     "metadata": {},
     "output_type": "execute_result"
    }
   ],
   "source": [
    "model.fit(xtrain, ytrain)"
   ]
  },
  {
   "cell_type": "code",
   "execution_count": 54,
   "metadata": {},
   "outputs": [],
   "source": [
    "ypred = model.predict(xtest)"
   ]
  },
  {
   "cell_type": "code",
   "execution_count": 60,
   "metadata": {
    "scrolled": true
   },
   "outputs": [
    {
     "data": {
      "text/plain": [
       "[<matplotlib.lines.Line2D at 0x21d07b37390>]"
      ]
     },
     "execution_count": 60,
     "metadata": {},
     "output_type": "execute_result"
    },
    {
     "data": {
      "image/png": "[encoded data removed]",
      "text/plain": [
       "<matplotlib.figure.Figure at 0x21d079ba6d8>"
      ]
     },
     "metadata": {},
     "output_type": "display_data"
    }
   ],
   "source": [
    "sns.set()\n",
    "plt.figure()\n",
    "plt.scatter(ytest, ypred)\n",
    "fs = 20\n",
    "plt.title(\"Fall 2017 Training Data\", fontsize=fs)\n",
    "plt.xlabel(\"Experimental Data\", fontsize=fs-4)\n",
    "plt.ylabel(\"Model Predictions\", fontsize=fs-4)\n",
    "# plt.savefig('r2_values_fall_2017_plt1.png', bbox_inches='tight')\n",
    "plt.xlim(0.1, 1.1)\n",
    "plt.plot([0.2, 1], [0.2, 1], 'k')"
   ]
  },
  {
   "cell_type": "markdown",
   "metadata": {},
   "source": [
    "R2 value"
   ]
  },
  {
   "cell_type": "code",
   "execution_count": 56,
   "metadata": {},
   "outputs": [
    {
     "data": {
      "text/plain": [
       "0.8066314324875845"
      ]
     },
     "execution_count": 56,
     "metadata": {},
     "output_type": "execute_result"
    }
   ],
   "source": [
    "test_score = r2_score(ytest, ypred)\n",
    "test_score"
   ]
  },
  {
   "cell_type": "markdown",
   "metadata": {},
   "source": [
    "Feature Importance"
   ]
  },
  {
   "cell_type": "code",
   "execution_count": 15,
   "metadata": {},
   "outputs": [],
   "source": [
    "feature_importance = model.feature_importances_\n",
    "feature_importance = 100.0 * (feature_importance / feature_importance.max())\n",
    "sorted_idx = np.argsort(feature_importance)\n",
    "pos = np.arange(sorted_idx.shape[0]) + .5\n",
    "x = df_test.drop(['kW/Ton'], axis=1).columns[sorted_idx]\n",
    "imp = feature_importance[sorted_idx]"
   ]
  },
  {
   "cell_type": "code",
   "execution_count": 16,
   "metadata": {
    "collapsed": true
   },
   "outputs": [],
   "source": [
    "df_feats = pd.DataFrame({'feature_name': x, 'feat_import': imp})"
   ]
  },
  {
   "cell_type": "code",
   "execution_count": 17,
   "metadata": {},
   "outputs": [
    {
     "data": {
      "text/html": [
       "<div>\n",
       "<style>\n",
       "    .dataframe thead tr:only-child th {\n",
       "        text-align: right;\n",
       "    }\n",
       "\n",
       "    .dataframe thead th {\n",
       "        text-align: left;\n",
       "    }\n",
       "\n",
       "    .dataframe tbody tr th {\n",
       "        vertical-align: top;\n",
       "    }\n",
       "</style>\n",
       "<table border=\"1\" class=\"dataframe\">\n",
       "  <thead>\n",
       "    <tr style=\"text-align: right;\">\n",
       "      <th></th>\n",
       "      <th>feat_import</th>\n",
       "      <th>feature_name</th>\n",
       "    </tr>\n",
       "  </thead>\n",
       "  <tbody>\n",
       "    <tr>\n",
       "      <th>0</th>\n",
       "      <td>0.000000</td>\n",
       "      <td>CDWVLV2</td>\n",
       "    </tr>\n",
       "    <tr>\n",
       "      <th>1</th>\n",
       "      <td>0.000000</td>\n",
       "      <td>CH5_CHWSTSP_Alarm</td>\n",
       "    </tr>\n",
       "    <tr>\n",
       "      <th>2</th>\n",
       "      <td>0.000000</td>\n",
       "      <td>CH4SURGECNT</td>\n",
       "    </tr>\n",
       "    <tr>\n",
       "      <th>3</th>\n",
       "      <td>0.000000</td>\n",
       "      <td>CH4F</td>\n",
       "    </tr>\n",
       "    <tr>\n",
       "      <th>4</th>\n",
       "      <td>0.000000</td>\n",
       "      <td>CH4ALARM</td>\n",
       "    </tr>\n",
       "    <tr>\n",
       "      <th>5</th>\n",
       "      <td>0.000000</td>\n",
       "      <td>CH4_CHWSTSP_Alarm</td>\n",
       "    </tr>\n",
       "    <tr>\n",
       "      <th>6</th>\n",
       "      <td>0.000000</td>\n",
       "      <td>CH3SURGE</td>\n",
       "    </tr>\n",
       "    <tr>\n",
       "      <th>7</th>\n",
       "      <td>0.000000</td>\n",
       "      <td>CH3SBoolean</td>\n",
       "    </tr>\n",
       "    <tr>\n",
       "      <th>8</th>\n",
       "      <td>0.000000</td>\n",
       "      <td>CH3F</td>\n",
       "    </tr>\n",
       "    <tr>\n",
       "      <th>9</th>\n",
       "      <td>0.000000</td>\n",
       "      <td>CH3COM1IGV</td>\n",
       "    </tr>\n",
       "    <tr>\n",
       "      <th>10</th>\n",
       "      <td>0.000000</td>\n",
       "      <td>CH3CHWVLV</td>\n",
       "    </tr>\n",
       "    <tr>\n",
       "      <th>11</th>\n",
       "      <td>0.000000</td>\n",
       "      <td>CH3ALARM</td>\n",
       "    </tr>\n",
       "    <tr>\n",
       "      <th>12</th>\n",
       "      <td>0.000000</td>\n",
       "      <td>CH3_CHWSTSP_Alarm</td>\n",
       "    </tr>\n",
       "    <tr>\n",
       "      <th>13</th>\n",
       "      <td>0.000000</td>\n",
       "      <td>SCHWP5SS</td>\n",
       "    </tr>\n",
       "    <tr>\n",
       "      <th>14</th>\n",
       "      <td>0.000000</td>\n",
       "      <td>SCHWP5S</td>\n",
       "    </tr>\n",
       "    <tr>\n",
       "      <th>15</th>\n",
       "      <td>0.000000</td>\n",
       "      <td>SCHWP5Failed</td>\n",
       "    </tr>\n",
       "    <tr>\n",
       "      <th>16</th>\n",
       "      <td>0.000000</td>\n",
       "      <td>SCHWP4SS</td>\n",
       "    </tr>\n",
       "    <tr>\n",
       "      <th>17</th>\n",
       "      <td>0.000000</td>\n",
       "      <td>SCHWP4S</td>\n",
       "    </tr>\n",
       "    <tr>\n",
       "      <th>18</th>\n",
       "      <td>0.000000</td>\n",
       "      <td>CH5ALARM</td>\n",
       "    </tr>\n",
       "    <tr>\n",
       "      <th>19</th>\n",
       "      <td>0.000000</td>\n",
       "      <td>CH5CDWVLV</td>\n",
       "    </tr>\n",
       "    <tr>\n",
       "      <th>20</th>\n",
       "      <td>0.000000</td>\n",
       "      <td>CH5COM1IGV</td>\n",
       "    </tr>\n",
       "    <tr>\n",
       "      <th>21</th>\n",
       "      <td>0.000000</td>\n",
       "      <td>CH5COM1S</td>\n",
       "    </tr>\n",
       "    <tr>\n",
       "      <th>22</th>\n",
       "      <td>0.000000</td>\n",
       "      <td>CT5SPD_Alarm</td>\n",
       "    </tr>\n",
       "    <tr>\n",
       "      <th>23</th>\n",
       "      <td>0.000000</td>\n",
       "      <td>CT5Failed</td>\n",
       "    </tr>\n",
       "    <tr>\n",
       "      <th>24</th>\n",
       "      <td>0.000000</td>\n",
       "      <td>CT5EVLV</td>\n",
       "    </tr>\n",
       "    <tr>\n",
       "      <th>25</th>\n",
       "      <td>0.000000</td>\n",
       "      <td>CT4SS</td>\n",
       "    </tr>\n",
       "    <tr>\n",
       "      <th>26</th>\n",
       "      <td>0.000000</td>\n",
       "      <td>CT4SPD_Alarm</td>\n",
       "    </tr>\n",
       "    <tr>\n",
       "      <th>27</th>\n",
       "      <td>0.000000</td>\n",
       "      <td>CT4S</td>\n",
       "    </tr>\n",
       "    <tr>\n",
       "      <th>28</th>\n",
       "      <td>0.000000</td>\n",
       "      <td>CT4Failed</td>\n",
       "    </tr>\n",
       "    <tr>\n",
       "      <th>29</th>\n",
       "      <td>0.000000</td>\n",
       "      <td>CT4EVLV</td>\n",
       "    </tr>\n",
       "    <tr>\n",
       "      <th>...</th>\n",
       "      <td>...</td>\n",
       "      <td>...</td>\n",
       "    </tr>\n",
       "    <tr>\n",
       "      <th>160</th>\n",
       "      <td>2.216241</td>\n",
       "      <td>CDWP5HZ</td>\n",
       "    </tr>\n",
       "    <tr>\n",
       "      <th>161</th>\n",
       "      <td>2.297808</td>\n",
       "      <td>CDWP5SPD</td>\n",
       "    </tr>\n",
       "    <tr>\n",
       "      <th>162</th>\n",
       "      <td>2.468281</td>\n",
       "      <td>CHWDP2</td>\n",
       "    </tr>\n",
       "    <tr>\n",
       "      <th>163</th>\n",
       "      <td>2.524654</td>\n",
       "      <td>CHWFLO</td>\n",
       "    </tr>\n",
       "    <tr>\n",
       "      <th>164</th>\n",
       "      <td>2.856999</td>\n",
       "      <td>CH5CDWRT</td>\n",
       "    </tr>\n",
       "    <tr>\n",
       "      <th>165</th>\n",
       "      <td>2.872800</td>\n",
       "      <td>CH5CHWRT</td>\n",
       "    </tr>\n",
       "    <tr>\n",
       "      <th>166</th>\n",
       "      <td>3.292586</td>\n",
       "      <td>CT5HZ</td>\n",
       "    </tr>\n",
       "    <tr>\n",
       "      <th>167</th>\n",
       "      <td>3.605708</td>\n",
       "      <td>CH4CHWFLO</td>\n",
       "    </tr>\n",
       "    <tr>\n",
       "      <th>168</th>\n",
       "      <td>4.326103</td>\n",
       "      <td>CH5EvapApproach</td>\n",
       "    </tr>\n",
       "    <tr>\n",
       "      <th>169</th>\n",
       "      <td>4.943045</td>\n",
       "      <td>CH5PctLoad</td>\n",
       "    </tr>\n",
       "    <tr>\n",
       "      <th>170</th>\n",
       "      <td>5.279055</td>\n",
       "      <td>CH3CHWSTSP</td>\n",
       "    </tr>\n",
       "    <tr>\n",
       "      <th>171</th>\n",
       "      <td>5.309996</td>\n",
       "      <td>CH5CompDiscSuperheat</td>\n",
       "    </tr>\n",
       "    <tr>\n",
       "      <th>172</th>\n",
       "      <td>6.121515</td>\n",
       "      <td>CH5CHWSTSP</td>\n",
       "    </tr>\n",
       "    <tr>\n",
       "      <th>173</th>\n",
       "      <td>6.372761</td>\n",
       "      <td>CH4CHWSTSP</td>\n",
       "    </tr>\n",
       "    <tr>\n",
       "      <th>174</th>\n",
       "      <td>6.433099</td>\n",
       "      <td>CH5CDT</td>\n",
       "    </tr>\n",
       "    <tr>\n",
       "      <th>175</th>\n",
       "      <td>6.704326</td>\n",
       "      <td>CH5Tons</td>\n",
       "    </tr>\n",
       "    <tr>\n",
       "      <th>176</th>\n",
       "      <td>7.386198</td>\n",
       "      <td>CH5CDW_DeltaT</td>\n",
       "    </tr>\n",
       "    <tr>\n",
       "      <th>177</th>\n",
       "      <td>8.799695</td>\n",
       "      <td>CHWST3</td>\n",
       "    </tr>\n",
       "    <tr>\n",
       "      <th>178</th>\n",
       "      <td>9.178956</td>\n",
       "      <td>CHWST2</td>\n",
       "    </tr>\n",
       "    <tr>\n",
       "      <th>179</th>\n",
       "      <td>12.524616</td>\n",
       "      <td>MaxCHDPLift</td>\n",
       "    </tr>\n",
       "    <tr>\n",
       "      <th>180</th>\n",
       "      <td>12.889389</td>\n",
       "      <td>CH5CondApproach</td>\n",
       "    </tr>\n",
       "    <tr>\n",
       "      <th>181</th>\n",
       "      <td>14.121360</td>\n",
       "      <td>CH5EVP</td>\n",
       "    </tr>\n",
       "    <tr>\n",
       "      <th>182</th>\n",
       "      <td>16.397934</td>\n",
       "      <td>CH5CHW_DeltaT</td>\n",
       "    </tr>\n",
       "    <tr>\n",
       "      <th>183</th>\n",
       "      <td>18.980927</td>\n",
       "      <td>MinCHDPLift</td>\n",
       "    </tr>\n",
       "    <tr>\n",
       "      <th>184</th>\n",
       "      <td>19.419487</td>\n",
       "      <td>CH5FLA</td>\n",
       "    </tr>\n",
       "    <tr>\n",
       "      <th>185</th>\n",
       "      <td>19.431215</td>\n",
       "      <td>CH5COM1SPD</td>\n",
       "    </tr>\n",
       "    <tr>\n",
       "      <th>186</th>\n",
       "      <td>19.770875</td>\n",
       "      <td>CH4W$2fTon</td>\n",
       "    </tr>\n",
       "    <tr>\n",
       "      <th>187</th>\n",
       "      <td>22.680630</td>\n",
       "      <td>CH5CHWST</td>\n",
       "    </tr>\n",
       "    <tr>\n",
       "      <th>188</th>\n",
       "      <td>67.437367</td>\n",
       "      <td>CH5DISTEMP</td>\n",
       "    </tr>\n",
       "    <tr>\n",
       "      <th>189</th>\n",
       "      <td>100.000000</td>\n",
       "      <td>CH5DPLift</td>\n",
       "    </tr>\n",
       "  </tbody>\n",
       "</table>\n",
       "<p>190 rows × 2 columns</p>\n",
       "</div>"
      ],
      "text/plain": [
       "     feat_import          feature_name\n",
       "0       0.000000               CDWVLV2\n",
       "1       0.000000     CH5_CHWSTSP_Alarm\n",
       "2       0.000000           CH4SURGECNT\n",
       "3       0.000000                  CH4F\n",
       "4       0.000000              CH4ALARM\n",
       "5       0.000000     CH4_CHWSTSP_Alarm\n",
       "6       0.000000              CH3SURGE\n",
       "7       0.000000           CH3SBoolean\n",
       "8       0.000000                  CH3F\n",
       "9       0.000000            CH3COM1IGV\n",
       "10      0.000000             CH3CHWVLV\n",
       "11      0.000000              CH3ALARM\n",
       "12      0.000000     CH3_CHWSTSP_Alarm\n",
       "13      0.000000              SCHWP5SS\n",
       "14      0.000000               SCHWP5S\n",
       "15      0.000000          SCHWP5Failed\n",
       "16      0.000000              SCHWP4SS\n",
       "17      0.000000               SCHWP4S\n",
       "18      0.000000              CH5ALARM\n",
       "19      0.000000             CH5CDWVLV\n",
       "20      0.000000            CH5COM1IGV\n",
       "21      0.000000              CH5COM1S\n",
       "22      0.000000          CT5SPD_Alarm\n",
       "23      0.000000             CT5Failed\n",
       "24      0.000000               CT5EVLV\n",
       "25      0.000000                 CT4SS\n",
       "26      0.000000          CT4SPD_Alarm\n",
       "27      0.000000                  CT4S\n",
       "28      0.000000             CT4Failed\n",
       "29      0.000000               CT4EVLV\n",
       "..           ...                   ...\n",
       "160     2.216241               CDWP5HZ\n",
       "161     2.297808              CDWP5SPD\n",
       "162     2.468281                CHWDP2\n",
       "163     2.524654                CHWFLO\n",
       "164     2.856999              CH5CDWRT\n",
       "165     2.872800              CH5CHWRT\n",
       "166     3.292586                 CT5HZ\n",
       "167     3.605708             CH4CHWFLO\n",
       "168     4.326103       CH5EvapApproach\n",
       "169     4.943045            CH5PctLoad\n",
       "170     5.279055            CH3CHWSTSP\n",
       "171     5.309996  CH5CompDiscSuperheat\n",
       "172     6.121515            CH5CHWSTSP\n",
       "173     6.372761            CH4CHWSTSP\n",
       "174     6.433099                CH5CDT\n",
       "175     6.704326               CH5Tons\n",
       "176     7.386198         CH5CDW_DeltaT\n",
       "177     8.799695                CHWST3\n",
       "178     9.178956                CHWST2\n",
       "179    12.524616           MaxCHDPLift\n",
       "180    12.889389       CH5CondApproach\n",
       "181    14.121360                CH5EVP\n",
       "182    16.397934         CH5CHW_DeltaT\n",
       "183    18.980927           MinCHDPLift\n",
       "184    19.419487                CH5FLA\n",
       "185    19.431215            CH5COM1SPD\n",
       "186    19.770875            CH4W$2fTon\n",
       "187    22.680630              CH5CHWST\n",
       "188    67.437367            CH5DISTEMP\n",
       "189   100.000000             CH5DPLift\n",
       "\n",
       "[190 rows x 2 columns]"
      ]
     },
     "execution_count": 17,
     "metadata": {},
     "output_type": "execute_result"
    }
   ],
   "source": [
    "df_feats"
   ]
  },
  {
   "cell_type": "code",
   "execution_count": 18,
   "metadata": {
    "collapsed": true
   },
   "outputs": [],
   "source": [
    "df_feats.to_csv('Feat_imp_fall_test_plt1_2017.csv')"
   ]
  }
 ],
 "metadata": {
  "kernelspec": {
   "display_name": "Python 3",
   "language": "python",
   "name": "python3"
  },
  "language_info": {
   "codemirror_mode": {
    "name": "ipython",
    "version": 3
   },
   "file_extension": ".py",
   "mimetype": "text/x-python",
   "name": "python",
   "nbconvert_exporter": "python",
   "pygments_lexer": "ipython3",
   "version": "3.6.3"
  }
 },
 "nbformat": 4,
 "nbformat_minor": 2
}
