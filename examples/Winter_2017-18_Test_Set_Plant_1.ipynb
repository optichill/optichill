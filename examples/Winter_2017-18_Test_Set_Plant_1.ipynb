{
 "cells": [
  {
   "cell_type": "markdown",
   "metadata": {},
   "source": [
    "Gradient Boosted Machines trained on data subsets"
   ]
  },
  {
   "cell_type": "code",
   "execution_count": 1,
   "metadata": {},
   "outputs": [
    {
     "name": "stderr",
     "output_type": "stream",
     "text": [
      "c:\\python\\lib\\site-packages\\sklearn\\cross_validation.py:41: DeprecationWarning: This module was deprecated in version 0.18 in favor of the model_selection module into which all the refactored classes and functions are moved. Also note that the interface of the new CV iterators are different from that of this module. This module will be removed in 0.20.\n",
      "  \"This module will be removed in 0.20.\", DeprecationWarning)\n"
     ]
    }
   ],
   "source": [
    "import pandas as pd\n",
    "import numpy as np\n",
    "from sklearn.cross_validation import train_test_split\n",
    "from sklearn import metrics\n",
    "from sklearn.ensemble import GradientBoostingRegressor\n",
    "import matplotlib.pyplot as plt\n",
    "from sklearn.metrics import mean_squared_error\n",
    "from sklearn.metrics import r2_score\n",
    "import seaborn as sns\n",
    "import glob\n",
    "import os\n",
    "from optichill import bas_filter\n",
    "\n",
    "%matplotlib inline"
   ]
  },
  {
   "cell_type": "markdown",
   "metadata": {},
   "source": [
    "# Winter 2017-18 Training Data"
   ]
  },
  {
   "cell_type": "markdown",
   "metadata": {},
   "source": [
    "Trained plant with 2017-18 November, December, and January minute data\n",
    "Tested data from the rest of the year"
   ]
  },
  {
   "cell_type": "code",
   "execution_count": 17,
   "metadata": {},
   "outputs": [],
   "source": [
    "# lst_train = ['Plt1 m 2017-11.csv', 'Plt1 m 2017-12.csv', 'Plt1 m 2018-01.csv']\n",
    "lst_test = [\n",
    "    'Plt1 m 2016-11.csv', 'Plt1 m 2016-12.csv', 'Plt1 m 2017-01.csv',\n",
    "    'Plt1 m 2017-05.csv', 'Plt1 m 2017-06.csv', 'Plt1 m 2017-07.csv',\n",
    "    'Plt1 m 2017-02.csv', 'Plt1 m 2017-03.csv', 'Plt1 m 2017-04.csv',\n",
    "    'Plt1 m 2017-08.csv', 'Plt1 m 2017-09.csv', 'Plt1 m 2017-10.csv',\n",
    "    'Plt1 m 2018-02.csv', 'Plt1 m 2018-03.csv', 'Plt1 m 2018-04.csv'\n",
    "]\n",
    "lst_train = ['Plt1 m 2017-12.csv']"
   ]
  },
  {
   "cell_type": "code",
   "execution_count": 18,
   "metadata": {
    "scrolled": true
   },
   "outputs": [
    {
     "name": "stdout",
     "output_type": "stream",
     "text": [
      "Filtering Training Set\n",
      "['../../Capstone/Plt1\\\\Plt1 m 2017-12.csv']\n",
      "Descriptors in the points list that are not in the datasets.\n",
      "CommunicationFailure_COV\n",
      "CH3COM1F\n",
      "CH3Ready\n",
      "CH4COM1F\n",
      "CH4Ready\n",
      "CH4SURGE\n",
      "CH5COM1F\n",
      "CH5Ready\n",
      "Original data contains 8412 points and 412 dimensions.\n",
      "A CH3ALARM was noted and 4 datapoints were removed from the dataset.\n",
      "A CH3F was noted and 4 datapoints were removed from the dataset.\n",
      "A CH4_CHWSTSP_Alarm was noted and 4 datapoints were removed from the dataset.\n",
      "A CH4ALARM was noted and 4 datapoints were removed from the dataset.\n",
      "A CH4F was noted and 4 datapoints were removed from the dataset.\n",
      "A CH5_CHWSTSP_Alarm was noted and 4 datapoints were removed from the dataset.\n",
      "A CH5ALARM was noted and 4 datapoints were removed from the dataset.\n",
      "A CH5F was noted and 4 datapoints were removed from the dataset.\n",
      "A CDWP3Failed was noted and 4 datapoints were removed from the dataset.\n",
      "A CDWP3SPD_Alarm was noted and 67 datapoints were removed from the dataset.\n",
      "A CDWP4Failed was noted and 67 datapoints were removed from the dataset.\n",
      "A CDWP4SPD_Alarm was noted and 67 datapoints were removed from the dataset.\n",
      "A CDWP5Failed was noted and 67 datapoints were removed from the dataset.\n",
      "A CDWP5SPD_Alarm was noted and 7260 datapoints were removed from the dataset.\n",
      "A CT4Failed was noted and 7260 datapoints were removed from the dataset.\n",
      "A CT4SPD_Alarm was noted and 7260 datapoints were removed from the dataset.\n",
      "A CT5Failed was noted and 7260 datapoints were removed from the dataset.\n",
      "A CT5SPD_Alarm was noted and 7260 datapoints were removed from the dataset.\n",
      "Filtered data contains 365 points and 191 dimensions.\n",
      "Filtering Test Set\n",
      "['../../Capstone/Plt1\\\\Plt1 m 2016-11.csv']\n",
      "['../../Capstone/Plt1\\\\Plt1 m 2016-12.csv']\n",
      "['../../Capstone/Plt1\\\\Plt1 m 2017-01.csv']\n",
      "['../../Capstone/Plt1\\\\Plt1 m 2017-05.csv']\n",
      "['../../Capstone/Plt1\\\\Plt1 m 2017-06.csv']\n",
      "['../../Capstone/Plt1\\\\Plt1 m 2017-07.csv']\n",
      "['../../Capstone/Plt1\\\\Plt1 m 2017-02.csv']\n",
      "['../../Capstone/Plt1\\\\Plt1 m 2017-03.csv']\n",
      "['../../Capstone/Plt1\\\\Plt1 m 2017-04.csv']\n",
      "['../../Capstone/Plt1\\\\Plt1 m 2017-08.csv']\n",
      "['../../Capstone/Plt1\\\\Plt1 m 2017-09.csv']\n",
      "['../../Capstone/Plt1\\\\Plt1 m 2017-10.csv']\n",
      "['../../Capstone/Plt1\\\\Plt1 m 2018-02.csv']\n",
      "['../../Capstone/Plt1\\\\Plt1 m 2018-03.csv']\n",
      "['../../Capstone/Plt1\\\\Plt1 m 2018-04.csv']\n",
      "Descriptors in the points list that are not in the datasets.\n",
      "CommunicationFailure_COV\n",
      "CH3COM1F\n",
      "CH3Ready\n",
      "CH4COM1F\n",
      "CH4Ready\n",
      "CH4SURGE\n",
      "CH5COM1F\n",
      "CH5Ready\n",
      "Original data contains 125899 points and 414 dimensions.\n",
      "A CTTR_ALARM was noted and 772 datapoints were removed from the dataset.\n",
      "A PCHWP3Failed was noted and 1571 datapoints were removed from the dataset.\n",
      "A PCHWP4Failed was noted and 1758 datapoints were removed from the dataset.\n",
      "A PCHWP5Failed was noted and 1758 datapoints were removed from the dataset.\n",
      "A SCHWP3Failed was noted and 1758 datapoints were removed from the dataset.\n",
      "A SCHWP4Failed was noted and 1759 datapoints were removed from the dataset.\n",
      "A SCHWP5Failed was noted and 1759 datapoints were removed from the dataset.\n",
      "A CH3_CHWSTSP_Alarm was noted and 1765 datapoints were removed from the dataset.\n",
      "A CH3ALARM was noted and 6002 datapoints were removed from the dataset.\n",
      "A CH3F was noted and 6002 datapoints were removed from the dataset.\n",
      "A CH4_CHWSTSP_Alarm was noted and 6002 datapoints were removed from the dataset.\n",
      "A CH4ALARM was noted and 6109 datapoints were removed from the dataset.\n",
      "A CH4F was noted and 15389 datapoints were removed from the dataset.\n",
      "A CH5_CHWSTSP_Alarm was noted and 15389 datapoints were removed from the dataset.\n",
      "A CH5ALARM was noted and 16483 datapoints were removed from the dataset.\n",
      "A CH5F was noted and 16483 datapoints were removed from the dataset.\n",
      "A CDWP3Failed was noted and 16483 datapoints were removed from the dataset.\n",
      "A CDWP3SPD_Alarm was noted and 25552 datapoints were removed from the dataset.\n",
      "A CDWP4Failed was noted and 25552 datapoints were removed from the dataset.\n",
      "A CDWP4SPD_Alarm was noted and 40249 datapoints were removed from the dataset.\n",
      "A CDWP5Failed was noted and 40249 datapoints were removed from the dataset.\n",
      "A CDWP5SPD_Alarm was noted and 71140 datapoints were removed from the dataset.\n",
      "A CT4Failed was noted and 71140 datapoints were removed from the dataset.\n",
      "A CT4SPD_Alarm was noted and 71155 datapoints were removed from the dataset.\n",
      "A CT5Failed was noted and 71155 datapoints were removed from the dataset.\n",
      "A CT5SPD_Alarm was noted and 71158 datapoints were removed from the dataset.\n",
      "Filtered data contains 48309 points and 191 dimensions.\n"
     ]
    },
    {
     "data": {
      "text/plain": [
       "(48309, 191)"
      ]
     },
     "execution_count": 18,
     "metadata": {},
     "output_type": "execute_result"
    }
   ],
   "source": [
    "df_train, df_test = bas_filter.train_single_plt(\n",
    "    '../../Capstone/Plt1', lst_train, lst_test,\n",
    "    '../../Capstone/Plt1/Plt1 Points List.xlsx',\n",
    "    include_alarms=False, dim_remove=['CHWST', 'CDWVLV']\n",
    ")\n",
    "df_test.shape"
   ]
  },
  {
   "cell_type": "code",
   "execution_count": 19,
   "metadata": {
    "scrolled": false
   },
   "outputs": [
    {
     "data": {
      "text/plain": [
       "<matplotlib.collections.PathCollection at 0x20727310588>"
      ]
     },
     "execution_count": 19,
     "metadata": {},
     "output_type": "execute_result"
    },
    {
     "data": {
      "image/png": "[encoded data removed]",
      "text/plain": [
       "<matplotlib.figure.Figure at 0x2070064b5f8>"
      ]
     },
     "metadata": {},
     "output_type": "display_data"
    }
   ],
   "source": [
    "plt.scatter(df_train['kW/Ton'], df_train['kW/Ton'])"
   ]
  },
  {
   "cell_type": "code",
   "execution_count": 20,
   "metadata": {},
   "outputs": [
    {
     "data": {
      "text/plain": [
       "<matplotlib.collections.PathCollection at 0x20700093208>"
      ]
     },
     "execution_count": 20,
     "metadata": {},
     "output_type": "execute_result"
    },
    {
     "data": {
      "image/png": "[encoded data removed]",
      "text/plain": [
       "<matplotlib.figure.Figure at 0x20727158160>"
      ]
     },
     "metadata": {},
     "output_type": "display_data"
    }
   ],
   "source": [
    "plt.scatter(df_test['kW/Ton'], df_test['kW/Ton'])"
   ]
  },
  {
   "cell_type": "code",
   "execution_count": 21,
   "metadata": {},
   "outputs": [],
   "source": [
    "params = {'n_estimators': 500, 'max_depth': 6, 'min_samples_split': 2,\n",
    "          'learning_rate': 0.01, 'loss': 'ls'}"
   ]
  },
  {
   "cell_type": "code",
   "execution_count": 22,
   "metadata": {},
   "outputs": [],
   "source": [
    "model = GradientBoostingRegressor(**params)"
   ]
  },
  {
   "cell_type": "code",
   "execution_count": 23,
   "metadata": {},
   "outputs": [],
   "source": [
    "ytrain = df_train['kW/Ton'].values\n",
    "ytest = df_test['kW/Ton'].values\n",
    "xtrain = df_train.drop(['kW/Ton'], axis=1).values\n",
    "xtest = df_test.drop(['kW/Ton'], axis=1).values"
   ]
  },
  {
   "cell_type": "code",
   "execution_count": 24,
   "metadata": {},
   "outputs": [
    {
     "data": {
      "text/plain": [
       "(365, 190)"
      ]
     },
     "execution_count": 24,
     "metadata": {},
     "output_type": "execute_result"
    }
   ],
   "source": [
    "xtrain.shape"
   ]
  },
  {
   "cell_type": "code",
   "execution_count": 25,
   "metadata": {},
   "outputs": [
    {
     "data": {
      "text/plain": [
       "(365,)"
      ]
     },
     "execution_count": 25,
     "metadata": {},
     "output_type": "execute_result"
    }
   ],
   "source": [
    "ytrain.shape"
   ]
  },
  {
   "cell_type": "code",
   "execution_count": 26,
   "metadata": {},
   "outputs": [
    {
     "data": {
      "text/plain": [
       "GradientBoostingRegressor(alpha=0.9, criterion='friedman_mse', init=None,\n",
       "             learning_rate=0.01, loss='ls', max_depth=6, max_features=None,\n",
       "             max_leaf_nodes=None, min_impurity_decrease=0.0,\n",
       "             min_impurity_split=None, min_samples_leaf=1,\n",
       "             min_samples_split=2, min_weight_fraction_leaf=0.0,\n",
       "             n_estimators=500, presort='auto', random_state=None,\n",
       "             subsample=1.0, verbose=0, warm_start=False)"
      ]
     },
     "execution_count": 26,
     "metadata": {},
     "output_type": "execute_result"
    }
   ],
   "source": [
    "model.fit(xtrain, ytrain)"
   ]
  },
  {
   "cell_type": "code",
   "execution_count": 27,
   "metadata": {},
   "outputs": [],
   "source": [
    "ypred = model.predict(xtest)"
   ]
  },
  {
   "cell_type": "code",
   "execution_count": 28,
   "metadata": {
    "scrolled": true
   },
   "outputs": [
    {
     "data": {
      "image/png": "[encoded data removed]",
      "text/plain": [
       "<matplotlib.figure.Figure at 0x20727922160>"
      ]
     },
     "metadata": {},
     "output_type": "display_data"
    }
   ],
   "source": [
    "sns.set()\n",
    "plt.figure()\n",
    "plt.scatter(ytest, ypred)\n",
    "fs = 20\n",
    "plt.title(\"Winter 2017-18 Training Data\", fontsize=fs)\n",
    "plt.xlabel(\"Experimental Data\", fontsize=fs-4)\n",
    "plt.ylabel(\"Model Predictions\", fontsize=fs-4)\n",
    "plt.savefig('r2_values_winter_plt1_2017_18.png', bbox_inches='tight')"
   ]
  },
  {
   "cell_type": "markdown",
   "metadata": {},
   "source": [
    "R2 value"
   ]
  },
  {
   "cell_type": "code",
   "execution_count": 29,
   "metadata": {},
   "outputs": [
    {
     "data": {
      "text/plain": [
       "-0.1809006712043244"
      ]
     },
     "execution_count": 29,
     "metadata": {},
     "output_type": "execute_result"
    }
   ],
   "source": [
    "test_score = r2_score(ytest, ypred)\n",
    "test_score"
   ]
  },
  {
   "cell_type": "markdown",
   "metadata": {},
   "source": [
    "Ted Plotting"
   ]
  },
  {
   "cell_type": "code",
   "execution_count": 33,
   "metadata": {},
   "outputs": [
    {
     "data": {
      "text/plain": [
       "Text(0,0.5,'$R^2$ (%)')"
      ]
     },
     "execution_count": 33,
     "metadata": {},
     "output_type": "execute_result"
    },
    {
     "data": {
      "image/png": "[encoded data removed]",
      "text/plain": [
       "<matplotlib.figure.Figure at 0x20705397c18>"
      ]
     },
     "metadata": {},
     "output_type": "display_data"
    }
   ],
   "source": [
    "M_train = pd.DataFrame({'Month': [1, 2, 3, 4, 5, 6, 7, 8, 9, 10, 11, 12], 'R': [31, 69, 69, 77, 63, 22, 24, -70, 55, 81, 72, -18]})\n",
    "\n",
    "sns.set()\n",
    "plt.figure()\n",
    "fs = 20\n",
    "plt.plot(M_train['Month'], M_train['R'])\n",
    "plt.xlabel('Month of 2017', fontsize=fs-4)\n",
    "plt.ylabel('$R^2$ (%)', fontsize=fs-4)"
   ]
  },
  {
   "cell_type": "markdown",
   "metadata": {},
   "source": [
    "Feature Importance"
   ]
  },
  {
   "cell_type": "code",
   "execution_count": 18,
   "metadata": {},
   "outputs": [],
   "source": [
    "feature_importance = model.feature_importances_\n",
    "feature_importance = 100.0 * (feature_importance / feature_importance.max())\n",
    "sorted_idx = np.argsort(feature_importance)\n",
    "pos = np.arange(sorted_idx.shape[0]) + .5\n",
    "x = df_test.drop(['kW/Ton'], axis=1).columns[sorted_idx]\n",
    "imp = feature_importance[sorted_idx]"
   ]
  },
  {
   "cell_type": "code",
   "execution_count": 19,
   "metadata": {
    "collapsed": true
   },
   "outputs": [],
   "source": [
    "df_feats = pd.DataFrame({'feature_name': x, 'feat_import': imp})"
   ]
  },
  {
   "cell_type": "code",
   "execution_count": 20,
   "metadata": {},
   "outputs": [
    {
     "data": {
      "text/html": [
       "<div>\n",
       "<style>\n",
       "    .dataframe thead tr:only-child th {\n",
       "        text-align: right;\n",
       "    }\n",
       "\n",
       "    .dataframe thead th {\n",
       "        text-align: left;\n",
       "    }\n",
       "\n",
       "    .dataframe tbody tr th {\n",
       "        vertical-align: top;\n",
       "    }\n",
       "</style>\n",
       "<table border=\"1\" class=\"dataframe\">\n",
       "  <thead>\n",
       "    <tr style=\"text-align: right;\">\n",
       "      <th></th>\n",
       "      <th>feat_import</th>\n",
       "      <th>feature_name</th>\n",
       "    </tr>\n",
       "  </thead>\n",
       "  <tbody>\n",
       "    <tr>\n",
       "      <th>0</th>\n",
       "      <td>0.000000</td>\n",
       "      <td>CDWVLV2</td>\n",
       "    </tr>\n",
       "    <tr>\n",
       "      <th>1</th>\n",
       "      <td>0.000000</td>\n",
       "      <td>CH5AVAIL</td>\n",
       "    </tr>\n",
       "    <tr>\n",
       "      <th>2</th>\n",
       "      <td>0.000000</td>\n",
       "      <td>CH5ALARM</td>\n",
       "    </tr>\n",
       "    <tr>\n",
       "      <th>3</th>\n",
       "      <td>0.000000</td>\n",
       "      <td>CH5_CHWSTSP_Alarm</td>\n",
       "    </tr>\n",
       "    <tr>\n",
       "      <th>4</th>\n",
       "      <td>0.000000</td>\n",
       "      <td>CH4W$2fTon</td>\n",
       "    </tr>\n",
       "    <tr>\n",
       "      <th>5</th>\n",
       "      <td>0.000000</td>\n",
       "      <td>CH4Tons</td>\n",
       "    </tr>\n",
       "    <tr>\n",
       "      <th>6</th>\n",
       "      <td>0.000000</td>\n",
       "      <td>CH4SURGECNT</td>\n",
       "    </tr>\n",
       "    <tr>\n",
       "      <th>7</th>\n",
       "      <td>0.000000</td>\n",
       "      <td>CH4SS</td>\n",
       "    </tr>\n",
       "    <tr>\n",
       "      <th>8</th>\n",
       "      <td>0.000000</td>\n",
       "      <td>CH4SBoolean</td>\n",
       "    </tr>\n",
       "    <tr>\n",
       "      <th>9</th>\n",
       "      <td>0.000000</td>\n",
       "      <td>CH4S</td>\n",
       "    </tr>\n",
       "    <tr>\n",
       "      <th>10</th>\n",
       "      <td>0.000000</td>\n",
       "      <td>CH4PctLoad</td>\n",
       "    </tr>\n",
       "    <tr>\n",
       "      <th>11</th>\n",
       "      <td>0.000000</td>\n",
       "      <td>CH4F</td>\n",
       "    </tr>\n",
       "    <tr>\n",
       "      <th>12</th>\n",
       "      <td>0.000000</td>\n",
       "      <td>CH4COM1SPD</td>\n",
       "    </tr>\n",
       "    <tr>\n",
       "      <th>13</th>\n",
       "      <td>0.000000</td>\n",
       "      <td>CH4COM1S</td>\n",
       "    </tr>\n",
       "    <tr>\n",
       "      <th>14</th>\n",
       "      <td>0.000000</td>\n",
       "      <td>CH4CHWVLV</td>\n",
       "    </tr>\n",
       "    <tr>\n",
       "      <th>15</th>\n",
       "      <td>0.000000</td>\n",
       "      <td>CH4AVAIL</td>\n",
       "    </tr>\n",
       "    <tr>\n",
       "      <th>16</th>\n",
       "      <td>0.000000</td>\n",
       "      <td>CH4ALARM</td>\n",
       "    </tr>\n",
       "    <tr>\n",
       "      <th>17</th>\n",
       "      <td>0.000000</td>\n",
       "      <td>CH4_CHWSTSP_Alarm</td>\n",
       "    </tr>\n",
       "    <tr>\n",
       "      <th>18</th>\n",
       "      <td>0.000000</td>\n",
       "      <td>CH3SURGE</td>\n",
       "    </tr>\n",
       "    <tr>\n",
       "      <th>19</th>\n",
       "      <td>0.000000</td>\n",
       "      <td>CH3SBoolean</td>\n",
       "    </tr>\n",
       "    <tr>\n",
       "      <th>20</th>\n",
       "      <td>0.000000</td>\n",
       "      <td>CH3S</td>\n",
       "    </tr>\n",
       "    <tr>\n",
       "      <th>21</th>\n",
       "      <td>0.000000</td>\n",
       "      <td>CH3F</td>\n",
       "    </tr>\n",
       "    <tr>\n",
       "      <th>22</th>\n",
       "      <td>0.000000</td>\n",
       "      <td>CH3COM1IGV</td>\n",
       "    </tr>\n",
       "    <tr>\n",
       "      <th>23</th>\n",
       "      <td>0.000000</td>\n",
       "      <td>CH3CHWVLV</td>\n",
       "    </tr>\n",
       "    <tr>\n",
       "      <th>24</th>\n",
       "      <td>0.000000</td>\n",
       "      <td>CH5CDWVLV</td>\n",
       "    </tr>\n",
       "    <tr>\n",
       "      <th>25</th>\n",
       "      <td>0.000000</td>\n",
       "      <td>CH3ALARM</td>\n",
       "    </tr>\n",
       "    <tr>\n",
       "      <th>26</th>\n",
       "      <td>0.000000</td>\n",
       "      <td>CH5CHWVLV</td>\n",
       "    </tr>\n",
       "    <tr>\n",
       "      <th>27</th>\n",
       "      <td>0.000000</td>\n",
       "      <td>CH5COM1S</td>\n",
       "    </tr>\n",
       "    <tr>\n",
       "      <th>28</th>\n",
       "      <td>0.000000</td>\n",
       "      <td>CT5SPD_Alarm</td>\n",
       "    </tr>\n",
       "    <tr>\n",
       "      <th>29</th>\n",
       "      <td>0.000000</td>\n",
       "      <td>CT5Failed</td>\n",
       "    </tr>\n",
       "    <tr>\n",
       "      <th>...</th>\n",
       "      <td>...</td>\n",
       "      <td>...</td>\n",
       "    </tr>\n",
       "    <tr>\n",
       "      <th>160</th>\n",
       "      <td>2.367772</td>\n",
       "      <td>SCHWP3HZ</td>\n",
       "    </tr>\n",
       "    <tr>\n",
       "      <th>161</th>\n",
       "      <td>2.382365</td>\n",
       "      <td>CT5HZ</td>\n",
       "    </tr>\n",
       "    <tr>\n",
       "      <th>162</th>\n",
       "      <td>2.401667</td>\n",
       "      <td>CH5CDW_DeltaT</td>\n",
       "    </tr>\n",
       "    <tr>\n",
       "      <th>163</th>\n",
       "      <td>2.468387</td>\n",
       "      <td>SCHWP3SPD</td>\n",
       "    </tr>\n",
       "    <tr>\n",
       "      <th>164</th>\n",
       "      <td>2.525224</td>\n",
       "      <td>CT5SPD</td>\n",
       "    </tr>\n",
       "    <tr>\n",
       "      <th>165</th>\n",
       "      <td>2.533977</td>\n",
       "      <td>CHWRT</td>\n",
       "    </tr>\n",
       "    <tr>\n",
       "      <th>166</th>\n",
       "      <td>2.581291</td>\n",
       "      <td>CH3CHWRT</td>\n",
       "    </tr>\n",
       "    <tr>\n",
       "      <th>167</th>\n",
       "      <td>2.651316</td>\n",
       "      <td>CH5CDWST</td>\n",
       "    </tr>\n",
       "    <tr>\n",
       "      <th>168</th>\n",
       "      <td>2.812753</td>\n",
       "      <td>CHWDP2</td>\n",
       "    </tr>\n",
       "    <tr>\n",
       "      <th>169</th>\n",
       "      <td>2.876052</td>\n",
       "      <td>CH4CHWSTSP</td>\n",
       "    </tr>\n",
       "    <tr>\n",
       "      <th>170</th>\n",
       "      <td>3.371631</td>\n",
       "      <td>CH3EvapApproach</td>\n",
       "    </tr>\n",
       "    <tr>\n",
       "      <th>171</th>\n",
       "      <td>3.386686</td>\n",
       "      <td>CT4HZ</td>\n",
       "    </tr>\n",
       "    <tr>\n",
       "      <th>172</th>\n",
       "      <td>3.441167</td>\n",
       "      <td>CH5CompDiscSuperheat</td>\n",
       "    </tr>\n",
       "    <tr>\n",
       "      <th>173</th>\n",
       "      <td>3.572756</td>\n",
       "      <td>CH5PctLoad</td>\n",
       "    </tr>\n",
       "    <tr>\n",
       "      <th>174</th>\n",
       "      <td>3.785691</td>\n",
       "      <td>CH5CDWRT</td>\n",
       "    </tr>\n",
       "    <tr>\n",
       "      <th>175</th>\n",
       "      <td>4.385722</td>\n",
       "      <td>CH5Tons</td>\n",
       "    </tr>\n",
       "    <tr>\n",
       "      <th>176</th>\n",
       "      <td>4.409517</td>\n",
       "      <td>CH5CHWRT</td>\n",
       "    </tr>\n",
       "    <tr>\n",
       "      <th>177</th>\n",
       "      <td>4.638588</td>\n",
       "      <td>CH5CHWST</td>\n",
       "    </tr>\n",
       "    <tr>\n",
       "      <th>178</th>\n",
       "      <td>5.321551</td>\n",
       "      <td>CH5CDP</td>\n",
       "    </tr>\n",
       "    <tr>\n",
       "      <th>179</th>\n",
       "      <td>5.729927</td>\n",
       "      <td>MinCHDTLift</td>\n",
       "    </tr>\n",
       "    <tr>\n",
       "      <th>180</th>\n",
       "      <td>7.627801</td>\n",
       "      <td>CH5CHW_DeltaT</td>\n",
       "    </tr>\n",
       "    <tr>\n",
       "      <th>181</th>\n",
       "      <td>7.745825</td>\n",
       "      <td>MaxCHDTLift</td>\n",
       "    </tr>\n",
       "    <tr>\n",
       "      <th>182</th>\n",
       "      <td>7.831732</td>\n",
       "      <td>CH5EvapApproach</td>\n",
       "    </tr>\n",
       "    <tr>\n",
       "      <th>183</th>\n",
       "      <td>9.159490</td>\n",
       "      <td>CH5CDT</td>\n",
       "    </tr>\n",
       "    <tr>\n",
       "      <th>184</th>\n",
       "      <td>9.315382</td>\n",
       "      <td>CH4CondApproach</td>\n",
       "    </tr>\n",
       "    <tr>\n",
       "      <th>185</th>\n",
       "      <td>9.442678</td>\n",
       "      <td>CH5COM1SPD</td>\n",
       "    </tr>\n",
       "    <tr>\n",
       "      <th>186</th>\n",
       "      <td>9.744991</td>\n",
       "      <td>CH5FLA</td>\n",
       "    </tr>\n",
       "    <tr>\n",
       "      <th>187</th>\n",
       "      <td>16.102174</td>\n",
       "      <td>CH5CondApproach</td>\n",
       "    </tr>\n",
       "    <tr>\n",
       "      <th>188</th>\n",
       "      <td>99.589400</td>\n",
       "      <td>MaxCHDPLift</td>\n",
       "    </tr>\n",
       "    <tr>\n",
       "      <th>189</th>\n",
       "      <td>100.000000</td>\n",
       "      <td>MinCHDPLift</td>\n",
       "    </tr>\n",
       "  </tbody>\n",
       "</table>\n",
       "<p>190 rows × 2 columns</p>\n",
       "</div>"
      ],
      "text/plain": [
       "     feat_import          feature_name\n",
       "0       0.000000               CDWVLV2\n",
       "1       0.000000              CH5AVAIL\n",
       "2       0.000000              CH5ALARM\n",
       "3       0.000000     CH5_CHWSTSP_Alarm\n",
       "4       0.000000            CH4W$2fTon\n",
       "5       0.000000               CH4Tons\n",
       "6       0.000000           CH4SURGECNT\n",
       "7       0.000000                 CH4SS\n",
       "8       0.000000           CH4SBoolean\n",
       "9       0.000000                  CH4S\n",
       "10      0.000000            CH4PctLoad\n",
       "11      0.000000                  CH4F\n",
       "12      0.000000            CH4COM1SPD\n",
       "13      0.000000              CH4COM1S\n",
       "14      0.000000             CH4CHWVLV\n",
       "15      0.000000              CH4AVAIL\n",
       "16      0.000000              CH4ALARM\n",
       "17      0.000000     CH4_CHWSTSP_Alarm\n",
       "18      0.000000              CH3SURGE\n",
       "19      0.000000           CH3SBoolean\n",
       "20      0.000000                  CH3S\n",
       "21      0.000000                  CH3F\n",
       "22      0.000000            CH3COM1IGV\n",
       "23      0.000000             CH3CHWVLV\n",
       "24      0.000000             CH5CDWVLV\n",
       "25      0.000000              CH3ALARM\n",
       "26      0.000000             CH5CHWVLV\n",
       "27      0.000000              CH5COM1S\n",
       "28      0.000000          CT5SPD_Alarm\n",
       "29      0.000000             CT5Failed\n",
       "..           ...                   ...\n",
       "160     2.367772              SCHWP3HZ\n",
       "161     2.382365                 CT5HZ\n",
       "162     2.401667         CH5CDW_DeltaT\n",
       "163     2.468387             SCHWP3SPD\n",
       "164     2.525224                CT5SPD\n",
       "165     2.533977                 CHWRT\n",
       "166     2.581291              CH3CHWRT\n",
       "167     2.651316              CH5CDWST\n",
       "168     2.812753                CHWDP2\n",
       "169     2.876052            CH4CHWSTSP\n",
       "170     3.371631       CH3EvapApproach\n",
       "171     3.386686                 CT4HZ\n",
       "172     3.441167  CH5CompDiscSuperheat\n",
       "173     3.572756            CH5PctLoad\n",
       "174     3.785691              CH5CDWRT\n",
       "175     4.385722               CH5Tons\n",
       "176     4.409517              CH5CHWRT\n",
       "177     4.638588              CH5CHWST\n",
       "178     5.321551                CH5CDP\n",
       "179     5.729927           MinCHDTLift\n",
       "180     7.627801         CH5CHW_DeltaT\n",
       "181     7.745825           MaxCHDTLift\n",
       "182     7.831732       CH5EvapApproach\n",
       "183     9.159490                CH5CDT\n",
       "184     9.315382       CH4CondApproach\n",
       "185     9.442678            CH5COM1SPD\n",
       "186     9.744991                CH5FLA\n",
       "187    16.102174       CH5CondApproach\n",
       "188    99.589400           MaxCHDPLift\n",
       "189   100.000000           MinCHDPLift\n",
       "\n",
       "[190 rows x 2 columns]"
      ]
     },
     "execution_count": 20,
     "metadata": {},
     "output_type": "execute_result"
    }
   ],
   "source": [
    "df_feats"
   ]
  },
  {
   "cell_type": "code",
   "execution_count": 22,
   "metadata": {
    "collapsed": true
   },
   "outputs": [],
   "source": [
    "df_feats.to_csv('Feat_imp_winter_test_plt1_2017_18.csv')"
   ]
  },
  {
   "cell_type": "code",
   "execution_count": null,
   "metadata": {
    "collapsed": true
   },
   "outputs": [],
   "source": []
  }
 ],
 "metadata": {
  "kernelspec": {
   "display_name": "Python 3",
   "language": "python",
   "name": "python3"
  },
  "language_info": {
   "codemirror_mode": {
    "name": "ipython",
    "version": 3
   },
   "file_extension": ".py",
   "mimetype": "text/x-python",
   "name": "python",
   "nbconvert_exporter": "python",
   "pygments_lexer": "ipython3",
   "version": "3.6.3"
  }
 },
 "nbformat": 4,
 "nbformat_minor": 2
}
