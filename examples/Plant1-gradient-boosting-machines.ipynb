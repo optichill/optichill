{
 "cells": [
  {
   "cell_type": "markdown",
   "metadata": {},
   "source": [
    "# Chiller plant decision tree analysis\n",
    "\n",
    "The purpose of this notebook is to analyze the features and data with gradient boosting machines."
   ]
  },
  {
   "cell_type": "code",
   "execution_count": 1,
   "metadata": {
    "scrolled": false
   },
   "outputs": [
    {
     "name": "stderr",
     "output_type": "stream",
     "text": [
      "C:\\Users\\Owner\\Miniconda3\\lib\\site-packages\\sklearn\\cross_validation.py:41: DeprecationWarning: This module was deprecated in version 0.18 in favor of the model_selection module into which all the refactored classes and functions are moved. Also note that the interface of the new CV iterators are different from that of this module. This module will be removed in 0.20.\n",
      "  \"This module will be removed in 0.20.\", DeprecationWarning)\n"
     ]
    }
   ],
   "source": [
    "import pandas as pd\n",
    "import numpy as np\n",
    "from sklearn.cross_validation import train_test_split\n",
    "from sklearn import metrics\n",
    "from sklearn.ensemble import GradientBoostingRegressor\n",
    "import matplotlib.pyplot as plt\n",
    "from sklearn.metrics import mean_squared_error\n",
    "from sklearn.metrics import r2_score\n",
    "import seaborn as sns\n",
    "import glob\n",
    "import os\n",
    "\n",
    "# code to add to import from optichill folder\n",
    "import sys\n",
    "module_path = os.path.abspath(os.path.join('..'))\n",
    "if module_path not in sys.path:\n",
    "    sys.path.append(module_path)\n",
    "\n",
    "from optichill import bas_filter\n",
    "\n",
    "%matplotlib inline"
   ]
  },
  {
   "cell_type": "code",
   "execution_count": 2,
   "metadata": {},
   "outputs": [
    {
     "name": "stdout",
     "output_type": "stream",
     "text": [
      "['../../Plt1\\\\Plt1 m 2016-11.csv', '../../Plt1\\\\Plt1 m 2016-12.csv', '../../Plt1\\\\Plt1 m 2017-01.csv', '../../Plt1\\\\Plt1 m 2017-02.csv', '../../Plt1\\\\Plt1 m 2017-03.csv', '../../Plt1\\\\Plt1 m 2017-04.csv', '../../Plt1\\\\Plt1 m 2017-05.csv', '../../Plt1\\\\Plt1 m 2017-06.csv', '../../Plt1\\\\Plt1 m 2017-07.csv', '../../Plt1\\\\Plt1 m 2017-08.csv', '../../Plt1\\\\Plt1 m 2017-09.csv', '../../Plt1\\\\Plt1 m 2017-10.csv', '../../Plt1\\\\Plt1 m 2017-11.csv', '../../Plt1\\\\Plt1 m 2017-12.csv', '../../Plt1\\\\Plt1 m 2018-01.csv', '../../Plt1\\\\Plt1 m 2018-02.csv', '../../Plt1\\\\Plt1 m 2018-03.csv', '../../Plt1\\\\Plt1 m 2018-04.csv']\n"
     ]
    }
   ],
   "source": [
    "print(glob.glob(\"../../Plt1/Plt1 m*\"))"
   ]
  },
  {
   "cell_type": "code",
   "execution_count": 3,
   "metadata": {},
   "outputs": [
    {
     "name": "stdout",
     "output_type": "stream",
     "text": [
      "['Plt1 m 2016-11.csv', 'Plt1 m 2016-12.csv', 'Plt1 m 2017-01.csv', 'Plt1 m 2017-02.csv', 'Plt1 m 2017-03.csv', 'Plt1 m 2017-04.csv', 'Plt1 m 2017-05.csv', 'Plt1 m 2017-06.csv', 'Plt1 m 2017-07.csv', 'Plt1 m 2017-08.csv', 'Plt1 m 2017-09.csv', 'Plt1 m 2017-10.csv', 'Plt1 m 2017-11.csv', 'Plt1 m 2017-12.csv', 'Plt1 m 2018-01.csv', 'Plt1 m 2018-02.csv', 'Plt1 m 2018-03.csv', 'Plt1 m 2018-04.csv']\n",
      "['../../Plt1\\\\Plt1 m 2016-11.csv']\n",
      "['../../Plt1\\\\Plt1 m 2016-12.csv']\n",
      "['../../Plt1\\\\Plt1 m 2017-01.csv']\n",
      "['../../Plt1\\\\Plt1 m 2017-02.csv']\n",
      "['../../Plt1\\\\Plt1 m 2017-03.csv']\n",
      "['../../Plt1\\\\Plt1 m 2017-04.csv']\n",
      "['../../Plt1\\\\Plt1 m 2017-05.csv']\n",
      "['../../Plt1\\\\Plt1 m 2017-06.csv']\n",
      "['../../Plt1\\\\Plt1 m 2017-07.csv']\n",
      "['../../Plt1\\\\Plt1 m 2017-08.csv']\n",
      "['../../Plt1\\\\Plt1 m 2017-09.csv']\n",
      "['../../Plt1\\\\Plt1 m 2017-10.csv']\n",
      "['../../Plt1\\\\Plt1 m 2017-11.csv']\n",
      "['../../Plt1\\\\Plt1 m 2017-12.csv']\n",
      "['../../Plt1\\\\Plt1 m 2018-01.csv']\n",
      "['../../Plt1\\\\Plt1 m 2018-02.csv']\n",
      "['../../Plt1\\\\Plt1 m 2018-03.csv']\n",
      "['../../Plt1\\\\Plt1 m 2018-04.csv']\n",
      "Descriptors in the points list that are not in the datasets.\n",
      "CommunicationFailure_COV\n",
      "CH3COM1F\n",
      "CH3Ready\n",
      "CH4COM1F\n",
      "CH4Ready\n",
      "CH4SURGE\n",
      "CH5COM1F\n",
      "CH5Ready\n",
      "Original data contains 147564 points and 414 dimensions.\n",
      "A CDWP3SPD_Alarm was noted and 23192 datapoints were removed from the dataset.\n",
      "A CDWP4Failed was noted and 23192 datapoints were removed from the dataset.\n",
      "A CDWP4SPD_Alarm was noted and 38839 datapoints were removed from the dataset.\n",
      "A CDWP5Failed was noted and 38839 datapoints were removed from the dataset.\n",
      "A CDWP5SPD_Alarm was noted and 82145 datapoints were removed from the dataset.\n",
      "A CH3_CHWSTSP_Alarm was noted and 82145 datapoints were removed from the dataset.\n",
      "A CH3ALARM was noted and 82390 datapoints were removed from the dataset.\n",
      "A CH3F was noted and 82390 datapoints were removed from the dataset.\n",
      "A CH4_CHWSTSP_Alarm was noted and 82390 datapoints were removed from the dataset.\n",
      "A CH4ALARM was noted and 82432 datapoints were removed from the dataset.\n",
      "A CH4F was noted and 86228 datapoints were removed from the dataset.\n",
      "A CH5_CHWSTSP_Alarm was noted and 86228 datapoints were removed from the dataset.\n",
      "A CH5ALARM was noted and 86358 datapoints were removed from the dataset.\n",
      "A CH5F was noted and 86358 datapoints were removed from the dataset.\n",
      "A CommunicationFailure was noted and 86358 datapoints were removed from the dataset.\n",
      "A CT4Failed was noted and 86358 datapoints were removed from the dataset.\n",
      "A CT4SPD_Alarm was noted and 86373 datapoints were removed from the dataset.\n",
      "A CT5Failed was noted and 86373 datapoints were removed from the dataset.\n",
      "A CT5SPD_Alarm was noted and 86376 datapoints were removed from the dataset.\n",
      "A CTTR_ALARM was noted and 86890 datapoints were removed from the dataset.\n",
      "A PCHWP3Failed was noted and 87682 datapoints were removed from the dataset.\n",
      "A PCHWP4Failed was noted and 87682 datapoints were removed from the dataset.\n",
      "A PCHWP5Failed was noted and 87682 datapoints were removed from the dataset.\n",
      "A SCHWP3Failed was noted and 87682 datapoints were removed from the dataset.\n",
      "A SCHWP4Failed was noted and 87682 datapoints were removed from the dataset.\n",
      "A SCHWP5Failed was noted and 87682 datapoints were removed from the dataset.\n",
      "Filtered data contains 52425 points and 193 dimensions.\n"
     ]
    }
   ],
   "source": [
    "new_files_list = []\n",
    "\n",
    "all_minute_files_list = glob.glob(\"../../Plt1/Plt1 m*\")\n",
    "for element in all_minute_files_list:\n",
    "    new_files_name = element.replace('../../Plt1\\\\', '')\n",
    "    new_files_list.append(new_files_name)\n",
    "\n",
    "print(new_files_list)\n",
    "\n",
    "df = bas_filter.import_and_filter(\n",
    "    '../../Plt1', new_files_list, '../../Plt1/Plt1 Points List.xlsx',\n",
    "    include_alarms=False\n",
    ")"
   ]
  },
  {
   "cell_type": "code",
   "execution_count": 4,
   "metadata": {},
   "outputs": [
    {
     "data": {
      "text/plain": [
       "<matplotlib.collections.PathCollection at 0x20400bf1c50>"
      ]
     },
     "execution_count": 4,
     "metadata": {},
     "output_type": "execute_result"
    },
    {
     "data": {
      "image/png": "[encoded data removed]",
      "text/plain": [
       "<matplotlib.figure.Figure at 0x20462ddd5f8>"
      ]
     },
     "metadata": {},
     "output_type": "display_data"
    }
   ],
   "source": [
    "plt.scatter(df['kW/Ton'], df['kW/Ton'])\n",
    "# plt.xlim(xmax=1.0)\n",
    "# plt.xlim(xmin=0.2)\n",
    "# plt.ylim(ymax=1.0)\n",
    "# plt.ylim(ymin=0.2)"
   ]
  },
  {
   "cell_type": "code",
   "execution_count": 7,
   "metadata": {},
   "outputs": [],
   "source": [
    "X = df.drop(['kW/Ton'], axis=1).values\n",
    "Y = df['kW/Ton'].values"
   ]
  },
  {
   "cell_type": "code",
   "execution_count": 8,
   "metadata": {},
   "outputs": [],
   "source": [
    "xtrain, xtest, ytrain, ytest = train_test_split(X, Y, test_size=0.25,\n",
    "                                               random_state=3393)"
   ]
  },
  {
   "cell_type": "code",
   "execution_count": 9,
   "metadata": {},
   "outputs": [],
   "source": [
    "params = {'n_estimators': 500, 'max_depth': 6, 'min_samples_split': 2,\n",
    "          'learning_rate': 0.01, 'loss': 'ls'}"
   ]
  },
  {
   "cell_type": "code",
   "execution_count": 10,
   "metadata": {},
   "outputs": [],
   "source": [
    "clf = GradientBoostingRegressor(**params)"
   ]
  },
  {
   "cell_type": "code",
   "execution_count": 11,
   "metadata": {},
   "outputs": [
    {
     "data": {
      "text/plain": [
       "GradientBoostingRegressor(alpha=0.9, criterion='friedman_mse', init=None,\n",
       "             learning_rate=0.01, loss='ls', max_depth=6, max_features=None,\n",
       "             max_leaf_nodes=None, min_impurity_decrease=0.0,\n",
       "             min_impurity_split=None, min_samples_leaf=1,\n",
       "             min_samples_split=2, min_weight_fraction_leaf=0.0,\n",
       "             n_estimators=500, presort='auto', random_state=None,\n",
       "             subsample=1.0, verbose=0, warm_start=False)"
      ]
     },
     "execution_count": 11,
     "metadata": {},
     "output_type": "execute_result"
    }
   ],
   "source": [
    "clf.fit(xtrain, ytrain)"
   ]
  },
  {
   "cell_type": "code",
   "execution_count": 12,
   "metadata": {},
   "outputs": [],
   "source": [
    "y1 = clf.predict(xtest)"
   ]
  },
  {
   "cell_type": "code",
   "execution_count": 13,
   "metadata": {},
   "outputs": [
    {
     "name": "stdout",
     "output_type": "stream",
     "text": [
      "Mean Absolute Error: 0.005736614995355446\n",
      "Mean Squared Error: 9.516155782639169e-05\n",
      "Root Mean Squared Error: 0.009755078565874889\n"
     ]
    }
   ],
   "source": [
    "print('Mean Absolute Error:', metrics.mean_absolute_error(ytest, y1))\n",
    "print('Mean Squared Error:', metrics.mean_squared_error(ytest, y1))\n",
    "print('Root Mean Squared Error:', np.sqrt(\n",
    "    metrics.mean_squared_error(ytest, y1)))"
   ]
  },
  {
   "cell_type": "code",
   "execution_count": 29,
   "metadata": {
    "scrolled": true
   },
   "outputs": [
    {
     "data": {
      "image/png": "[encoded data removed]",
      "text/plain": [
       "<matplotlib.figure.Figure at 0x204006d3710>"
      ]
     },
     "metadata": {},
     "output_type": "display_data"
    }
   ],
   "source": [
    "sns.set()\n",
    "plt.figure()\n",
    "plt.scatter(ytest, y1)\n",
    "fs = 20\n",
    "plt.title(\"Chiller Plant Efficiency in kW/Ton\", fontsize=fs)\n",
    "plt.xlabel(\"Experimental Data\", fontsize=fs-4)\n",
    "plt.ylabel(\"Model Predictions\", fontsize=fs-4)\n",
    "# plt.xlim(xmax=0.75)\n",
    "# plt.ylim(ymax=0.75)\n",
    "plt.savefig('r2_values_plt1.png', bbox_inches='tight')"
   ]
  },
  {
   "cell_type": "code",
   "execution_count": 30,
   "metadata": {},
   "outputs": [
    {
     "data": {
      "text/plain": [
       "0.982727431247345"
      ]
     },
     "execution_count": 30,
     "metadata": {},
     "output_type": "execute_result"
    }
   ],
   "source": [
    "test_score = r2_score(ytest, y1)\n",
    "test_score"
   ]
  },
  {
   "cell_type": "code",
   "execution_count": 16,
   "metadata": {},
   "outputs": [],
   "source": [
    "test_score = np.zeros((params['n_estimators'],), dtype=np.float64)"
   ]
  },
  {
   "cell_type": "code",
   "execution_count": 17,
   "metadata": {},
   "outputs": [],
   "source": [
    "for i, ypred in enumerate(clf.staged_predict(xtest)):\n",
    "    test_score[i] = clf.loss_(ytest, ypred)"
   ]
  },
  {
   "cell_type": "code",
   "execution_count": 18,
   "metadata": {},
   "outputs": [
    {
     "data": {
      "text/plain": [
       "Text(0,0.5,'Deviance')"
      ]
     },
     "execution_count": 18,
     "metadata": {},
     "output_type": "execute_result"
    },
    {
     "data": {
      "image/png": "[encoded data removed]",
      "text/plain": [
       "<matplotlib.figure.Figure at 0x204002e6160>"
      ]
     },
     "metadata": {},
     "output_type": "display_data"
    }
   ],
   "source": [
    "plt.figure(figsize=(12, 6))\n",
    "plt.subplot(1, 2, 1)\n",
    "plt.title('Deviance')\n",
    "plt.plot(np.arange(params['n_estimators']) + 1, clf.train_score_, 'b-',\n",
    "         label='Training Set Deviance')\n",
    "plt.plot(np.arange(params['n_estimators']) + 1, test_score, 'r-',\n",
    "         label='Test Set Deviance')\n",
    "plt.legend(loc='upper right')\n",
    "plt.xlabel('Boosting Iterations')\n",
    "plt.ylabel('Deviance')"
   ]
  },
  {
   "cell_type": "code",
   "execution_count": 19,
   "metadata": {},
   "outputs": [
    {
     "data": {
      "image/png": "[encoded data removed]",
      "text/plain": [
       "<matplotlib.figure.Figure at 0x204009716d8>"
      ]
     },
     "metadata": {},
     "output_type": "display_data"
    }
   ],
   "source": [
    "# Plot feature importance\n",
    "feature_importance = clf.feature_importances_\n",
    "# make importances relative to max importance\n",
    "feature_importance = 100.0 * (feature_importance / feature_importance.max())\n",
    "sorted_idx = np.argsort(feature_importance)\n",
    "pos = np.arange(sorted_idx.shape[0]) + .5\n",
    "plt.subplot(1,2,1)\n",
    "plt.barh(pos, feature_importance[sorted_idx], align='center')\n",
    "plt.yticks(pos, df.columns[sorted_idx])\n",
    "plt.xlabel('Relative Importance')\n",
    "plt.title('Variable Importance')\n",
    "plt.show()"
   ]
  },
  {
   "cell_type": "code",
   "execution_count": 20,
   "metadata": {},
   "outputs": [],
   "source": [
    "x = df.columns[sorted_idx]"
   ]
  },
  {
   "cell_type": "code",
   "execution_count": 21,
   "metadata": {},
   "outputs": [
    {
     "name": "stdout",
     "output_type": "stream",
     "text": [
      "Index(['CDWVLV', 'CH5_CHWSTSP_Alarm', 'CH4SURGECNT', 'CH4F', 'CH4ALARM',\n",
      "       'CH4_CHWSTSP_Alarm', 'CH3SURGE', 'CH3SBoolean', 'CH5ALARM', 'CH3F',\n",
      "       ...\n",
      "       'CHWST', 'CH5FLA', 'CH5CHWST', 'CH4CHWSTSP', 'CT5HZ', 'CH5DPLift',\n",
      "       'CH5CondApproach', 'MinCHDPLift', 'MaxCHDPLift', 'CH5DISTEMP'],\n",
      "      dtype='object', length=192)\n"
     ]
    }
   ],
   "source": [
    "print(x)"
   ]
  },
  {
   "cell_type": "code",
   "execution_count": 22,
   "metadata": {},
   "outputs": [
    {
     "name": "stdout",
     "output_type": "stream",
     "text": [
      "[  0 124 121 115  92  91  88  86 125  82  58  57  52  51  49  47  46  71\n",
      " 139 140 150 189 185 182 180 178 177 175 173 171 169 165 163 159 156 155\n",
      " 154 153  44  42 191  15  39   1  19  18  37  27  12  11  10  32 119  85\n",
      " 157  41 176 118 126  70 132 105 138 190 183  56  87 184 187  34 104 167\n",
      " 120  83 170  59  36 161  54 164  40 106  38  72  31  29  33  61  63 117\n",
      "  89  16  81  77   5 122 127 162 110  35 113  28  94 107  60 101  99  96\n",
      "  30  84  93  97  78 114  24  90  62  74 109 149  14  95  53 181  65  75\n",
      "  25 111  68  17 160 179 102   4  73  26 116  76  64 134 100 168 130 131\n",
      "   6  98  67  80 166 108   2 128 112   3 172 152 174 146 129  13  23 158\n",
      "  43 137  50  21  79 188  66  55  48 141 148 135 123   8 133  69 142   9\n",
      " 147  45   7 151 136 103 186 145 143  22  20 144]\n"
     ]
    }
   ],
   "source": [
    "print(sorted_idx)"
   ]
  },
  {
   "cell_type": "code",
   "execution_count": 23,
   "metadata": {},
   "outputs": [
    {
     "name": "stdout",
     "output_type": "stream",
     "text": [
      "[0.00000000e+00 0.00000000e+00 0.00000000e+00 0.00000000e+00\n",
      " 0.00000000e+00 0.00000000e+00 0.00000000e+00 0.00000000e+00\n",
      " 0.00000000e+00 0.00000000e+00 0.00000000e+00 0.00000000e+00\n",
      " 0.00000000e+00 0.00000000e+00 0.00000000e+00 0.00000000e+00\n",
      " 0.00000000e+00 0.00000000e+00 0.00000000e+00 0.00000000e+00\n",
      " 0.00000000e+00 0.00000000e+00 0.00000000e+00 0.00000000e+00\n",
      " 0.00000000e+00 0.00000000e+00 0.00000000e+00 0.00000000e+00\n",
      " 0.00000000e+00 0.00000000e+00 0.00000000e+00 0.00000000e+00\n",
      " 0.00000000e+00 0.00000000e+00 0.00000000e+00 0.00000000e+00\n",
      " 0.00000000e+00 0.00000000e+00 0.00000000e+00 0.00000000e+00\n",
      " 0.00000000e+00 0.00000000e+00 0.00000000e+00 0.00000000e+00\n",
      " 0.00000000e+00 0.00000000e+00 0.00000000e+00 0.00000000e+00\n",
      " 0.00000000e+00 0.00000000e+00 0.00000000e+00 0.00000000e+00\n",
      " 8.21250263e-06 1.24429551e-05 2.15200755e-05 3.09903599e-05\n",
      " 1.26447556e-04 1.55292408e-04 2.39467203e-04 2.89195946e-04\n",
      " 7.81210813e-04 1.44741820e-03 2.16177641e-03 4.40881251e-03\n",
      " 6.24920008e-03 7.09516234e-03 7.60046620e-03 9.51623312e-03\n",
      " 1.14911775e-02 1.61446428e-02 1.82670902e-02 2.02617496e-02\n",
      " 2.63202105e-02 2.77498298e-02 2.86897403e-02 3.05167975e-02\n",
      " 3.14423406e-02 3.81999893e-02 3.95335496e-02 4.16048085e-02\n",
      " 4.70127809e-02 5.75314764e-02 5.85180283e-02 5.86447990e-02\n",
      " 6.81362729e-02 7.32870125e-02 8.56078731e-02 1.10017594e-01\n",
      " 1.19130451e-01 1.28583280e-01 1.34706589e-01 1.37492464e-01\n",
      " 1.58409571e-01 1.80339721e-01 1.95316105e-01 2.01220733e-01\n",
      " 2.03536514e-01 2.16715821e-01 2.20027437e-01 2.33265013e-01\n",
      " 2.55708451e-01 2.81676656e-01 2.86708506e-01 3.17255510e-01\n",
      " 3.28552528e-01 3.30031684e-01 3.30656896e-01 3.36215103e-01\n",
      " 3.37539791e-01 3.48941865e-01 3.54026726e-01 3.58302184e-01\n",
      " 3.74988119e-01 3.98664219e-01 4.07734360e-01 4.12000811e-01\n",
      " 4.14755239e-01 4.17990381e-01 4.39083646e-01 4.39797961e-01\n",
      " 4.58902953e-01 4.80631312e-01 5.04271563e-01 5.06298577e-01\n",
      " 5.15276131e-01 5.36373746e-01 5.64420027e-01 5.74660588e-01\n",
      " 5.94163084e-01 6.10551998e-01 6.16606697e-01 6.43357808e-01\n",
      " 6.85774771e-01 7.15012781e-01 7.52553670e-01 7.95088229e-01\n",
      " 8.00428132e-01 8.31533368e-01 8.75736102e-01 8.84866120e-01\n",
      " 9.38863016e-01 9.59526167e-01 9.61124671e-01 9.96534046e-01\n",
      " 1.00647652e+00 1.05291029e+00 1.10031056e+00 1.14111002e+00\n",
      " 1.15252542e+00 1.19417230e+00 1.24688371e+00 1.30587402e+00\n",
      " 1.33124848e+00 1.38642565e+00 1.72255107e+00 1.74880685e+00\n",
      " 1.89399210e+00 1.95478212e+00 2.59799889e+00 2.65906656e+00\n",
      " 2.77919790e+00 2.79411071e+00 2.97681622e+00 3.03996741e+00\n",
      " 3.76308062e+00 3.88203311e+00 4.00670325e+00 4.10659929e+00\n",
      " 4.35945458e+00 4.38519812e+00 4.46329903e+00 4.54363017e+00\n",
      " 4.88723508e+00 5.50550331e+00 6.24866269e+00 6.47257429e+00\n",
      " 6.66852195e+00 6.92178145e+00 8.02235558e+00 8.30070011e+00\n",
      " 8.49524757e+00 9.10351809e+00 9.14874817e+00 1.22576507e+01\n",
      " 1.23884193e+01 1.78876874e+01 1.98679803e+01 2.00548144e+01\n",
      " 2.13456059e+01 3.34868651e+01 4.85784028e+01 1.00000000e+02]\n"
     ]
    }
   ],
   "source": [
    "print(feature_importance[sorted_idx])\n",
    "imp = feature_importance[sorted_idx]"
   ]
  },
  {
   "cell_type": "code",
   "execution_count": 24,
   "metadata": {},
   "outputs": [],
   "source": [
    "df_feats = pd.DataFrame({'feature_name': x, 'feat_import': imp})"
   ]
  },
  {
   "cell_type": "code",
   "execution_count": 25,
   "metadata": {
    "scrolled": true
   },
   "outputs": [
    {
     "data": {
      "text/html": [
       "<div>\n",
       "<style scoped>\n",
       "    .dataframe tbody tr th:only-of-type {\n",
       "        vertical-align: middle;\n",
       "    }\n",
       "\n",
       "    .dataframe tbody tr th {\n",
       "        vertical-align: top;\n",
       "    }\n",
       "\n",
       "    .dataframe thead th {\n",
       "        text-align: right;\n",
       "    }\n",
       "</style>\n",
       "<table border=\"1\" class=\"dataframe\">\n",
       "  <thead>\n",
       "    <tr style=\"text-align: right;\">\n",
       "      <th></th>\n",
       "      <th>feat_import</th>\n",
       "      <th>feature_name</th>\n",
       "    </tr>\n",
       "  </thead>\n",
       "  <tbody>\n",
       "    <tr>\n",
       "      <th>0</th>\n",
       "      <td>0.000000</td>\n",
       "      <td>CDWVLV</td>\n",
       "    </tr>\n",
       "    <tr>\n",
       "      <th>1</th>\n",
       "      <td>0.000000</td>\n",
       "      <td>CH5_CHWSTSP_Alarm</td>\n",
       "    </tr>\n",
       "    <tr>\n",
       "      <th>2</th>\n",
       "      <td>0.000000</td>\n",
       "      <td>CH4SURGECNT</td>\n",
       "    </tr>\n",
       "    <tr>\n",
       "      <th>3</th>\n",
       "      <td>0.000000</td>\n",
       "      <td>CH4F</td>\n",
       "    </tr>\n",
       "    <tr>\n",
       "      <th>4</th>\n",
       "      <td>0.000000</td>\n",
       "      <td>CH4ALARM</td>\n",
       "    </tr>\n",
       "    <tr>\n",
       "      <th>5</th>\n",
       "      <td>0.000000</td>\n",
       "      <td>CH4_CHWSTSP_Alarm</td>\n",
       "    </tr>\n",
       "    <tr>\n",
       "      <th>6</th>\n",
       "      <td>0.000000</td>\n",
       "      <td>CH3SURGE</td>\n",
       "    </tr>\n",
       "    <tr>\n",
       "      <th>7</th>\n",
       "      <td>0.000000</td>\n",
       "      <td>CH3SBoolean</td>\n",
       "    </tr>\n",
       "    <tr>\n",
       "      <th>8</th>\n",
       "      <td>0.000000</td>\n",
       "      <td>CH5ALARM</td>\n",
       "    </tr>\n",
       "    <tr>\n",
       "      <th>9</th>\n",
       "      <td>0.000000</td>\n",
       "      <td>CH3F</td>\n",
       "    </tr>\n",
       "    <tr>\n",
       "      <th>10</th>\n",
       "      <td>0.000000</td>\n",
       "      <td>CH3ALARM</td>\n",
       "    </tr>\n",
       "    <tr>\n",
       "      <th>11</th>\n",
       "      <td>0.000000</td>\n",
       "      <td>CH3_CHWSTSP_Alarm</td>\n",
       "    </tr>\n",
       "    <tr>\n",
       "      <th>12</th>\n",
       "      <td>0.000000</td>\n",
       "      <td>SCHWP5Failed</td>\n",
       "    </tr>\n",
       "    <tr>\n",
       "      <th>13</th>\n",
       "      <td>0.000000</td>\n",
       "      <td>SCHWP4SS</td>\n",
       "    </tr>\n",
       "    <tr>\n",
       "      <th>14</th>\n",
       "      <td>0.000000</td>\n",
       "      <td>SCHWP4S</td>\n",
       "    </tr>\n",
       "    <tr>\n",
       "      <th>15</th>\n",
       "      <td>0.000000</td>\n",
       "      <td>SCHWP4Failed</td>\n",
       "    </tr>\n",
       "    <tr>\n",
       "      <th>16</th>\n",
       "      <td>0.000000</td>\n",
       "      <td>SCHWP3SS</td>\n",
       "    </tr>\n",
       "    <tr>\n",
       "      <th>17</th>\n",
       "      <td>0.000000</td>\n",
       "      <td>CH3COM1IGV</td>\n",
       "    </tr>\n",
       "    <tr>\n",
       "      <th>18</th>\n",
       "      <td>0.000000</td>\n",
       "      <td>CH5COM1IGV</td>\n",
       "    </tr>\n",
       "    <tr>\n",
       "      <th>19</th>\n",
       "      <td>0.000000</td>\n",
       "      <td>CH5COM1S</td>\n",
       "    </tr>\n",
       "    <tr>\n",
       "      <th>20</th>\n",
       "      <td>0.000000</td>\n",
       "      <td>CH5F</td>\n",
       "    </tr>\n",
       "    <tr>\n",
       "      <th>21</th>\n",
       "      <td>0.000000</td>\n",
       "      <td>CT5SPD_Alarm</td>\n",
       "    </tr>\n",
       "    <tr>\n",
       "      <th>22</th>\n",
       "      <td>0.000000</td>\n",
       "      <td>CT5Failed</td>\n",
       "    </tr>\n",
       "    <tr>\n",
       "      <th>23</th>\n",
       "      <td>0.000000</td>\n",
       "      <td>CT4SPD_Alarm</td>\n",
       "    </tr>\n",
       "    <tr>\n",
       "      <th>24</th>\n",
       "      <td>0.000000</td>\n",
       "      <td>CT4S</td>\n",
       "    </tr>\n",
       "    <tr>\n",
       "      <th>25</th>\n",
       "      <td>0.000000</td>\n",
       "      <td>CT4Failed</td>\n",
       "    </tr>\n",
       "    <tr>\n",
       "      <th>26</th>\n",
       "      <td>0.000000</td>\n",
       "      <td>CT4EVLV</td>\n",
       "    </tr>\n",
       "    <tr>\n",
       "      <th>27</th>\n",
       "      <td>0.000000</td>\n",
       "      <td>CDWP5SPD_Alarm</td>\n",
       "    </tr>\n",
       "    <tr>\n",
       "      <th>28</th>\n",
       "      <td>0.000000</td>\n",
       "      <td>CDWP5S</td>\n",
       "    </tr>\n",
       "    <tr>\n",
       "      <th>29</th>\n",
       "      <td>0.000000</td>\n",
       "      <td>CDWP5Failed</td>\n",
       "    </tr>\n",
       "    <tr>\n",
       "      <th>...</th>\n",
       "      <td>...</td>\n",
       "      <td>...</td>\n",
       "    </tr>\n",
       "    <tr>\n",
       "      <th>162</th>\n",
       "      <td>2.976816</td>\n",
       "      <td>SCHWP3HZ</td>\n",
       "    </tr>\n",
       "    <tr>\n",
       "      <th>163</th>\n",
       "      <td>3.039967</td>\n",
       "      <td>CH5CHWSTSP</td>\n",
       "    </tr>\n",
       "    <tr>\n",
       "      <th>164</th>\n",
       "      <td>3.763081</td>\n",
       "      <td>SCHWP4SPD</td>\n",
       "    </tr>\n",
       "    <tr>\n",
       "      <th>165</th>\n",
       "      <td>3.882033</td>\n",
       "      <td>MaxCHDTLift</td>\n",
       "    </tr>\n",
       "    <tr>\n",
       "      <th>166</th>\n",
       "      <td>4.006703</td>\n",
       "      <td>CH3EvapApproach</td>\n",
       "    </tr>\n",
       "    <tr>\n",
       "      <th>167</th>\n",
       "      <td>4.106599</td>\n",
       "      <td>CT5SPD</td>\n",
       "    </tr>\n",
       "    <tr>\n",
       "      <th>168</th>\n",
       "      <td>4.359455</td>\n",
       "      <td>CH3CHWFLO</td>\n",
       "    </tr>\n",
       "    <tr>\n",
       "      <th>169</th>\n",
       "      <td>4.385198</td>\n",
       "      <td>SCHWP5SPD</td>\n",
       "    </tr>\n",
       "    <tr>\n",
       "      <th>170</th>\n",
       "      <td>4.463299</td>\n",
       "      <td>SCHWP4HZ</td>\n",
       "    </tr>\n",
       "    <tr>\n",
       "      <th>171</th>\n",
       "      <td>4.543630</td>\n",
       "      <td>CH5COM1SPD</td>\n",
       "    </tr>\n",
       "    <tr>\n",
       "      <th>172</th>\n",
       "      <td>4.887235</td>\n",
       "      <td>CH5EVP</td>\n",
       "    </tr>\n",
       "    <tr>\n",
       "      <th>173</th>\n",
       "      <td>5.505503</td>\n",
       "      <td>CH5CHWRT</td>\n",
       "    </tr>\n",
       "    <tr>\n",
       "      <th>174</th>\n",
       "      <td>6.248663</td>\n",
       "      <td>CH4W$2fTon</td>\n",
       "    </tr>\n",
       "    <tr>\n",
       "      <th>175</th>\n",
       "      <td>6.472574</td>\n",
       "      <td>CHWST2</td>\n",
       "    </tr>\n",
       "    <tr>\n",
       "      <th>176</th>\n",
       "      <td>6.668522</td>\n",
       "      <td>CH5CHW_DeltaT</td>\n",
       "    </tr>\n",
       "    <tr>\n",
       "      <th>177</th>\n",
       "      <td>6.921781</td>\n",
       "      <td>CH3CHWSTSP</td>\n",
       "    </tr>\n",
       "    <tr>\n",
       "      <th>178</th>\n",
       "      <td>8.022356</td>\n",
       "      <td>CH5CompDiscSuperheat</td>\n",
       "    </tr>\n",
       "    <tr>\n",
       "      <th>179</th>\n",
       "      <td>8.300700</td>\n",
       "      <td>CHWST3</td>\n",
       "    </tr>\n",
       "    <tr>\n",
       "      <th>180</th>\n",
       "      <td>8.495248</td>\n",
       "      <td>CH5EvapApproach</td>\n",
       "    </tr>\n",
       "    <tr>\n",
       "      <th>181</th>\n",
       "      <td>9.103518</td>\n",
       "      <td>SCHWP3SPD</td>\n",
       "    </tr>\n",
       "    <tr>\n",
       "      <th>182</th>\n",
       "      <td>9.148748</td>\n",
       "      <td>CHWST</td>\n",
       "    </tr>\n",
       "    <tr>\n",
       "      <th>183</th>\n",
       "      <td>12.257651</td>\n",
       "      <td>CH5FLA</td>\n",
       "    </tr>\n",
       "    <tr>\n",
       "      <th>184</th>\n",
       "      <td>12.388419</td>\n",
       "      <td>CH5CHWST</td>\n",
       "    </tr>\n",
       "    <tr>\n",
       "      <th>185</th>\n",
       "      <td>17.887687</td>\n",
       "      <td>CH4CHWSTSP</td>\n",
       "    </tr>\n",
       "    <tr>\n",
       "      <th>186</th>\n",
       "      <td>19.867980</td>\n",
       "      <td>CT5HZ</td>\n",
       "    </tr>\n",
       "    <tr>\n",
       "      <th>187</th>\n",
       "      <td>20.054814</td>\n",
       "      <td>CH5DPLift</td>\n",
       "    </tr>\n",
       "    <tr>\n",
       "      <th>188</th>\n",
       "      <td>21.345606</td>\n",
       "      <td>CH5CondApproach</td>\n",
       "    </tr>\n",
       "    <tr>\n",
       "      <th>189</th>\n",
       "      <td>33.486865</td>\n",
       "      <td>MinCHDPLift</td>\n",
       "    </tr>\n",
       "    <tr>\n",
       "      <th>190</th>\n",
       "      <td>48.578403</td>\n",
       "      <td>MaxCHDPLift</td>\n",
       "    </tr>\n",
       "    <tr>\n",
       "      <th>191</th>\n",
       "      <td>100.000000</td>\n",
       "      <td>CH5DISTEMP</td>\n",
       "    </tr>\n",
       "  </tbody>\n",
       "</table>\n",
       "<p>192 rows × 2 columns</p>\n",
       "</div>"
      ],
      "text/plain": [
       "     feat_import          feature_name\n",
       "0       0.000000                CDWVLV\n",
       "1       0.000000     CH5_CHWSTSP_Alarm\n",
       "2       0.000000           CH4SURGECNT\n",
       "3       0.000000                  CH4F\n",
       "4       0.000000              CH4ALARM\n",
       "5       0.000000     CH4_CHWSTSP_Alarm\n",
       "6       0.000000              CH3SURGE\n",
       "7       0.000000           CH3SBoolean\n",
       "8       0.000000              CH5ALARM\n",
       "9       0.000000                  CH3F\n",
       "10      0.000000              CH3ALARM\n",
       "11      0.000000     CH3_CHWSTSP_Alarm\n",
       "12      0.000000          SCHWP5Failed\n",
       "13      0.000000              SCHWP4SS\n",
       "14      0.000000               SCHWP4S\n",
       "15      0.000000          SCHWP4Failed\n",
       "16      0.000000              SCHWP3SS\n",
       "17      0.000000            CH3COM1IGV\n",
       "18      0.000000            CH5COM1IGV\n",
       "19      0.000000              CH5COM1S\n",
       "20      0.000000                  CH5F\n",
       "21      0.000000          CT5SPD_Alarm\n",
       "22      0.000000             CT5Failed\n",
       "23      0.000000          CT4SPD_Alarm\n",
       "24      0.000000                  CT4S\n",
       "25      0.000000             CT4Failed\n",
       "26      0.000000               CT4EVLV\n",
       "27      0.000000        CDWP5SPD_Alarm\n",
       "28      0.000000                CDWP5S\n",
       "29      0.000000           CDWP5Failed\n",
       "..           ...                   ...\n",
       "162     2.976816              SCHWP3HZ\n",
       "163     3.039967            CH5CHWSTSP\n",
       "164     3.763081             SCHWP4SPD\n",
       "165     3.882033           MaxCHDTLift\n",
       "166     4.006703       CH3EvapApproach\n",
       "167     4.106599                CT5SPD\n",
       "168     4.359455             CH3CHWFLO\n",
       "169     4.385198             SCHWP5SPD\n",
       "170     4.463299              SCHWP4HZ\n",
       "171     4.543630            CH5COM1SPD\n",
       "172     4.887235                CH5EVP\n",
       "173     5.505503              CH5CHWRT\n",
       "174     6.248663            CH4W$2fTon\n",
       "175     6.472574                CHWST2\n",
       "176     6.668522         CH5CHW_DeltaT\n",
       "177     6.921781            CH3CHWSTSP\n",
       "178     8.022356  CH5CompDiscSuperheat\n",
       "179     8.300700                CHWST3\n",
       "180     8.495248       CH5EvapApproach\n",
       "181     9.103518             SCHWP3SPD\n",
       "182     9.148748                 CHWST\n",
       "183    12.257651                CH5FLA\n",
       "184    12.388419              CH5CHWST\n",
       "185    17.887687            CH4CHWSTSP\n",
       "186    19.867980                 CT5HZ\n",
       "187    20.054814             CH5DPLift\n",
       "188    21.345606       CH5CondApproach\n",
       "189    33.486865           MinCHDPLift\n",
       "190    48.578403           MaxCHDPLift\n",
       "191   100.000000            CH5DISTEMP\n",
       "\n",
       "[192 rows x 2 columns]"
      ]
     },
     "execution_count": 25,
     "metadata": {},
     "output_type": "execute_result"
    }
   ],
   "source": [
    "df_feats"
   ]
  },
  {
   "cell_type": "markdown",
   "metadata": {},
   "source": [
    "How does tree depth affect the r2 values?"
   ]
  },
  {
   "cell_type": "code",
   "execution_count": 31,
   "metadata": {},
   "outputs": [
    {
     "data": {
      "text/plain": [
       "array([ 2,  4,  6,  8, 10, 12])"
      ]
     },
     "execution_count": 31,
     "metadata": {},
     "output_type": "execute_result"
    }
   ],
   "source": [
    "pars = np.arange(2, 13, 2)\n",
    "pars"
   ]
  },
  {
   "cell_type": "code",
   "execution_count": null,
   "metadata": {},
   "outputs": [],
   "source": [
    "pars = np.arange(2, 15, 2)\n",
    "\n",
    "scores = []\n",
    "for n in pars:\n",
    "    params1 = {'n_estimators': 450, 'min_samples_split': 2,\n",
    "          'learning_rate': 0.01, 'loss': 'ls'}\n",
    "    clf = GradientBoostingRegressor(**params1, max_depth=n)\n",
    "    clf.fit(xtrain, ytrain)\n",
    "    ypred = clf.predict(xtest)\n",
    "    test_score = r2_score(ytest, ypred)\n",
    "    scores.append(test_score)\n",
    "\n",
    "sns.set()\n",
    "plt.title(\"Effect of max_depth\")\n",
    "plt.xlabel(\"max_depth value\")\n",
    "plt.ylabel(\"r2_score\")\n",
    "plt.plot(pars, scores)\n",
    "\n",
    "\n",
    "plt.savefig(\"max-depth-plot-plt1.png\")"
   ]
  },
  {
   "cell_type": "markdown",
   "metadata": {},
   "source": [
    "How does minimum sample split affect r2 values?"
   ]
  },
  {
   "cell_type": "code",
   "execution_count": null,
   "metadata": {},
   "outputs": [],
   "source": [
    "pars = np.arange(2, 13, 2)\n",
    "\n",
    "scores = []\n",
    "for n in pars:\n",
    "    params1 = {'n_estimators': 450, 'max_depth':4,\n",
    "          'learning_rate': 0.01, 'loss': 'ls'}\n",
    "    clf = GradientBoostingRegressor(**params1, min_samples_split=n)\n",
    "    clf.fit(xtrain, ytrain)\n",
    "    ypred = clf.predict(xtest)\n",
    "    test_score = r2_score(ytest, ypred)\n",
    "    scores.append(test_score)\n",
    "\n",
    "sns.set()\n",
    "plt.title(\"Effect of Minimum Sample Split\")\n",
    "plt.xlabel(\"min sample split\")\n",
    "plt.ylabel(\"r2_score\")\n",
    "plt.plot(pars, scores)\n",
    "\n",
    "plt.savefig(\"min-sam-splt-plot-plt1.png\")"
   ]
  },
  {
   "cell_type": "markdown",
   "metadata": {},
   "source": [
    "How does the number of estimators affect r2 values?"
   ]
  },
  {
   "cell_type": "code",
   "execution_count": null,
   "metadata": {},
   "outputs": [],
   "source": [
    "pars = np.arange(1, 1000, 50)\n",
    "\n",
    "scores = []\n",
    "for n in pars:\n",
    "    params1 = {'max_depth':4, 'min_samples_split': 2,\n",
    "          'learning_rate': 0.01, 'loss': 'ls'}\n",
    "    clf = GradientBoostingRegressor(**params1, n_estimators=n)\n",
    "    clf.fit(xtrain, ytrain)\n",
    "    ypred = clf.predict(xtest)\n",
    "    test_score = r2_score(ytest, ypred)\n",
    "    scores.append(test_score)\n",
    "\n",
    "sns.set()\n",
    "plt.title(\"Effect of Number of Estimators\")\n",
    "plt.xlabel(\"Number of Estimators\")\n",
    "plt.ylabel(\"r2_score\")\n",
    "plt.plot(pars, scores)\n",
    "\n",
    "\n",
    "plt.savefig(\"num-est-plot-plt1.png\")"
   ]
  },
  {
   "cell_type": "code",
   "execution_count": null,
   "metadata": {},
   "outputs": [],
   "source": []
  }
 ],
 "metadata": {
  "kernelspec": {
   "display_name": "Python 3",
   "language": "python",
   "name": "python3"
  },
  "language_info": {
   "codemirror_mode": {
    "name": "ipython",
    "version": 3
   },
   "file_extension": ".py",
   "mimetype": "text/x-python",
   "name": "python",
   "nbconvert_exporter": "python",
   "pygments_lexer": "ipython3",
   "version": "3.6.3"
  }
 },
 "nbformat": 4,
 "nbformat_minor": 2
}
