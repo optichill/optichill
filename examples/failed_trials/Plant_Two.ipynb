{
 "cells": [
  {
   "cell_type": "code",
   "execution_count": 1,
   "metadata": {},
   "outputs": [
    {
     "name": "stderr",
     "output_type": "stream",
     "text": [
      "c:\\python\\lib\\site-packages\\sklearn\\cross_validation.py:41: DeprecationWarning: This module was deprecated in version 0.18 in favor of the model_selection module into which all the refactored classes and functions are moved. Also note that the interface of the new CV iterators are different from that of this module. This module will be removed in 0.20.\n",
      "  \"This module will be removed in 0.20.\", DeprecationWarning)\n"
     ]
    }
   ],
   "source": [
    "import pandas as pd\n",
    "import numpy as np\n",
    "from sklearn.cross_validation import train_test_split\n",
    "#from sklearn.tree import DecisionTreeRegressor\n",
    "#from sklearn import tree\n",
    "from sklearn import metrics\n",
    "#from sklearn.ensemble import ExtraTreesRegressor\n",
    "from sklearn.ensemble import GradientBoostingRegressor\n",
    "import matplotlib.pyplot as plt\n",
    "from sklearn.metrics import mean_squared_error\n",
    "from sklearn.metrics import r2_score\n",
    "#from sklearn.utils import shuffle\n",
    "import seaborn as sns\n",
    "import glob\n",
    "import os\n",
    "from optichill import bas_filter\n",
    "%matplotlib inline"
   ]
  },
  {
   "cell_type": "code",
   "execution_count": 2,
   "metadata": {},
   "outputs": [
    {
     "name": "stdout",
     "output_type": "stream",
     "text": [
      "Filtering Training Set\n",
      "['../../Plt2\\\\Plt2 m 2017-08.csv']\n",
      "['../../Plt2\\\\Plt2 m 2017-09.csv']\n",
      "['../../Plt2\\\\Plt2 m 2017-10.csv']\n",
      "Descriptors in the points list that are not in the datasets.\n",
      "CHWPSPD2\n",
      "CT1_CTcmd_Alarm\n",
      "CT2_CTcmd_AlarmCT\n",
      "Original data contains 26709 points and 412 dimensions.\n",
      "A CDWP1Failed was noted and 9506 datapoints were removed from the dataset.\n",
      "A CDWP1SPD_Alarm was noted and 9758 datapoints were removed from the dataset.\n",
      "A CDWP2Failed was noted and 9758 datapoints were removed from the dataset.\n",
      "A CDWP2SPD_Alarm was noted and 10143 datapoints were removed from the dataset.\n",
      "A CDWP3Failed was noted and 10143 datapoints were removed from the dataset.\n",
      "A CDWP3SPD_Alarm was noted and 10144 datapoints were removed from the dataset.\n",
      "A CDWP4Failed was noted and 10144 datapoints were removed from the dataset.\n",
      "A CDWP4SPD_Alarm was noted and 10145 datapoints were removed from the dataset.\n",
      "A CDWPTR_ALARM was noted and 10145 datapoints were removed from the dataset.\n",
      "A CH1_CHLRcmd_Alarm was noted and 10145 datapoints were removed from the dataset.\n",
      "A CH1_CHWSTSP_Alarm was noted and 10145 datapoints were removed from the dataset.\n",
      "A CH1ALARM was noted and 10145 datapoints were removed from the dataset.\n",
      "A CH2_CHLRcmd_Alarm was noted and 10145 datapoints were removed from the dataset.\n",
      "A CH2_CHWSTSP_Alarm was noted and 10145 datapoints were removed from the dataset.\n",
      "A CH2ALARM was noted and 10225 datapoints were removed from the dataset.\n",
      "A CH3_CHLRcmd_Alarm was noted and 10225 datapoints were removed from the dataset.\n",
      "A CH3_CHWSTSP_Alarm was noted and 10225 datapoints were removed from the dataset.\n",
      "A CH3ALARM was noted and 10225 datapoints were removed from the dataset.\n",
      "A CH4_CHLRcmd_Alarm was noted and 10225 datapoints were removed from the dataset.\n",
      "A CH4_CHWSTSP_Alarm was noted and 10225 datapoints were removed from the dataset.\n",
      "A CH4ALARM was noted and 10225 datapoints were removed from the dataset.\n",
      "A COMLOSSBAS was noted and 10268 datapoints were removed from the dataset.\n",
      "A CT1AFailed was noted and 10268 datapoints were removed from the dataset.\n",
      "A CT1ASPD_Alarm was noted and 10268 datapoints were removed from the dataset.\n",
      "A CT1BFailed was noted and 10741 datapoints were removed from the dataset.\n",
      "A CT1BSPD_Alarm was noted and 10741 datapoints were removed from the dataset.\n",
      "A CT1CFailed was noted and 10741 datapoints were removed from the dataset.\n",
      "A CT1CSPD_Alarm was noted and 10741 datapoints were removed from the dataset.\n",
      "A CTTR_ALARM was noted and 10741 datapoints were removed from the dataset.\n",
      "A PCHWPTR_Alarm was noted and 10741 datapoints were removed from the dataset.\n",
      "A RUNCTFAN_Alarm was noted and 10741 datapoints were removed from the dataset.\n",
      "Filtered data contains 14814 points and 232 dimensions.\n",
      "Filtering Test Set\n",
      "['../../Plt2\\\\Plt2 m 2017-07.csv']\n",
      "['../../Plt2\\\\Plt2 m 2017-11.csv']\n",
      "['../../Plt2\\\\Plt2 m 2017-12.csv']\n",
      "['../../Plt2\\\\Plt2 m 2018-01.csv']\n",
      "['../../Plt2\\\\Plt2 m 2018-02.csv']\n",
      "['../../Plt2\\\\Plt2 m 2018-03.csv']\n",
      "['../../Plt2\\\\Plt2 m 2018-04.csv']\n",
      "Descriptors in the points list that are not in the datasets.\n",
      "CHWPSPD2\n",
      "CT1_CTcmd_Alarm\n",
      "CT2_CTcmd_AlarmCT\n",
      "Original data contains 59788 points and 412 dimensions.\n",
      "A CDWP1Failed was noted and 6441 datapoints were removed from the dataset.\n",
      "A CDWP1SPD_Alarm was noted and 6972 datapoints were removed from the dataset.\n",
      "A CDWP2Failed was noted and 8136 datapoints were removed from the dataset.\n",
      "A CDWP2SPD_Alarm was noted and 8136 datapoints were removed from the dataset.\n",
      "A CDWP3Failed was noted and 8168 datapoints were removed from the dataset.\n",
      "A CDWP3SPD_Alarm was noted and 14886 datapoints were removed from the dataset.\n",
      "A CDWP4Failed was noted and 14903 datapoints were removed from the dataset.\n",
      "A CDWP4SPD_Alarm was noted and 14931 datapoints were removed from the dataset.\n",
      "A CDWPTR_ALARM was noted and 14931 datapoints were removed from the dataset.\n",
      "A CH1_CHLRcmd_Alarm was noted and 14931 datapoints were removed from the dataset.\n",
      "A CH1_CHWSTSP_Alarm was noted and 14931 datapoints were removed from the dataset.\n",
      "A CH1ALARM was noted and 14931 datapoints were removed from the dataset.\n",
      "A CH2_CHLRcmd_Alarm was noted and 14934 datapoints were removed from the dataset.\n",
      "A CH2_CHWSTSP_Alarm was noted and 14934 datapoints were removed from the dataset.\n",
      "A CH2ALARM was noted and 14934 datapoints were removed from the dataset.\n",
      "A CH3_CHLRcmd_Alarm was noted and 14934 datapoints were removed from the dataset.\n",
      "A CH3_CHWSTSP_Alarm was noted and 14934 datapoints were removed from the dataset.\n",
      "A CH3ALARM was noted and 14934 datapoints were removed from the dataset.\n",
      "A CH4_CHLRcmd_Alarm was noted and 14945 datapoints were removed from the dataset.\n",
      "A CH4_CHWSTSP_Alarm was noted and 14945 datapoints were removed from the dataset.\n",
      "A CH4ALARM was noted and 14945 datapoints were removed from the dataset.\n",
      "A COMLOSSBAS was noted and 14945 datapoints were removed from the dataset.\n",
      "A CT1AFailed was noted and 15722 datapoints were removed from the dataset.\n",
      "A CT1ASPD_Alarm was noted and 15722 datapoints were removed from the dataset.\n",
      "A CT1BFailed was noted and 16649 datapoints were removed from the dataset.\n",
      "A CT1BSPD_Alarm was noted and 16649 datapoints were removed from the dataset.\n",
      "A CT1CFailed was noted and 16986 datapoints were removed from the dataset.\n",
      "A CT1CSPD_Alarm was noted and 16986 datapoints were removed from the dataset.\n",
      "A CTTR_ALARM was noted and 16986 datapoints were removed from the dataset.\n",
      "A PCHWPTR_Alarm was noted and 16986 datapoints were removed from the dataset.\n",
      "A RUNCTFAN_Alarm was noted and 16986 datapoints were removed from the dataset.\n",
      "Filtered data contains 28040 points and 232 dimensions.\n",
      "Filtering Training Set\n",
      "['../../Plt2\\\\Plt2 m 2018-02.csv']\n",
      "['../../Plt2\\\\Plt2 m 2018-03.csv']\n",
      "['../../Plt2\\\\Plt2 m 2018-04.csv']\n",
      "Descriptors in the points list that are not in the datasets.\n",
      "CHWPSPD2\n",
      "CT1_CTcmd_Alarm\n",
      "CT2_CTcmd_AlarmCT\n",
      "Original data contains 24050 points and 412 dimensions.\n",
      "A CDWP1Failed was noted and 103 datapoints were removed from the dataset.\n",
      "A CDWP1SPD_Alarm was noted and 399 datapoints were removed from the dataset.\n",
      "A CDWP2Failed was noted and 417 datapoints were removed from the dataset.\n",
      "A CDWP2SPD_Alarm was noted and 417 datapoints were removed from the dataset.\n",
      "A CDWP3Failed was noted and 434 datapoints were removed from the dataset.\n",
      "A CDWP3SPD_Alarm was noted and 2970 datapoints were removed from the dataset.\n",
      "A CDWP4Failed was noted and 2987 datapoints were removed from the dataset.\n",
      "A CDWP4SPD_Alarm was noted and 2987 datapoints were removed from the dataset.\n",
      "A CDWPTR_ALARM was noted and 2987 datapoints were removed from the dataset.\n",
      "A CH1_CHLRcmd_Alarm was noted and 2987 datapoints were removed from the dataset.\n",
      "A CH1_CHWSTSP_Alarm was noted and 2987 datapoints were removed from the dataset.\n",
      "A CH1ALARM was noted and 2987 datapoints were removed from the dataset.\n",
      "A CH2_CHLRcmd_Alarm was noted and 2987 datapoints were removed from the dataset.\n",
      "A CH2_CHWSTSP_Alarm was noted and 2987 datapoints were removed from the dataset.\n",
      "A CH2ALARM was noted and 2987 datapoints were removed from the dataset.\n",
      "A CH3_CHLRcmd_Alarm was noted and 2987 datapoints were removed from the dataset.\n",
      "A CH3_CHWSTSP_Alarm was noted and 2987 datapoints were removed from the dataset.\n",
      "A CH3ALARM was noted and 2987 datapoints were removed from the dataset.\n",
      "A CH4_CHLRcmd_Alarm was noted and 2987 datapoints were removed from the dataset.\n",
      "A CH4_CHWSTSP_Alarm was noted and 2987 datapoints were removed from the dataset.\n",
      "A CH4ALARM was noted and 2987 datapoints were removed from the dataset.\n",
      "A COMLOSSBAS was noted and 2987 datapoints were removed from the dataset.\n",
      "A CT1AFailed was noted and 3310 datapoints were removed from the dataset.\n",
      "A CT1ASPD_Alarm was noted and 3310 datapoints were removed from the dataset.\n",
      "A CT1BFailed was noted and 3574 datapoints were removed from the dataset.\n",
      "A CT1BSPD_Alarm was noted and 3574 datapoints were removed from the dataset.\n",
      "A CT1CFailed was noted and 3911 datapoints were removed from the dataset.\n",
      "A CT1CSPD_Alarm was noted and 3911 datapoints were removed from the dataset.\n",
      "A CTTR_ALARM was noted and 3911 datapoints were removed from the dataset.\n",
      "A PCHWPTR_Alarm was noted and 3911 datapoints were removed from the dataset.\n",
      "A RUNCTFAN_Alarm was noted and 3911 datapoints were removed from the dataset.\n",
      "Filtered data contains 15416 points and 232 dimensions.\n",
      "Filtering Test Set\n",
      "['../../Plt2\\\\Plt2 m 2017-07.csv']\n"
     ]
    },
    {
     "name": "stdout",
     "output_type": "stream",
     "text": [
      "['../../Plt2\\\\Plt2 m 2017-08.csv']\n",
      "['../../Plt2\\\\Plt2 m 2017-09.csv']\n",
      "['../../Plt2\\\\Plt2 m 2017-10.csv']\n",
      "['../../Plt2\\\\Plt2 m 2017-11.csv']\n",
      "['../../Plt2\\\\Plt2 m 2017-12.csv']\n",
      "['../../Plt2\\\\Plt2 m 2018-01.csv']\n",
      "Descriptors in the points list that are not in the datasets.\n",
      "CHWPSPD2\n",
      "CT1_CTcmd_Alarm\n",
      "CT2_CTcmd_AlarmCT\n",
      "Original data contains 62447 points and 412 dimensions.\n",
      "A CDWP1Failed was noted and 15844 datapoints were removed from the dataset.\n",
      "A CDWP1SPD_Alarm was noted and 16331 datapoints were removed from the dataset.\n",
      "A CDWP2Failed was noted and 17477 datapoints were removed from the dataset.\n",
      "A CDWP2SPD_Alarm was noted and 17862 datapoints were removed from the dataset.\n",
      "A CDWP3Failed was noted and 17877 datapoints were removed from the dataset.\n",
      "A CDWP3SPD_Alarm was noted and 22060 datapoints were removed from the dataset.\n",
      "A CDWP4Failed was noted and 22060 datapoints were removed from the dataset.\n",
      "A CDWP4SPD_Alarm was noted and 22089 datapoints were removed from the dataset.\n",
      "A CDWPTR_ALARM was noted and 22089 datapoints were removed from the dataset.\n",
      "A CH1_CHLRcmd_Alarm was noted and 22089 datapoints were removed from the dataset.\n",
      "A CH1_CHWSTSP_Alarm was noted and 22089 datapoints were removed from the dataset.\n",
      "A CH1ALARM was noted and 22089 datapoints were removed from the dataset.\n",
      "A CH2_CHLRcmd_Alarm was noted and 22092 datapoints were removed from the dataset.\n",
      "A CH2_CHWSTSP_Alarm was noted and 22092 datapoints were removed from the dataset.\n",
      "A CH2ALARM was noted and 22172 datapoints were removed from the dataset.\n",
      "A CH3_CHLRcmd_Alarm was noted and 22172 datapoints were removed from the dataset.\n",
      "A CH3_CHWSTSP_Alarm was noted and 22172 datapoints were removed from the dataset.\n",
      "A CH3ALARM was noted and 22172 datapoints were removed from the dataset.\n",
      "A CH4_CHLRcmd_Alarm was noted and 22183 datapoints were removed from the dataset.\n",
      "A CH4_CHWSTSP_Alarm was noted and 22183 datapoints were removed from the dataset.\n",
      "A CH4ALARM was noted and 22183 datapoints were removed from the dataset.\n",
      "A COMLOSSBAS was noted and 22226 datapoints were removed from the dataset.\n",
      "A CT1AFailed was noted and 22680 datapoints were removed from the dataset.\n",
      "A CT1ASPD_Alarm was noted and 22680 datapoints were removed from the dataset.\n",
      "A CT1BFailed was noted and 23816 datapoints were removed from the dataset.\n",
      "A CT1BSPD_Alarm was noted and 23816 datapoints were removed from the dataset.\n",
      "A CT1CFailed was noted and 23816 datapoints were removed from the dataset.\n",
      "A CT1CSPD_Alarm was noted and 23816 datapoints were removed from the dataset.\n",
      "A CTTR_ALARM was noted and 23816 datapoints were removed from the dataset.\n",
      "A PCHWPTR_Alarm was noted and 23816 datapoints were removed from the dataset.\n",
      "A RUNCTFAN_Alarm was noted and 23816 datapoints were removed from the dataset.\n",
      "Filtered data contains 27438 points and 232 dimensions.\n",
      "Filtering Training Set\n",
      "['../../Plt2\\\\Plt2 m 2017-11.csv']\n",
      "['../../Plt2\\\\Plt2 m 2017-12.csv']\n",
      "['../../Plt2\\\\Plt2 m 2018-01.csv']\n",
      "Descriptors in the points list that are not in the datasets.\n",
      "CHWPSPD2\n",
      "CT1_CTcmd_Alarm\n",
      "CT2_CTcmd_AlarmCT\n",
      "Original data contains 26798 points and 412 dimensions.\n",
      "A CDWP1Failed was noted and 4826 datapoints were removed from the dataset.\n",
      "A CDWP1SPD_Alarm was noted and 5061 datapoints were removed from the dataset.\n",
      "A CDWP2Failed was noted and 6207 datapoints were removed from the dataset.\n",
      "A CDWP2SPD_Alarm was noted and 6207 datapoints were removed from the dataset.\n",
      "A CDWP3Failed was noted and 6222 datapoints were removed from the dataset.\n",
      "A CDWP3SPD_Alarm was noted and 10404 datapoints were removed from the dataset.\n",
      "A CDWP4Failed was noted and 10404 datapoints were removed from the dataset.\n",
      "A CDWP4SPD_Alarm was noted and 10432 datapoints were removed from the dataset.\n",
      "A CDWPTR_ALARM was noted and 10432 datapoints were removed from the dataset.\n",
      "A CH1_CHLRcmd_Alarm was noted and 10432 datapoints were removed from the dataset.\n",
      "A CH1_CHWSTSP_Alarm was noted and 10432 datapoints were removed from the dataset.\n",
      "A CH1ALARM was noted and 10432 datapoints were removed from the dataset.\n",
      "A CH2_CHLRcmd_Alarm was noted and 10435 datapoints were removed from the dataset.\n",
      "A CH2_CHWSTSP_Alarm was noted and 10435 datapoints were removed from the dataset.\n",
      "A CH2ALARM was noted and 10435 datapoints were removed from the dataset.\n",
      "A CH3_CHLRcmd_Alarm was noted and 10435 datapoints were removed from the dataset.\n",
      "A CH3_CHWSTSP_Alarm was noted and 10435 datapoints were removed from the dataset.\n",
      "A CH3ALARM was noted and 10435 datapoints were removed from the dataset.\n",
      "A CH4_CHLRcmd_Alarm was noted and 10446 datapoints were removed from the dataset.\n",
      "A CH4_CHWSTSP_Alarm was noted and 10446 datapoints were removed from the dataset.\n",
      "A CH4ALARM was noted and 10446 datapoints were removed from the dataset.\n",
      "A COMLOSSBAS was noted and 10446 datapoints were removed from the dataset.\n",
      "A CT1AFailed was noted and 10900 datapoints were removed from the dataset.\n",
      "A CT1ASPD_Alarm was noted and 10900 datapoints were removed from the dataset.\n",
      "A CT1BFailed was noted and 11563 datapoints were removed from the dataset.\n",
      "A CT1BSPD_Alarm was noted and 11563 datapoints were removed from the dataset.\n",
      "A CT1CFailed was noted and 11563 datapoints were removed from the dataset.\n",
      "A CT1CSPD_Alarm was noted and 11563 datapoints were removed from the dataset.\n",
      "A CTTR_ALARM was noted and 11563 datapoints were removed from the dataset.\n",
      "A PCHWPTR_Alarm was noted and 11563 datapoints were removed from the dataset.\n",
      "A RUNCTFAN_Alarm was noted and 11563 datapoints were removed from the dataset.\n",
      "Filtered data contains 12434 points and 232 dimensions.\n",
      "Filtering Test Set\n",
      "['../../Plt2\\\\Plt2 m 2017-07.csv']\n",
      "['../../Plt2\\\\Plt2 m 2017-08.csv']\n",
      "['../../Plt2\\\\Plt2 m 2017-09.csv']\n",
      "['../../Plt2\\\\Plt2 m 2017-10.csv']\n",
      "['../../Plt2\\\\Plt2 m 2018-02.csv']\n",
      "['../../Plt2\\\\Plt2 m 2018-03.csv']\n",
      "['../../Plt2\\\\Plt2 m 2018-04.csv']\n",
      "Descriptors in the points list that are not in the datasets.\n",
      "CHWPSPD2\n",
      "CT1_CTcmd_Alarm\n",
      "CT2_CTcmd_AlarmCT\n",
      "Original data contains 59699 points and 412 dimensions.\n",
      "A CDWP1Failed was noted and 11121 datapoints were removed from the dataset.\n",
      "A CDWP1SPD_Alarm was noted and 11669 datapoints were removed from the dataset.\n",
      "A CDWP2Failed was noted and 11687 datapoints were removed from the dataset.\n",
      "A CDWP2SPD_Alarm was noted and 12072 datapoints were removed from the dataset.\n",
      "A CDWP3Failed was noted and 12089 datapoints were removed from the dataset.\n",
      "A CDWP3SPD_Alarm was noted and 14626 datapoints were removed from the dataset.\n",
      "A CDWP4Failed was noted and 14643 datapoints were removed from the dataset.\n",
      "A CDWP4SPD_Alarm was noted and 14644 datapoints were removed from the dataset.\n",
      "A CDWPTR_ALARM was noted and 14644 datapoints were removed from the dataset.\n",
      "A CH1_CHLRcmd_Alarm was noted and 14644 datapoints were removed from the dataset.\n",
      "A CH1_CHWSTSP_Alarm was noted and 14644 datapoints were removed from the dataset.\n",
      "A CH1ALARM was noted and 14644 datapoints were removed from the dataset.\n",
      "A CH2_CHLRcmd_Alarm was noted and 14644 datapoints were removed from the dataset.\n",
      "A CH2_CHWSTSP_Alarm was noted and 14644 datapoints were removed from the dataset.\n",
      "A CH2ALARM was noted and 14724 datapoints were removed from the dataset.\n",
      "A CH3_CHLRcmd_Alarm was noted and 14724 datapoints were removed from the dataset.\n",
      "A CH3_CHWSTSP_Alarm was noted and 14724 datapoints were removed from the dataset.\n",
      "A CH3ALARM was noted and 14724 datapoints were removed from the dataset.\n",
      "A CH4_CHLRcmd_Alarm was noted and 14724 datapoints were removed from the dataset.\n",
      "A CH4_CHWSTSP_Alarm was noted and 14724 datapoints were removed from the dataset.\n",
      "A CH4ALARM was noted and 14724 datapoints were removed from the dataset.\n",
      "A COMLOSSBAS was noted and 14767 datapoints were removed from the dataset.\n",
      "A CT1AFailed was noted and 15090 datapoints were removed from the dataset.\n",
      "A CT1ASPD_Alarm was noted and 15090 datapoints were removed from the dataset.\n",
      "A CT1BFailed was noted and 15827 datapoints were removed from the dataset.\n",
      "A CT1BSPD_Alarm was noted and 15827 datapoints were removed from the dataset.\n",
      "A CT1CFailed was noted and 16164 datapoints were removed from the dataset.\n",
      "A CT1CSPD_Alarm was noted and 16164 datapoints were removed from the dataset.\n",
      "A CTTR_ALARM was noted and 16164 datapoints were removed from the dataset.\n"
     ]
    },
    {
     "name": "stdout",
     "output_type": "stream",
     "text": [
      "A PCHWPTR_Alarm was noted and 16164 datapoints were removed from the dataset.\n",
      "A RUNCTFAN_Alarm was noted and 16164 datapoints were removed from the dataset.\n",
      "Filtered data contains 30420 points and 232 dimensions.\n"
     ]
    }
   ],
   "source": [
    "f2_train = ['Plt2 m 2017-08.csv', 'Plt2 m 2017-09.csv', 'Plt2 m 2017-10.csv'] \n",
    "f2_test = ['Plt2 m 2017-07.csv', 'Plt2 m 2017-11.csv', 'Plt2 m 2017-12.csv','Plt2 m 2018-01.csv', 'Plt2 m 2018-02.csv', 'Plt2 m 2018-03.csv','Plt2 m 2018-04.csv']\n",
    "\n",
    "w2_train = ['Plt2 m 2017-11.csv', 'Plt2 m 2017-12.csv','Plt2 m 2018-01.csv']\n",
    "w2_test = ['Plt2 m 2017-07.csv','Plt2 m 2017-08.csv', 'Plt2 m 2017-09.csv', 'Plt2 m 2017-10.csv', 'Plt2 m 2018-02.csv', 'Plt2 m 2018-03.csv','Plt2 m 2018-04.csv']\n",
    "\n",
    "sp2_train = ['Plt2 m 2018-02.csv', 'Plt2 m 2018-03.csv','Plt2 m 2018-04.csv']\n",
    "sp2_test = ['Plt2 m 2017-07.csv','Plt2 m 2017-08.csv', 'Plt2 m 2017-09.csv', 'Plt2 m 2017-10.csv','Plt2 m 2017-11.csv', 'Plt2 m 2017-12.csv','Plt2 m 2018-01.csv']\n",
    "\n",
    "df_fall_train, df_fall_test = bas_filter.train_single_plt( '../../Plt2', f2_train, f2_test, '../../Plt2/Plt2 Points List.xlsx', include_alarms=False)\n",
    "df_spring_train, df_spring_test = bas_filter.train_single_plt( '../../Plt2', sp2_train, sp2_test, '../../Plt2/Plt2 Points List.xlsx', include_alarms=False)\n",
    "df_winter_train, df_winter_test = bas_filter.train_single_plt( '../../Plt2', w2_train, w2_test, '../../Plt2/Plt2 Points List.xlsx', include_alarms=False)"
   ]
  },
  {
   "cell_type": "code",
   "execution_count": 3,
   "metadata": {},
   "outputs": [],
   "source": [
    "params = {'n_estimators': 500, 'max_depth': 6, 'min_samples_split': 2,\n",
    "          'learning_rate': 0.01, 'loss': 'ls'}"
   ]
  },
  {
   "cell_type": "code",
   "execution_count": 4,
   "metadata": {},
   "outputs": [],
   "source": [
    "model_plt2_fall= GradientBoostingRegressor(**params)"
   ]
  },
  {
   "cell_type": "code",
   "execution_count": 5,
   "metadata": {},
   "outputs": [],
   "source": [
    "model_plt2_win= GradientBoostingRegressor(**params)"
   ]
  },
  {
   "cell_type": "code",
   "execution_count": 6,
   "metadata": {},
   "outputs": [],
   "source": [
    "model_plt2_spr= GradientBoostingRegressor(**params)"
   ]
  },
  {
   "cell_type": "code",
   "execution_count": 8,
   "metadata": {},
   "outputs": [],
   "source": [
    "ytrain_fall = df_fall_train['kW/Ton'].values\n",
    "ytest_fall = df_fall_test['kW/Ton'].values\n",
    "xtrain_fall = df_fall_train.drop(['kW/Ton'], axis=1).values\n",
    "xtest_fall = df_fall_test.drop(['kW/Ton'], axis=1).values"
   ]
  },
  {
   "cell_type": "code",
   "execution_count": 9,
   "metadata": {},
   "outputs": [],
   "source": [
    "ytrain_win = df_winter_train['kW/Ton'].values\n",
    "ytest_win= df_winter_test['kW/Ton'].values\n",
    "xtrain_win = df_winter_train.drop(['kW/Ton'], axis=1).values\n",
    "xtest_win = df_winter_test.drop(['kW/Ton'], axis=1).values"
   ]
  },
  {
   "cell_type": "code",
   "execution_count": 10,
   "metadata": {},
   "outputs": [],
   "source": [
    "ytrain_spr = df_spring_train['kW/Ton'].values\n",
    "ytest_spr = df_spring_test['kW/Ton'].values\n",
    "xtrain_spr = df_spring_train.drop(['kW/Ton'], axis=1).values\n",
    "xtest_spr = df_spring_test.drop(['kW/Ton'], axis=1).values"
   ]
  },
  {
   "cell_type": "code",
   "execution_count": 12,
   "metadata": {},
   "outputs": [
    {
     "data": {
      "text/plain": [
       "GradientBoostingRegressor(alpha=0.9, criterion='friedman_mse', init=None,\n",
       "             learning_rate=0.01, loss='ls', max_depth=6, max_features=None,\n",
       "             max_leaf_nodes=None, min_impurity_decrease=0.0,\n",
       "             min_impurity_split=None, min_samples_leaf=1,\n",
       "             min_samples_split=2, min_weight_fraction_leaf=0.0,\n",
       "             n_estimators=500, presort='auto', random_state=None,\n",
       "             subsample=1.0, verbose=0, warm_start=False)"
      ]
     },
     "execution_count": 12,
     "metadata": {},
     "output_type": "execute_result"
    }
   ],
   "source": [
    "model_plt2_fall.fit(xtrain_fall, ytrain_fall)"
   ]
  },
  {
   "cell_type": "code",
   "execution_count": 13,
   "metadata": {},
   "outputs": [
    {
     "data": {
      "text/plain": [
       "GradientBoostingRegressor(alpha=0.9, criterion='friedman_mse', init=None,\n",
       "             learning_rate=0.01, loss='ls', max_depth=6, max_features=None,\n",
       "             max_leaf_nodes=None, min_impurity_decrease=0.0,\n",
       "             min_impurity_split=None, min_samples_leaf=1,\n",
       "             min_samples_split=2, min_weight_fraction_leaf=0.0,\n",
       "             n_estimators=500, presort='auto', random_state=None,\n",
       "             subsample=1.0, verbose=0, warm_start=False)"
      ]
     },
     "execution_count": 13,
     "metadata": {},
     "output_type": "execute_result"
    }
   ],
   "source": [
    "model_plt2_win.fit(xtrain_win, ytrain_win)"
   ]
  },
  {
   "cell_type": "code",
   "execution_count": 14,
   "metadata": {},
   "outputs": [
    {
     "data": {
      "text/plain": [
       "GradientBoostingRegressor(alpha=0.9, criterion='friedman_mse', init=None,\n",
       "             learning_rate=0.01, loss='ls', max_depth=6, max_features=None,\n",
       "             max_leaf_nodes=None, min_impurity_decrease=0.0,\n",
       "             min_impurity_split=None, min_samples_leaf=1,\n",
       "             min_samples_split=2, min_weight_fraction_leaf=0.0,\n",
       "             n_estimators=500, presort='auto', random_state=None,\n",
       "             subsample=1.0, verbose=0, warm_start=False)"
      ]
     },
     "execution_count": 14,
     "metadata": {},
     "output_type": "execute_result"
    }
   ],
   "source": [
    "model_plt2_spr.fit(xtrain_spr, ytrain_spr)"
   ]
  },
  {
   "cell_type": "code",
   "execution_count": 15,
   "metadata": {},
   "outputs": [],
   "source": [
    "ypred_fall = model_plt2_fall.predict(xtest_fall)"
   ]
  },
  {
   "cell_type": "code",
   "execution_count": 16,
   "metadata": {},
   "outputs": [],
   "source": [
    "ypred_win = model_plt2_win.predict(xtest_win)"
   ]
  },
  {
   "cell_type": "code",
   "execution_count": 19,
   "metadata": {},
   "outputs": [],
   "source": [
    "ypred_spr = model_plt2_spr.predict(xtest_spr)"
   ]
  },
  {
   "cell_type": "code",
   "execution_count": 24,
   "metadata": {},
   "outputs": [],
   "source": [
    "ytest = [ytest_fall, ytest_win, ytest_spr]\n",
    "ypred = [ypred_fall, ypred_win, ypred_spr]"
   ]
  },
  {
   "cell_type": "code",
   "execution_count": null,
   "metadata": {},
   "outputs": [],
   "source": []
  },
  {
   "cell_type": "code",
   "execution_count": 25,
   "metadata": {},
   "outputs": [
    {
     "data": {
      "text/plain": [
       "<matplotlib.figure.Figure at 0x282589c09e8>"
      ]
     },
     "metadata": {},
     "output_type": "display_data"
    },
    {
     "data": {
      "image/png": "[encoded data removed]",
      "text/plain": [
       "<matplotlib.figure.Figure at 0x28200152390>"
      ]
     },
     "metadata": {},
     "output_type": "display_data"
    }
   ],
   "source": [
    "test_score = []\n",
    "sns.set()\n",
    "plt.figure()\n",
    "fig, ax = plt.subplots(1, 3, figsize = (18, 8), sharex=True, sharey=True)\n",
    "for i in range(0, 3):\n",
    "    test_score.append(r2_score(ytest[i], ypred[i]))\n",
    "    ax[i].scatter(ytest[i], ypred[i])\n",
    "    fs = 20\n",
    "    ax[i].set_xlabel(\"Experimental Data\", fontsize=fs-4)\n",
    "    ax[i].set_ylabel(\"Model Predictions\", fontsize=fs-4)\n",
    "ax[0].set_title(\"Fall: R$^{2}$ Value =  %f\" %(test_score[0]), fontsize = fs-2)\n",
    "ax[1].set_title(\"Winter: R$^{2}$ Value = %f\" %(test_score[1]), fontsize = fs-2)\n",
    "ax[2].set_title(\"Spring: R$^{2}$ Value =  %f\" %(test_score[2]), fontsize = fs-2)\n",
    "\n",
    "fig.suptitle(\"Plant 2 Data\", fontsize=fs+4)\n",
    "plt.savefig('r2_values_plt2.png')"
   ]
  },
  {
   "cell_type": "code",
   "execution_count": 39,
   "metadata": {},
   "outputs": [],
   "source": [
    "feature_importance = model_plt2_fall.feature_importances_\n",
    "feature_importance = 100.0 * (feature_importance / feature_importance.max())\n",
    "sorted_idx = np.argsort(feature_importance)\n",
    "pos = np.arange(sorted_idx.shape[0]) + .5\n",
    "x = df_fall_test.drop(['kW/Ton'], axis=1).columns[sorted_idx]\n",
    "imp = feature_importance[sorted_idx]"
   ]
  },
  {
   "cell_type": "code",
   "execution_count": 40,
   "metadata": {},
   "outputs": [],
   "source": [
    "df_fall_feats = pd.DataFrame({'feature_name': x, 'feat_import': imp})"
   ]
  },
  {
   "cell_type": "code",
   "execution_count": 41,
   "metadata": {},
   "outputs": [],
   "source": [
    "df_fall_feats.to_csv('Feat_imp_fall_test_plt2.csv')"
   ]
  },
  {
   "cell_type": "code",
   "execution_count": 42,
   "metadata": {},
   "outputs": [],
   "source": [
    "feature_importance = model_plt2_win.feature_importances_\n",
    "feature_importance = 100.0 * (feature_importance / feature_importance.max())\n",
    "sorted_idx = np.argsort(feature_importance)\n",
    "pos = np.arange(sorted_idx.shape[0]) + .5\n",
    "x = df_winter_test.drop(['kW/Ton'], axis=1).columns[sorted_idx]\n",
    "imp = feature_importance[sorted_idx]"
   ]
  },
  {
   "cell_type": "code",
   "execution_count": 43,
   "metadata": {},
   "outputs": [],
   "source": [
    "df_win_feats = pd.DataFrame({'feature_name': x, 'feat_import': imp})"
   ]
  },
  {
   "cell_type": "code",
   "execution_count": 44,
   "metadata": {},
   "outputs": [],
   "source": [
    "df_win_feats.to_csv('Feat_imp_winter_test_plt2.csv')"
   ]
  },
  {
   "cell_type": "code",
   "execution_count": 45,
   "metadata": {},
   "outputs": [],
   "source": [
    "feature_importance = model_plt2_spr.feature_importances_\n",
    "feature_importance = 100.0 * (feature_importance / feature_importance.max())\n",
    "sorted_idx = np.argsort(feature_importance)\n",
    "pos = np.arange(sorted_idx.shape[0]) + .5\n",
    "x = df_spring_test.drop(['kW/Ton'], axis=1).columns[sorted_idx]\n",
    "imp = feature_importance[sorted_idx]"
   ]
  },
  {
   "cell_type": "code",
   "execution_count": 46,
   "metadata": {},
   "outputs": [],
   "source": [
    "df_spr_feats = pd.DataFrame({'feature_name': x, 'feat_import': imp})"
   ]
  },
  {
   "cell_type": "code",
   "execution_count": 47,
   "metadata": {},
   "outputs": [],
   "source": [
    "df_win_feats.to_csv('Feat_imp_spring_test_plt2.csv')"
   ]
  },
  {
   "cell_type": "code",
   "execution_count": null,
   "metadata": {},
   "outputs": [],
   "source": []
  }
 ],
 "metadata": {
  "kernelspec": {
   "display_name": "Python 3",
   "language": "python",
   "name": "python3"
  },
  "language_info": {
   "codemirror_mode": {
    "name": "ipython",
    "version": 3
   },
   "file_extension": ".py",
   "mimetype": "text/x-python",
   "name": "python",
   "nbconvert_exporter": "python",
   "pygments_lexer": "ipython3",
   "version": "3.6.3"
  }
 },
 "nbformat": 4,
 "nbformat_minor": 2
}
