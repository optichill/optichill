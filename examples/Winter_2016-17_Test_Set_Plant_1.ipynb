{
 "cells": [
  {
   "cell_type": "markdown",
   "metadata": {},
   "source": [
    "Gradient Boosted Machines trained on data subsets"
   ]
  },
  {
   "cell_type": "code",
   "execution_count": 1,
   "metadata": {},
   "outputs": [
    {
     "name": "stderr",
     "output_type": "stream",
     "text": [
      "c:\\python\\lib\\site-packages\\sklearn\\cross_validation.py:41: DeprecationWarning: This module was deprecated in version 0.18 in favor of the model_selection module into which all the refactored classes and functions are moved. Also note that the interface of the new CV iterators are different from that of this module. This module will be removed in 0.20.\n",
      "  \"This module will be removed in 0.20.\", DeprecationWarning)\n"
     ]
    }
   ],
   "source": [
    "import pandas as pd\n",
    "import numpy as np\n",
    "from sklearn.cross_validation import train_test_split\n",
    "from sklearn import metrics\n",
    "from sklearn.ensemble import GradientBoostingRegressor\n",
    "import matplotlib.pyplot as plt\n",
    "from sklearn.metrics import mean_squared_error\n",
    "from sklearn.metrics import r2_score\n",
    "import seaborn as sns\n",
    "import glob\n",
    "import os\n",
    "from optichill import bas_filter\n",
    "\n",
    "%matplotlib inline"
   ]
  },
  {
   "cell_type": "markdown",
   "metadata": {},
   "source": [
    "# Winter 2016-17 Training Data"
   ]
  },
  {
   "cell_type": "markdown",
   "metadata": {},
   "source": [
    "Trained plant with 2016-17 November, December, and January minute data\n",
    "Tested data from the rest of the year"
   ]
  },
  {
   "cell_type": "code",
   "execution_count": 15,
   "metadata": {},
   "outputs": [],
   "source": [
    "lst_train = ['Plt1 m 2016-11.csv', 'Plt1 m 2016-12.csv', 'Plt1 m 2017-01.csv']\n",
    "lst_test = [\n",
    "    'Plt1 m 2017-05.csv', 'Plt1 m 2017-06.csv', 'Plt1 m 2017-07.csv',\n",
    "    'Plt1 m 2017-02.csv', 'Plt1 m 2017-03.csv', 'Plt1 m 2017-04.csv',\n",
    "    'Plt1 m 2017-08.csv', 'Plt1 m 2017-09.csv', 'Plt1 m 2017-10.csv',\n",
    "    'Plt1 m 2017-11.csv', 'Plt1 m 2017-12.csv', 'Plt1 m 2018-01.csv',\n",
    "    'Plt1 m 2018-02.csv', 'Plt1 m 2018-03.csv', 'Plt1 m 2018-04.csv'\n",
    "]\n",
    "# lst_train = ['Plt1 m 2017-01.csv']\n"
   ]
  },
  {
   "cell_type": "code",
   "execution_count": 16,
   "metadata": {
    "scrolled": true
   },
   "outputs": [
    {
     "name": "stdout",
     "output_type": "stream",
     "text": [
      "Filtering Training Set\n",
      "['../../Capstone/Plt1\\\\Plt1 m 2016-11.csv']\n",
      "['../../Capstone/Plt1\\\\Plt1 m 2016-12.csv']\n",
      "['../../Capstone/Plt1\\\\Plt1 m 2017-01.csv']\n",
      "Descriptors in the points list that are not in the datasets.\n",
      "CommunicationFailure_COV\n",
      "CH3COM1F\n",
      "CH3Ready\n",
      "CH4COM1F\n",
      "CH4Ready\n",
      "CH4SURGE\n",
      "CH5COM1F\n",
      "CH5Ready\n",
      "Original data contains 23414 points and 412 dimensions.\n",
      "A CTTR_ALARM was noted and 186 datapoints were removed from the dataset.\n",
      "A PCHWP3Failed was noted and 186 datapoints were removed from the dataset.\n",
      "A PCHWP4Failed was noted and 186 datapoints were removed from the dataset.\n",
      "A PCHWP5Failed was noted and 186 datapoints were removed from the dataset.\n",
      "A SCHWP3Failed was noted and 186 datapoints were removed from the dataset.\n",
      "A SCHWP4Failed was noted and 186 datapoints were removed from the dataset.\n",
      "A SCHWP5Failed was noted and 186 datapoints were removed from the dataset.\n",
      "A CH3_CHWSTSP_Alarm was noted and 186 datapoints were removed from the dataset.\n",
      "A CH3ALARM was noted and 186 datapoints were removed from the dataset.\n",
      "A CH3F was noted and 186 datapoints were removed from the dataset.\n",
      "A CH4_CHWSTSP_Alarm was noted and 186 datapoints were removed from the dataset.\n",
      "A CH4ALARM was noted and 187 datapoints were removed from the dataset.\n",
      "A CH4F was noted and 187 datapoints were removed from the dataset.\n",
      "A CH5_CHWSTSP_Alarm was noted and 187 datapoints were removed from the dataset.\n",
      "A CH5ALARM was noted and 187 datapoints were removed from the dataset.\n",
      "A CH5F was noted and 187 datapoints were removed from the dataset.\n",
      "A CDWP3Failed was noted and 187 datapoints were removed from the dataset.\n",
      "A CDWP3SPD_Alarm was noted and 202 datapoints were removed from the dataset.\n",
      "A CDWP4Failed was noted and 202 datapoints were removed from the dataset.\n",
      "A CDWP4SPD_Alarm was noted and 12948 datapoints were removed from the dataset.\n",
      "A CDWP5Failed was noted and 12948 datapoints were removed from the dataset.\n",
      "A CDWP5SPD_Alarm was noted and 16146 datapoints were removed from the dataset.\n",
      "A CT4Failed was noted and 16146 datapoints were removed from the dataset.\n",
      "A CT4SPD_Alarm was noted and 16146 datapoints were removed from the dataset.\n",
      "A CT5Failed was noted and 16146 datapoints were removed from the dataset.\n",
      "A CT5SPD_Alarm was noted and 16146 datapoints were removed from the dataset.\n",
      "Filtered data contains 2981 points and 191 dimensions.\n",
      "Filtering Test Set\n",
      "['../../Capstone/Plt1\\\\Plt1 m 2017-05.csv']\n",
      "['../../Capstone/Plt1\\\\Plt1 m 2017-06.csv']\n",
      "['../../Capstone/Plt1\\\\Plt1 m 2017-07.csv']\n",
      "['../../Capstone/Plt1\\\\Plt1 m 2017-02.csv']\n",
      "['../../Capstone/Plt1\\\\Plt1 m 2017-03.csv']\n",
      "['../../Capstone/Plt1\\\\Plt1 m 2017-04.csv']\n",
      "['../../Capstone/Plt1\\\\Plt1 m 2017-08.csv']\n",
      "['../../Capstone/Plt1\\\\Plt1 m 2017-09.csv']\n",
      "['../../Capstone/Plt1\\\\Plt1 m 2017-10.csv']\n",
      "['../../Capstone/Plt1\\\\Plt1 m 2017-11.csv']\n",
      "['../../Capstone/Plt1\\\\Plt1 m 2017-12.csv']\n",
      "['../../Capstone/Plt1\\\\Plt1 m 2018-01.csv']\n",
      "['../../Capstone/Plt1\\\\Plt1 m 2018-02.csv']\n",
      "['../../Capstone/Plt1\\\\Plt1 m 2018-03.csv']\n",
      "['../../Capstone/Plt1\\\\Plt1 m 2018-04.csv']\n",
      "Descriptors in the points list that are not in the datasets.\n",
      "CommunicationFailure_COV\n",
      "CH3COM1F\n",
      "CH3Ready\n",
      "CH4COM1F\n",
      "CH4Ready\n",
      "CH4SURGE\n",
      "CH5COM1F\n",
      "CH5Ready\n",
      "Original data contains 128467 points and 414 dimensions.\n",
      "A CTTR_ALARM was noted and 586 datapoints were removed from the dataset.\n",
      "A PCHWP3Failed was noted and 1385 datapoints were removed from the dataset.\n",
      "A PCHWP4Failed was noted and 1572 datapoints were removed from the dataset.\n",
      "A PCHWP5Failed was noted and 1572 datapoints were removed from the dataset.\n",
      "A SCHWP3Failed was noted and 1572 datapoints were removed from the dataset.\n",
      "A SCHWP4Failed was noted and 1573 datapoints were removed from the dataset.\n",
      "A SCHWP5Failed was noted and 1573 datapoints were removed from the dataset.\n",
      "A CH3_CHWSTSP_Alarm was noted and 1579 datapoints were removed from the dataset.\n",
      "A CH3ALARM was noted and 5820 datapoints were removed from the dataset.\n",
      "A CH3F was noted and 5820 datapoints were removed from the dataset.\n",
      "A CH4_CHWSTSP_Alarm was noted and 5820 datapoints were removed from the dataset.\n",
      "A CH4ALARM was noted and 5926 datapoints were removed from the dataset.\n",
      "A CH4F was noted and 15206 datapoints were removed from the dataset.\n",
      "A CH5_CHWSTSP_Alarm was noted and 15206 datapoints were removed from the dataset.\n",
      "A CH5ALARM was noted and 16300 datapoints were removed from the dataset.\n",
      "A CH5F was noted and 16300 datapoints were removed from the dataset.\n",
      "A CDWP3Failed was noted and 16300 datapoints were removed from the dataset.\n",
      "A CDWP3SPD_Alarm was noted and 33762 datapoints were removed from the dataset.\n",
      "A CDWP4Failed was noted and 33762 datapoints were removed from the dataset.\n",
      "A CDWP4SPD_Alarm was noted and 35713 datapoints were removed from the dataset.\n",
      "A CDWP5Failed was noted and 35713 datapoints were removed from the dataset.\n",
      "A CDWP5SPD_Alarm was noted and 75732 datapoints were removed from the dataset.\n",
      "A CT4Failed was noted and 75732 datapoints were removed from the dataset.\n",
      "A CT4SPD_Alarm was noted and 75747 datapoints were removed from the dataset.\n",
      "A CT5Failed was noted and 75747 datapoints were removed from the dataset.\n",
      "A CT5SPD_Alarm was noted and 75750 datapoints were removed from the dataset.\n",
      "Filtered data contains 49581 points and 191 dimensions.\n"
     ]
    },
    {
     "data": {
      "text/plain": [
       "(49581, 191)"
      ]
     },
     "execution_count": 16,
     "metadata": {},
     "output_type": "execute_result"
    }
   ],
   "source": [
    "df_train, df_test = bas_filter.train_single_plt(\n",
    "    '../../Capstone/Plt1', lst_train, lst_test,\n",
    "    '../../Capstone/Plt1/Plt1 Points List.xlsx',\n",
    "    include_alarms=False, dim_remove=['CHWST', 'CDWVLV']\n",
    ")\n",
    "df_test.shape"
   ]
  },
  {
   "cell_type": "code",
   "execution_count": 17,
   "metadata": {
    "scrolled": false
   },
   "outputs": [
    {
     "data": {
      "text/plain": [
       "<matplotlib.collections.PathCollection at 0x248a970cd68>"
      ]
     },
     "execution_count": 17,
     "metadata": {},
     "output_type": "execute_result"
    },
    {
     "data": {
      "image/png": "[encoded data removed]",
      "text/plain": [
       "<matplotlib.figure.Figure at 0x248a9a71ef0>"
      ]
     },
     "metadata": {},
     "output_type": "display_data"
    }
   ],
   "source": [
    "plt.scatter(df_train['kW/Ton'], df_train['kW/Ton'])"
   ]
  },
  {
   "cell_type": "code",
   "execution_count": 18,
   "metadata": {},
   "outputs": [
    {
     "data": {
      "text/plain": [
       "<matplotlib.collections.PathCollection at 0x248a9a9c940>"
      ]
     },
     "execution_count": 18,
     "metadata": {},
     "output_type": "execute_result"
    },
    {
     "data": {
      "image/png": "[encoded data removed]",
      "text/plain": [
       "<matplotlib.figure.Figure at 0x248a9a92198>"
      ]
     },
     "metadata": {},
     "output_type": "display_data"
    }
   ],
   "source": [
    "plt.scatter(df_test['kW/Ton'], df_test['kW/Ton'])"
   ]
  },
  {
   "cell_type": "code",
   "execution_count": 19,
   "metadata": {},
   "outputs": [],
   "source": [
    "params = {'n_estimators': 500, 'max_depth': 6, 'min_samples_split': 2,\n",
    "          'learning_rate': 0.01, 'loss': 'ls'}"
   ]
  },
  {
   "cell_type": "code",
   "execution_count": 20,
   "metadata": {},
   "outputs": [],
   "source": [
    "model = GradientBoostingRegressor(**params)"
   ]
  },
  {
   "cell_type": "code",
   "execution_count": 21,
   "metadata": {},
   "outputs": [],
   "source": [
    "ytrain = df_train['kW/Ton'].values\n",
    "ytest = df_test['kW/Ton'].values\n",
    "xtrain = df_train.drop(['kW/Ton'], axis=1).values\n",
    "xtest = df_test.drop(['kW/Ton'], axis=1).values"
   ]
  },
  {
   "cell_type": "code",
   "execution_count": 22,
   "metadata": {},
   "outputs": [
    {
     "data": {
      "text/plain": [
       "(2981, 190)"
      ]
     },
     "execution_count": 22,
     "metadata": {},
     "output_type": "execute_result"
    }
   ],
   "source": [
    "xtrain.shape"
   ]
  },
  {
   "cell_type": "code",
   "execution_count": 23,
   "metadata": {},
   "outputs": [
    {
     "data": {
      "text/plain": [
       "(2981,)"
      ]
     },
     "execution_count": 23,
     "metadata": {},
     "output_type": "execute_result"
    }
   ],
   "source": [
    "ytrain.shape"
   ]
  },
  {
   "cell_type": "code",
   "execution_count": 24,
   "metadata": {},
   "outputs": [
    {
     "data": {
      "text/plain": [
       "GradientBoostingRegressor(alpha=0.9, criterion='friedman_mse', init=None,\n",
       "             learning_rate=0.01, loss='ls', max_depth=6, max_features=None,\n",
       "             max_leaf_nodes=None, min_impurity_decrease=0.0,\n",
       "             min_impurity_split=None, min_samples_leaf=1,\n",
       "             min_samples_split=2, min_weight_fraction_leaf=0.0,\n",
       "             n_estimators=500, presort='auto', random_state=None,\n",
       "             subsample=1.0, verbose=0, warm_start=False)"
      ]
     },
     "execution_count": 24,
     "metadata": {},
     "output_type": "execute_result"
    }
   ],
   "source": [
    "model.fit(xtrain, ytrain)"
   ]
  },
  {
   "cell_type": "code",
   "execution_count": 25,
   "metadata": {},
   "outputs": [],
   "source": [
    "ypred = model.predict(xtest)"
   ]
  },
  {
   "cell_type": "code",
   "execution_count": 31,
   "metadata": {
    "scrolled": true
   },
   "outputs": [
    {
     "data": {
      "text/plain": [
       "[<matplotlib.lines.Line2D at 0x248a9da54a8>]"
      ]
     },
     "execution_count": 31,
     "metadata": {},
     "output_type": "execute_result"
    },
    {
     "data": {
      "image/png": "[encoded data removed]",
      "text/plain": [
       "<matplotlib.figure.Figure at 0x248a8e374a8>"
      ]
     },
     "metadata": {},
     "output_type": "display_data"
    }
   ],
   "source": [
    "sns.set()\n",
    "plt.figure()\n",
    "plt.scatter(ytest, ypred)\n",
    "fs = 20\n",
    "plt.title(\"Winter 2016-17 Training Data\", fontsize=fs)\n",
    "plt.xlabel(\"Experimental Data\", fontsize=fs-4)\n",
    "plt.ylabel(\"Model Predictions\", fontsize=fs-4)\n",
    "# plt.savefig('r2_values_winter_plt1_2016_17.png', bbox_inches='tight')\n",
    "plt.xlim(0.1, 1.1)\n",
    "plt.plot([0.1, 1.1], [0.1, 1.1], 'k')"
   ]
  },
  {
   "cell_type": "markdown",
   "metadata": {},
   "source": [
    "R2 value"
   ]
  },
  {
   "cell_type": "code",
   "execution_count": 27,
   "metadata": {},
   "outputs": [
    {
     "data": {
      "text/plain": [
       "0.7391805942937013"
      ]
     },
     "execution_count": 27,
     "metadata": {},
     "output_type": "execute_result"
    }
   ],
   "source": [
    "test_score = r2_score(ytest, ypred)\n",
    "test_score"
   ]
  },
  {
   "cell_type": "markdown",
   "metadata": {},
   "source": [
    "Feature Importance"
   ]
  },
  {
   "cell_type": "code",
   "execution_count": 15,
   "metadata": {
    "collapsed": true
   },
   "outputs": [],
   "source": [
    "feature_importance = model.feature_importances_\n",
    "feature_importance = 100.0 * (feature_importance / feature_importance.max())\n",
    "sorted_idx = np.argsort(feature_importance)\n",
    "pos = np.arange(sorted_idx.shape[0]) + .5\n",
    "x = df_test.drop(['kW/Ton'], axis=1).columns[sorted_idx]\n",
    "imp = feature_importance[sorted_idx]"
   ]
  },
  {
   "cell_type": "code",
   "execution_count": 16,
   "metadata": {
    "collapsed": true
   },
   "outputs": [],
   "source": [
    "df_feats = pd.DataFrame({'feature_name': x, 'feat_import': imp})"
   ]
  },
  {
   "cell_type": "code",
   "execution_count": 17,
   "metadata": {},
   "outputs": [
    {
     "data": {
      "text/html": [
       "<div>\n",
       "<style>\n",
       "    .dataframe thead tr:only-child th {\n",
       "        text-align: right;\n",
       "    }\n",
       "\n",
       "    .dataframe thead th {\n",
       "        text-align: left;\n",
       "    }\n",
       "\n",
       "    .dataframe tbody tr th {\n",
       "        vertical-align: top;\n",
       "    }\n",
       "</style>\n",
       "<table border=\"1\" class=\"dataframe\">\n",
       "  <thead>\n",
       "    <tr style=\"text-align: right;\">\n",
       "      <th></th>\n",
       "      <th>feat_import</th>\n",
       "      <th>feature_name</th>\n",
       "    </tr>\n",
       "  </thead>\n",
       "  <tbody>\n",
       "    <tr>\n",
       "      <th>0</th>\n",
       "      <td>0.000000</td>\n",
       "      <td>CDWVLV2</td>\n",
       "    </tr>\n",
       "    <tr>\n",
       "      <th>1</th>\n",
       "      <td>0.000000</td>\n",
       "      <td>CH4F</td>\n",
       "    </tr>\n",
       "    <tr>\n",
       "      <th>2</th>\n",
       "      <td>0.000000</td>\n",
       "      <td>CH4ALARM</td>\n",
       "    </tr>\n",
       "    <tr>\n",
       "      <th>3</th>\n",
       "      <td>0.000000</td>\n",
       "      <td>CH4_CHWSTSP_Alarm</td>\n",
       "    </tr>\n",
       "    <tr>\n",
       "      <th>4</th>\n",
       "      <td>0.000000</td>\n",
       "      <td>CH3Tons</td>\n",
       "    </tr>\n",
       "    <tr>\n",
       "      <th>5</th>\n",
       "      <td>0.000000</td>\n",
       "      <td>CH3SURGE</td>\n",
       "    </tr>\n",
       "    <tr>\n",
       "      <th>6</th>\n",
       "      <td>0.000000</td>\n",
       "      <td>CH3SBoolean</td>\n",
       "    </tr>\n",
       "    <tr>\n",
       "      <th>7</th>\n",
       "      <td>0.000000</td>\n",
       "      <td>CH3S</td>\n",
       "    </tr>\n",
       "    <tr>\n",
       "      <th>8</th>\n",
       "      <td>0.000000</td>\n",
       "      <td>CH3PctLoad</td>\n",
       "    </tr>\n",
       "    <tr>\n",
       "      <th>9</th>\n",
       "      <td>0.000000</td>\n",
       "      <td>CH4SBoolean</td>\n",
       "    </tr>\n",
       "    <tr>\n",
       "      <th>10</th>\n",
       "      <td>0.000000</td>\n",
       "      <td>CH3FLA</td>\n",
       "    </tr>\n",
       "    <tr>\n",
       "      <th>11</th>\n",
       "      <td>0.000000</td>\n",
       "      <td>CH3COM1SPD</td>\n",
       "    </tr>\n",
       "    <tr>\n",
       "      <th>12</th>\n",
       "      <td>0.000000</td>\n",
       "      <td>CH3COM1IGV</td>\n",
       "    </tr>\n",
       "    <tr>\n",
       "      <th>13</th>\n",
       "      <td>0.000000</td>\n",
       "      <td>CH3CHWVLV</td>\n",
       "    </tr>\n",
       "    <tr>\n",
       "      <th>14</th>\n",
       "      <td>0.000000</td>\n",
       "      <td>CH3AVAIL</td>\n",
       "    </tr>\n",
       "    <tr>\n",
       "      <th>15</th>\n",
       "      <td>0.000000</td>\n",
       "      <td>CH3ALARM</td>\n",
       "    </tr>\n",
       "    <tr>\n",
       "      <th>16</th>\n",
       "      <td>0.000000</td>\n",
       "      <td>CH3_CHWSTSP_Alarm</td>\n",
       "    </tr>\n",
       "    <tr>\n",
       "      <th>17</th>\n",
       "      <td>0.000000</td>\n",
       "      <td>SCHWP5Failed</td>\n",
       "    </tr>\n",
       "    <tr>\n",
       "      <th>18</th>\n",
       "      <td>0.000000</td>\n",
       "      <td>SCHWP4SS</td>\n",
       "    </tr>\n",
       "    <tr>\n",
       "      <th>19</th>\n",
       "      <td>0.000000</td>\n",
       "      <td>CH3F</td>\n",
       "    </tr>\n",
       "    <tr>\n",
       "      <th>20</th>\n",
       "      <td>0.000000</td>\n",
       "      <td>CH4SURGECNT</td>\n",
       "    </tr>\n",
       "    <tr>\n",
       "      <th>21</th>\n",
       "      <td>0.000000</td>\n",
       "      <td>CH5_CHWSTSP_Alarm</td>\n",
       "    </tr>\n",
       "    <tr>\n",
       "      <th>22</th>\n",
       "      <td>0.000000</td>\n",
       "      <td>CH5ALARM</td>\n",
       "    </tr>\n",
       "    <tr>\n",
       "      <th>23</th>\n",
       "      <td>0.000000</td>\n",
       "      <td>CT5SPD_Alarm</td>\n",
       "    </tr>\n",
       "    <tr>\n",
       "      <th>24</th>\n",
       "      <td>0.000000</td>\n",
       "      <td>CT5Failed</td>\n",
       "    </tr>\n",
       "    <tr>\n",
       "      <th>25</th>\n",
       "      <td>0.000000</td>\n",
       "      <td>CT4SS</td>\n",
       "    </tr>\n",
       "    <tr>\n",
       "      <th>26</th>\n",
       "      <td>0.000000</td>\n",
       "      <td>CT4SPD_Alarm</td>\n",
       "    </tr>\n",
       "    <tr>\n",
       "      <th>27</th>\n",
       "      <td>0.000000</td>\n",
       "      <td>CT4S</td>\n",
       "    </tr>\n",
       "    <tr>\n",
       "      <th>28</th>\n",
       "      <td>0.000000</td>\n",
       "      <td>CT4Failed</td>\n",
       "    </tr>\n",
       "    <tr>\n",
       "      <th>29</th>\n",
       "      <td>0.000000</td>\n",
       "      <td>CT4EVLV</td>\n",
       "    </tr>\n",
       "    <tr>\n",
       "      <th>...</th>\n",
       "      <td>...</td>\n",
       "      <td>...</td>\n",
       "    </tr>\n",
       "    <tr>\n",
       "      <th>160</th>\n",
       "      <td>1.067307</td>\n",
       "      <td>OAT</td>\n",
       "    </tr>\n",
       "    <tr>\n",
       "      <th>161</th>\n",
       "      <td>1.087861</td>\n",
       "      <td>CHWFLO</td>\n",
       "    </tr>\n",
       "    <tr>\n",
       "      <th>162</th>\n",
       "      <td>1.097719</td>\n",
       "      <td>CH5PctLoad</td>\n",
       "    </tr>\n",
       "    <tr>\n",
       "      <th>163</th>\n",
       "      <td>1.114553</td>\n",
       "      <td>CH5CDW_DeltaT</td>\n",
       "    </tr>\n",
       "    <tr>\n",
       "      <th>164</th>\n",
       "      <td>1.218040</td>\n",
       "      <td>CH5Tons</td>\n",
       "    </tr>\n",
       "    <tr>\n",
       "      <th>165</th>\n",
       "      <td>1.316941</td>\n",
       "      <td>MaxCHDTLift</td>\n",
       "    </tr>\n",
       "    <tr>\n",
       "      <th>166</th>\n",
       "      <td>1.382858</td>\n",
       "      <td>CH5CompDiscSuperheat</td>\n",
       "    </tr>\n",
       "    <tr>\n",
       "      <th>167</th>\n",
       "      <td>1.507396</td>\n",
       "      <td>CH4Tons</td>\n",
       "    </tr>\n",
       "    <tr>\n",
       "      <th>168</th>\n",
       "      <td>1.560508</td>\n",
       "      <td>CH4DPLift</td>\n",
       "    </tr>\n",
       "    <tr>\n",
       "      <th>169</th>\n",
       "      <td>1.733595</td>\n",
       "      <td>CHWRT</td>\n",
       "    </tr>\n",
       "    <tr>\n",
       "      <th>170</th>\n",
       "      <td>1.794224</td>\n",
       "      <td>CH5CHW_DeltaT</td>\n",
       "    </tr>\n",
       "    <tr>\n",
       "      <th>171</th>\n",
       "      <td>2.026435</td>\n",
       "      <td>CH4CHWRT</td>\n",
       "    </tr>\n",
       "    <tr>\n",
       "      <th>172</th>\n",
       "      <td>2.739156</td>\n",
       "      <td>CT5HZ</td>\n",
       "    </tr>\n",
       "    <tr>\n",
       "      <th>173</th>\n",
       "      <td>2.739851</td>\n",
       "      <td>SCHWP4SPD</td>\n",
       "    </tr>\n",
       "    <tr>\n",
       "      <th>174</th>\n",
       "      <td>2.798060</td>\n",
       "      <td>CH5EVP</td>\n",
       "    </tr>\n",
       "    <tr>\n",
       "      <th>175</th>\n",
       "      <td>2.911327</td>\n",
       "      <td>SCHWP3SPD</td>\n",
       "    </tr>\n",
       "    <tr>\n",
       "      <th>176</th>\n",
       "      <td>2.944826</td>\n",
       "      <td>SCHWP3HZ</td>\n",
       "    </tr>\n",
       "    <tr>\n",
       "      <th>177</th>\n",
       "      <td>3.033706</td>\n",
       "      <td>CT5SPD</td>\n",
       "    </tr>\n",
       "    <tr>\n",
       "      <th>178</th>\n",
       "      <td>3.297365</td>\n",
       "      <td>CH5EvapApproach</td>\n",
       "    </tr>\n",
       "    <tr>\n",
       "      <th>179</th>\n",
       "      <td>3.307457</td>\n",
       "      <td>SCHWP4HZ</td>\n",
       "    </tr>\n",
       "    <tr>\n",
       "      <th>180</th>\n",
       "      <td>3.472382</td>\n",
       "      <td>CH4CHW_DeltaT</td>\n",
       "    </tr>\n",
       "    <tr>\n",
       "      <th>181</th>\n",
       "      <td>3.607811</td>\n",
       "      <td>CH5DPLift</td>\n",
       "    </tr>\n",
       "    <tr>\n",
       "      <th>182</th>\n",
       "      <td>3.617483</td>\n",
       "      <td>CH5CHWRT</td>\n",
       "    </tr>\n",
       "    <tr>\n",
       "      <th>183</th>\n",
       "      <td>4.471871</td>\n",
       "      <td>CHWDP2</td>\n",
       "    </tr>\n",
       "    <tr>\n",
       "      <th>184</th>\n",
       "      <td>6.479468</td>\n",
       "      <td>CH5CondApproach</td>\n",
       "    </tr>\n",
       "    <tr>\n",
       "      <th>185</th>\n",
       "      <td>7.429263</td>\n",
       "      <td>CH5COM1SPD</td>\n",
       "    </tr>\n",
       "    <tr>\n",
       "      <th>186</th>\n",
       "      <td>9.888348</td>\n",
       "      <td>MinCHDPLift</td>\n",
       "    </tr>\n",
       "    <tr>\n",
       "      <th>187</th>\n",
       "      <td>12.659800</td>\n",
       "      <td>CH5FLA</td>\n",
       "    </tr>\n",
       "    <tr>\n",
       "      <th>188</th>\n",
       "      <td>16.140320</td>\n",
       "      <td>CH4W$2fTon</td>\n",
       "    </tr>\n",
       "    <tr>\n",
       "      <th>189</th>\n",
       "      <td>100.000000</td>\n",
       "      <td>MaxCHDPLift</td>\n",
       "    </tr>\n",
       "  </tbody>\n",
       "</table>\n",
       "<p>190 rows × 2 columns</p>\n",
       "</div>"
      ],
      "text/plain": [
       "     feat_import          feature_name\n",
       "0       0.000000               CDWVLV2\n",
       "1       0.000000                  CH4F\n",
       "2       0.000000              CH4ALARM\n",
       "3       0.000000     CH4_CHWSTSP_Alarm\n",
       "4       0.000000               CH3Tons\n",
       "5       0.000000              CH3SURGE\n",
       "6       0.000000           CH3SBoolean\n",
       "7       0.000000                  CH3S\n",
       "8       0.000000            CH3PctLoad\n",
       "9       0.000000           CH4SBoolean\n",
       "10      0.000000                CH3FLA\n",
       "11      0.000000            CH3COM1SPD\n",
       "12      0.000000            CH3COM1IGV\n",
       "13      0.000000             CH3CHWVLV\n",
       "14      0.000000              CH3AVAIL\n",
       "15      0.000000              CH3ALARM\n",
       "16      0.000000     CH3_CHWSTSP_Alarm\n",
       "17      0.000000          SCHWP5Failed\n",
       "18      0.000000              SCHWP4SS\n",
       "19      0.000000                  CH3F\n",
       "20      0.000000           CH4SURGECNT\n",
       "21      0.000000     CH5_CHWSTSP_Alarm\n",
       "22      0.000000              CH5ALARM\n",
       "23      0.000000          CT5SPD_Alarm\n",
       "24      0.000000             CT5Failed\n",
       "25      0.000000                 CT4SS\n",
       "26      0.000000          CT4SPD_Alarm\n",
       "27      0.000000                  CT4S\n",
       "28      0.000000             CT4Failed\n",
       "29      0.000000               CT4EVLV\n",
       "..           ...                   ...\n",
       "160     1.067307                   OAT\n",
       "161     1.087861                CHWFLO\n",
       "162     1.097719            CH5PctLoad\n",
       "163     1.114553         CH5CDW_DeltaT\n",
       "164     1.218040               CH5Tons\n",
       "165     1.316941           MaxCHDTLift\n",
       "166     1.382858  CH5CompDiscSuperheat\n",
       "167     1.507396               CH4Tons\n",
       "168     1.560508             CH4DPLift\n",
       "169     1.733595                 CHWRT\n",
       "170     1.794224         CH5CHW_DeltaT\n",
       "171     2.026435              CH4CHWRT\n",
       "172     2.739156                 CT5HZ\n",
       "173     2.739851             SCHWP4SPD\n",
       "174     2.798060                CH5EVP\n",
       "175     2.911327             SCHWP3SPD\n",
       "176     2.944826              SCHWP3HZ\n",
       "177     3.033706                CT5SPD\n",
       "178     3.297365       CH5EvapApproach\n",
       "179     3.307457              SCHWP4HZ\n",
       "180     3.472382         CH4CHW_DeltaT\n",
       "181     3.607811             CH5DPLift\n",
       "182     3.617483              CH5CHWRT\n",
       "183     4.471871                CHWDP2\n",
       "184     6.479468       CH5CondApproach\n",
       "185     7.429263            CH5COM1SPD\n",
       "186     9.888348           MinCHDPLift\n",
       "187    12.659800                CH5FLA\n",
       "188    16.140320            CH4W$2fTon\n",
       "189   100.000000           MaxCHDPLift\n",
       "\n",
       "[190 rows x 2 columns]"
      ]
     },
     "execution_count": 17,
     "metadata": {},
     "output_type": "execute_result"
    }
   ],
   "source": [
    "df_feats"
   ]
  },
  {
   "cell_type": "code",
   "execution_count": 23,
   "metadata": {
    "collapsed": true
   },
   "outputs": [],
   "source": [
    "df_feats.to_csv('Feat_imp_winter_test_plt1_2016_17.csv')"
   ]
  },
  {
   "cell_type": "code",
   "execution_count": null,
   "metadata": {
    "collapsed": true
   },
   "outputs": [],
   "source": []
  }
 ],
 "metadata": {
  "kernelspec": {
   "display_name": "Python 3",
   "language": "python",
   "name": "python3"
  },
  "language_info": {
   "codemirror_mode": {
    "name": "ipython",
    "version": 3
   },
   "file_extension": ".py",
   "mimetype": "text/x-python",
   "name": "python",
   "nbconvert_exporter": "python",
   "pygments_lexer": "ipython3",
   "version": "3.6.3"
  }
 },
 "nbformat": 4,
 "nbformat_minor": 2
}
