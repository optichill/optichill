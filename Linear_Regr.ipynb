{
 "cells": [
  {
   "cell_type": "code",
   "execution_count": 1,
   "metadata": {},
   "outputs": [],
   "source": [
    "import numpy as np\n",
    "import pandas as pd\n",
    "import matplotlib\n",
    "import matplotlib.pyplot as plt\n",
    "from sklearn import linear_model\n",
    "from sklearn.model_selection import train_test_split\n",
    "from sklearn import metrics\n",
    "import matplotlib.pyplot as plt\n",
    "%matplotlib inline"
   ]
  },
  {
   "cell_type": "code",
   "execution_count": 2,
   "metadata": {},
   "outputs": [],
   "source": [
    "df = pd.read_csv('Files/dss_Alb h 2017-09.csv')\n",
    "key = pd.read_excel('Files/Ethicon Alb Points List.xlsx')"
   ]
  },
  {
   "cell_type": "code",
   "execution_count": 3,
   "metadata": {},
   "outputs": [
    {
     "name": "stdout",
     "output_type": "stream",
     "text": [
      "CommunicationFailure_COV\n",
      "Original data contains 1465 points and 414 dimensions.\n",
      "Filtered data contains 1432 points and 67 dimensions.\n"
     ]
    }
   ],
   "source": [
    "# collects DataPointNames from the points list spreadsheet that are BAS point types\n",
    "key_bas = key.loc[key['PointType'].str.contains(\"BAS\")==True,'DataPointName']\n",
    "\n",
    "#converts pandas series to a list for future use\n",
    "val = key_bas.values.T.tolist()\n",
    "val.append('kW/Ton')\n",
    "\n",
    "#removes DataPointNames that containt the prefix CHWV\n",
    "vals = [x for x in val if not x.startswith('CHWV')]\n",
    "\n",
    "#tests whether all values from the point list spreadsheet are column headings of the dataset\n",
    "for x in vals:\n",
    "    if x not in df.columns:\n",
    "        #prints and removes any string not found in the data\n",
    "        print(x)\n",
    "        vals.remove(x)\n",
    "        \n",
    "#expresses data using columns specified by the vals list\n",
    "bas = df[vals+['OptimumControl', 'kW/Ton']]\n",
    "print('Original data contains '+str(df.shape[0])+' points and '+str(df.shape[1])+ ' dimensions.')\n",
    "print('Filtered data contains '+str(bas.dropna().shape[0])+' points and '+str(bas.dropna().shape[1])+ ' dimensions.')"
   ]
  },
  {
   "cell_type": "code",
   "execution_count": 4,
   "metadata": {},
   "outputs": [
    {
     "data": {
      "text/plain": [
       "(1432, 65)"
      ]
     },
     "execution_count": 4,
     "metadata": {},
     "output_type": "execute_result"
    }
   ],
   "source": [
    "bas = df[vals].dropna()\n",
    "bas.shape"
   ]
  },
  {
   "cell_type": "code",
   "execution_count": 5,
   "metadata": {},
   "outputs": [],
   "source": [
    "n = len(bas.columns)"
   ]
  },
  {
   "cell_type": "code",
   "execution_count": 6,
   "metadata": {},
   "outputs": [
    {
     "data": {
      "text/plain": [
       "Index(['CDWVLV', 'CDWVLV2', 'CHkW', 'CHWDP2', 'CHWFLO', 'CHWRT', 'CHWRT2',\n",
       "       'CHWRT3', 'CHWST', 'CHWST2', 'CHWST3', 'CLGMODE',\n",
       "       'CommunicationFailure', 'CTTR_ALARM', 'HX1CDWRT', 'HX1CDWST',\n",
       "       'HX1CDWVLV', 'HX1CHWRT', 'HX1CHWST', 'HX1CHWVLV', 'LOOPREQ',\n",
       "       'MaxCHDPLift', 'MaxCHDTLift', 'MinCHDPLift', 'MinCHDTLift', 'OAH',\n",
       "       'OAT', 'OAWB', 'PCHWP3Failed', 'PCHWP3HZ', 'PCHWP3kW', 'PCHWP3S',\n",
       "       'PCHWP3SPD', 'PCHWP3SS', 'PCHWP4Failed', 'PCHWP4HZ', 'PCHWP4kW',\n",
       "       'PCHWP4S', 'PCHWP4SPD', 'PCHWP4SS', 'PCHWP5Failed', 'PCHWP5HZ',\n",
       "       'PCHWP5kW', 'PCHWP5S', 'PCHWP5SPD', 'PCHWP5SS', 'SCHWP3Failed',\n",
       "       'SCHWP3HZ', 'SCHWP3kW', 'SCHWP3S', 'SCHWP3SPD', 'SCHWP3SS',\n",
       "       'SCHWP4Failed', 'SCHWP4HZ', 'SCHWP4kW', 'SCHWP4S', 'SCHWP4SPD',\n",
       "       'SCHWP4SS', 'SCHWP5Failed', 'SCHWP5HZ', 'SCHWP5kW', 'SCHWP5S',\n",
       "       'SCHWP5SPD', 'SCHWP5SS', 'kW/Ton'],\n",
       "      dtype='object')"
      ]
     },
     "execution_count": 6,
     "metadata": {},
     "output_type": "execute_result"
    }
   ],
   "source": [
    "bas.columns"
   ]
  },
  {
   "cell_type": "code",
   "execution_count": 7,
   "metadata": {},
   "outputs": [],
   "source": [
    "xtrain, xtest, ytrain, ytest = train_test_split(bas.values[:, 0:(n-2)], bas.values[:,(n-1)], test_size = 0.25, random_state = 42)\n",
    "#xtrain, xtest, ytrain, ytest = train_test_split(bas.values, bas.values, test_size = 0.25)"
   ]
  },
  {
   "cell_type": "markdown",
   "metadata": {},
   "source": [
    "#### LASSO"
   ]
  },
  {
   "cell_type": "code",
   "execution_count": 17,
   "metadata": {},
   "outputs": [
    {
     "data": {
      "text/html": [
       "<div>\n",
       "<style scoped>\n",
       "    .dataframe tbody tr th:only-of-type {\n",
       "        vertical-align: middle;\n",
       "    }\n",
       "\n",
       "    .dataframe tbody tr th {\n",
       "        vertical-align: top;\n",
       "    }\n",
       "\n",
       "    .dataframe thead th {\n",
       "        text-align: right;\n",
       "    }\n",
       "</style>\n",
       "<table border=\"1\" class=\"dataframe\">\n",
       "  <thead>\n",
       "    <tr style=\"text-align: right;\">\n",
       "      <th></th>\n",
       "      <th>lasso_coef</th>\n",
       "    </tr>\n",
       "  </thead>\n",
       "  <tbody>\n",
       "    <tr>\n",
       "      <th>CHkW</th>\n",
       "      <td>1.073035e-03</td>\n",
       "    </tr>\n",
       "    <tr>\n",
       "      <th>CHWFLO</th>\n",
       "      <td>3.968178e-08</td>\n",
       "    </tr>\n",
       "  </tbody>\n",
       "</table>\n",
       "</div>"
      ],
      "text/plain": [
       "          lasso_coef\n",
       "CHkW    1.073035e-03\n",
       "CHWFLO  3.968178e-08"
      ]
     },
     "execution_count": 17,
     "metadata": {},
     "output_type": "execute_result"
    }
   ],
   "source": [
    "reg_lasso = linear_model.Lasso()\n",
    "reg_lasso.fit(xtrain, ytrain)\n",
    "coef = reg_lasso.coef_\n",
    "lasso_coef = pd.DataFrame(coef, bas.columns[:-2])\n",
    "lasso_coef = lasso_coef[coef!=0]\n",
    "lasso_coef.columns = ['lasso_coef']\n",
    "lasso_coef"
   ]
  },
  {
   "cell_type": "code",
   "execution_count": 19,
   "metadata": {},
   "outputs": [
    {
     "name": "stdout",
     "output_type": "stream",
     "text": [
      "0.570783610920562\n",
      "0.00011168432105425792\n"
     ]
    },
    {
     "data": {
      "image/png": "[encoded data removed]",
      "text/plain": [
       "<matplotlib.figure.Figure at 0x2ac002ce208>"
      ]
     },
     "metadata": {},
     "output_type": "display_data"
    }
   ],
   "source": [
    "ylas = reg_lasso.predict(xtest)\n",
    "plt.scatter(ytest, ylas)\n",
    "print (metrics.r2_score(ytest, ylas))\n",
    "print (metrics.mean_squared_error(ytest, ylin))"
   ]
  },
  {
   "cell_type": "markdown",
   "metadata": {},
   "source": [
    "#### LINEAR REGRESSION"
   ]
  },
  {
   "cell_type": "code",
   "execution_count": 23,
   "metadata": {},
   "outputs": [
    {
     "data": {
      "text/html": [
       "<div>\n",
       "<style scoped>\n",
       "    .dataframe tbody tr th:only-of-type {\n",
       "        vertical-align: middle;\n",
       "    }\n",
       "\n",
       "    .dataframe tbody tr th {\n",
       "        vertical-align: top;\n",
       "    }\n",
       "\n",
       "    .dataframe thead th {\n",
       "        text-align: right;\n",
       "    }\n",
       "</style>\n",
       "<table border=\"1\" class=\"dataframe\">\n",
       "  <thead>\n",
       "    <tr style=\"text-align: right;\">\n",
       "      <th></th>\n",
       "      <th>linear_coef</th>\n",
       "    </tr>\n",
       "  </thead>\n",
       "  <tbody>\n",
       "    <tr>\n",
       "      <th>CDWVLV</th>\n",
       "      <td>-3.110015e+09</td>\n",
       "    </tr>\n",
       "    <tr>\n",
       "      <th>CHkW</th>\n",
       "      <td>5.320640e-04</td>\n",
       "    </tr>\n",
       "    <tr>\n",
       "      <th>CHWDP2</th>\n",
       "      <td>2.295835e-04</td>\n",
       "    </tr>\n",
       "    <tr>\n",
       "      <th>CHWRT</th>\n",
       "      <td>-1.470969e-03</td>\n",
       "    </tr>\n",
       "    <tr>\n",
       "      <th>CHWRT2</th>\n",
       "      <td>-2.119429e-03</td>\n",
       "    </tr>\n",
       "    <tr>\n",
       "      <th>CHWRT3</th>\n",
       "      <td>-2.352937e-03</td>\n",
       "    </tr>\n",
       "    <tr>\n",
       "      <th>CHWST</th>\n",
       "      <td>6.068360e-03</td>\n",
       "    </tr>\n",
       "    <tr>\n",
       "      <th>CHWST2</th>\n",
       "      <td>-1.852544e-03</td>\n",
       "    </tr>\n",
       "    <tr>\n",
       "      <th>CHWST3</th>\n",
       "      <td>-2.540704e-03</td>\n",
       "    </tr>\n",
       "    <tr>\n",
       "      <th>CTTR_ALARM</th>\n",
       "      <td>-1.169855e-01</td>\n",
       "    </tr>\n",
       "    <tr>\n",
       "      <th>HX1CDWRT</th>\n",
       "      <td>6.481355e-04</td>\n",
       "    </tr>\n",
       "    <tr>\n",
       "      <th>HX1CHWRT</th>\n",
       "      <td>-4.296512e-03</td>\n",
       "    </tr>\n",
       "    <tr>\n",
       "      <th>HX1CHWST</th>\n",
       "      <td>2.044927e-03</td>\n",
       "    </tr>\n",
       "    <tr>\n",
       "      <th>MaxCHDPLift</th>\n",
       "      <td>-3.625817e-03</td>\n",
       "    </tr>\n",
       "    <tr>\n",
       "      <th>MaxCHDTLift</th>\n",
       "      <td>8.974653e-03</td>\n",
       "    </tr>\n",
       "    <tr>\n",
       "      <th>MinCHDPLift</th>\n",
       "      <td>6.118183e-03</td>\n",
       "    </tr>\n",
       "    <tr>\n",
       "      <th>MinCHDTLift</th>\n",
       "      <td>-2.470540e-03</td>\n",
       "    </tr>\n",
       "    <tr>\n",
       "      <th>PCHWP3HZ</th>\n",
       "      <td>-1.402876e+04</td>\n",
       "    </tr>\n",
       "    <tr>\n",
       "      <th>PCHWP3kW</th>\n",
       "      <td>-6.068934e-03</td>\n",
       "    </tr>\n",
       "    <tr>\n",
       "      <th>PCHWP3S</th>\n",
       "      <td>-4.875219e-02</td>\n",
       "    </tr>\n",
       "    <tr>\n",
       "      <th>PCHWP3SPD</th>\n",
       "      <td>8.417287e+03</td>\n",
       "    </tr>\n",
       "    <tr>\n",
       "      <th>PCHWP3SS</th>\n",
       "      <td>2.011325e-01</td>\n",
       "    </tr>\n",
       "    <tr>\n",
       "      <th>PCHWP4HZ</th>\n",
       "      <td>-9.584225e-03</td>\n",
       "    </tr>\n",
       "    <tr>\n",
       "      <th>PCHWP4kW</th>\n",
       "      <td>5.292256e-03</td>\n",
       "    </tr>\n",
       "    <tr>\n",
       "      <th>PCHWP4S</th>\n",
       "      <td>8.515877e-02</td>\n",
       "    </tr>\n",
       "    <tr>\n",
       "      <th>PCHWP4SPD</th>\n",
       "      <td>4.124353e-03</td>\n",
       "    </tr>\n",
       "    <tr>\n",
       "      <th>PCHWP4SS</th>\n",
       "      <td>4.884124e-02</td>\n",
       "    </tr>\n",
       "    <tr>\n",
       "      <th>PCHWP5HZ</th>\n",
       "      <td>3.430346e-03</td>\n",
       "    </tr>\n",
       "    <tr>\n",
       "      <th>PCHWP5kW</th>\n",
       "      <td>7.931124e-04</td>\n",
       "    </tr>\n",
       "    <tr>\n",
       "      <th>PCHWP5S</th>\n",
       "      <td>4.330428e-02</td>\n",
       "    </tr>\n",
       "    <tr>\n",
       "      <th>PCHWP5SPD</th>\n",
       "      <td>-1.550422e-03</td>\n",
       "    </tr>\n",
       "    <tr>\n",
       "      <th>PCHWP5SS</th>\n",
       "      <td>-7.367053e-02</td>\n",
       "    </tr>\n",
       "    <tr>\n",
       "      <th>SCHWP3HZ</th>\n",
       "      <td>-1.321074e-02</td>\n",
       "    </tr>\n",
       "    <tr>\n",
       "      <th>SCHWP3kW</th>\n",
       "      <td>2.702275e-02</td>\n",
       "    </tr>\n",
       "    <tr>\n",
       "      <th>SCHWP3SPD</th>\n",
       "      <td>-9.106658e-03</td>\n",
       "    </tr>\n",
       "    <tr>\n",
       "      <th>SCHWP4HZ</th>\n",
       "      <td>6.855236e-03</td>\n",
       "    </tr>\n",
       "    <tr>\n",
       "      <th>SCHWP4kW</th>\n",
       "      <td>-1.971553e-02</td>\n",
       "    </tr>\n",
       "    <tr>\n",
       "      <th>SCHWP4SPD</th>\n",
       "      <td>1.149460e-02</td>\n",
       "    </tr>\n",
       "    <tr>\n",
       "      <th>SCHWP5HZ</th>\n",
       "      <td>-2.870612e-02</td>\n",
       "    </tr>\n",
       "    <tr>\n",
       "      <th>SCHWP5kW</th>\n",
       "      <td>-2.096585e-02</td>\n",
       "    </tr>\n",
       "    <tr>\n",
       "      <th>SCHWP5S</th>\n",
       "      <td>-9.127027e-02</td>\n",
       "    </tr>\n",
       "    <tr>\n",
       "      <th>SCHWP5SPD</th>\n",
       "      <td>1.886804e-02</td>\n",
       "    </tr>\n",
       "  </tbody>\n",
       "</table>\n",
       "</div>"
      ],
      "text/plain": [
       "              linear_coef\n",
       "CDWVLV      -3.110015e+09\n",
       "CHkW         5.320640e-04\n",
       "CHWDP2       2.295835e-04\n",
       "CHWRT       -1.470969e-03\n",
       "CHWRT2      -2.119429e-03\n",
       "CHWRT3      -2.352937e-03\n",
       "CHWST        6.068360e-03\n",
       "CHWST2      -1.852544e-03\n",
       "CHWST3      -2.540704e-03\n",
       "CTTR_ALARM  -1.169855e-01\n",
       "HX1CDWRT     6.481355e-04\n",
       "HX1CHWRT    -4.296512e-03\n",
       "HX1CHWST     2.044927e-03\n",
       "MaxCHDPLift -3.625817e-03\n",
       "MaxCHDTLift  8.974653e-03\n",
       "MinCHDPLift  6.118183e-03\n",
       "MinCHDTLift -2.470540e-03\n",
       "PCHWP3HZ    -1.402876e+04\n",
       "PCHWP3kW    -6.068934e-03\n",
       "PCHWP3S     -4.875219e-02\n",
       "PCHWP3SPD    8.417287e+03\n",
       "PCHWP3SS     2.011325e-01\n",
       "PCHWP4HZ    -9.584225e-03\n",
       "PCHWP4kW     5.292256e-03\n",
       "PCHWP4S      8.515877e-02\n",
       "PCHWP4SPD    4.124353e-03\n",
       "PCHWP4SS     4.884124e-02\n",
       "PCHWP5HZ     3.430346e-03\n",
       "PCHWP5kW     7.931124e-04\n",
       "PCHWP5S      4.330428e-02\n",
       "PCHWP5SPD   -1.550422e-03\n",
       "PCHWP5SS    -7.367053e-02\n",
       "SCHWP3HZ    -1.321074e-02\n",
       "SCHWP3kW     2.702275e-02\n",
       "SCHWP3SPD   -9.106658e-03\n",
       "SCHWP4HZ     6.855236e-03\n",
       "SCHWP4kW    -1.971553e-02\n",
       "SCHWP4SPD    1.149460e-02\n",
       "SCHWP5HZ    -2.870612e-02\n",
       "SCHWP5kW    -2.096585e-02\n",
       "SCHWP5S     -9.127027e-02\n",
       "SCHWP5SPD    1.886804e-02"
      ]
     },
     "execution_count": 23,
     "metadata": {},
     "output_type": "execute_result"
    }
   ],
   "source": [
    "reg_linear = linear_model.LinearRegression()\n",
    "reg_linear.fit(xtrain, ytrain)\n",
    "coef = reg_linear.coef_\n",
    "linear_coef = pd.DataFrame(coef, bas.columns[:-2])\n",
    "linear_coef = linear_coef[abs(coef) > 1e-04]\n",
    "linear_coef.columns = ['linear_coef']\n",
    "linear_coef"
   ]
  },
  {
   "cell_type": "code",
   "execution_count": 12,
   "metadata": {},
   "outputs": [
    {
     "data": {
      "text/html": [
       "<div>\n",
       "<style scoped>\n",
       "    .dataframe tbody tr th:only-of-type {\n",
       "        vertical-align: middle;\n",
       "    }\n",
       "\n",
       "    .dataframe tbody tr th {\n",
       "        vertical-align: top;\n",
       "    }\n",
       "\n",
       "    .dataframe thead th {\n",
       "        text-align: right;\n",
       "    }\n",
       "</style>\n",
       "<table border=\"1\" class=\"dataframe\">\n",
       "  <thead>\n",
       "    <tr style=\"text-align: right;\">\n",
       "      <th></th>\n",
       "      <th>linear_coef</th>\n",
       "    </tr>\n",
       "  </thead>\n",
       "  <tbody>\n",
       "    <tr>\n",
       "      <th>count</th>\n",
       "      <td>3.800000e+01</td>\n",
       "    </tr>\n",
       "    <tr>\n",
       "      <th>mean</th>\n",
       "      <td>-8.184264e+07</td>\n",
       "    </tr>\n",
       "    <tr>\n",
       "      <th>std</th>\n",
       "      <td>5.045110e+08</td>\n",
       "    </tr>\n",
       "    <tr>\n",
       "      <th>min</th>\n",
       "      <td>-3.110015e+09</td>\n",
       "    </tr>\n",
       "    <tr>\n",
       "      <th>25%</th>\n",
       "      <td>-1.230411e-02</td>\n",
       "    </tr>\n",
       "    <tr>\n",
       "      <th>50%</th>\n",
       "      <td>-1.985987e-03</td>\n",
       "    </tr>\n",
       "    <tr>\n",
       "      <th>75%</th>\n",
       "      <td>6.670973e-03</td>\n",
       "    </tr>\n",
       "    <tr>\n",
       "      <th>max</th>\n",
       "      <td>8.417287e+03</td>\n",
       "    </tr>\n",
       "  </tbody>\n",
       "</table>\n",
       "</div>"
      ],
      "text/plain": [
       "        linear_coef\n",
       "count  3.800000e+01\n",
       "mean  -8.184264e+07\n",
       "std    5.045110e+08\n",
       "min   -3.110015e+09\n",
       "25%   -1.230411e-02\n",
       "50%   -1.985987e-03\n",
       "75%    6.670973e-03\n",
       "max    8.417287e+03"
      ]
     },
     "execution_count": 12,
     "metadata": {},
     "output_type": "execute_result"
    }
   ],
   "source": [
    "linear_coef.describe()"
   ]
  },
  {
   "cell_type": "code",
   "execution_count": 18,
   "metadata": {},
   "outputs": [
    {
     "name": "stdout",
     "output_type": "stream",
     "text": [
      "0.9810222974986476\n",
      "0.00011168432105425792\n"
     ]
    },
    {
     "data": {
      "image/png": "[encoded data removed]",
      "text/plain": [
       "<matplotlib.figure.Figure at 0x2ac002cee80>"
      ]
     },
     "metadata": {},
     "output_type": "display_data"
    }
   ],
   "source": [
    "ylin = reg_linear.predict(xtest)\n",
    "plt.scatter(ytest, ylin)\n",
    "print (metrics.r2_score(ytest, ylin))\n",
    "print (metrics.mean_squared_error(ytest, ylin))"
   ]
  },
  {
   "cell_type": "code",
   "execution_count": null,
   "metadata": {},
   "outputs": [],
   "source": []
  }
 ],
 "metadata": {
  "kernelspec": {
   "display_name": "Python 3",
   "language": "python",
   "name": "python3"
  },
  "language_info": {
   "codemirror_mode": {
    "name": "ipython",
    "version": 3
   },
   "file_extension": ".py",
   "mimetype": "text/x-python",
   "name": "python",
   "nbconvert_exporter": "python",
   "pygments_lexer": "ipython3",
   "version": "3.5.4"
  }
 },
 "nbformat": 4,
 "nbformat_minor": 2
}
