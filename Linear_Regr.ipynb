{
 "cells": [
  {
   "cell_type": "code",
   "execution_count": 235,
   "metadata": {},
   "outputs": [],
   "source": [
    "import numpy as np\n",
    "import pandas as pd\n",
    "import matplotlib\n",
    "import matplotlib.pyplot as plt\n",
    "from sklearn import linear_model\n",
    "from sklearn.model_selection import train_test_split\n",
    "from sklearn.feature_selection import SelectKBest\n",
    "import matplotlib.pyplot as plt\n",
    "%matplotlib inline"
   ]
  },
  {
   "cell_type": "code",
   "execution_count": 236,
   "metadata": {},
   "outputs": [],
   "source": [
    "df = pd.read_csv('Files/dss_Alb h 2017-09.csv')\n",
    "key = pd.read_excel('Files/Ethicon Alb Points List.xlsx')"
   ]
  },
  {
   "cell_type": "code",
   "execution_count": 237,
   "metadata": {},
   "outputs": [
    {
     "name": "stdout",
     "output_type": "stream",
     "text": [
      "CommunicationFailure_COV\n",
      "Original data contains 1465 points and 414 dimensions.\n",
      "Filtered data contains 1432 points and 66 dimensions.\n"
     ]
    }
   ],
   "source": [
    "# collects DataPointNames from the points list spreadsheet that are BAS point types\n",
    "key_bas = key.loc[key['PointType'].str.contains(\"BAS\")==True,'DataPointName']\n",
    "\n",
    "#converts pandas series to a list for future use\n",
    "val = key_bas.values.T.tolist()\n",
    "\n",
    "#removes DataPointNames that containt the prefix CHWV\n",
    "vals = [x for x in val if not x.startswith('CHWV')]\n",
    "\n",
    "#tests whether all values from the point list spreadsheet are column headings of the dataset\n",
    "for x in vals:\n",
    "    if x not in df.columns:\n",
    "        #prints and removes any string not found in the data\n",
    "        print(x)\n",
    "        vals.remove(x)\n",
    "        \n",
    "#expresses data using columns specified by the vals list\n",
    "bas = df[vals+['OptimumControl', 'kW/Ton']]\n",
    "print('Original data contains '+str(df.shape[0])+' points and '+str(df.shape[1])+ ' dimensions.')\n",
    "print('Filtered data contains '+str(bas.dropna().shape[0])+' points and '+str(bas.dropna().shape[1])+ ' dimensions.')"
   ]
  },
  {
   "cell_type": "code",
   "execution_count": 238,
   "metadata": {},
   "outputs": [
    {
     "data": {
      "text/plain": [
       "(1432, 64)"
      ]
     },
     "execution_count": 238,
     "metadata": {},
     "output_type": "execute_result"
    }
   ],
   "source": [
    "bas = df[vals].dropna()\n",
    "bas.shape"
   ]
  },
  {
   "cell_type": "code",
   "execution_count": 239,
   "metadata": {},
   "outputs": [],
   "source": [
    "n = len(bas.columns)"
   ]
  },
  {
   "cell_type": "code",
   "execution_count": 240,
   "metadata": {},
   "outputs": [
    {
     "data": {
      "text/plain": [
       "Index(['CDWVLV', 'CDWVLV2', 'CHkW', 'CHWDP2', 'CHWFLO', 'CHWRT', 'CHWRT2',\n",
       "       'CHWRT3', 'CHWST', 'CHWST2', 'CHWST3', 'CLGMODE',\n",
       "       'CommunicationFailure', 'CTTR_ALARM', 'HX1CDWRT', 'HX1CDWST',\n",
       "       'HX1CDWVLV', 'HX1CHWRT', 'HX1CHWST', 'HX1CHWVLV', 'LOOPREQ',\n",
       "       'MaxCHDPLift', 'MaxCHDTLift', 'MinCHDPLift', 'MinCHDTLift', 'OAH',\n",
       "       'OAT', 'OAWB', 'PCHWP3Failed', 'PCHWP3HZ', 'PCHWP3kW', 'PCHWP3S',\n",
       "       'PCHWP3SPD', 'PCHWP3SS', 'PCHWP4Failed', 'PCHWP4HZ', 'PCHWP4kW',\n",
       "       'PCHWP4S', 'PCHWP4SPD', 'PCHWP4SS', 'PCHWP5Failed', 'PCHWP5HZ',\n",
       "       'PCHWP5kW', 'PCHWP5S', 'PCHWP5SPD', 'PCHWP5SS', 'SCHWP3Failed',\n",
       "       'SCHWP3HZ', 'SCHWP3kW', 'SCHWP3S', 'SCHWP3SPD', 'SCHWP3SS',\n",
       "       'SCHWP4Failed', 'SCHWP4HZ', 'SCHWP4kW', 'SCHWP4S', 'SCHWP4SPD',\n",
       "       'SCHWP4SS', 'SCHWP5Failed', 'SCHWP5HZ', 'SCHWP5kW', 'SCHWP5S',\n",
       "       'SCHWP5SPD', 'SCHWP5SS'],\n",
       "      dtype='object')"
      ]
     },
     "execution_count": 240,
     "metadata": {},
     "output_type": "execute_result"
    }
   ],
   "source": [
    "bas.columns"
   ]
  },
  {
   "cell_type": "code",
   "execution_count": 241,
   "metadata": {},
   "outputs": [],
   "source": [
    "xtrain, xtest, ytrain, ytest = train_test_split(bas.values[:, 0:(n-2)], bas.values[:, (n-1)], test_size = 0.25)\n",
    "#xtrain, xtest, ytrain, ytest = train_test_split(bas.values, bas.values, test_size = 0.25)"
   ]
  },
  {
   "cell_type": "markdown",
   "metadata": {},
   "source": [
    "#### LASSO"
   ]
  },
  {
   "cell_type": "code",
   "execution_count": 245,
   "metadata": {},
   "outputs": [
    {
     "data": {
      "text/html": [
       "<div>\n",
       "<style scoped>\n",
       "    .dataframe tbody tr th:only-of-type {\n",
       "        vertical-align: middle;\n",
       "    }\n",
       "\n",
       "    .dataframe tbody tr th {\n",
       "        vertical-align: top;\n",
       "    }\n",
       "\n",
       "    .dataframe thead th {\n",
       "        text-align: right;\n",
       "    }\n",
       "</style>\n",
       "<table border=\"1\" class=\"dataframe\">\n",
       "  <thead>\n",
       "    <tr style=\"text-align: right;\">\n",
       "      <th></th>\n",
       "      <th>lasso_coef</th>\n",
       "    </tr>\n",
       "  </thead>\n",
       "  <tbody>\n",
       "    <tr>\n",
       "      <th>CHWFLO</th>\n",
       "      <td>0.000264</td>\n",
       "    </tr>\n",
       "    <tr>\n",
       "      <th>SCHWP5HZ</th>\n",
       "      <td>0.008586</td>\n",
       "    </tr>\n",
       "  </tbody>\n",
       "</table>\n",
       "</div>"
      ],
      "text/plain": [
       "          lasso_coef\n",
       "CHWFLO      0.000264\n",
       "SCHWP5HZ    0.008586"
      ]
     },
     "execution_count": 245,
     "metadata": {},
     "output_type": "execute_result"
    }
   ],
   "source": [
    "reg_lasso = linear_model.Lasso()\n",
    "reg_lasso.fit(xtrain, ytrain)\n",
    "coef = reg_lasso.coef_\n",
    "lasso_coef = pd.DataFrame(coef, bas.columns[:-2])\n",
    "lasso_coef = lasso_coef[coef!=0]\n",
    "lasso_coef.columns = ['lasso_coef']\n",
    "lasso_coef"
   ]
  },
  {
   "cell_type": "markdown",
   "metadata": {},
   "source": [
    "#### LINEAR REGRESSION"
   ]
  },
  {
   "cell_type": "code",
   "execution_count": 248,
   "metadata": {},
   "outputs": [
    {
     "data": {
      "text/html": [
       "<div>\n",
       "<style scoped>\n",
       "    .dataframe tbody tr th:only-of-type {\n",
       "        vertical-align: middle;\n",
       "    }\n",
       "\n",
       "    .dataframe tbody tr th {\n",
       "        vertical-align: top;\n",
       "    }\n",
       "\n",
       "    .dataframe thead th {\n",
       "        text-align: right;\n",
       "    }\n",
       "</style>\n",
       "<table border=\"1\" class=\"dataframe\">\n",
       "  <thead>\n",
       "    <tr style=\"text-align: right;\">\n",
       "      <th></th>\n",
       "      <th>linear_coef</th>\n",
       "    </tr>\n",
       "  </thead>\n",
       "  <tbody>\n",
       "    <tr>\n",
       "      <th>CDWVLV2</th>\n",
       "      <td>-0.001242</td>\n",
       "    </tr>\n",
       "    <tr>\n",
       "      <th>CLGMODE</th>\n",
       "      <td>0.000026</td>\n",
       "    </tr>\n",
       "    <tr>\n",
       "      <th>CommunicationFailure</th>\n",
       "      <td>-0.000037</td>\n",
       "    </tr>\n",
       "    <tr>\n",
       "      <th>HX1CDWVLV</th>\n",
       "      <td>-0.000012</td>\n",
       "    </tr>\n",
       "    <tr>\n",
       "      <th>SCHWP5S</th>\n",
       "      <td>1.000000</td>\n",
       "    </tr>\n",
       "  </tbody>\n",
       "</table>\n",
       "</div>"
      ],
      "text/plain": [
       "                      linear_coef\n",
       "CDWVLV2                 -0.001242\n",
       "CLGMODE                  0.000026\n",
       "CommunicationFailure    -0.000037\n",
       "HX1CDWVLV               -0.000012\n",
       "SCHWP5S                  1.000000"
      ]
     },
     "execution_count": 248,
     "metadata": {},
     "output_type": "execute_result"
    }
   ],
   "source": [
    "reg_linear = linear_model.LinearRegression()\n",
    "reg_linear.fit(xtrain, ytrain)\n",
    "coef = reg_linear.coef_\n",
    "linear_coef = pd.DataFrame(coef, bas.columns[:-2])\n",
    "linear_coef = linear_coef[abs(coef) > 1e-05]\n",
    "linear_coef.columns = ['linear_coef']\n",
    "linear_coef"
   ]
  },
  {
   "cell_type": "code",
   "execution_count": null,
   "metadata": {},
   "outputs": [],
   "source": []
  }
 ],
 "metadata": {
  "kernelspec": {
   "display_name": "Python 3",
   "language": "python",
   "name": "python3"
  },
  "language_info": {
   "codemirror_mode": {
    "name": "ipython",
    "version": 3
   },
   "file_extension": ".py",
   "mimetype": "text/x-python",
   "name": "python",
   "nbconvert_exporter": "python",
   "pygments_lexer": "ipython3",
   "version": "3.5.4"
  }
 },
 "nbformat": 4,
 "nbformat_minor": 2
}
