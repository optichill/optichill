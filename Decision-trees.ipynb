{
 "cells": [
  {
   "cell_type": "markdown",
   "metadata": {},
   "source": [
    "# Chiller plant decision tree analysis\n",
    "\n",
    "The purpose of this notebook is to analyze the features and data with decision trees."
   ]
  },
  {
   "cell_type": "code",
   "execution_count": 46,
   "metadata": {
    "scrolled": true
   },
   "outputs": [],
   "source": [
    "import pandas as pd\n",
    "import numpy as np\n",
    "from sklearn.cross_validation import train_test_split\n",
    "from sklearn.tree import DecisionTreeRegressor\n",
    "from sklearn import tree\n",
    "from sklearn import metrics\n",
    "from sklearn.ensemble import ExtraTreesRegressor\n",
    "from sklearn.ensemble import GradientBoostingRegressor\n",
    "import matplotlib.pyplot as plt\n",
    "from sklearn.metrics import mean_squared_error\n",
    "from sklearn.utils import shuffle\n",
    "%matplotlib inline"
   ]
  },
  {
   "cell_type": "code",
   "execution_count": 47,
   "metadata": {},
   "outputs": [],
   "source": [
    "df = pd.read_csv('../dss_Alb h 2017-09.csv')\n"
   ]
  },
  {
   "cell_type": "code",
   "execution_count": 48,
   "metadata": {},
   "outputs": [
    {
     "data": {
      "text/html": [
       "<div>\n",
       "<style scoped>\n",
       "    .dataframe tbody tr th:only-of-type {\n",
       "        vertical-align: middle;\n",
       "    }\n",
       "\n",
       "    .dataframe tbody tr th {\n",
       "        vertical-align: top;\n",
       "    }\n",
       "\n",
       "    .dataframe thead th {\n",
       "        text-align: right;\n",
       "    }\n",
       "</style>\n",
       "<table border=\"1\" class=\"dataframe\">\n",
       "  <thead>\n",
       "    <tr style=\"text-align: right;\">\n",
       "      <th></th>\n",
       "      <th>timestamp</th>\n",
       "      <th>CH3LoadDisp</th>\n",
       "      <th>CH3PctLoad</th>\n",
       "      <th>CH4LoadDisp</th>\n",
       "      <th>CH4PctLoad</th>\n",
       "      <th>CH5LoadDisp</th>\n",
       "      <th>CH5PctLoad</th>\n",
       "      <th>CHkW%</th>\n",
       "      <th>CHTON%</th>\n",
       "      <th>PercentAnnualSavings</th>\n",
       "      <th>...</th>\n",
       "      <th>CH5SURGE</th>\n",
       "      <th>LOOPREQ</th>\n",
       "      <th>RUNCHLR3</th>\n",
       "      <th>RUNCHLR4</th>\n",
       "      <th>RUNCHLR5</th>\n",
       "      <th>CH3SURGECNT</th>\n",
       "      <th>CH4SURGECNT</th>\n",
       "      <th>CH5SURGECNT</th>\n",
       "      <th>CLGMODE</th>\n",
       "      <th>StationSTG</th>\n",
       "    </tr>\n",
       "  </thead>\n",
       "  <tbody>\n",
       "    <tr>\n",
       "      <th>60</th>\n",
       "      <td>2017-09-03T12:00:00.000Z</td>\n",
       "      <td>0.000000</td>\n",
       "      <td>0.00000</td>\n",
       "      <td>87.101169</td>\n",
       "      <td>87.101168</td>\n",
       "      <td>0.982292</td>\n",
       "      <td>0.982292</td>\n",
       "      <td>71.551070</td>\n",
       "      <td>86.750559</td>\n",
       "      <td>0.000124</td>\n",
       "      <td>...</td>\n",
       "      <td>0.0</td>\n",
       "      <td>1.0</td>\n",
       "      <td>0.000000</td>\n",
       "      <td>1.000000</td>\n",
       "      <td>0.166667</td>\n",
       "      <td>13.0</td>\n",
       "      <td>0.0</td>\n",
       "      <td>0.0</td>\n",
       "      <td>0.0</td>\n",
       "      <td>1.166667</td>\n",
       "    </tr>\n",
       "    <tr>\n",
       "      <th>61</th>\n",
       "      <td>2017-09-03T13:00:00.000Z</td>\n",
       "      <td>0.000000</td>\n",
       "      <td>0.00000</td>\n",
       "      <td>61.628025</td>\n",
       "      <td>61.649601</td>\n",
       "      <td>32.699242</td>\n",
       "      <td>32.699242</td>\n",
       "      <td>28.800355</td>\n",
       "      <td>46.600451</td>\n",
       "      <td>0.000184</td>\n",
       "      <td>...</td>\n",
       "      <td>0.0</td>\n",
       "      <td>1.0</td>\n",
       "      <td>0.000000</td>\n",
       "      <td>1.000000</td>\n",
       "      <td>1.000000</td>\n",
       "      <td>13.0</td>\n",
       "      <td>0.0</td>\n",
       "      <td>0.0</td>\n",
       "      <td>0.0</td>\n",
       "      <td>2.000000</td>\n",
       "    </tr>\n",
       "    <tr>\n",
       "      <th>62</th>\n",
       "      <td>2017-09-03T14:00:00.000Z</td>\n",
       "      <td>0.000000</td>\n",
       "      <td>0.00000</td>\n",
       "      <td>65.271903</td>\n",
       "      <td>65.271902</td>\n",
       "      <td>34.757415</td>\n",
       "      <td>34.667396</td>\n",
       "      <td>31.222250</td>\n",
       "      <td>49.421877</td>\n",
       "      <td>0.000195</td>\n",
       "      <td>...</td>\n",
       "      <td>0.0</td>\n",
       "      <td>1.0</td>\n",
       "      <td>0.000000</td>\n",
       "      <td>1.000000</td>\n",
       "      <td>1.000000</td>\n",
       "      <td>13.0</td>\n",
       "      <td>0.0</td>\n",
       "      <td>0.0</td>\n",
       "      <td>0.0</td>\n",
       "      <td>2.000000</td>\n",
       "    </tr>\n",
       "    <tr>\n",
       "      <th>63</th>\n",
       "      <td>2017-09-03T15:00:00.000Z</td>\n",
       "      <td>0.000000</td>\n",
       "      <td>0.00000</td>\n",
       "      <td>62.073736</td>\n",
       "      <td>60.817505</td>\n",
       "      <td>35.873339</td>\n",
       "      <td>35.490721</td>\n",
       "      <td>31.827724</td>\n",
       "      <td>50.010946</td>\n",
       "      <td>0.000182</td>\n",
       "      <td>...</td>\n",
       "      <td>0.0</td>\n",
       "      <td>1.0</td>\n",
       "      <td>0.166667</td>\n",
       "      <td>1.000000</td>\n",
       "      <td>1.000000</td>\n",
       "      <td>13.0</td>\n",
       "      <td>0.0</td>\n",
       "      <td>0.0</td>\n",
       "      <td>0.0</td>\n",
       "      <td>2.000000</td>\n",
       "    </tr>\n",
       "    <tr>\n",
       "      <th>66</th>\n",
       "      <td>2017-09-03T18:00:00.000Z</td>\n",
       "      <td>0.000000</td>\n",
       "      <td>0.00000</td>\n",
       "      <td>66.073464</td>\n",
       "      <td>66.073463</td>\n",
       "      <td>37.944247</td>\n",
       "      <td>37.944247</td>\n",
       "      <td>34.189070</td>\n",
       "      <td>52.350163</td>\n",
       "      <td>0.000190</td>\n",
       "      <td>...</td>\n",
       "      <td>0.0</td>\n",
       "      <td>1.0</td>\n",
       "      <td>0.000000</td>\n",
       "      <td>1.000000</td>\n",
       "      <td>1.000000</td>\n",
       "      <td>13.0</td>\n",
       "      <td>0.0</td>\n",
       "      <td>0.0</td>\n",
       "      <td>0.0</td>\n",
       "      <td>2.000000</td>\n",
       "    </tr>\n",
       "    <tr>\n",
       "      <th>67</th>\n",
       "      <td>2017-09-03T19:00:00.000Z</td>\n",
       "      <td>0.000000</td>\n",
       "      <td>0.00000</td>\n",
       "      <td>64.536953</td>\n",
       "      <td>64.555182</td>\n",
       "      <td>36.308257</td>\n",
       "      <td>36.305479</td>\n",
       "      <td>32.816663</td>\n",
       "      <td>50.486619</td>\n",
       "      <td>0.000187</td>\n",
       "      <td>...</td>\n",
       "      <td>0.0</td>\n",
       "      <td>1.0</td>\n",
       "      <td>0.000000</td>\n",
       "      <td>1.000000</td>\n",
       "      <td>1.000000</td>\n",
       "      <td>13.0</td>\n",
       "      <td>0.0</td>\n",
       "      <td>0.0</td>\n",
       "      <td>0.0</td>\n",
       "      <td>2.000000</td>\n",
       "    </tr>\n",
       "    <tr>\n",
       "      <th>68</th>\n",
       "      <td>2017-09-03T20:00:00.000Z</td>\n",
       "      <td>0.000000</td>\n",
       "      <td>0.00000</td>\n",
       "      <td>60.918676</td>\n",
       "      <td>60.918676</td>\n",
       "      <td>33.823301</td>\n",
       "      <td>33.823301</td>\n",
       "      <td>30.818600</td>\n",
       "      <td>47.683522</td>\n",
       "      <td>0.000179</td>\n",
       "      <td>...</td>\n",
       "      <td>0.0</td>\n",
       "      <td>1.0</td>\n",
       "      <td>0.000000</td>\n",
       "      <td>1.000000</td>\n",
       "      <td>1.000000</td>\n",
       "      <td>13.0</td>\n",
       "      <td>0.0</td>\n",
       "      <td>0.0</td>\n",
       "      <td>0.0</td>\n",
       "      <td>2.000000</td>\n",
       "    </tr>\n",
       "    <tr>\n",
       "      <th>69</th>\n",
       "      <td>2017-09-03T21:00:00.000Z</td>\n",
       "      <td>0.000000</td>\n",
       "      <td>0.00000</td>\n",
       "      <td>57.567634</td>\n",
       "      <td>57.580631</td>\n",
       "      <td>32.202592</td>\n",
       "      <td>32.206610</td>\n",
       "      <td>29.244369</td>\n",
       "      <td>44.708515</td>\n",
       "      <td>0.000156</td>\n",
       "      <td>...</td>\n",
       "      <td>0.0</td>\n",
       "      <td>1.0</td>\n",
       "      <td>0.000000</td>\n",
       "      <td>1.000000</td>\n",
       "      <td>1.000000</td>\n",
       "      <td>13.0</td>\n",
       "      <td>0.0</td>\n",
       "      <td>0.0</td>\n",
       "      <td>0.0</td>\n",
       "      <td>2.000000</td>\n",
       "    </tr>\n",
       "    <tr>\n",
       "      <th>70</th>\n",
       "      <td>2017-09-03T22:00:00.000Z</td>\n",
       "      <td>0.000000</td>\n",
       "      <td>0.00000</td>\n",
       "      <td>40.959836</td>\n",
       "      <td>41.008944</td>\n",
       "      <td>42.549615</td>\n",
       "      <td>42.540327</td>\n",
       "      <td>31.184866</td>\n",
       "      <td>50.812883</td>\n",
       "      <td>0.000141</td>\n",
       "      <td>...</td>\n",
       "      <td>0.0</td>\n",
       "      <td>1.0</td>\n",
       "      <td>0.000000</td>\n",
       "      <td>0.666667</td>\n",
       "      <td>1.000000</td>\n",
       "      <td>13.0</td>\n",
       "      <td>0.0</td>\n",
       "      <td>0.0</td>\n",
       "      <td>0.0</td>\n",
       "      <td>1.583333</td>\n",
       "    </tr>\n",
       "    <tr>\n",
       "      <th>71</th>\n",
       "      <td>2017-09-03T23:00:00.000Z</td>\n",
       "      <td>0.000000</td>\n",
       "      <td>0.00000</td>\n",
       "      <td>0.000000</td>\n",
       "      <td>0.000000</td>\n",
       "      <td>78.306298</td>\n",
       "      <td>77.869101</td>\n",
       "      <td>50.595238</td>\n",
       "      <td>78.069033</td>\n",
       "      <td>0.000098</td>\n",
       "      <td>...</td>\n",
       "      <td>0.0</td>\n",
       "      <td>1.0</td>\n",
       "      <td>0.000000</td>\n",
       "      <td>0.000000</td>\n",
       "      <td>1.000000</td>\n",
       "      <td>13.0</td>\n",
       "      <td>0.0</td>\n",
       "      <td>0.0</td>\n",
       "      <td>0.0</td>\n",
       "      <td>1.000000</td>\n",
       "    </tr>\n",
       "    <tr>\n",
       "      <th>493</th>\n",
       "      <td>2017-09-21T13:00:00.000Z</td>\n",
       "      <td>53.827729</td>\n",
       "      <td>53.83398</td>\n",
       "      <td>23.577009</td>\n",
       "      <td>23.577009</td>\n",
       "      <td>35.312489</td>\n",
       "      <td>35.312489</td>\n",
       "      <td>30.467763</td>\n",
       "      <td>47.574750</td>\n",
       "      <td>0.000200</td>\n",
       "      <td>...</td>\n",
       "      <td>0.0</td>\n",
       "      <td>1.0</td>\n",
       "      <td>0.916667</td>\n",
       "      <td>1.000000</td>\n",
       "      <td>1.000000</td>\n",
       "      <td>13.0</td>\n",
       "      <td>0.0</td>\n",
       "      <td>0.0</td>\n",
       "      <td>0.0</td>\n",
       "      <td>2.500000</td>\n",
       "    </tr>\n",
       "  </tbody>\n",
       "</table>\n",
       "<p>11 rows × 414 columns</p>\n",
       "</div>"
      ],
      "text/plain": [
       "                    timestamp  CH3LoadDisp  CH3PctLoad  CH4LoadDisp  \\\n",
       "60   2017-09-03T12:00:00.000Z     0.000000     0.00000    87.101169   \n",
       "61   2017-09-03T13:00:00.000Z     0.000000     0.00000    61.628025   \n",
       "62   2017-09-03T14:00:00.000Z     0.000000     0.00000    65.271903   \n",
       "63   2017-09-03T15:00:00.000Z     0.000000     0.00000    62.073736   \n",
       "66   2017-09-03T18:00:00.000Z     0.000000     0.00000    66.073464   \n",
       "67   2017-09-03T19:00:00.000Z     0.000000     0.00000    64.536953   \n",
       "68   2017-09-03T20:00:00.000Z     0.000000     0.00000    60.918676   \n",
       "69   2017-09-03T21:00:00.000Z     0.000000     0.00000    57.567634   \n",
       "70   2017-09-03T22:00:00.000Z     0.000000     0.00000    40.959836   \n",
       "71   2017-09-03T23:00:00.000Z     0.000000     0.00000     0.000000   \n",
       "493  2017-09-21T13:00:00.000Z    53.827729    53.83398    23.577009   \n",
       "\n",
       "     CH4PctLoad  CH5LoadDisp  CH5PctLoad      CHkW%     CHTON%  \\\n",
       "60    87.101168     0.982292    0.982292  71.551070  86.750559   \n",
       "61    61.649601    32.699242   32.699242  28.800355  46.600451   \n",
       "62    65.271902    34.757415   34.667396  31.222250  49.421877   \n",
       "63    60.817505    35.873339   35.490721  31.827724  50.010946   \n",
       "66    66.073463    37.944247   37.944247  34.189070  52.350163   \n",
       "67    64.555182    36.308257   36.305479  32.816663  50.486619   \n",
       "68    60.918676    33.823301   33.823301  30.818600  47.683522   \n",
       "69    57.580631    32.202592   32.206610  29.244369  44.708515   \n",
       "70    41.008944    42.549615   42.540327  31.184866  50.812883   \n",
       "71     0.000000    78.306298   77.869101  50.595238  78.069033   \n",
       "493   23.577009    35.312489   35.312489  30.467763  47.574750   \n",
       "\n",
       "     PercentAnnualSavings     ...      CH5SURGE  LOOPREQ  RUNCHLR3  RUNCHLR4  \\\n",
       "60               0.000124     ...           0.0      1.0  0.000000  1.000000   \n",
       "61               0.000184     ...           0.0      1.0  0.000000  1.000000   \n",
       "62               0.000195     ...           0.0      1.0  0.000000  1.000000   \n",
       "63               0.000182     ...           0.0      1.0  0.166667  1.000000   \n",
       "66               0.000190     ...           0.0      1.0  0.000000  1.000000   \n",
       "67               0.000187     ...           0.0      1.0  0.000000  1.000000   \n",
       "68               0.000179     ...           0.0      1.0  0.000000  1.000000   \n",
       "69               0.000156     ...           0.0      1.0  0.000000  1.000000   \n",
       "70               0.000141     ...           0.0      1.0  0.000000  0.666667   \n",
       "71               0.000098     ...           0.0      1.0  0.000000  0.000000   \n",
       "493              0.000200     ...           0.0      1.0  0.916667  1.000000   \n",
       "\n",
       "     RUNCHLR5  CH3SURGECNT  CH4SURGECNT  CH5SURGECNT  CLGMODE  StationSTG  \n",
       "60   0.166667         13.0          0.0          0.0      0.0    1.166667  \n",
       "61   1.000000         13.0          0.0          0.0      0.0    2.000000  \n",
       "62   1.000000         13.0          0.0          0.0      0.0    2.000000  \n",
       "63   1.000000         13.0          0.0          0.0      0.0    2.000000  \n",
       "66   1.000000         13.0          0.0          0.0      0.0    2.000000  \n",
       "67   1.000000         13.0          0.0          0.0      0.0    2.000000  \n",
       "68   1.000000         13.0          0.0          0.0      0.0    2.000000  \n",
       "69   1.000000         13.0          0.0          0.0      0.0    2.000000  \n",
       "70   1.000000         13.0          0.0          0.0      0.0    1.583333  \n",
       "71   1.000000         13.0          0.0          0.0      0.0    1.000000  \n",
       "493  1.000000         13.0          0.0          0.0      0.0    2.500000  \n",
       "\n",
       "[11 rows x 414 columns]"
      ]
     },
     "execution_count": 48,
     "metadata": {},
     "output_type": "execute_result"
    }
   ],
   "source": [
    "df.dropna()"
   ]
  },
  {
   "cell_type": "code",
   "execution_count": 49,
   "metadata": {},
   "outputs": [],
   "source": [
    "key = pd.read_excel('../Ethicon Alb Points List.xlsx')"
   ]
  },
  {
   "cell_type": "code",
   "execution_count": 50,
   "metadata": {},
   "outputs": [
    {
     "name": "stdout",
     "output_type": "stream",
     "text": [
      "['CDWVLV', 'CDWVLV2', 'CHkW', 'CHWDP2', 'CHWFLO', 'CHWRT', 'CHWRT2', 'CHWRT3', 'CHWST', 'CHWST2', 'CHWST3', 'CHWV10', 'CHWV11', 'CHWV12', 'CHWV13', 'CHWV14', 'CHWV15', 'CHWV16', 'CHWV17', 'CHWV18', 'CHWV19', 'CHWV20', 'CHWV21', 'CHWV22', 'CHWV23', 'CHWV24', 'CHWV25', 'CHWV26', 'CHWV27', 'CHWV3', 'CHWV4', 'CHWV5', 'CHWV6', 'CHWV7', 'CHWV9', 'CLGMODE', 'CommunicationFailure', 'CommunicationFailure_COV', 'CTTR_ALARM', 'HX1CDWRT', 'HX1CDWST', 'HX1CDWVLV', 'HX1CHWRT', 'HX1CHWST', 'HX1CHWVLV', 'LOOPREQ', 'MaxCHDPLift', 'MaxCHDTLift', 'MinCHDPLift', 'MinCHDTLift', 'OAH', 'OAT', 'OAWB', 'PCHWP3Failed', 'PCHWP3HZ', 'PCHWP3kW', 'PCHWP3S', 'PCHWP3SPD', 'PCHWP3SS', 'PCHWP4Failed', 'PCHWP4HZ', 'PCHWP4kW', 'PCHWP4S', 'PCHWP4SPD', 'PCHWP4SS', 'PCHWP5Failed', 'PCHWP5HZ', 'PCHWP5kW', 'PCHWP5S', 'PCHWP5SPD', 'PCHWP5SS', 'SCHWP3Failed', 'SCHWP3HZ', 'SCHWP3kW', 'SCHWP3S', 'SCHWP3SPD', 'SCHWP3SS', 'SCHWP4Failed', 'SCHWP4HZ', 'SCHWP4kW', 'SCHWP4S', 'SCHWP4SPD', 'SCHWP4SS', 'SCHWP5Failed', 'SCHWP5HZ', 'SCHWP5kW', 'SCHWP5S', 'SCHWP5SPD', 'SCHWP5SS', 'kW/Ton']\n"
     ]
    }
   ],
   "source": [
    "key_bas = key.loc[key['PointType'].str.contains(\"BAS\")==True,'DataPointName']\n",
    "vals = key_bas.values.T.tolist()\n",
    "vals.append('kW/Ton')\n",
    "print(vals)"
   ]
  },
  {
   "cell_type": "code",
   "execution_count": 51,
   "metadata": {},
   "outputs": [
    {
     "name": "stdout",
     "output_type": "stream",
     "text": [
      "CommunicationFailure_COV\n"
     ]
    }
   ],
   "source": [
    "for x in vals:\n",
    "    if x not in df.columns:\n",
    "        print(x)\n",
    "        vals.remove(x)"
   ]
  },
  {
   "cell_type": "code",
   "execution_count": 52,
   "metadata": {},
   "outputs": [
    {
     "data": {
      "text/plain": [
       "(1432, 89)"
      ]
     },
     "execution_count": 52,
     "metadata": {},
     "output_type": "execute_result"
    }
   ],
   "source": [
    "bas = df[vals].dropna()\n",
    "bas.shape"
   ]
  },
  {
   "cell_type": "code",
   "execution_count": 53,
   "metadata": {},
   "outputs": [
    {
     "data": {
      "text/html": [
       "<div>\n",
       "<style scoped>\n",
       "    .dataframe tbody tr th:only-of-type {\n",
       "        vertical-align: middle;\n",
       "    }\n",
       "\n",
       "    .dataframe tbody tr th {\n",
       "        vertical-align: top;\n",
       "    }\n",
       "\n",
       "    .dataframe thead th {\n",
       "        text-align: right;\n",
       "    }\n",
       "</style>\n",
       "<table border=\"1\" class=\"dataframe\">\n",
       "  <thead>\n",
       "    <tr style=\"text-align: right;\">\n",
       "      <th></th>\n",
       "      <th>CDWVLV</th>\n",
       "      <th>CDWVLV2</th>\n",
       "      <th>CHkW</th>\n",
       "      <th>CHWDP2</th>\n",
       "      <th>CHWFLO</th>\n",
       "      <th>CHWRT</th>\n",
       "      <th>CHWRT2</th>\n",
       "      <th>CHWRT3</th>\n",
       "      <th>CHWST</th>\n",
       "      <th>CHWST2</th>\n",
       "      <th>...</th>\n",
       "      <th>SCHWP4S</th>\n",
       "      <th>SCHWP4SPD</th>\n",
       "      <th>SCHWP4SS</th>\n",
       "      <th>SCHWP5Failed</th>\n",
       "      <th>SCHWP5HZ</th>\n",
       "      <th>SCHWP5kW</th>\n",
       "      <th>SCHWP5S</th>\n",
       "      <th>SCHWP5SPD</th>\n",
       "      <th>SCHWP5SS</th>\n",
       "      <th>kW/Ton</th>\n",
       "    </tr>\n",
       "  </thead>\n",
       "  <tbody>\n",
       "    <tr>\n",
       "      <th>count</th>\n",
       "      <td>1432.0</td>\n",
       "      <td>1432.0</td>\n",
       "      <td>1432.000000</td>\n",
       "      <td>1432.000000</td>\n",
       "      <td>1432.000000</td>\n",
       "      <td>1432.000000</td>\n",
       "      <td>1432.000000</td>\n",
       "      <td>1432.000000</td>\n",
       "      <td>1432.000000</td>\n",
       "      <td>1432.000000</td>\n",
       "      <td>...</td>\n",
       "      <td>1432.0</td>\n",
       "      <td>1432.000000</td>\n",
       "      <td>1432.0</td>\n",
       "      <td>1432.0</td>\n",
       "      <td>1432.000000</td>\n",
       "      <td>1432.000000</td>\n",
       "      <td>1432.000000</td>\n",
       "      <td>1432.000000</td>\n",
       "      <td>1432.000000</td>\n",
       "      <td>1432.000000</td>\n",
       "    </tr>\n",
       "    <tr>\n",
       "      <th>mean</th>\n",
       "      <td>1.0</td>\n",
       "      <td>1.0</td>\n",
       "      <td>98.902642</td>\n",
       "      <td>8.492637</td>\n",
       "      <td>589.291727</td>\n",
       "      <td>55.917817</td>\n",
       "      <td>53.298610</td>\n",
       "      <td>58.088680</td>\n",
       "      <td>42.227512</td>\n",
       "      <td>42.951630</td>\n",
       "      <td>...</td>\n",
       "      <td>1.0</td>\n",
       "      <td>90.923403</td>\n",
       "      <td>1.0</td>\n",
       "      <td>0.0</td>\n",
       "      <td>52.033752</td>\n",
       "      <td>3.494215</td>\n",
       "      <td>0.945473</td>\n",
       "      <td>86.721652</td>\n",
       "      <td>0.945473</td>\n",
       "      <td>0.472991</td>\n",
       "    </tr>\n",
       "    <tr>\n",
       "      <th>std</th>\n",
       "      <td>0.0</td>\n",
       "      <td>0.0</td>\n",
       "      <td>33.315313</td>\n",
       "      <td>2.737801</td>\n",
       "      <td>94.775350</td>\n",
       "      <td>1.392454</td>\n",
       "      <td>1.378229</td>\n",
       "      <td>1.772257</td>\n",
       "      <td>0.951318</td>\n",
       "      <td>0.937767</td>\n",
       "      <td>...</td>\n",
       "      <td>0.0</td>\n",
       "      <td>10.504507</td>\n",
       "      <td>0.0</td>\n",
       "      <td>0.0</td>\n",
       "      <td>13.656170</td>\n",
       "      <td>1.243972</td>\n",
       "      <td>0.224243</td>\n",
       "      <td>22.759971</td>\n",
       "      <td>0.224243</td>\n",
       "      <td>0.077126</td>\n",
       "    </tr>\n",
       "    <tr>\n",
       "      <th>min</th>\n",
       "      <td>1.0</td>\n",
       "      <td>1.0</td>\n",
       "      <td>25.916667</td>\n",
       "      <td>0.246445</td>\n",
       "      <td>114.786458</td>\n",
       "      <td>53.570312</td>\n",
       "      <td>50.500000</td>\n",
       "      <td>55.023438</td>\n",
       "      <td>39.171875</td>\n",
       "      <td>40.531250</td>\n",
       "      <td>...</td>\n",
       "      <td>1.0</td>\n",
       "      <td>58.860875</td>\n",
       "      <td>1.0</td>\n",
       "      <td>0.0</td>\n",
       "      <td>0.000000</td>\n",
       "      <td>0.000000</td>\n",
       "      <td>0.000000</td>\n",
       "      <td>0.000000</td>\n",
       "      <td>0.000000</td>\n",
       "      <td>0.253498</td>\n",
       "    </tr>\n",
       "    <tr>\n",
       "      <th>25%</th>\n",
       "      <td>1.0</td>\n",
       "      <td>1.0</td>\n",
       "      <td>76.166667</td>\n",
       "      <td>7.367799</td>\n",
       "      <td>537.046875</td>\n",
       "      <td>55.139323</td>\n",
       "      <td>52.757161</td>\n",
       "      <td>57.333333</td>\n",
       "      <td>41.793620</td>\n",
       "      <td>42.500000</td>\n",
       "      <td>...</td>\n",
       "      <td>1.0</td>\n",
       "      <td>84.364245</td>\n",
       "      <td>1.0</td>\n",
       "      <td>0.0</td>\n",
       "      <td>50.583333</td>\n",
       "      <td>2.858333</td>\n",
       "      <td>1.000000</td>\n",
       "      <td>84.305216</td>\n",
       "      <td>1.000000</td>\n",
       "      <td>0.430250</td>\n",
       "    </tr>\n",
       "    <tr>\n",
       "      <th>50%</th>\n",
       "      <td>1.0</td>\n",
       "      <td>1.0</td>\n",
       "      <td>100.125000</td>\n",
       "      <td>9.186853</td>\n",
       "      <td>590.875000</td>\n",
       "      <td>55.923177</td>\n",
       "      <td>53.218750</td>\n",
       "      <td>58.065104</td>\n",
       "      <td>41.970052</td>\n",
       "      <td>42.562500</td>\n",
       "      <td>...</td>\n",
       "      <td>1.0</td>\n",
       "      <td>95.027395</td>\n",
       "      <td>1.0</td>\n",
       "      <td>0.0</td>\n",
       "      <td>56.341666</td>\n",
       "      <td>3.900000</td>\n",
       "      <td>1.000000</td>\n",
       "      <td>93.902402</td>\n",
       "      <td>1.000000</td>\n",
       "      <td>0.484020</td>\n",
       "    </tr>\n",
       "    <tr>\n",
       "      <th>75%</th>\n",
       "      <td>1.0</td>\n",
       "      <td>1.0</td>\n",
       "      <td>121.333333</td>\n",
       "      <td>10.094532</td>\n",
       "      <td>629.843750</td>\n",
       "      <td>56.541667</td>\n",
       "      <td>53.875651</td>\n",
       "      <td>58.503255</td>\n",
       "      <td>42.391276</td>\n",
       "      <td>42.875000</td>\n",
       "      <td>...</td>\n",
       "      <td>1.0</td>\n",
       "      <td>99.999603</td>\n",
       "      <td>1.0</td>\n",
       "      <td>0.0</td>\n",
       "      <td>60.000000</td>\n",
       "      <td>4.491667</td>\n",
       "      <td>1.000000</td>\n",
       "      <td>99.999603</td>\n",
       "      <td>1.000000</td>\n",
       "      <td>0.524161</td>\n",
       "    </tr>\n",
       "    <tr>\n",
       "      <th>max</th>\n",
       "      <td>1.0</td>\n",
       "      <td>1.0</td>\n",
       "      <td>226.916667</td>\n",
       "      <td>12.409439</td>\n",
       "      <td>870.833333</td>\n",
       "      <td>73.338542</td>\n",
       "      <td>68.760417</td>\n",
       "      <td>86.744792</td>\n",
       "      <td>45.278646</td>\n",
       "      <td>46.125000</td>\n",
       "      <td>...</td>\n",
       "      <td>1.0</td>\n",
       "      <td>99.999603</td>\n",
       "      <td>1.0</td>\n",
       "      <td>0.0</td>\n",
       "      <td>60.000000</td>\n",
       "      <td>5.275000</td>\n",
       "      <td>1.000000</td>\n",
       "      <td>99.999603</td>\n",
       "      <td>1.000000</td>\n",
       "      <td>0.709987</td>\n",
       "    </tr>\n",
       "  </tbody>\n",
       "</table>\n",
       "<p>8 rows × 89 columns</p>\n",
       "</div>"
      ],
      "text/plain": [
       "       CDWVLV  CDWVLV2         CHkW       CHWDP2       CHWFLO        CHWRT  \\\n",
       "count  1432.0   1432.0  1432.000000  1432.000000  1432.000000  1432.000000   \n",
       "mean      1.0      1.0    98.902642     8.492637   589.291727    55.917817   \n",
       "std       0.0      0.0    33.315313     2.737801    94.775350     1.392454   \n",
       "min       1.0      1.0    25.916667     0.246445   114.786458    53.570312   \n",
       "25%       1.0      1.0    76.166667     7.367799   537.046875    55.139323   \n",
       "50%       1.0      1.0   100.125000     9.186853   590.875000    55.923177   \n",
       "75%       1.0      1.0   121.333333    10.094532   629.843750    56.541667   \n",
       "max       1.0      1.0   226.916667    12.409439   870.833333    73.338542   \n",
       "\n",
       "            CHWRT2       CHWRT3        CHWST       CHWST2     ...       \\\n",
       "count  1432.000000  1432.000000  1432.000000  1432.000000     ...        \n",
       "mean     53.298610    58.088680    42.227512    42.951630     ...        \n",
       "std       1.378229     1.772257     0.951318     0.937767     ...        \n",
       "min      50.500000    55.023438    39.171875    40.531250     ...        \n",
       "25%      52.757161    57.333333    41.793620    42.500000     ...        \n",
       "50%      53.218750    58.065104    41.970052    42.562500     ...        \n",
       "75%      53.875651    58.503255    42.391276    42.875000     ...        \n",
       "max      68.760417    86.744792    45.278646    46.125000     ...        \n",
       "\n",
       "       SCHWP4S    SCHWP4SPD  SCHWP4SS  SCHWP5Failed     SCHWP5HZ     SCHWP5kW  \\\n",
       "count   1432.0  1432.000000    1432.0        1432.0  1432.000000  1432.000000   \n",
       "mean       1.0    90.923403       1.0           0.0    52.033752     3.494215   \n",
       "std        0.0    10.504507       0.0           0.0    13.656170     1.243972   \n",
       "min        1.0    58.860875       1.0           0.0     0.000000     0.000000   \n",
       "25%        1.0    84.364245       1.0           0.0    50.583333     2.858333   \n",
       "50%        1.0    95.027395       1.0           0.0    56.341666     3.900000   \n",
       "75%        1.0    99.999603       1.0           0.0    60.000000     4.491667   \n",
       "max        1.0    99.999603       1.0           0.0    60.000000     5.275000   \n",
       "\n",
       "           SCHWP5S    SCHWP5SPD     SCHWP5SS       kW/Ton  \n",
       "count  1432.000000  1432.000000  1432.000000  1432.000000  \n",
       "mean      0.945473    86.721652     0.945473     0.472991  \n",
       "std       0.224243    22.759971     0.224243     0.077126  \n",
       "min       0.000000     0.000000     0.000000     0.253498  \n",
       "25%       1.000000    84.305216     1.000000     0.430250  \n",
       "50%       1.000000    93.902402     1.000000     0.484020  \n",
       "75%       1.000000    99.999603     1.000000     0.524161  \n",
       "max       1.000000    99.999603     1.000000     0.709987  \n",
       "\n",
       "[8 rows x 89 columns]"
      ]
     },
     "execution_count": 53,
     "metadata": {},
     "output_type": "execute_result"
    }
   ],
   "source": [
    "bas.describe()"
   ]
  },
  {
   "cell_type": "code",
   "execution_count": 54,
   "metadata": {},
   "outputs": [],
   "source": [
    "n = len(bas.columns)"
   ]
  },
  {
   "cell_type": "code",
   "execution_count": 55,
   "metadata": {},
   "outputs": [],
   "source": [
    "X = bas.values[:, 0:(n-2)]\n",
    "Y = bas.values[:, (n-1)]"
   ]
  },
  {
   "cell_type": "code",
   "execution_count": 56,
   "metadata": {},
   "outputs": [],
   "source": [
    "xtrain, xtest, ytrain, ytest = train_test_split(X, Y, test_size=0.25,\n",
    "                                               random_state=3393)"
   ]
  },
  {
   "cell_type": "code",
   "execution_count": 57,
   "metadata": {},
   "outputs": [],
   "source": [
    "model = DecisionTreeRegressor(\n",
    "    random_state=3393, max_depth=5, \n",
    "    min_samples_leaf=7)"
   ]
  },
  {
   "cell_type": "code",
   "execution_count": 58,
   "metadata": {},
   "outputs": [
    {
     "data": {
      "text/plain": [
       "DecisionTreeRegressor(criterion='mse', max_depth=5, max_features=None,\n",
       "           max_leaf_nodes=None, min_impurity_decrease=0.0,\n",
       "           min_impurity_split=None, min_samples_leaf=7,\n",
       "           min_samples_split=2, min_weight_fraction_leaf=0.0,\n",
       "           presort=False, random_state=3393, splitter='best')"
      ]
     },
     "execution_count": 58,
     "metadata": {},
     "output_type": "execute_result"
    }
   ],
   "source": [
    "model.fit(xtrain, ytrain)"
   ]
  },
  {
   "cell_type": "code",
   "execution_count": 59,
   "metadata": {},
   "outputs": [],
   "source": [
    "y1 = model.predict(xtest)"
   ]
  },
  {
   "cell_type": "code",
   "execution_count": 60,
   "metadata": {},
   "outputs": [
    {
     "data": {
      "text/plain": [
       "<matplotlib.collections.PathCollection at 0x16798995208>"
      ]
     },
     "execution_count": 60,
     "metadata": {},
     "output_type": "execute_result"
    },
    {
     "data": {
      "image/png": "[encoded data removed]",
      "text/plain": [
       "<matplotlib.figure.Figure at 0x16798396b38>"
      ]
     },
     "metadata": {},
     "output_type": "display_data"
    }
   ],
   "source": [
    "plt.figure()\n",
    "plt.scatter(ytest, y1)"
   ]
  },
  {
   "cell_type": "code",
   "execution_count": 61,
   "metadata": {},
   "outputs": [
    {
     "name": "stdout",
     "output_type": "stream",
     "text": [
      "Mean Absolute Error: 0.010721883198043652\n",
      "Mean Squared Error: 0.00022681073084457752\n",
      "Root Mean Squared Error: 0.015060236745967093\n"
     ]
    }
   ],
   "source": [
    "print('Mean Absolute Error:', metrics.mean_absolute_error(ytest, y1))\n",
    "print('Mean Squared Error:', metrics.mean_squared_error(ytest, y1))\n",
    "print('Root Mean Squared Error:', np.sqrt(\n",
    "    metrics.mean_squared_error(ytest, y1)))"
   ]
  },
  {
   "cell_type": "code",
   "execution_count": 62,
   "metadata": {},
   "outputs": [],
   "source": [
    "fanalysis = ExtraTreesRegressor(max_depth=3, \n",
    "                                random_state=3393)"
   ]
  },
  {
   "cell_type": "code",
   "execution_count": 63,
   "metadata": {},
   "outputs": [
    {
     "data": {
      "text/plain": [
       "ExtraTreesRegressor(bootstrap=False, criterion='mse', max_depth=3,\n",
       "          max_features='auto', max_leaf_nodes=None,\n",
       "          min_impurity_decrease=0.0, min_impurity_split=None,\n",
       "          min_samples_leaf=1, min_samples_split=2,\n",
       "          min_weight_fraction_leaf=0.0, n_estimators=10, n_jobs=1,\n",
       "          oob_score=False, random_state=3393, verbose=0, warm_start=False)"
      ]
     },
     "execution_count": 63,
     "metadata": {},
     "output_type": "execute_result"
    }
   ],
   "source": [
    "fanalysis.fit(X, Y)"
   ]
  },
  {
   "cell_type": "code",
   "execution_count": 64,
   "metadata": {},
   "outputs": [
    {
     "name": "stdout",
     "output_type": "stream",
     "text": [
      "[0.         0.         0.07088682 0.         0.         0.\n",
      " 0.         0.00051398 0.         0.         0.         0.\n",
      " 0.         0.         0.         0.         0.         0.\n",
      " 0.         0.         0.         0.         0.         0.\n",
      " 0.         0.         0.         0.         0.         0.\n",
      " 0.         0.         0.         0.         0.00034673 0.\n",
      " 0.         0.         0.         0.         0.         0.\n",
      " 0.         0.         0.         0.17919713 0.1957956  0.21427063\n",
      " 0.25704388 0.00107865 0.         0.05439387 0.         0.00680191\n",
      " 0.         0.00649478 0.         0.         0.         0.\n",
      " 0.         0.         0.         0.         0.         0.\n",
      " 0.         0.         0.00038209 0.         0.         0.\n",
      " 0.         0.         0.00470717 0.         0.         0.00659095\n",
      " 0.         0.         0.         0.         0.         0.\n",
      " 0.00116332 0.         0.00033249]\n"
     ]
    }
   ],
   "source": [
    "print(fanalysis.feature_importances_)"
   ]
  },
  {
   "cell_type": "code",
   "execution_count": 65,
   "metadata": {},
   "outputs": [
    {
     "data": {
      "text/plain": [
       "range(0, 87)"
      ]
     },
     "execution_count": 65,
     "metadata": {},
     "output_type": "execute_result"
    }
   ],
   "source": [
    "feats = fanalysis.feature_importances_\n",
    "range(len(feats))"
   ]
  },
  {
   "cell_type": "code",
   "execution_count": 66,
   "metadata": {},
   "outputs": [
    {
     "data": {
      "text/plain": [
       "(<1432x150 sparse matrix of type '<class 'numpy.int64'>'\n",
       " \twith 57280 stored elements in Compressed Sparse Row format>,\n",
       " array([  0,  15,  30,  45,  60,  75,  90, 105, 120, 135, 150], dtype=int32))"
      ]
     },
     "execution_count": 66,
     "metadata": {},
     "output_type": "execute_result"
    }
   ],
   "source": [
    "fanalysis.decision_path(X)"
   ]
  },
  {
   "cell_type": "code",
   "execution_count": 67,
   "metadata": {},
   "outputs": [
    {
     "data": {
      "text/plain": [
       "0.9408373537949389"
      ]
     },
     "execution_count": 67,
     "metadata": {},
     "output_type": "execute_result"
    }
   ],
   "source": [
    "fanalysis.score(X, Y)"
   ]
  },
  {
   "cell_type": "code",
   "execution_count": 68,
   "metadata": {},
   "outputs": [],
   "source": [
    "def feature_importance(X, Y, mx_depth):\n",
    "    model = ExtraTreesRegressor(max_depth=mx_depth,\n",
    "                                random_state=3393)\n",
    "    model.fit(X, Y)\n",
    "    features = model.feature_importances_\n",
    "    important_features = []\n",
    "    important_features_values = []\n",
    "    for i in range(len(features)):\n",
    "        if features[i] != 0.0:\n",
    "            important_features.append(vals[i])\n",
    "            important_features_values.append(features[i])\n",
    "    return important_features, important_features_values"
   ]
  },
  {
   "cell_type": "code",
   "execution_count": 69,
   "metadata": {},
   "outputs": [
    {
     "data": {
      "text/plain": [
       "(['CHkW',\n",
       "  'CHWRT3',\n",
       "  'CHWV9',\n",
       "  'MaxCHDPLift',\n",
       "  'MaxCHDTLift',\n",
       "  'MinCHDPLift',\n",
       "  'MinCHDTLift',\n",
       "  'OAH',\n",
       "  'OAWB',\n",
       "  'PCHWP3HZ',\n",
       "  'PCHWP3S',\n",
       "  'PCHWP5SPD',\n",
       "  'SCHWP3SPD',\n",
       "  'SCHWP4HZ',\n",
       "  'SCHWP5kW',\n",
       "  'SCHWP5SPD'],\n",
       " [0.07088681958309809,\n",
       "  0.0005139840119267785,\n",
       "  0.0003467313679305708,\n",
       "  0.17919713483828112,\n",
       "  0.19579559602207325,\n",
       "  0.21427062944970512,\n",
       "  0.2570438793193609,\n",
       "  0.0010786539543429145,\n",
       "  0.054393870759148165,\n",
       "  0.0068019094419545486,\n",
       "  0.006494783068928837,\n",
       "  0.0003820875450259764,\n",
       "  0.004707165239125402,\n",
       "  0.0065909494107647655,\n",
       "  0.0011633171930004404,\n",
       "  0.0003324887953331082])"
      ]
     },
     "execution_count": 69,
     "metadata": {},
     "output_type": "execute_result"
    }
   ],
   "source": [
    "feature_importance(X, Y, 3)"
   ]
  },
  {
   "cell_type": "code",
   "execution_count": 70,
   "metadata": {},
   "outputs": [],
   "source": [
    "params = {'n_estimators': 500, 'max_depth': 4, 'min_samples_split': 2,\n",
    "          'learning_rate': 0.01, 'loss': 'ls'}"
   ]
  },
  {
   "cell_type": "code",
   "execution_count": 71,
   "metadata": {},
   "outputs": [],
   "source": [
    "clf = GradientBoostingRegressor(**params)"
   ]
  },
  {
   "cell_type": "code",
   "execution_count": 72,
   "metadata": {},
   "outputs": [
    {
     "data": {
      "text/plain": [
       "GradientBoostingRegressor(alpha=0.9, criterion='friedman_mse', init=None,\n",
       "             learning_rate=0.01, loss='ls', max_depth=4, max_features=None,\n",
       "             max_leaf_nodes=None, min_impurity_decrease=0.0,\n",
       "             min_impurity_split=None, min_samples_leaf=1,\n",
       "             min_samples_split=2, min_weight_fraction_leaf=0.0,\n",
       "             n_estimators=500, presort='auto', random_state=None,\n",
       "             subsample=1.0, verbose=0, warm_start=False)"
      ]
     },
     "execution_count": 72,
     "metadata": {},
     "output_type": "execute_result"
    }
   ],
   "source": [
    "clf.fit(xtrain, ytrain)"
   ]
  },
  {
   "cell_type": "code",
   "execution_count": 73,
   "metadata": {},
   "outputs": [],
   "source": [
    "mse = mean_squared_error(ytest, clf.predict(xtest))"
   ]
  },
  {
   "cell_type": "code",
   "execution_count": 74,
   "metadata": {},
   "outputs": [
    {
     "name": "stdout",
     "output_type": "stream",
     "text": [
      "MSE: 0.0001\n"
     ]
    }
   ],
   "source": [
    "print('MSE: %.4f' % mse)"
   ]
  },
  {
   "cell_type": "code",
   "execution_count": 75,
   "metadata": {},
   "outputs": [],
   "source": [
    "test_score = np.zeros((params['n_estimators'],), dtype=np.float64)"
   ]
  },
  {
   "cell_type": "code",
   "execution_count": 76,
   "metadata": {},
   "outputs": [],
   "source": [
    "for i, ypred in enumerate(clf.staged_predict(xtest)):\n",
    "    test_score[i] = clf.loss_(ytest, ypred)"
   ]
  },
  {
   "cell_type": "code",
   "execution_count": 77,
   "metadata": {},
   "outputs": [
    {
     "data": {
      "text/plain": [
       "Text(0,0.5,'Deviance')"
      ]
     },
     "execution_count": 77,
     "metadata": {},
     "output_type": "execute_result"
    },
    {
     "data": {
      "image/png": "[encoded data removed]",
      "text/plain": [
       "<matplotlib.figure.Figure at 0x167989ec1d0>"
      ]
     },
     "metadata": {},
     "output_type": "display_data"
    }
   ],
   "source": [
    "plt.figure(figsize=(12, 6))\n",
    "plt.subplot(1, 2, 1)\n",
    "plt.title('Deviance')\n",
    "plt.plot(np.arange(params['n_estimators']) + 1, clf.train_score_, 'b-',\n",
    "         label='Training Set Deviance')\n",
    "plt.plot(np.arange(params['n_estimators']) + 1, test_score, 'r-',\n",
    "         label='Test Set Deviance')\n",
    "plt.legend(loc='upper right')\n",
    "plt.xlabel('Boosting Iterations')\n",
    "plt.ylabel('Deviance')"
   ]
  },
  {
   "cell_type": "code",
   "execution_count": 80,
   "metadata": {},
   "outputs": [
    {
     "data": {
      "image/png": "[encoded data removed]",
      "text/plain": [
       "<matplotlib.figure.Figure at 0x16798ce1f98>"
      ]
     },
     "metadata": {},
     "output_type": "display_data"
    }
   ],
   "source": [
    "# Plot feature importance\n",
    "feature_importance = clf.feature_importances_\n",
    "# make importances relative to max importance\n",
    "feature_importance = 100.0 * (feature_importance / feature_importance.max())\n",
    "sorted_idx = np.argsort(feature_importance)\n",
    "pos = np.arange(sorted_idx.shape[0]) + .5\n",
    "plt.subplot(1,2,1)\n",
    "plt.barh(pos, feature_importance[sorted_idx], align='center')\n",
    "plt.yticks(pos, bas.columns[sorted_idx])\n",
    "plt.xlabel('Relative Importance')\n",
    "plt.title('Variable Importance')\n",
    "plt.show()"
   ]
  },
  {
   "cell_type": "code",
   "execution_count": null,
   "metadata": {},
   "outputs": [],
   "source": [
    "x = bas.columns[sorted_idx]"
   ]
  },
  {
   "cell_type": "code",
   "execution_count": null,
   "metadata": {},
   "outputs": [],
   "source": [
    "print(x)"
   ]
  },
  {
   "cell_type": "code",
   "execution_count": null,
   "metadata": {},
   "outputs": [],
   "source": [
    "print(sorted_idx)"
   ]
  },
  {
   "cell_type": "code",
   "execution_count": null,
   "metadata": {},
   "outputs": [],
   "source": [
    "print(feature_importance[sorted_idx])"
   ]
  },
  {
   "cell_type": "code",
   "execution_count": null,
   "metadata": {},
   "outputs": [],
   "source": []
  }
 ],
 "metadata": {
  "kernelspec": {
   "display_name": "Python 3",
   "language": "python",
   "name": "python3"
  },
  "language_info": {
   "codemirror_mode": {
    "name": "ipython",
    "version": 3
   },
   "file_extension": ".py",
   "mimetype": "text/x-python",
   "name": "python",
   "nbconvert_exporter": "python",
   "pygments_lexer": "ipython3",
   "version": "3.6.3"
  }
 },
 "nbformat": 4,
 "nbformat_minor": 2
}
